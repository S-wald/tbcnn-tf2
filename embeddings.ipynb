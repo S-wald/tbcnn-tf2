{
 "cells": [
  {
   "cell_type": "code",
   "execution_count": 1,
   "metadata": {},
   "outputs": [],
   "source": [
    "%load_ext autoreload\n",
    "%autoreload 2"
   ]
  },
  {
   "cell_type": "code",
   "execution_count": 24,
   "metadata": {},
   "outputs": [],
   "source": [
    "from dataset.AI4CodeProblemClassificationDataset import AI4CodeProblemClassificationDataset\n",
    "\n",
    "dataset = AI4CodeProblemClassificationDataset(r\"C:\\Users\\sebas\\Documents\\Masterarbeit\\datasets\\2_parallel_dataset\\ai4code_problem_class_cpp\", r\"C:\\Users\\sebas\\Documents\\Masterarbeit\\datasets\\2_parallel_dataset\\ai4code_cpp\", 220, 53, 53)"
   ]
  },
  {
   "cell_type": "code",
   "execution_count": 25,
   "metadata": {},
   "outputs": [
    {
     "data": {
      "text/plain": [
       "[]"
      ]
     },
     "execution_count": 25,
     "metadata": {},
     "output_type": "execute_result"
    }
   ],
   "source": [
    "dataset.get_train_files()"
   ]
  },
  {
   "cell_type": "code",
   "execution_count": 26,
   "metadata": {},
   "outputs": [
    {
     "name": "stdout",
     "output_type": "stream",
     "text": [
      "processing p02717 ...\n",
      "... finished p02717\n",
      "processing p02718 ...\n",
      "... finished p02718\n",
      "processing p02719 ...\n",
      "... finished p02719\n",
      "processing p02723 ...\n",
      "... finished p02723\n",
      "processing p02724 ...\n",
      "... finished p02724\n",
      "processing p02725 ...\n",
      "... finished p02725\n",
      "processing p02729 ...\n",
      "... finished p02729\n",
      "processing p02730 ...\n",
      "... finished p02730\n",
      "processing p02731 ...\n",
      "... finished p02731\n",
      "processing p02753 ...\n",
      "... finished p02753\n",
      "processing p02754 ...\n",
      "... finished p02754\n",
      "processing p02755 ...\n",
      "... finished p02755\n",
      "processing p02760 ...\n",
      "... finished p02760\n",
      "processing p02766 ...\n",
      "... finished p02766\n",
      "processing p02767 ...\n",
      "... finished p02767\n",
      "processing p02771 ...\n",
      "... finished p02771\n",
      "processing p02772 ...\n",
      "... finished p02772\n",
      "processing p02773 ...\n",
      "... finished p02773\n",
      "processing p02779 ...\n",
      "... finished p02779\n",
      "processing p02783 ...\n",
      "... finished p02783\n",
      "processing p02784 ...\n",
      "... finished p02784\n",
      "processing p02785 ...\n",
      "... finished p02785\n",
      "processing p02786 ...\n",
      "... finished p02786\n",
      "processing p02790 ...\n",
      "... finished p02790\n",
      "processing p02791 ...\n",
      "... finished p02791\n",
      "processing p02801 ...\n",
      "... finished p02801\n",
      "processing p02802 ...\n",
      "... finished p02802\n",
      "processing p02819 ...\n",
      "... finished p02819\n",
      "processing p02829 ...\n",
      "... finished p02829\n",
      "processing p02830 ...\n",
      "... finished p02830\n",
      "processing p02831 ...\n",
      "... finished p02831\n",
      "processing p02836 ...\n",
      "... finished p02836\n",
      "processing p02848 ...\n",
      "... finished p02848\n",
      "processing p02860 ...\n",
      "... finished p02860\n",
      "processing p02861 ...\n",
      "... finished p02861\n",
      "processing p02880 ...\n",
      "... finished p02880\n",
      "processing p02881 ...\n",
      "... finished p02881\n",
      "processing p02887 ...\n",
      "... finished p02887\n",
      "processing p02897 ...\n",
      "... finished p02897\n",
      "processing p02899 ...\n",
      "... finished p02899\n",
      "processing p02910 ...\n",
      "... finished p02910\n",
      "processing p02911 ...\n",
      "... finished p02911\n",
      "processing p02916 ...\n",
      "... finished p02916\n",
      "processing p02917 ...\n",
      "... finished p02917\n",
      "processing p02921 ...\n",
      "... finished p02921\n",
      "processing p02922 ...\n",
      "... finished p02922\n",
      "processing p02923 ...\n",
      "... finished p02923\n",
      "processing p02934 ...\n",
      "... finished p02934\n",
      "processing p02935 ...\n",
      "... finished p02935\n",
      "processing p02945 ...\n",
      "... finished p02945\n",
      "processing p02946 ...\n",
      "... finished p02946\n",
      "processing p02947 ...\n",
      "... finished p02947\n",
      "processing p02952 ...\n",
      "... finished p02952\n",
      "processing p02953 ...\n",
      "... finished p02953\n",
      "processing p02957 ...\n",
      "... finished p02957\n",
      "processing p02958 ...\n",
      "... finished p02958\n",
      "processing p02959 ...\n",
      "... finished p02959\n",
      "processing p02971 ...\n",
      "... finished p02971\n",
      "processing p02982 ...\n",
      "... finished p02982\n",
      "processing p02983 ...\n",
      "... finished p02983\n",
      "processing p02987 ...\n",
      "... finished p02987\n",
      "processing p02988 ...\n",
      "... finished p02988\n",
      "processing p02993 ...\n",
      "... finished p02993\n",
      "processing p02994 ...\n",
      "... finished p02994\n",
      "processing p02995 ...\n",
      "... finished p02995\n",
      "processing p03000 ...\n",
      "... finished p03000\n",
      "processing p03011 ...\n",
      "... finished p03011\n",
      "processing p03012 ...\n",
      "... finished p03012\n",
      "processing p03030 ...\n",
      "... finished p03030\n",
      "processing p03035 ...\n",
      "... finished p03035\n",
      "processing p03037 ...\n",
      "... finished p03037\n",
      "processing p03041 ...\n",
      "... finished p03041\n",
      "processing p03042 ...\n",
      "... finished p03042\n",
      "processing p03043 ...\n",
      "... finished p03043\n",
      "processing p03060 ...\n",
      "... finished p03060\n",
      "processing p03071 ...\n",
      "... finished p03071\n",
      "processing p03072 ...\n",
      "... finished p03072\n",
      "processing p03073 ...\n",
      "... finished p03073\n",
      "processing p03075 ...\n",
      "... finished p03075\n",
      "processing p03076 ...\n",
      "... finished p03076\n",
      "processing p03086 ...\n",
      "... finished p03086\n",
      "processing p03087 ...\n",
      "... finished p03087\n",
      "processing p03106 ...\n",
      "... finished p03106\n",
      "processing p03107 ...\n",
      "... finished p03107\n",
      "processing p03109 ...\n",
      "... finished p03109\n",
      "processing p03160 ...\n",
      "... finished p03160\n",
      "processing p03161 ...\n",
      "... finished p03161\n",
      "processing p03162 ...\n",
      "... finished p03162\n",
      "processing p03167 ...\n",
      "... finished p03167\n",
      "processing p03220 ...\n",
      "... finished p03220\n",
      "processing p03239 ...\n",
      "... finished p03239\n",
      "processing p03261 ...\n",
      "... finished p03261\n",
      "processing p03316 ...\n",
      "... finished p03316\n",
      "processing p03434 ...\n",
      "... finished p03434\n",
      "processing p03456 ...\n",
      "... finished p03456\n",
      "processing p03470 ...\n",
      "... finished p03470\n",
      "processing p03471 ...\n",
      "... finished p03471\n",
      "processing p03478 ...\n",
      "... finished p03478\n",
      "processing p03493 ...\n",
      "... finished p03493\n",
      "processing p03494 ...\n",
      "... finished p03494\n",
      "processing p03545 ...\n",
      "... finished p03545\n",
      "processing p04030 ...\n",
      "... finished p04030\n",
      "processing p04043 ...\n",
      "... finished p04043\n",
      "processing p04044 ...\n",
      "... finished p04044\n"
     ]
    }
   ],
   "source": [
    "dataset.create()"
   ]
  },
  {
   "cell_type": "code",
   "execution_count": 27,
   "metadata": {},
   "outputs": [
    {
     "data": {
      "text/plain": [
       "{'!': 0,\n",
       " '!=': 1,\n",
       " '#++': 2,\n",
       " '#--': 3,\n",
       " '%': 4,\n",
       " '%=': 5,\n",
       " '&': 6,\n",
       " '&#': 7,\n",
       " '&&': 8,\n",
       " '&=': 9,\n",
       " '*': 10,\n",
       " '*#': 11,\n",
       " '*=': 12,\n",
       " '+': 13,\n",
       " '+#': 14,\n",
       " '++#': 15,\n",
       " '+=': 16,\n",
       " '-': 17,\n",
       " '-#': 18,\n",
       " '--#': 19,\n",
       " '-=': 20,\n",
       " '/': 21,\n",
       " '/=': 22,\n",
       " '<': 23,\n",
       " '<<': 24,\n",
       " '<<=': 25,\n",
       " '<=': 26,\n",
       " '=': 27,\n",
       " '==': 28,\n",
       " '>': 29,\n",
       " '>=': 30,\n",
       " '>>': 31,\n",
       " '>>=': 32,\n",
       " 'CPPASTAliasDeclaration': 33,\n",
       " 'CPPASTArrayDeclarator': 34,\n",
       " 'CPPASTArrayModifier': 35,\n",
       " 'CPPASTArraySubscriptExpression': 36,\n",
       " 'CPPASTBaseSpecifier': 37,\n",
       " 'CPPASTBinaryExpression': 38,\n",
       " 'CPPASTBreakStatement': 39,\n",
       " 'CPPASTCapture': 40,\n",
       " 'CPPASTCaseStatement': 41,\n",
       " 'CPPASTCastExpression': 42,\n",
       " 'CPPASTCatchHandler': 43,\n",
       " 'CPPASTCompositeTypeSpecifier': 44,\n",
       " 'CPPASTCompoundStatement': 45,\n",
       " 'CPPASTConditionalExpression': 46,\n",
       " 'CPPASTConstructorChainInitializer': 47,\n",
       " 'CPPASTConstructorInitializer': 48,\n",
       " 'CPPASTContinueStatement': 49,\n",
       " 'CPPASTConversionName': 50,\n",
       " 'CPPASTDeclarationStatement': 51,\n",
       " 'CPPASTDeclarator': 52,\n",
       " 'CPPASTDefaultStatement': 53,\n",
       " 'CPPASTDeleteExpression': 54,\n",
       " 'CPPASTDoStatement': 55,\n",
       " 'CPPASTElaboratedTypeSpecifier': 56,\n",
       " 'CPPASTEnumerationSpecifier': 57,\n",
       " 'CPPASTEnumerator': 58,\n",
       " 'CPPASTEqualsInitializer': 59,\n",
       " 'CPPASTExpressionList': 60,\n",
       " 'CPPASTExpressionStatement': 61,\n",
       " 'CPPASTFieldReference': 62,\n",
       " 'CPPASTForStatement': 63,\n",
       " 'CPPASTFunctionCallExpression': 64,\n",
       " 'CPPASTFunctionDeclarator': 65,\n",
       " 'CPPASTFunctionDefinition': 66,\n",
       " 'CPPASTGotoStatement': 67,\n",
       " 'CPPASTIdExpression': 68,\n",
       " 'CPPASTIfStatement': 69,\n",
       " 'CPPASTInitCapture': 70,\n",
       " 'CPPASTInitializerList': 71,\n",
       " 'CPPASTLabelStatement': 72,\n",
       " 'CPPASTLambdaExpression': 73,\n",
       " 'CPPASTLiteralExpression': 74,\n",
       " 'CPPASTName': 75,\n",
       " 'CPPASTNamedTypeSpecifier': 76,\n",
       " 'CPPASTNamespaceAlias': 77,\n",
       " 'CPPASTNamespaceDefinition': 78,\n",
       " 'CPPASTNewExpression': 79,\n",
       " 'CPPASTNullStatement': 80,\n",
       " 'CPPASTOperatorName': 81,\n",
       " 'CPPASTPackExpansionExpression': 82,\n",
       " 'CPPASTParameterDeclaration': 83,\n",
       " 'CPPASTPointer': 84,\n",
       " 'CPPASTQualifiedName': 85,\n",
       " 'CPPASTRangeBasedForStatement': 86,\n",
       " 'CPPASTReferenceOperator': 87,\n",
       " 'CPPASTReturnStatement': 88,\n",
       " 'CPPASTSimpleDeclSpecifier': 89,\n",
       " 'CPPASTSimpleDeclaration': 90,\n",
       " 'CPPASTSimpleTypeConstructorExpression': 91,\n",
       " 'CPPASTSimpleTypeTemplateParameter': 92,\n",
       " 'CPPASTStaticAssertionDeclaration': 93,\n",
       " 'CPPASTSwitchStatement': 94,\n",
       " 'CPPASTTemplateDeclaration': 95,\n",
       " 'CPPASTTemplateId': 96,\n",
       " 'CPPASTTemplateSpecialization': 97,\n",
       " 'CPPASTTemplatedTypeTemplateParameter': 98,\n",
       " 'CPPASTTranslationUnit': 99,\n",
       " 'CPPASTTryBlockStatement': 100,\n",
       " 'CPPASTTypeId': 101,\n",
       " 'CPPASTTypeIdExpression': 102,\n",
       " 'CPPASTTypeIdInitializerExpression': 103,\n",
       " 'CPPASTUnaryExpression': 104,\n",
       " 'CPPASTUsingDeclaration': 105,\n",
       " 'CPPASTUsingDirective': 106,\n",
       " 'CPPASTVisibilityLabel': 107,\n",
       " 'CPPASTWhileStatement': 108,\n",
       " '[]': 109,\n",
       " '^': 110,\n",
       " '^=': 111,\n",
       " 'noexcept': 112,\n",
       " 'sizeof': 113,\n",
       " 'sizeof...': 114,\n",
       " 'throw': 115,\n",
       " 'typeid': 116,\n",
       " '|': 117,\n",
       " '|=': 118,\n",
       " '||': 119,\n",
       " '~': 120}"
      ]
     },
     "execution_count": 27,
     "metadata": {},
     "output_type": "execute_result"
    }
   ],
   "source": [
    "dataset.get_vocabulary_map()"
   ]
  },
  {
   "cell_type": "code",
   "execution_count": 28,
   "metadata": {},
   "outputs": [],
   "source": [
    "from vectorizer.AstNode2VecDataset2 import AstNode2VecDataset2\n",
    "\n",
    "embedding_dataset = AstNode2VecDataset2(dataset.get_train_files())"
   ]
  },
  {
   "cell_type": "code",
   "execution_count": 29,
   "metadata": {},
   "outputs": [],
   "source": [
    "embedding_dataset.create()"
   ]
  },
  {
   "cell_type": "code",
   "execution_count": 21,
   "metadata": {},
   "outputs": [],
   "source": [
    "bin_parent = []\n",
    "unary_parent = []\n",
    "logical_and_parent_context = []\n",
    "logical_and_child_context = []\n",
    "logical_pp_parent_context = []\n",
    "logical_pp_child_context = []\n",
    "for sample in embedding_dataset.get_samples():\n",
    "    if sample[\"target\"] == \"CPPASTBinaryExpression\":\n",
    "        if \"&&\" in sample[\"context\"]:\n",
    "            bin_parent.append(sample[\"parent_context\"])\n",
    "    if sample[\"target\"] == \"CPPASTUnaryExpression\":\n",
    "        if \"--\" in sample[\"context\"]:\n",
    "            unary_parent.append(sample[\"parent_context\"])\n",
    "    if sample[\"target\"] == \"&&\":\n",
    "        logical_and_parent_context.append(sample[\"parent_context\"])\n",
    "        logical_and_parent_context.extend(sample[\"context\"])\n",
    "    if sample[\"target\"] == \"++\":\n",
    "        logical_pp_parent_context.append(sample[\"parent_context\"])\n",
    "        logical_pp_parent_context.extend(sample[\"context\"])\n",
    "\n"
   ]
  },
  {
   "cell_type": "code",
   "execution_count": 22,
   "metadata": {},
   "outputs": [
    {
     "data": {
      "text/plain": [
       "Counter({'CPPASTIfStatement': 5094,\n",
       "         'CPPASTBinaryExpression': 1691,\n",
       "         'CPPASTUnaryExpression': 834,\n",
       "         'CPPASTExpressionStatement': 4,\n",
       "         'CPPASTWhileStatement': 248,\n",
       "         'CPPASTForStatement': 145,\n",
       "         'CPPASTReturnStatement': 159,\n",
       "         'CPPASTEqualsInitializer': 27,\n",
       "         'CPPASTConditionalExpression': 49,\n",
       "         'CPPASTDoStatement': 16,\n",
       "         'CPPASTFunctionCallExpression': 13,\n",
       "         'CPPASTExpressionList': 9,\n",
       "         'CPPASTTemplateId': 4})"
      ]
     },
     "execution_count": 22,
     "metadata": {},
     "output_type": "execute_result"
    }
   ],
   "source": [
    "from collections import Counter\n",
    "Counter(bin_parent)\n"
   ]
  },
  {
   "cell_type": "code",
   "execution_count": 23,
   "metadata": {},
   "outputs": [
    {
     "data": {
      "text/plain": [
       "Counter({'CPPASTExpressionStatement': 1220,\n",
       "         'CPPASTForStatement': 704,\n",
       "         'CPPASTWhileStatement': 528,\n",
       "         'CPPASTExpressionList': 101,\n",
       "         'CPPASTArraySubscriptExpression': 48,\n",
       "         'CPPASTFunctionCallExpression': 3,\n",
       "         'CPPASTUnaryExpression': 15,\n",
       "         'CPPASTConditionalExpression': 9,\n",
       "         'CPPASTConstructorInitializer': 4,\n",
       "         'CPPASTBinaryExpression': 32})"
      ]
     },
     "execution_count": 23,
     "metadata": {},
     "output_type": "execute_result"
    }
   ],
   "source": [
    "Counter(unary_parent)"
   ]
  },
  {
   "cell_type": "code",
   "execution_count": 9,
   "metadata": {},
   "outputs": [
    {
     "data": {
      "text/plain": [
       "Counter({'CPPASTUnaryExpression': 41763})"
      ]
     },
     "execution_count": 9,
     "metadata": {},
     "output_type": "execute_result"
    }
   ],
   "source": [
    "Counter(logical_pp_parent_context)"
   ]
  },
  {
   "cell_type": "code",
   "execution_count": 10,
   "metadata": {},
   "outputs": [
    {
     "data": {
      "text/plain": [
       "Counter()"
      ]
     },
     "execution_count": 10,
     "metadata": {},
     "output_type": "execute_result"
    }
   ],
   "source": [
    "Counter(logical_pp_child_context)"
   ]
  },
  {
   "cell_type": "code",
   "execution_count": 30,
   "metadata": {},
   "outputs": [],
   "source": [
    "node_map = dict([(y, x+1) for x, y in enumerate(sorted(embedding_dataset.get_vocabulary()))])"
   ]
  },
  {
   "cell_type": "code",
   "execution_count": 31,
   "metadata": {},
   "outputs": [
    {
     "data": {
      "text/plain": [
       "{'!': 1,\n",
       " '!=': 2,\n",
       " '#++': 3,\n",
       " '#--': 4,\n",
       " '%': 5,\n",
       " '%=': 6,\n",
       " '&': 7,\n",
       " '&#': 8,\n",
       " '&&': 9,\n",
       " '&=': 10,\n",
       " '*': 11,\n",
       " '*#': 12,\n",
       " '*=': 13,\n",
       " '+': 14,\n",
       " '+#': 15,\n",
       " '++#': 16,\n",
       " '+=': 17,\n",
       " '-': 18,\n",
       " '-#': 19,\n",
       " '--#': 20,\n",
       " '-=': 21,\n",
       " '/': 22,\n",
       " '/=': 23,\n",
       " '<': 24,\n",
       " '<<': 25,\n",
       " '<<=': 26,\n",
       " '<=': 27,\n",
       " '=': 28,\n",
       " '==': 29,\n",
       " '>': 30,\n",
       " '>=': 31,\n",
       " '>>': 32,\n",
       " '>>=': 33,\n",
       " 'CPPASTAliasDeclaration': 34,\n",
       " 'CPPASTArrayDeclarator': 35,\n",
       " 'CPPASTArrayModifier': 36,\n",
       " 'CPPASTArraySubscriptExpression': 37,\n",
       " 'CPPASTBaseSpecifier': 38,\n",
       " 'CPPASTBinaryExpression': 39,\n",
       " 'CPPASTBreakStatement': 40,\n",
       " 'CPPASTCapture': 41,\n",
       " 'CPPASTCaseStatement': 42,\n",
       " 'CPPASTCastExpression': 43,\n",
       " 'CPPASTCatchHandler': 44,\n",
       " 'CPPASTCompositeTypeSpecifier': 45,\n",
       " 'CPPASTCompoundStatement': 46,\n",
       " 'CPPASTConditionalExpression': 47,\n",
       " 'CPPASTConstructorChainInitializer': 48,\n",
       " 'CPPASTConstructorInitializer': 49,\n",
       " 'CPPASTContinueStatement': 50,\n",
       " 'CPPASTConversionName': 51,\n",
       " 'CPPASTDeclarationStatement': 52,\n",
       " 'CPPASTDeclarator': 53,\n",
       " 'CPPASTDefaultStatement': 54,\n",
       " 'CPPASTDeleteExpression': 55,\n",
       " 'CPPASTDoStatement': 56,\n",
       " 'CPPASTElaboratedTypeSpecifier': 57,\n",
       " 'CPPASTEnumerationSpecifier': 58,\n",
       " 'CPPASTEnumerator': 59,\n",
       " 'CPPASTEqualsInitializer': 60,\n",
       " 'CPPASTExpressionList': 61,\n",
       " 'CPPASTExpressionStatement': 62,\n",
       " 'CPPASTFieldReference': 63,\n",
       " 'CPPASTForStatement': 64,\n",
       " 'CPPASTFunctionCallExpression': 65,\n",
       " 'CPPASTFunctionDeclarator': 66,\n",
       " 'CPPASTFunctionDefinition': 67,\n",
       " 'CPPASTGotoStatement': 68,\n",
       " 'CPPASTIdExpression': 69,\n",
       " 'CPPASTIfStatement': 70,\n",
       " 'CPPASTInitCapture': 71,\n",
       " 'CPPASTInitializerList': 72,\n",
       " 'CPPASTLabelStatement': 73,\n",
       " 'CPPASTLambdaExpression': 74,\n",
       " 'CPPASTLiteralExpression': 75,\n",
       " 'CPPASTName': 76,\n",
       " 'CPPASTNamedTypeSpecifier': 77,\n",
       " 'CPPASTNamespaceAlias': 78,\n",
       " 'CPPASTNamespaceDefinition': 79,\n",
       " 'CPPASTNewExpression': 80,\n",
       " 'CPPASTNullStatement': 81,\n",
       " 'CPPASTOperatorName': 82,\n",
       " 'CPPASTPackExpansionExpression': 83,\n",
       " 'CPPASTParameterDeclaration': 84,\n",
       " 'CPPASTPointer': 85,\n",
       " 'CPPASTQualifiedName': 86,\n",
       " 'CPPASTRangeBasedForStatement': 87,\n",
       " 'CPPASTReferenceOperator': 88,\n",
       " 'CPPASTReturnStatement': 89,\n",
       " 'CPPASTSimpleDeclSpecifier': 90,\n",
       " 'CPPASTSimpleDeclaration': 91,\n",
       " 'CPPASTSimpleTypeConstructorExpression': 92,\n",
       " 'CPPASTSimpleTypeTemplateParameter': 93,\n",
       " 'CPPASTStaticAssertionDeclaration': 94,\n",
       " 'CPPASTSwitchStatement': 95,\n",
       " 'CPPASTTemplateDeclaration': 96,\n",
       " 'CPPASTTemplateId': 97,\n",
       " 'CPPASTTemplateSpecialization': 98,\n",
       " 'CPPASTTemplatedTypeTemplateParameter': 99,\n",
       " 'CPPASTTranslationUnit': 100,\n",
       " 'CPPASTTryBlockStatement': 101,\n",
       " 'CPPASTTypeId': 102,\n",
       " 'CPPASTTypeIdExpression': 103,\n",
       " 'CPPASTTypeIdInitializerExpression': 104,\n",
       " 'CPPASTUnaryExpression': 105,\n",
       " 'CPPASTUsingDeclaration': 106,\n",
       " 'CPPASTUsingDirective': 107,\n",
       " 'CPPASTVisibilityLabel': 108,\n",
       " 'CPPASTWhileStatement': 109,\n",
       " '[]': 110,\n",
       " '^': 111,\n",
       " '^=': 112,\n",
       " 'noexcept': 113,\n",
       " 'sizeof': 114,\n",
       " 'sizeof...': 115,\n",
       " 'throw': 116,\n",
       " 'typeid': 117,\n",
       " '|': 118,\n",
       " '|=': 119,\n",
       " '||': 120,\n",
       " '~': 121}"
      ]
     },
     "execution_count": 31,
     "metadata": {},
     "output_type": "execute_result"
    }
   ],
   "source": [
    "node_map"
   ]
  },
  {
   "cell_type": "code",
   "execution_count": 37,
   "metadata": {},
   "outputs": [
    {
     "data": {
      "text/plain": [
       "[0.0,\n",
       " 0.0,\n",
       " 0.0,\n",
       " 0.0,\n",
       " 0.0,\n",
       " 0.0,\n",
       " 0.0,\n",
       " 0.0,\n",
       " 0.0,\n",
       " 0.0,\n",
       " 0.0,\n",
       " 0.0,\n",
       " 0.0,\n",
       " 0.0,\n",
       " 0.0,\n",
       " 0.0,\n",
       " 0.0,\n",
       " 0.0,\n",
       " 0.0,\n",
       " 0.0,\n",
       " 0.0,\n",
       " 0.0,\n",
       " 0.0,\n",
       " 0.0,\n",
       " 0.0,\n",
       " 0.0,\n",
       " 0.0,\n",
       " 0.0,\n",
       " 0.0,\n",
       " 0.0,\n",
       " 0.0,\n",
       " 0.0,\n",
       " 0.0,\n",
       " 0.0,\n",
       " 0.0,\n",
       " 0.0,\n",
       " 0.0,\n",
       " 0.0,\n",
       " 0.0,\n",
       " 0.0,\n",
       " 0.0,\n",
       " 0.0,\n",
       " 0.0,\n",
       " 0.0,\n",
       " 0.0,\n",
       " 0.0,\n",
       " 0.0,\n",
       " 0.0,\n",
       " 0.0,\n",
       " 0.0,\n",
       " 0.0,\n",
       " 0.0,\n",
       " 0.0,\n",
       " 0.0,\n",
       " 0.0,\n",
       " 0.0,\n",
       " 0.0,\n",
       " 0.0,\n",
       " 0.0,\n",
       " 0.0,\n",
       " 0.0,\n",
       " 0.0,\n",
       " 0.0,\n",
       " 0.0,\n",
       " 0.0,\n",
       " 0.0,\n",
       " 0.0,\n",
       " 0.0,\n",
       " 0.0,\n",
       " 0.0,\n",
       " 0.0,\n",
       " 0.0,\n",
       " 0.0,\n",
       " 0.0,\n",
       " 0.0,\n",
       " 0.0,\n",
       " 0.0,\n",
       " 0.0,\n",
       " 0.0,\n",
       " 0.0,\n",
       " 0.0,\n",
       " 0.0,\n",
       " 0.0,\n",
       " 0.0,\n",
       " 0.0,\n",
       " 0.0,\n",
       " 0.0,\n",
       " 0.0,\n",
       " 0.0,\n",
       " 0.0,\n",
       " 0.0,\n",
       " 0.0,\n",
       " 0.0,\n",
       " 0.0,\n",
       " 0.0,\n",
       " 0.0,\n",
       " 0.0,\n",
       " 0.0,\n",
       " 0.0,\n",
       " 0.0,\n",
       " 0.0,\n",
       " 0.0,\n",
       " 0.0,\n",
       " 0.0,\n",
       " 0.0,\n",
       " 0.0,\n",
       " 0.0,\n",
       " 0.0,\n",
       " 0.0,\n",
       " 0.0,\n",
       " 0.0,\n",
       " 0.0,\n",
       " 0.0,\n",
       " 0.0,\n",
       " 0.0,\n",
       " 0.0,\n",
       " 0.0,\n",
       " 0.0,\n",
       " 0.0,\n",
       " 0.0,\n",
       " 1.0]"
      ]
     },
     "execution_count": 37,
     "metadata": {},
     "output_type": "execute_result"
    }
   ],
   "source": [
    "[1.0 if j == 121-1 else 0.0 for j in range(len(node_map))]"
   ]
  },
  {
   "cell_type": "code",
   "execution_count": 32,
   "metadata": {},
   "outputs": [
    {
     "data": {
      "text/plain": [
       "{'target': 'CPPASTUsingDirective',\n",
       " 'context': ['CPPASTName'],\n",
       " 'parent_context': 'CPPASTTranslationUnit'}"
      ]
     },
     "execution_count": 32,
     "metadata": {},
     "output_type": "execute_result"
    }
   ],
   "source": [
    "embedding_dataset.get_samples()[1]"
   ]
  },
  {
   "cell_type": "code",
   "execution_count": 38,
   "metadata": {},
   "outputs": [
    {
     "data": {
      "text/plain": [
       "{'!',\n",
       " '!=',\n",
       " '#++',\n",
       " '#--',\n",
       " '%',\n",
       " '%=',\n",
       " '&',\n",
       " '&#',\n",
       " '&&',\n",
       " '&=',\n",
       " '*',\n",
       " '*#',\n",
       " '*=',\n",
       " '+',\n",
       " '+#',\n",
       " '++#',\n",
       " '+=',\n",
       " '-',\n",
       " '-#',\n",
       " '--#',\n",
       " '-=',\n",
       " '/',\n",
       " '/=',\n",
       " '<',\n",
       " '<<',\n",
       " '<<=',\n",
       " '<=',\n",
       " '=',\n",
       " '==',\n",
       " '>',\n",
       " '>=',\n",
       " '>>',\n",
       " '>>=',\n",
       " 'CPPASTAliasDeclaration',\n",
       " 'CPPASTArrayDeclarator',\n",
       " 'CPPASTArrayModifier',\n",
       " 'CPPASTArraySubscriptExpression',\n",
       " 'CPPASTBaseSpecifier',\n",
       " 'CPPASTBinaryExpression',\n",
       " 'CPPASTBreakStatement',\n",
       " 'CPPASTCapture',\n",
       " 'CPPASTCaseStatement',\n",
       " 'CPPASTCastExpression',\n",
       " 'CPPASTCatchHandler',\n",
       " 'CPPASTCompositeTypeSpecifier',\n",
       " 'CPPASTCompoundStatement',\n",
       " 'CPPASTConditionalExpression',\n",
       " 'CPPASTConstructorChainInitializer',\n",
       " 'CPPASTConstructorInitializer',\n",
       " 'CPPASTContinueStatement',\n",
       " 'CPPASTConversionName',\n",
       " 'CPPASTDeclarationStatement',\n",
       " 'CPPASTDeclarator',\n",
       " 'CPPASTDefaultStatement',\n",
       " 'CPPASTDeleteExpression',\n",
       " 'CPPASTDoStatement',\n",
       " 'CPPASTElaboratedTypeSpecifier',\n",
       " 'CPPASTEnumerationSpecifier',\n",
       " 'CPPASTEnumerator',\n",
       " 'CPPASTEqualsInitializer',\n",
       " 'CPPASTExpressionList',\n",
       " 'CPPASTExpressionStatement',\n",
       " 'CPPASTFieldReference',\n",
       " 'CPPASTForStatement',\n",
       " 'CPPASTFunctionCallExpression',\n",
       " 'CPPASTFunctionDeclarator',\n",
       " 'CPPASTFunctionDefinition',\n",
       " 'CPPASTGotoStatement',\n",
       " 'CPPASTIdExpression',\n",
       " 'CPPASTIfStatement',\n",
       " 'CPPASTInitCapture',\n",
       " 'CPPASTInitializerList',\n",
       " 'CPPASTLabelStatement',\n",
       " 'CPPASTLambdaExpression',\n",
       " 'CPPASTLiteralExpression',\n",
       " 'CPPASTName',\n",
       " 'CPPASTNamedTypeSpecifier',\n",
       " 'CPPASTNamespaceAlias',\n",
       " 'CPPASTNamespaceDefinition',\n",
       " 'CPPASTNewExpression',\n",
       " 'CPPASTNullStatement',\n",
       " 'CPPASTOperatorName',\n",
       " 'CPPASTPackExpansionExpression',\n",
       " 'CPPASTParameterDeclaration',\n",
       " 'CPPASTPointer',\n",
       " 'CPPASTQualifiedName',\n",
       " 'CPPASTRangeBasedForStatement',\n",
       " 'CPPASTReferenceOperator',\n",
       " 'CPPASTReturnStatement',\n",
       " 'CPPASTSimpleDeclSpecifier',\n",
       " 'CPPASTSimpleDeclaration',\n",
       " 'CPPASTSimpleTypeConstructorExpression',\n",
       " 'CPPASTSimpleTypeTemplateParameter',\n",
       " 'CPPASTStaticAssertionDeclaration',\n",
       " 'CPPASTSwitchStatement',\n",
       " 'CPPASTTemplateDeclaration',\n",
       " 'CPPASTTemplateId',\n",
       " 'CPPASTTemplateSpecialization',\n",
       " 'CPPASTTemplatedTypeTemplateParameter',\n",
       " 'CPPASTTranslationUnit',\n",
       " 'CPPASTTryBlockStatement',\n",
       " 'CPPASTTypeId',\n",
       " 'CPPASTTypeIdExpression',\n",
       " 'CPPASTTypeIdInitializerExpression',\n",
       " 'CPPASTUnaryExpression',\n",
       " 'CPPASTUsingDeclaration',\n",
       " 'CPPASTUsingDirective',\n",
       " 'CPPASTVisibilityLabel',\n",
       " 'CPPASTWhileStatement',\n",
       " '[]',\n",
       " '^',\n",
       " '^=',\n",
       " 'noexcept',\n",
       " 'sizeof',\n",
       " 'sizeof...',\n",
       " 'throw',\n",
       " 'typeid',\n",
       " '|',\n",
       " '|=',\n",
       " '||',\n",
       " '~'}"
      ]
     },
     "execution_count": 38,
     "metadata": {},
     "output_type": "execute_result"
    }
   ],
   "source": [
    "vocabulary = embedding_dataset.get_vocabulary()\n",
    "vocabulary"
   ]
  },
  {
   "cell_type": "code",
   "execution_count": 46,
   "metadata": {},
   "outputs": [],
   "source": [
    "from vectorizer.AstNode2VecFileStreamDataGenerator2 import AstNode2VecFileStreamDataGenerator2\n",
    "training_generator = AstNode2VecFileStreamDataGenerator2(embedding_dataset.get_samples(), embedding_dataset.get_vocabulary(), shuffle=True, batch_size=64)"
   ]
  },
  {
   "cell_type": "code",
   "execution_count": 44,
   "metadata": {},
   "outputs": [
    {
     "ename": "KeyboardInterrupt",
     "evalue": "",
     "output_type": "error",
     "traceback": [
      "\u001b[1;31m---------------------------------------------------------------------------\u001b[0m",
      "\u001b[1;31mKeyboardInterrupt\u001b[0m                         Traceback (most recent call last)",
      "\u001b[1;32mc:\\Users\\sebas\\Documents\\Masterarbeit\\tbcnn-tf2\\embeddings.ipynb Zelle 19\u001b[0m in \u001b[0;36m<cell line: 3>\u001b[1;34m()\u001b[0m\n\u001b[0;32m      <a href='vscode-notebook-cell:/c%3A/Users/sebas/Documents/Masterarbeit/tbcnn-tf2/embeddings.ipynb#ch0000008?line=1'>2</a>\u001b[0m s \u001b[39m=\u001b[39m \u001b[39mset\u001b[39m()\n\u001b[0;32m      <a href='vscode-notebook-cell:/c%3A/Users/sebas/Documents/Masterarbeit/tbcnn-tf2/embeddings.ipynb#ch0000008?line=2'>3</a>\u001b[0m \u001b[39mfor\u001b[39;00m i \u001b[39min\u001b[39;00m training_generator:\n\u001b[1;32m----> <a href='vscode-notebook-cell:/c%3A/Users/sebas/Documents/Masterarbeit/tbcnn-tf2/embeddings.ipynb#ch0000008?line=3'>4</a>\u001b[0m     s\u001b[39m.\u001b[39madd(np\u001b[39m.\u001b[39;49margmax(i[\u001b[39m1\u001b[39;49m]))\n",
      "File \u001b[1;32m<__array_function__ internals>:180\u001b[0m, in \u001b[0;36margmax\u001b[1;34m(*args, **kwargs)\u001b[0m\n",
      "File \u001b[1;32mc:\\Users\\sebas\\miniconda3\\envs\\tbcnn-tf2-gpu\\lib\\site-packages\\numpy\\core\\fromnumeric.py:1216\u001b[0m, in \u001b[0;36margmax\u001b[1;34m(a, axis, out, keepdims)\u001b[0m\n\u001b[0;32m   1129\u001b[0m \u001b[39m\"\"\"\u001b[39;00m\n\u001b[0;32m   1130\u001b[0m \u001b[39mReturns the indices of the maximum values along an axis.\u001b[39;00m\n\u001b[0;32m   1131\u001b[0m \n\u001b[1;32m   (...)\u001b[0m\n\u001b[0;32m   1213\u001b[0m \u001b[39m(2, 1, 4)\u001b[39;00m\n\u001b[0;32m   1214\u001b[0m \u001b[39m\"\"\"\u001b[39;00m\n\u001b[0;32m   1215\u001b[0m kwds \u001b[39m=\u001b[39m {\u001b[39m'\u001b[39m\u001b[39mkeepdims\u001b[39m\u001b[39m'\u001b[39m: keepdims} \u001b[39mif\u001b[39;00m keepdims \u001b[39mis\u001b[39;00m \u001b[39mnot\u001b[39;00m np\u001b[39m.\u001b[39m_NoValue \u001b[39melse\u001b[39;00m {}\n\u001b[1;32m-> 1216\u001b[0m \u001b[39mreturn\u001b[39;00m _wrapfunc(a, \u001b[39m'\u001b[39m\u001b[39margmax\u001b[39m\u001b[39m'\u001b[39m, axis\u001b[39m=\u001b[39maxis, out\u001b[39m=\u001b[39mout, \u001b[39m*\u001b[39m\u001b[39m*\u001b[39mkwds)\n",
      "File \u001b[1;32mc:\\Users\\sebas\\miniconda3\\envs\\tbcnn-tf2-gpu\\lib\\site-packages\\numpy\\core\\fromnumeric.py:57\u001b[0m, in \u001b[0;36m_wrapfunc\u001b[1;34m(obj, method, *args, **kwds)\u001b[0m\n\u001b[0;32m     54\u001b[0m     \u001b[39mreturn\u001b[39;00m _wrapit(obj, method, \u001b[39m*\u001b[39margs, \u001b[39m*\u001b[39m\u001b[39m*\u001b[39mkwds)\n\u001b[0;32m     56\u001b[0m \u001b[39mtry\u001b[39;00m:\n\u001b[1;32m---> 57\u001b[0m     \u001b[39mreturn\u001b[39;00m bound(\u001b[39m*\u001b[39margs, \u001b[39m*\u001b[39m\u001b[39m*\u001b[39mkwds)\n\u001b[0;32m     58\u001b[0m \u001b[39mexcept\u001b[39;00m \u001b[39mTypeError\u001b[39;00m:\n\u001b[0;32m     59\u001b[0m     \u001b[39m# A TypeError occurs if the object does have such a method in its\u001b[39;00m\n\u001b[0;32m     60\u001b[0m     \u001b[39m# class, but its signature is not identical to that of NumPy's. This\u001b[39;00m\n\u001b[1;32m   (...)\u001b[0m\n\u001b[0;32m     64\u001b[0m     \u001b[39m# Call _wrapit from within the except clause to ensure a potential\u001b[39;00m\n\u001b[0;32m     65\u001b[0m     \u001b[39m# exception has a traceback chain.\u001b[39;00m\n\u001b[0;32m     66\u001b[0m     \u001b[39mreturn\u001b[39;00m _wrapit(obj, method, \u001b[39m*\u001b[39margs, \u001b[39m*\u001b[39m\u001b[39m*\u001b[39mkwds)\n",
      "\u001b[1;31mKeyboardInterrupt\u001b[0m: "
     ]
    }
   ],
   "source": [
    "import numpy as np\n",
    "s = set()\n",
    "for i in training_generator:\n",
    "    s.add(np.argmax(i[1]))"
   ]
  },
  {
   "cell_type": "code",
   "execution_count": 45,
   "metadata": {},
   "outputs": [
    {
     "data": {
      "text/plain": [
       "{0,\n",
       " 1,\n",
       " 2,\n",
       " 3,\n",
       " 4,\n",
       " 5,\n",
       " 6,\n",
       " 7,\n",
       " 8,\n",
       " 9,\n",
       " 10,\n",
       " 11,\n",
       " 12,\n",
       " 13,\n",
       " 14,\n",
       " 15,\n",
       " 16,\n",
       " 17,\n",
       " 18,\n",
       " 19,\n",
       " 20,\n",
       " 21,\n",
       " 22,\n",
       " 23,\n",
       " 24,\n",
       " 25,\n",
       " 26,\n",
       " 27,\n",
       " 28,\n",
       " 29,\n",
       " 30,\n",
       " 31,\n",
       " 32,\n",
       " 33,\n",
       " 34,\n",
       " 35,\n",
       " 36,\n",
       " 37,\n",
       " 38,\n",
       " 39,\n",
       " 40,\n",
       " 41,\n",
       " 42,\n",
       " 43,\n",
       " 44,\n",
       " 45,\n",
       " 46,\n",
       " 47,\n",
       " 48,\n",
       " 49,\n",
       " 50,\n",
       " 51,\n",
       " 52,\n",
       " 53,\n",
       " 54,\n",
       " 55,\n",
       " 56,\n",
       " 57,\n",
       " 58,\n",
       " 59,\n",
       " 60,\n",
       " 61,\n",
       " 62,\n",
       " 63,\n",
       " 64,\n",
       " 65,\n",
       " 66,\n",
       " 67,\n",
       " 68,\n",
       " 69,\n",
       " 70,\n",
       " 71,\n",
       " 72,\n",
       " 73,\n",
       " 74,\n",
       " 75,\n",
       " 76,\n",
       " 77,\n",
       " 78,\n",
       " 79,\n",
       " 80,\n",
       " 81,\n",
       " 82,\n",
       " 83,\n",
       " 84,\n",
       " 85,\n",
       " 86,\n",
       " 87,\n",
       " 88,\n",
       " 89,\n",
       " 90,\n",
       " 91,\n",
       " 92,\n",
       " 93,\n",
       " 94,\n",
       " 95,\n",
       " 96,\n",
       " 97,\n",
       " 98,\n",
       " 99,\n",
       " 100,\n",
       " 101,\n",
       " 102,\n",
       " 103,\n",
       " 104,\n",
       " 105,\n",
       " 106,\n",
       " 107,\n",
       " 108,\n",
       " 109,\n",
       " 110,\n",
       " 111,\n",
       " 112,\n",
       " 113,\n",
       " 114,\n",
       " 115,\n",
       " 116,\n",
       " 117,\n",
       " 118,\n",
       " 119,\n",
       " 120}"
      ]
     },
     "execution_count": 45,
     "metadata": {},
     "output_type": "execute_result"
    }
   ],
   "source": [
    "s"
   ]
  },
  {
   "cell_type": "code",
   "execution_count": 43,
   "metadata": {},
   "outputs": [
    {
     "data": {
      "text/plain": [
       "([array([[76]]), array([65])],\n",
       " array([[0., 0., 0., 0., 0., 0., 0., 0., 0., 0., 0., 0., 0., 0., 0., 0.,\n",
       "         0., 0., 0., 0., 0., 0., 0., 0., 0., 0., 0., 0., 0., 0., 0., 0.,\n",
       "         0., 0., 0., 0., 0., 0., 0., 0., 0., 0., 0., 0., 0., 0., 0., 0.,\n",
       "         0., 0., 0., 0., 0., 0., 0., 0., 0., 0., 0., 0., 0., 0., 0., 0.,\n",
       "         0., 0., 0., 0., 1., 0., 0., 0., 0., 0., 0., 0., 0., 0., 0., 0.,\n",
       "         0., 0., 0., 0., 0., 0., 0., 0., 0., 0., 0., 0., 0., 0., 0., 0.,\n",
       "         0., 0., 0., 0., 0., 0., 0., 0., 0., 0., 0., 0., 0., 0., 0., 0.,\n",
       "         0., 0., 0., 0., 0., 0., 0., 0., 0.]]))"
      ]
     },
     "execution_count": 43,
     "metadata": {},
     "output_type": "execute_result"
    }
   ],
   "source": [
    "training_generator.__getitem__(1)"
   ]
  },
  {
   "cell_type": "code",
   "execution_count": 47,
   "metadata": {},
   "outputs": [],
   "source": [
    "from vectorizer.AstNode2Vec import AstNode2Vec\n",
    "from keras.metrics import Precision, Recall\n",
    "import tensorflow as tf\n",
    "vocab_size = len(training_generator.get_node_map())\n",
    "model = AstNode2Vec(embedding_size=80, vocab_size=vocab_size)\n",
    "model.compile(loss=tf.keras.losses.CategoricalCrossentropy(from_logits=True), optimizer='adam', metrics=[tf.keras.metrics.CategoricalAccuracy()])"
   ]
  },
  {
   "cell_type": "code",
   "execution_count": 48,
   "metadata": {},
   "outputs": [
    {
     "name": "stdout",
     "output_type": "stream",
     "text": [
      "76177/76177 [==============================] - 372s 5ms/step - loss: 0.3827 - categorical_accuracy: 0.8795\n"
     ]
    },
    {
     "data": {
      "text/plain": [
       "<keras.callbacks.History at 0x1f50cdecca0>"
      ]
     },
     "execution_count": 48,
     "metadata": {},
     "output_type": "execute_result"
    }
   ],
   "source": [
    "model.fit(training_generator, epochs=1)"
   ]
  },
  {
   "cell_type": "code",
   "execution_count": 148,
   "metadata": {},
   "outputs": [],
   "source": [
    "X, Y = training_generator.__getitem__(1)"
   ]
  },
  {
   "cell_type": "code",
   "execution_count": 149,
   "metadata": {},
   "outputs": [],
   "source": [
    "children = model.target_embedding(X[0])"
   ]
  },
  {
   "cell_type": "code",
   "execution_count": 233,
   "metadata": {},
   "outputs": [],
   "source": [
    "children = tf.constant([[[1.0, 1.0], [2.0, 2.0]]])"
   ]
  },
  {
   "cell_type": "code",
   "execution_count": 274,
   "metadata": {},
   "outputs": [],
   "source": [
    "c_r = model.eta_r(children)\n",
    "c_l = model.eta_l(children)\n",
    "coef = tf.stack([c_l, c_r], axis=2)\n",
    "num_children = tf.shape(children)[1]\n",
    "batch_size = tf.shape(children)[0]\n",
    "coef_reshape = tf.reshape(coef, (batch_size, num_children, 2))\n",
    "cont_binary_node = tf.matmul(children, coef_reshape, transpose_a=True)"
   ]
  },
  {
   "cell_type": "code",
   "execution_count": 276,
   "metadata": {},
   "outputs": [
    {
     "data": {
      "text/plain": [
       "<tf.Tensor: shape=(1, 2, 2), dtype=float32, numpy=\n",
       "array([[[1., 0.],\n",
       "        [0., 1.]]], dtype=float32)>"
      ]
     },
     "execution_count": 276,
     "metadata": {},
     "output_type": "execute_result"
    }
   ],
   "source": [
    "coef_reshape\n"
   ]
  },
  {
   "cell_type": "code",
   "execution_count": 264,
   "metadata": {},
   "outputs": [
    {
     "data": {
      "text/plain": [
       "<tf.Tensor: shape=(2, 2, 1), dtype=float32, numpy=\n",
       "array([[[1.],\n",
       "        [1.]],\n",
       "\n",
       "       [[2.],\n",
       "        [2.]]], dtype=float32)>"
      ]
     },
     "execution_count": 264,
     "metadata": {},
     "output_type": "execute_result"
    }
   ],
   "source": [
    "tf.transpose(cont_binary_node)"
   ]
  },
  {
   "cell_type": "code",
   "execution_count": 387,
   "metadata": {},
   "outputs": [
    {
     "data": {
      "text/plain": [
       "<tf.Tensor: shape=(1, 2), dtype=float32, numpy=array([[8., 8.]], dtype=float32)>"
      ]
     },
     "execution_count": 387,
     "metadata": {},
     "output_type": "execute_result"
    }
   ],
   "source": [
    "w = tf.stack([tf.constant([[2.0,2.0], [2.0,2.0]]), tf.constant([[1.0,1.0], [1.0,1.0]])], axis=0)\n",
    "child_context = tf.tensordot(cont_binary_node, w, [[2,1], [0,1]])\n",
    "child_context\n"
   ]
  },
  {
   "cell_type": "code",
   "execution_count": 385,
   "metadata": {},
   "outputs": [
    {
     "data": {
      "text/plain": [
       "<tf.Tensor: shape=(2, 2, 2), dtype=float32, numpy=\n",
       "array([[[2., 2.],\n",
       "        [2., 2.]],\n",
       "\n",
       "       [[1., 1.],\n",
       "        [1., 1.]]], dtype=float32)>"
      ]
     },
     "execution_count": 385,
     "metadata": {},
     "output_type": "execute_result"
    }
   ],
   "source": [
    "w"
   ]
  },
  {
   "cell_type": "code",
   "execution_count": 298,
   "metadata": {},
   "outputs": [
    {
     "data": {
      "text/plain": [
       "<tf.Tensor: shape=(3, 2, 2), dtype=float32, numpy=\n",
       "array([[[1., 1.],\n",
       "        [1., 1.]],\n",
       "\n",
       "       [[1., 2.],\n",
       "        [1., 2.]],\n",
       "\n",
       "       [[1., 2.],\n",
       "        [1., 2.]]], dtype=float32)>"
      ]
     },
     "execution_count": 298,
     "metadata": {},
     "output_type": "execute_result"
    }
   ],
   "source": [
    "w = tf.stack([tf.constant([[1.0,1.0], [1.0,1.0]]), tf.constant([[1.0,2.0], [1.0,2.0]]), tf.constant([[1.0,2.0], [1.0,2.0]])], axis=0)\n",
    "w"
   ]
  },
  {
   "cell_type": "code",
   "execution_count": 245,
   "metadata": {},
   "outputs": [
    {
     "data": {
      "text/plain": [
       "<tf.Tensor: shape=(1, 2), dtype=float32, numpy=array([[8., 7.]], dtype=float32)>"
      ]
     },
     "execution_count": 245,
     "metadata": {},
     "output_type": "execute_result"
    }
   ],
   "source": [
    "child_context"
   ]
  },
  {
   "cell_type": "code",
   "execution_count": 151,
   "metadata": {},
   "outputs": [],
   "source": [
    "parent = model.target_embedding(X[1])"
   ]
  },
  {
   "cell_type": "code",
   "execution_count": 153,
   "metadata": {},
   "outputs": [],
   "source": [
    "parent_context = tf.matmul(parent, model.w_p)"
   ]
  },
  {
   "cell_type": "code",
   "execution_count": 154,
   "metadata": {},
   "outputs": [
    {
     "data": {
      "text/plain": [
       "<tf.Tensor: shape=(64, 114), dtype=float32, numpy=\n",
       "array([[ -9.210423  ,  -9.648418  ,   0.03816789, ...,  -1.7986059 ,\n",
       "         -4.768917  ,  -3.8843048 ],\n",
       "       [-21.092606  , -21.169575  ,   6.0568123 , ..., -15.95515   ,\n",
       "        -10.657974  , -10.443528  ],\n",
       "       [-33.84036   , -34.006294  , -11.383543  , ..., -23.340357  ,\n",
       "        -10.875558  , -10.607195  ],\n",
       "       ...,\n",
       "       [-29.772987  , -29.726002  , -14.408588  , ..., -27.084972  ,\n",
       "        -10.473383  , -10.220697  ],\n",
       "       [-29.772987  , -29.726002  , -14.408588  , ..., -27.084972  ,\n",
       "        -10.473383  , -10.220697  ],\n",
       "       [-24.666172  , -24.622461  ,  -6.938054  , ..., -23.454264  ,\n",
       "        -12.929404  , -12.640182  ]], dtype=float32)>"
      ]
     },
     "execution_count": 154,
     "metadata": {},
     "output_type": "execute_result"
    }
   ],
   "source": [
    "parent_context"
   ]
  },
  {
   "cell_type": "code",
   "execution_count": 179,
   "metadata": {},
   "outputs": [],
   "source": [
    "context = tf.stack([child_context, parent_context], 1)"
   ]
  },
  {
   "cell_type": "code",
   "execution_count": 181,
   "metadata": {},
   "outputs": [
    {
     "data": {
      "text/plain": [
       "<tf.Tensor: shape=(64, 114), dtype=float32, numpy=\n",
       "array([[ -6.4007397 ,  -6.593902  ,  -2.6517248 , ...,  -4.9291897 ,\n",
       "         -7.5123835 ,  -5.3460345 ],\n",
       "       [-12.937388  , -13.016921  ,  -0.90842795, ..., -11.7844715 ,\n",
       "         -9.575584  ,  -8.307299  ],\n",
       "       [-17.927279  , -18.038153  ,  -6.256166  , ..., -12.82855   ,\n",
       "         -6.9317884 ,  -6.682448  ],\n",
       "       ...,\n",
       "       [-17.27758   , -17.295135  , -11.141129  , ..., -17.349382  ,\n",
       "         -9.483288  ,  -8.195883  ],\n",
       "       [-15.893593  , -15.898006  ,  -7.7686887 , ..., -14.700858  ,\n",
       "         -6.730701  ,  -6.489199  ],\n",
       "       [-14.724172  , -14.743364  ,  -7.405861  , ..., -15.534028  ,\n",
       "        -10.711299  ,  -9.405624  ]], dtype=float32)>"
      ]
     },
     "execution_count": 181,
     "metadata": {},
     "output_type": "execute_result"
    }
   ],
   "source": [
    "tf.reduce_mean(context, 1)"
   ]
  },
  {
   "cell_type": "code",
   "execution_count": 29,
   "metadata": {},
   "outputs": [
    {
     "data": {
      "text/plain": [
       "<tf.Tensor: shape=(114,), dtype=float32, numpy=\n",
       "array([ 1.07409861e-02,  1.40932389e-02,  8.90651718e-05, -8.90274253e-03,\n",
       "        1.31333945e-03,  3.71369673e-03,  8.35704431e-03, -1.45918177e-02,\n",
       "       -5.17846644e-03, -3.66252614e-03,  3.58206336e-03, -7.00688222e-03,\n",
       "        6.02924265e-03,  1.83405466e-02, -3.71220615e-03, -1.06595997e-02,\n",
       "        3.04665463e-03,  1.81188881e-02,  8.12618155e-03, -1.01219397e-02,\n",
       "        9.92858037e-03,  1.95997022e-03,  5.90565847e-03,  1.36820972e-02,\n",
       "       -1.59652047e-02, -4.70230356e-03, -9.42704827e-03,  1.25331003e-02,\n",
       "        7.98681751e-03, -3.03999148e-03, -6.49652211e-03,  8.19043536e-03,\n",
       "       -6.20806683e-03,  1.00451186e-02, -2.00501038e-03, -2.13420019e-03,\n",
       "        4.46398137e-03, -2.52443664e-02, -3.50942463e-03, -4.36698366e-03,\n",
       "       -4.15940909e-03, -1.55425211e-03,  5.43947192e-03,  6.43452583e-03,\n",
       "       -2.43178522e-03, -9.76937544e-03, -1.84051022e-02, -1.17780985e-02,\n",
       "        1.48004200e-03, -4.76212101e-03,  8.84662289e-03,  1.22910682e-02,\n",
       "       -3.52955051e-03, -1.51536129e-02, -1.89446798e-03,  5.18875429e-03,\n",
       "       -1.70074403e-03, -8.92433454e-04, -1.09759970e-02,  1.74273225e-03,\n",
       "        6.66682702e-03, -1.97976362e-04,  1.73179223e-03,  1.43669499e-02,\n",
       "       -1.06140207e-02, -1.07070925e-02, -2.82580848e-03, -4.51156916e-03,\n",
       "       -1.05831502e-02,  8.75179842e-03, -2.34160514e-04, -1.03405984e-02,\n",
       "       -4.61188145e-03,  8.22353084e-03,  3.14967241e-03,  7.22666830e-03,\n",
       "       -8.84299912e-03, -1.11062918e-02,  2.20326567e-03, -2.77397968e-02,\n",
       "        7.61174411e-03,  5.44866361e-03, -1.42523712e-02, -1.83212524e-03,\n",
       "       -8.24706350e-03, -7.83213228e-03,  3.43935098e-03,  1.82151329e-03,\n",
       "       -1.67283649e-03, -1.59842297e-02,  5.48521476e-03, -8.25528521e-04,\n",
       "        2.73043150e-03, -1.49543993e-02, -3.18344682e-03, -1.24423392e-02,\n",
       "        3.34773748e-03,  9.81892180e-03, -4.32571908e-03, -3.33314575e-03,\n",
       "       -3.78551660e-04, -1.30051468e-03, -1.54702375e-02, -1.19985500e-02,\n",
       "       -6.45164773e-03, -4.03002044e-03,  4.96537331e-03, -3.77884414e-03,\n",
       "       -1.01204365e-02, -2.58216169e-04, -8.86965916e-03, -1.59459561e-03,\n",
       "        5.61439432e-03, -1.29107675e-02], dtype=float32)>"
      ]
     },
     "execution_count": 29,
     "metadata": {},
     "output_type": "execute_result"
    }
   ],
   "source": [
    "model.call(X)\n"
   ]
  },
  {
   "cell_type": "code",
   "execution_count": 52,
   "metadata": {},
   "outputs": [],
   "source": [
    "import io\n",
    "weights = model.get_layer('target_embedding').get_weights()[0]\n",
    "vocab = training_generator.get_node_map()\n",
    "out_v = io.open('C:\\\\Users\\\\sebas\\\\Documents\\\\Masterarbeit\\\\vectors_new_ce_fromlogits_no_hidden_80_1e_parent_tanh.tsv', 'w', encoding='utf-8')\n",
    "out_m = io.open('C:\\\\Users\\\\sebas\\\\Documents\\\\Masterarbeit\\\\metadata_new_ce_fromlogits_no_hidden_80_1e_parent_tanh.tsv', 'w', encoding='utf-8')\n",
    "\n",
    "vocab_embedding_map = {}\n",
    "for index, word in enumerate(vocab):\n",
    "    vec = weights[index+1]\n",
    "    vocab_embedding_map[\"word\"] = vec.tolist\n",
    "    out_v.write('\\t'.join([str(x) for x in vec]) + \"\\n\")\n",
    "    out_m.write(word + \"\\n\")\n",
    "out_v.close()\n",
    "out_m.close()"
   ]
  },
  {
   "cell_type": "code",
   "execution_count": 53,
   "metadata": {},
   "outputs": [
    {
     "name": "stdout",
     "output_type": "stream",
     "text": [
      "!\n",
      "!=\n",
      "#++\n",
      "#--\n",
      "%\n",
      "%=\n",
      "&\n",
      "&#\n",
      "&&\n",
      "&=\n",
      "*\n",
      "*#\n",
      "*=\n",
      "+\n",
      "+#\n",
      "++#\n",
      "+=\n",
      "-\n",
      "-#\n",
      "--#\n",
      "-=\n",
      "/\n",
      "/=\n",
      "<\n",
      "<<\n",
      "<<=\n",
      "<=\n",
      "=\n",
      "==\n",
      ">\n",
      ">=\n",
      ">>\n",
      ">>=\n",
      "CPPASTAliasDeclaration\n",
      "CPPASTArrayDeclarator\n",
      "CPPASTArrayModifier\n",
      "CPPASTArraySubscriptExpression\n",
      "CPPASTBaseSpecifier\n",
      "CPPASTBinaryExpression\n",
      "CPPASTBreakStatement\n",
      "CPPASTCapture\n",
      "CPPASTCaseStatement\n",
      "CPPASTCastExpression\n",
      "CPPASTCatchHandler\n",
      "CPPASTCompositeTypeSpecifier\n",
      "CPPASTCompoundStatement\n",
      "CPPASTConditionalExpression\n",
      "CPPASTConstructorChainInitializer\n",
      "CPPASTConstructorInitializer\n",
      "CPPASTContinueStatement\n",
      "CPPASTConversionName\n",
      "CPPASTDeclarationStatement\n",
      "CPPASTDeclarator\n",
      "CPPASTDefaultStatement\n",
      "CPPASTDeleteExpression\n",
      "CPPASTDoStatement\n",
      "CPPASTElaboratedTypeSpecifier\n",
      "CPPASTEnumerationSpecifier\n",
      "CPPASTEnumerator\n",
      "CPPASTEqualsInitializer\n",
      "CPPASTExpressionList\n",
      "CPPASTExpressionStatement\n",
      "CPPASTFieldReference\n",
      "CPPASTForStatement\n",
      "CPPASTFunctionCallExpression\n",
      "CPPASTFunctionDeclarator\n",
      "CPPASTFunctionDefinition\n",
      "CPPASTGotoStatement\n",
      "CPPASTIdExpression\n",
      "CPPASTIfStatement\n",
      "CPPASTInitCapture\n",
      "CPPASTInitializerList\n",
      "CPPASTLabelStatement\n",
      "CPPASTLambdaExpression\n",
      "CPPASTLiteralExpression\n",
      "CPPASTName\n",
      "CPPASTNamedTypeSpecifier\n",
      "CPPASTNamespaceAlias\n",
      "CPPASTNamespaceDefinition\n",
      "CPPASTNewExpression\n",
      "CPPASTNullStatement\n",
      "CPPASTOperatorName\n",
      "CPPASTPackExpansionExpression\n",
      "CPPASTParameterDeclaration\n",
      "CPPASTPointer\n",
      "CPPASTQualifiedName\n",
      "CPPASTRangeBasedForStatement\n",
      "CPPASTReferenceOperator\n",
      "CPPASTReturnStatement\n",
      "CPPASTSimpleDeclSpecifier\n",
      "CPPASTSimpleDeclaration\n",
      "CPPASTSimpleTypeConstructorExpression\n",
      "CPPASTSimpleTypeTemplateParameter\n",
      "CPPASTStaticAssertionDeclaration\n",
      "CPPASTSwitchStatement\n",
      "CPPASTTemplateDeclaration\n",
      "CPPASTTemplateId\n",
      "CPPASTTemplateSpecialization\n",
      "CPPASTTemplatedTypeTemplateParameter\n",
      "CPPASTTranslationUnit\n",
      "CPPASTTryBlockStatement\n",
      "CPPASTTypeId\n",
      "CPPASTTypeIdExpression\n",
      "CPPASTTypeIdInitializerExpression\n",
      "CPPASTUnaryExpression\n",
      "CPPASTUsingDeclaration\n",
      "CPPASTUsingDirective\n",
      "CPPASTVisibilityLabel\n",
      "CPPASTWhileStatement\n",
      "[]\n",
      "^\n",
      "^=\n",
      "noexcept\n",
      "sizeof\n",
      "sizeof...\n",
      "throw\n",
      "typeid\n",
      "|\n",
      "|=\n",
      "||\n",
      "~\n"
     ]
    }
   ],
   "source": [
    "for index, word in enumerate(vocab):\n",
    "    print(word)"
   ]
  },
  {
   "cell_type": "code",
   "execution_count": 54,
   "metadata": {},
   "outputs": [
    {
     "data": {
      "text/plain": [
       "{'!': 1,\n",
       " '!=': 2,\n",
       " '#++': 3,\n",
       " '#--': 4,\n",
       " '%': 5,\n",
       " '%=': 6,\n",
       " '&': 7,\n",
       " '&#': 8,\n",
       " '&&': 9,\n",
       " '&=': 10,\n",
       " '*': 11,\n",
       " '*#': 12,\n",
       " '*=': 13,\n",
       " '+': 14,\n",
       " '+#': 15,\n",
       " '++#': 16,\n",
       " '+=': 17,\n",
       " '-': 18,\n",
       " '-#': 19,\n",
       " '--#': 20,\n",
       " '-=': 21,\n",
       " '/': 22,\n",
       " '/=': 23,\n",
       " '<': 24,\n",
       " '<<': 25,\n",
       " '<<=': 26,\n",
       " '<=': 27,\n",
       " '=': 28,\n",
       " '==': 29,\n",
       " '>': 30,\n",
       " '>=': 31,\n",
       " '>>': 32,\n",
       " '>>=': 33,\n",
       " 'CPPASTAliasDeclaration': 34,\n",
       " 'CPPASTArrayDeclarator': 35,\n",
       " 'CPPASTArrayModifier': 36,\n",
       " 'CPPASTArraySubscriptExpression': 37,\n",
       " 'CPPASTBaseSpecifier': 38,\n",
       " 'CPPASTBinaryExpression': 39,\n",
       " 'CPPASTBreakStatement': 40,\n",
       " 'CPPASTCapture': 41,\n",
       " 'CPPASTCaseStatement': 42,\n",
       " 'CPPASTCastExpression': 43,\n",
       " 'CPPASTCatchHandler': 44,\n",
       " 'CPPASTCompositeTypeSpecifier': 45,\n",
       " 'CPPASTCompoundStatement': 46,\n",
       " 'CPPASTConditionalExpression': 47,\n",
       " 'CPPASTConstructorChainInitializer': 48,\n",
       " 'CPPASTConstructorInitializer': 49,\n",
       " 'CPPASTContinueStatement': 50,\n",
       " 'CPPASTConversionName': 51,\n",
       " 'CPPASTDeclarationStatement': 52,\n",
       " 'CPPASTDeclarator': 53,\n",
       " 'CPPASTDefaultStatement': 54,\n",
       " 'CPPASTDeleteExpression': 55,\n",
       " 'CPPASTDoStatement': 56,\n",
       " 'CPPASTElaboratedTypeSpecifier': 57,\n",
       " 'CPPASTEnumerationSpecifier': 58,\n",
       " 'CPPASTEnumerator': 59,\n",
       " 'CPPASTEqualsInitializer': 60,\n",
       " 'CPPASTExpressionList': 61,\n",
       " 'CPPASTExpressionStatement': 62,\n",
       " 'CPPASTFieldReference': 63,\n",
       " 'CPPASTForStatement': 64,\n",
       " 'CPPASTFunctionCallExpression': 65,\n",
       " 'CPPASTFunctionDeclarator': 66,\n",
       " 'CPPASTFunctionDefinition': 67,\n",
       " 'CPPASTGotoStatement': 68,\n",
       " 'CPPASTIdExpression': 69,\n",
       " 'CPPASTIfStatement': 70,\n",
       " 'CPPASTInitCapture': 71,\n",
       " 'CPPASTInitializerList': 72,\n",
       " 'CPPASTLabelStatement': 73,\n",
       " 'CPPASTLambdaExpression': 74,\n",
       " 'CPPASTLiteralExpression': 75,\n",
       " 'CPPASTName': 76,\n",
       " 'CPPASTNamedTypeSpecifier': 77,\n",
       " 'CPPASTNamespaceAlias': 78,\n",
       " 'CPPASTNamespaceDefinition': 79,\n",
       " 'CPPASTNewExpression': 80,\n",
       " 'CPPASTNullStatement': 81,\n",
       " 'CPPASTOperatorName': 82,\n",
       " 'CPPASTPackExpansionExpression': 83,\n",
       " 'CPPASTParameterDeclaration': 84,\n",
       " 'CPPASTPointer': 85,\n",
       " 'CPPASTQualifiedName': 86,\n",
       " 'CPPASTRangeBasedForStatement': 87,\n",
       " 'CPPASTReferenceOperator': 88,\n",
       " 'CPPASTReturnStatement': 89,\n",
       " 'CPPASTSimpleDeclSpecifier': 90,\n",
       " 'CPPASTSimpleDeclaration': 91,\n",
       " 'CPPASTSimpleTypeConstructorExpression': 92,\n",
       " 'CPPASTSimpleTypeTemplateParameter': 93,\n",
       " 'CPPASTStaticAssertionDeclaration': 94,\n",
       " 'CPPASTSwitchStatement': 95,\n",
       " 'CPPASTTemplateDeclaration': 96,\n",
       " 'CPPASTTemplateId': 97,\n",
       " 'CPPASTTemplateSpecialization': 98,\n",
       " 'CPPASTTemplatedTypeTemplateParameter': 99,\n",
       " 'CPPASTTranslationUnit': 100,\n",
       " 'CPPASTTryBlockStatement': 101,\n",
       " 'CPPASTTypeId': 102,\n",
       " 'CPPASTTypeIdExpression': 103,\n",
       " 'CPPASTTypeIdInitializerExpression': 104,\n",
       " 'CPPASTUnaryExpression': 105,\n",
       " 'CPPASTUsingDeclaration': 106,\n",
       " 'CPPASTUsingDirective': 107,\n",
       " 'CPPASTVisibilityLabel': 108,\n",
       " 'CPPASTWhileStatement': 109,\n",
       " '[]': 110,\n",
       " '^': 111,\n",
       " '^=': 112,\n",
       " 'noexcept': 113,\n",
       " 'sizeof': 114,\n",
       " 'sizeof...': 115,\n",
       " 'throw': 116,\n",
       " 'typeid': 117,\n",
       " '|': 118,\n",
       " '|=': 119,\n",
       " '||': 120,\n",
       " '~': 121}"
      ]
     },
     "execution_count": 54,
     "metadata": {},
     "output_type": "execute_result"
    }
   ],
   "source": [
    "vocab"
   ]
  },
  {
   "cell_type": "code",
   "execution_count": 238,
   "metadata": {},
   "outputs": [
    {
     "data": {
      "text/plain": [
       "[1.163465976715088,\n",
       " -1.3018243312835693,\n",
       " -0.6951977610588074,\n",
       " 0.870736300945282,\n",
       " 1.025664210319519,\n",
       " 0.9003968238830566,\n",
       " -0.0990692600607872,\n",
       " 1.2478868961334229,\n",
       " 0.906578004360199,\n",
       " 0.8355927467346191,\n",
       " -1.2135403156280518,\n",
       " 0.8371720314025879,\n",
       " -1.5462623834609985,\n",
       " -0.5288015007972717,\n",
       " -0.0868561714887619,\n",
       " 1.411608099937439,\n",
       " 1.100927472114563,\n",
       " 1.3241361379623413,\n",
       " 1.0804003477096558,\n",
       " 0.7010753154754639,\n",
       " 0.40055611729621887,\n",
       " -1.0180872678756714,\n",
       " 0.8067894577980042,\n",
       " -0.18517717719078064,\n",
       " -0.132887065410614,\n",
       " -0.07990550994873047,\n",
       " -0.22040128707885742,\n",
       " -0.9669386744499207,\n",
       " -0.3765489459037781,\n",
       " 1.0769885778427124,\n",
       " -0.4082222878932953,\n",
       " 0.9418193697929382,\n",
       " 0.8853422999382019,\n",
       " -1.2370352745056152,\n",
       " -1.195720911026001,\n",
       " 0.060382992029190063,\n",
       " 0.6639018654823303,\n",
       " 0.7990354895591736,\n",
       " -1.4930875301361084,\n",
       " 0.8789215087890625,\n",
       " -1.2794190645217896,\n",
       " -0.9402028322219849,\n",
       " 1.533793330192566,\n",
       " 1.3371824026107788,\n",
       " 1.0331134796142578,\n",
       " -1.0775374174118042,\n",
       " 1.3683265447616577,\n",
       " 0.44341352581977844,\n",
       " 0.8577048778533936,\n",
       " -0.5731788873672485,\n",
       " 0.7992750406265259,\n",
       " -1.0007421970367432,\n",
       " 0.9243783950805664,\n",
       " -0.03812262415885925,\n",
       " 0.7256468534469604,\n",
       " 1.508863091468811,\n",
       " -0.851251482963562,\n",
       " -1.0332268476486206,\n",
       " -0.6709626913070679,\n",
       " 0.09915702044963837]"
      ]
     },
     "execution_count": 238,
     "metadata": {},
     "output_type": "execute_result"
    }
   ],
   "source": [
    "weights[3].tolist()"
   ]
  },
  {
   "cell_type": "code",
   "execution_count": 241,
   "metadata": {},
   "outputs": [
    {
     "data": {
      "text/plain": [
       "[0.0, 0.0, 0.0, 1.0, 0.0, 0.0, 0.0, 0.0, 0.0, 0.0, 0.0, 0.0, 0.0]"
      ]
     },
     "execution_count": 241,
     "metadata": {},
     "output_type": "execute_result"
    }
   ],
   "source": [
    "[1.0 if j == 3 else 0.0 for j in range(13)]"
   ]
  },
  {
   "cell_type": "code",
   "execution_count": 55,
   "metadata": {},
   "outputs": [],
   "source": [
    "import pickle\n",
    "vocab_embedding_map = {}\n",
    "for index, word in enumerate(vocab):\n",
    "    vec = weights[index+1]\n",
    "    vocab_embedding_map[word] = vec.tolist()\n",
    "with open(r\"C:\\Users\\sebas\\Documents\\Masterarbeit\\datasets\\2_parallel_dataset\\astnode2vec_cpp\\cpp_embeddings.pkl\", \"wb\") as f:\n",
    "    pickle.dump(vocab_embedding_map, f)"
   ]
  },
  {
   "cell_type": "code",
   "execution_count": 229,
   "metadata": {},
   "outputs": [
    {
     "data": {
      "text/plain": [
       "{'!': 1,\n",
       " '!=': 2,\n",
       " '%': 3,\n",
       " '%=': 4,\n",
       " '&': 5,\n",
       " '&&': 6,\n",
       " '&=': 7,\n",
       " '*': 8,\n",
       " '*=': 9,\n",
       " '+': 10,\n",
       " '++': 11,\n",
       " '+=': 12,\n",
       " '-': 13,\n",
       " '--': 14,\n",
       " '-=': 15,\n",
       " '/': 16,\n",
       " '/=': 17,\n",
       " '<': 18,\n",
       " '<<': 19,\n",
       " '<<=': 20,\n",
       " '<=': 21,\n",
       " '=': 22,\n",
       " '==': 23,\n",
       " '>': 24,\n",
       " '>=': 25,\n",
       " '>>': 26,\n",
       " '>>=': 27,\n",
       " 'CPPASTAliasDeclaration': 28,\n",
       " 'CPPASTArrayDeclarator': 29,\n",
       " 'CPPASTArrayModifier': 30,\n",
       " 'CPPASTArraySubscriptExpression': 31,\n",
       " 'CPPASTBaseSpecifier': 32,\n",
       " 'CPPASTBinaryExpression': 33,\n",
       " 'CPPASTBreakStatement': 34,\n",
       " 'CPPASTCapture': 35,\n",
       " 'CPPASTCaseStatement': 36,\n",
       " 'CPPASTCastExpression': 37,\n",
       " 'CPPASTCatchHandler': 38,\n",
       " 'CPPASTCompositeTypeSpecifier': 39,\n",
       " 'CPPASTCompoundStatement': 40,\n",
       " 'CPPASTConditionalExpression': 41,\n",
       " 'CPPASTConstructorChainInitializer': 42,\n",
       " 'CPPASTConstructorInitializer': 43,\n",
       " 'CPPASTContinueStatement': 44,\n",
       " 'CPPASTConversionName': 45,\n",
       " 'CPPASTDeclarationStatement': 46,\n",
       " 'CPPASTDeclarator': 47,\n",
       " 'CPPASTDefaultStatement': 48,\n",
       " 'CPPASTDeleteExpression': 49,\n",
       " 'CPPASTDoStatement': 50,\n",
       " 'CPPASTElaboratedTypeSpecifier': 51,\n",
       " 'CPPASTEnumerationSpecifier': 52,\n",
       " 'CPPASTEnumerator': 53,\n",
       " 'CPPASTEqualsInitializer': 54,\n",
       " 'CPPASTExpressionList': 55,\n",
       " 'CPPASTExpressionStatement': 56,\n",
       " 'CPPASTFieldReference': 57,\n",
       " 'CPPASTForStatement': 58,\n",
       " 'CPPASTFunctionCallExpression': 59,\n",
       " 'CPPASTFunctionDeclarator': 60,\n",
       " 'CPPASTFunctionDefinition': 61,\n",
       " 'CPPASTGotoStatement': 62,\n",
       " 'CPPASTIdExpression': 63,\n",
       " 'CPPASTIfStatement': 64,\n",
       " 'CPPASTInitCapture': 65,\n",
       " 'CPPASTInitializerList': 66,\n",
       " 'CPPASTLabelStatement': 67,\n",
       " 'CPPASTLambdaExpression': 68,\n",
       " 'CPPASTLiteralExpression': 69,\n",
       " 'CPPASTName': 70,\n",
       " 'CPPASTNamedTypeSpecifier': 71,\n",
       " 'CPPASTNamespaceAlias': 72,\n",
       " 'CPPASTNamespaceDefinition': 73,\n",
       " 'CPPASTNewExpression': 74,\n",
       " 'CPPASTNullStatement': 75,\n",
       " 'CPPASTOperatorName': 76,\n",
       " 'CPPASTPackExpansionExpression': 77,\n",
       " 'CPPASTParameterDeclaration': 78,\n",
       " 'CPPASTPointer': 79,\n",
       " 'CPPASTQualifiedName': 80,\n",
       " 'CPPASTRangeBasedForStatement': 81,\n",
       " 'CPPASTReferenceOperator': 82,\n",
       " 'CPPASTReturnStatement': 83,\n",
       " 'CPPASTSimpleDeclSpecifier': 84,\n",
       " 'CPPASTSimpleDeclaration': 85,\n",
       " 'CPPASTSimpleTypeConstructorExpression': 86,\n",
       " 'CPPASTSimpleTypeTemplateParameter': 87,\n",
       " 'CPPASTStaticAssertionDeclaration': 88,\n",
       " 'CPPASTSwitchStatement': 89,\n",
       " 'CPPASTTemplateDeclaration': 90,\n",
       " 'CPPASTTemplateId': 91,\n",
       " 'CPPASTTemplateSpecialization': 92,\n",
       " 'CPPASTTemplatedTypeTemplateParameter': 93,\n",
       " 'CPPASTTranslationUnit': 94,\n",
       " 'CPPASTTryBlockStatement': 95,\n",
       " 'CPPASTTypeId': 96,\n",
       " 'CPPASTTypeIdExpression': 97,\n",
       " 'CPPASTTypeIdInitializerExpression': 98,\n",
       " 'CPPASTUnaryExpression': 99,\n",
       " 'CPPASTUsingDeclaration': 100,\n",
       " 'CPPASTUsingDirective': 101,\n",
       " 'CPPASTVisibilityLabel': 102,\n",
       " 'CPPASTWhileStatement': 103,\n",
       " '[]': 104,\n",
       " '^': 105,\n",
       " '^=': 106,\n",
       " 'sizeof': 107,\n",
       " 'sizeof...': 108,\n",
       " 'throw': 109,\n",
       " 'typeid': 110,\n",
       " '|': 111,\n",
       " '|=': 112,\n",
       " '||': 113,\n",
       " '~': 114}"
      ]
     },
     "execution_count": 229,
     "metadata": {},
     "output_type": "execute_result"
    }
   ],
   "source": [
    "vocab"
   ]
  },
  {
   "cell_type": "code",
   "execution_count": 14,
   "metadata": {},
   "outputs": [
    {
     "data": {
      "image/svg+xml": "<?xml version=\"1.0\" encoding=\"UTF-8\" standalone=\"no\"?>\r\n<!DOCTYPE svg PUBLIC \"-//W3C//DTD SVG 1.1//EN\"\r\n \"http://www.w3.org/Graphics/SVG/1.1/DTD/svg11.dtd\">\r\n<!-- Generated by graphviz version 2.38.0 (20140413.2041)\r\n -->\r\n<!-- Title: ast Pages: 1 -->\r\n<svg width=\"6751pt\" height=\"692pt\"\r\n viewBox=\"0.00 0.00 6751.33 692.00\" xmlns=\"http://www.w3.org/2000/svg\" xmlns:xlink=\"http://www.w3.org/1999/xlink\">\r\n<g id=\"graph0\" class=\"graph\" transform=\"scale(1 1) rotate(0) translate(4 688)\">\r\n<title>ast</title>\r\n<polygon fill=\"white\" stroke=\"none\" points=\"-4,4 -4,-688 6747.33,-688 6747.33,4 -4,4\"/>\r\n<!-- 0 -->\r\n<g id=\"node1\" class=\"node\"><title>0</title>\r\n<ellipse fill=\"none\" stroke=\"black\" cx=\"642.238\" cy=\"-666\" rx=\"100.983\" ry=\"18\"/>\r\n<text text-anchor=\"middle\" x=\"642.238\" y=\"-662.3\" font-family=\"Times New Roman,serif\" font-size=\"14.00\">CPPASTTranslationUnit</text>\r\n</g>\r\n<!-- 1 -->\r\n<g id=\"node2\" class=\"node\"><title>1</title>\r\n<ellipse fill=\"none\" stroke=\"black\" cx=\"527.238\" cy=\"-594\" rx=\"98.5829\" ry=\"18\"/>\r\n<text text-anchor=\"middle\" x=\"527.238\" y=\"-590.3\" font-family=\"Times New Roman,serif\" font-size=\"14.00\">CPPASTUsingDirective</text>\r\n</g>\r\n<!-- 0&#45;&gt;1 -->\r\n<g id=\"edge1\" class=\"edge\"><title>0&#45;&gt;1</title>\r\n<path fill=\"none\" stroke=\"black\" d=\"M615.276,-648.588C596.953,-637.435 572.802,-622.734 554.43,-611.552\"/>\r\n</g>\r\n<!-- 2 -->\r\n<g id=\"node3\" class=\"node\"><title>2</title>\r\n<ellipse fill=\"none\" stroke=\"black\" cx=\"758.238\" cy=\"-594\" rx=\"112.38\" ry=\"18\"/>\r\n<text text-anchor=\"middle\" x=\"758.238\" y=\"-590.3\" font-family=\"Times New Roman,serif\" font-size=\"14.00\">CPPASTFunctionDefinition</text>\r\n</g>\r\n<!-- 0&#45;&gt;2 -->\r\n<g id=\"edge2\" class=\"edge\"><title>0&#45;&gt;2</title>\r\n<path fill=\"none\" stroke=\"black\" d=\"M669.435,-648.588C687.917,-637.435 712.279,-622.734 730.81,-611.552\"/>\r\n</g>\r\n<!-- 3 -->\r\n<g id=\"node4\" class=\"node\"><title>3</title>\r\n<ellipse fill=\"none\" stroke=\"black\" cx=\"391.238\" cy=\"-522\" rx=\"83.3857\" ry=\"18\"/>\r\n<text text-anchor=\"middle\" x=\"391.238\" y=\"-518.3\" font-family=\"Times New Roman,serif\" font-size=\"14.00\">CPPASTName |std|</text>\r\n</g>\r\n<!-- 1&#45;&gt;3 -->\r\n<g id=\"edge3\" class=\"edge\"><title>1&#45;&gt;3</title>\r\n<path fill=\"none\" stroke=\"black\" d=\"M495.695,-576.765C473.567,-565.375 444.126,-550.222 422.141,-538.906\"/>\r\n</g>\r\n<!-- 4 -->\r\n<g id=\"node5\" class=\"node\"><title>4</title>\r\n<ellipse fill=\"none\" stroke=\"black\" cx=\"625.238\" cy=\"-522\" rx=\"133.477\" ry=\"18\"/>\r\n<text text-anchor=\"middle\" x=\"625.238\" y=\"-518.3\" font-family=\"Times New Roman,serif\" font-size=\"14.00\">CPPASTSimpleDeclSpecifier |int|</text>\r\n</g>\r\n<!-- 2&#45;&gt;4 -->\r\n<g id=\"edge4\" class=\"edge\"><title>2&#45;&gt;4</title>\r\n<path fill=\"none\" stroke=\"black\" d=\"M727.056,-576.588C705.865,-565.435 677.933,-550.734 656.686,-539.552\"/>\r\n</g>\r\n<!-- 5 -->\r\n<g id=\"node6\" class=\"node\"><title>5</title>\r\n<ellipse fill=\"none\" stroke=\"black\" cx=\"891.238\" cy=\"-522\" rx=\"115.08\" ry=\"18\"/>\r\n<text text-anchor=\"middle\" x=\"891.238\" y=\"-518.3\" font-family=\"Times New Roman,serif\" font-size=\"14.00\">CPPASTFunctionDeclarator</text>\r\n</g>\r\n<!-- 2&#45;&gt;5 -->\r\n<g id=\"edge5\" class=\"edge\"><title>2&#45;&gt;5</title>\r\n<path fill=\"none\" stroke=\"black\" d=\"M789.421,-576.588C810.612,-565.435 838.543,-550.734 859.79,-539.552\"/>\r\n</g>\r\n<!-- 6 -->\r\n<g id=\"node7\" class=\"node\"><title>6</title>\r\n<ellipse fill=\"none\" stroke=\"black\" cx=\"1526.24\" cy=\"-522\" rx=\"122.379\" ry=\"18\"/>\r\n<text text-anchor=\"middle\" x=\"1526.24\" y=\"-518.3\" font-family=\"Times New Roman,serif\" font-size=\"14.00\">CPPASTCompoundStatement</text>\r\n</g>\r\n<!-- 2&#45;&gt;6 -->\r\n<g id=\"edge6\" class=\"edge\"><title>2&#45;&gt;6</title>\r\n<path fill=\"none\" stroke=\"black\" d=\"M853.18,-584.346C998.862,-571.068 1276.29,-545.782 1425.42,-532.189\"/>\r\n</g>\r\n<!-- 7 -->\r\n<g id=\"node8\" class=\"node\"><title>7</title>\r\n<ellipse fill=\"none\" stroke=\"black\" cx=\"642.238\" cy=\"-450\" rx=\"89.0842\" ry=\"18\"/>\r\n<text text-anchor=\"middle\" x=\"642.238\" y=\"-446.3\" font-family=\"Times New Roman,serif\" font-size=\"14.00\">CPPASTName |main|</text>\r\n</g>\r\n<!-- 5&#45;&gt;7 -->\r\n<g id=\"edge7\" class=\"edge\"><title>5&#45;&gt;7</title>\r\n<path fill=\"none\" stroke=\"black\" d=\"M837.821,-505.983C794.666,-493.851 734.374,-476.902 692.176,-465.039\"/>\r\n</g>\r\n<!-- 8 -->\r\n<g id=\"node9\" class=\"node\"><title>8</title>\r\n<ellipse fill=\"none\" stroke=\"black\" cx=\"871.238\" cy=\"-450\" rx=\"122.379\" ry=\"18\"/>\r\n<text text-anchor=\"middle\" x=\"871.238\" y=\"-446.3\" font-family=\"Times New Roman,serif\" font-size=\"14.00\">CPPASTDeclarationStatement</text>\r\n</g>\r\n<!-- 6&#45;&gt;8 -->\r\n<g id=\"edge8\" class=\"edge\"><title>6&#45;&gt;8</title>\r\n<path fill=\"none\" stroke=\"black\" d=\"M1425.69,-511.681C1320.14,-501.698 1149.39,-484.986 1002.24,-468 988.113,-466.369 973.146,-464.532 958.573,-462.682\"/>\r\n</g>\r\n<!-- 9 -->\r\n<g id=\"node10\" class=\"node\"><title>9</title>\r\n<ellipse fill=\"none\" stroke=\"black\" cx=\"1133.24\" cy=\"-450\" rx=\"122.379\" ry=\"18\"/>\r\n<text text-anchor=\"middle\" x=\"1133.24\" y=\"-446.3\" font-family=\"Times New Roman,serif\" font-size=\"14.00\">CPPASTDeclarationStatement</text>\r\n</g>\r\n<!-- 6&#45;&gt;9 -->\r\n<g id=\"edge9\" class=\"edge\"><title>6&#45;&gt;9</title>\r\n<path fill=\"none\" stroke=\"black\" d=\"M1451.39,-507.669C1381.46,-495.213 1277.64,-476.721 1207.8,-464.282\"/>\r\n</g>\r\n<!-- 10 -->\r\n<g id=\"node11\" class=\"node\"><title>10</title>\r\n<ellipse fill=\"none\" stroke=\"black\" cx=\"1395.24\" cy=\"-450\" rx=\"122.379\" ry=\"18\"/>\r\n<text text-anchor=\"middle\" x=\"1395.24\" y=\"-446.3\" font-family=\"Times New Roman,serif\" font-size=\"14.00\">CPPASTDeclarationStatement</text>\r\n</g>\r\n<!-- 6&#45;&gt;10 -->\r\n<g id=\"edge10\" class=\"edge\"><title>6&#45;&gt;10</title>\r\n<path fill=\"none\" stroke=\"black\" d=\"M1495.19,-504.411C1474.31,-493.252 1446.9,-478.604 1426.06,-467.47\"/>\r\n</g>\r\n<!-- 11 -->\r\n<g id=\"node12\" class=\"node\"><title>11</title>\r\n<ellipse fill=\"none\" stroke=\"black\" cx=\"1657.24\" cy=\"-450\" rx=\"122.379\" ry=\"18\"/>\r\n<text text-anchor=\"middle\" x=\"1657.24\" y=\"-446.3\" font-family=\"Times New Roman,serif\" font-size=\"14.00\">CPPASTDeclarationStatement</text>\r\n</g>\r\n<!-- 6&#45;&gt;11 -->\r\n<g id=\"edge11\" class=\"edge\"><title>6&#45;&gt;11</title>\r\n<path fill=\"none\" stroke=\"black\" d=\"M1557.28,-504.411C1578.17,-493.252 1605.58,-478.604 1626.42,-467.47\"/>\r\n</g>\r\n<!-- 12 -->\r\n<g id=\"node13\" class=\"node\"><title>12</title>\r\n<ellipse fill=\"none\" stroke=\"black\" cx=\"2020.24\" cy=\"-450\" rx=\"121.578\" ry=\"18\"/>\r\n<text text-anchor=\"middle\" x=\"2020.24\" y=\"-446.3\" font-family=\"Times New Roman,serif\" font-size=\"14.00\">CPPASTExpressionStatement</text>\r\n</g>\r\n<!-- 6&#45;&gt;12 -->\r\n<g id=\"edge12\" class=\"edge\"><title>6&#45;&gt;12</title>\r\n<path fill=\"none\" stroke=\"black\" d=\"M1610.88,-509.006C1701.59,-496.153 1844.75,-475.867 1935.5,-463.008\"/>\r\n</g>\r\n<!-- 13 -->\r\n<g id=\"node14\" class=\"node\"><title>13</title>\r\n<ellipse fill=\"none\" stroke=\"black\" cx=\"3008.24\" cy=\"-450\" rx=\"94.4839\" ry=\"18\"/>\r\n<text text-anchor=\"middle\" x=\"3008.24\" y=\"-446.3\" font-family=\"Times New Roman,serif\" font-size=\"14.00\">CPPASTForStatement</text>\r\n</g>\r\n<!-- 6&#45;&gt;13 -->\r\n<g id=\"edge13\" class=\"edge\"><title>6&#45;&gt;13</title>\r\n<path fill=\"none\" stroke=\"black\" d=\"M1640.68,-515.594C1925.33,-502.15 2660.77,-467.412 2917.89,-455.268\"/>\r\n</g>\r\n<!-- 14 -->\r\n<g id=\"node15\" class=\"node\"><title>14</title>\r\n<ellipse fill=\"none\" stroke=\"black\" cx=\"5436.24\" cy=\"-450\" rx=\"87.1846\" ry=\"18\"/>\r\n<text text-anchor=\"middle\" x=\"5436.24\" y=\"-446.3\" font-family=\"Times New Roman,serif\" font-size=\"14.00\">CPPASTIfStatement</text>\r\n</g>\r\n<!-- 6&#45;&gt;14 -->\r\n<g id=\"edge14\" class=\"edge\"><title>6&#45;&gt;14</title>\r\n<path fill=\"none\" stroke=\"black\" d=\"M1646.73,-518.843C2239.87,-508.224 4841.19,-461.653 5349.82,-452.547\"/>\r\n</g>\r\n<!-- 15 -->\r\n<g id=\"node16\" class=\"node\"><title>15</title>\r\n<ellipse fill=\"none\" stroke=\"black\" cx=\"367.238\" cy=\"-378\" rx=\"111.28\" ry=\"18\"/>\r\n<text text-anchor=\"middle\" x=\"367.238\" y=\"-374.3\" font-family=\"Times New Roman,serif\" font-size=\"14.00\">CPPASTSimpleDeclaration</text>\r\n</g>\r\n<!-- 8&#45;&gt;15 -->\r\n<g id=\"edge15\" class=\"edge\"><title>8&#45;&gt;15</title>\r\n<path fill=\"none\" stroke=\"black\" d=\"M785.741,-437.125C691.517,-424.039 541.08,-403.145 448.558,-390.294\"/>\r\n</g>\r\n<!-- 16 -->\r\n<g id=\"node17\" class=\"node\"><title>16</title>\r\n<ellipse fill=\"none\" stroke=\"black\" cx=\"835.238\" cy=\"-378\" rx=\"111.28\" ry=\"18\"/>\r\n<text text-anchor=\"middle\" x=\"835.238\" y=\"-374.3\" font-family=\"Times New Roman,serif\" font-size=\"14.00\">CPPASTSimpleDeclaration</text>\r\n</g>\r\n<!-- 9&#45;&gt;16 -->\r\n<g id=\"edge16\" class=\"edge\"><title>9&#45;&gt;16</title>\r\n<path fill=\"none\" stroke=\"black\" d=\"M1071.13,-434.411C1019.53,-422.29 946.561,-405.15 895.484,-393.152\"/>\r\n</g>\r\n<!-- 17 -->\r\n<g id=\"node18\" class=\"node\"><title>17</title>\r\n<ellipse fill=\"none\" stroke=\"black\" cx=\"1303.24\" cy=\"-378\" rx=\"111.28\" ry=\"18\"/>\r\n<text text-anchor=\"middle\" x=\"1303.24\" y=\"-374.3\" font-family=\"Times New Roman,serif\" font-size=\"14.00\">CPPASTSimpleDeclaration</text>\r\n</g>\r\n<!-- 10&#45;&gt;17 -->\r\n<g id=\"edge17\" class=\"edge\"><title>10&#45;&gt;17</title>\r\n<path fill=\"none\" stroke=\"black\" d=\"M1372.97,-432.055C1358.5,-421.049 1339.73,-406.764 1325.3,-395.789\"/>\r\n</g>\r\n<!-- 18 -->\r\n<g id=\"node19\" class=\"node\"><title>18</title>\r\n<ellipse fill=\"none\" stroke=\"black\" cx=\"1657.24\" cy=\"-378\" rx=\"111.28\" ry=\"18\"/>\r\n<text text-anchor=\"middle\" x=\"1657.24\" y=\"-374.3\" font-family=\"Times New Roman,serif\" font-size=\"14.00\">CPPASTSimpleDeclaration</text>\r\n</g>\r\n<!-- 11&#45;&gt;18 -->\r\n<g id=\"edge18\" class=\"edge\"><title>11&#45;&gt;18</title>\r\n<path fill=\"none\" stroke=\"black\" d=\"M1657.24,-431.697C1657.24,-420.846 1657.24,-406.917 1657.24,-396.104\"/>\r\n</g>\r\n<!-- 19 -->\r\n<g id=\"node20\" class=\"node\"><title>19</title>\r\n<ellipse fill=\"none\" stroke=\"black\" cx=\"2122.24\" cy=\"-378\" rx=\"109.381\" ry=\"18\"/>\r\n<text text-anchor=\"middle\" x=\"2122.24\" y=\"-374.3\" font-family=\"Times New Roman,serif\" font-size=\"14.00\">CPPASTBinaryExpression</text>\r\n</g>\r\n<!-- 12&#45;&gt;19 -->\r\n<g id=\"edge19\" class=\"edge\"><title>12&#45;&gt;19</title>\r\n<path fill=\"none\" stroke=\"black\" d=\"M2044.67,-432.233C2060.82,-421.151 2081.9,-406.684 2098.01,-395.63\"/>\r\n</g>\r\n<!-- 20 -->\r\n<g id=\"node21\" class=\"node\"><title>20</title>\r\n<ellipse fill=\"none\" stroke=\"black\" cx=\"2702.24\" cy=\"-378\" rx=\"122.379\" ry=\"18\"/>\r\n<text text-anchor=\"middle\" x=\"2702.24\" y=\"-374.3\" font-family=\"Times New Roman,serif\" font-size=\"14.00\">CPPASTDeclarationStatement</text>\r\n</g>\r\n<!-- 13&#45;&gt;20 -->\r\n<g id=\"edge20\" class=\"edge\"><title>13&#45;&gt;20</title>\r\n<path fill=\"none\" stroke=\"black\" d=\"M2950.32,-435.751C2897.56,-423.682 2819.81,-405.896 2765.45,-393.461\"/>\r\n</g>\r\n<!-- 21 -->\r\n<g id=\"node22\" class=\"node\"><title>21</title>\r\n<ellipse fill=\"none\" stroke=\"black\" cx=\"3008.24\" cy=\"-378\" rx=\"109.381\" ry=\"18\"/>\r\n<text text-anchor=\"middle\" x=\"3008.24\" y=\"-374.3\" font-family=\"Times New Roman,serif\" font-size=\"14.00\">CPPASTBinaryExpression</text>\r\n</g>\r\n<!-- 13&#45;&gt;21 -->\r\n<g id=\"edge21\" class=\"edge\"><title>13&#45;&gt;21</title>\r\n<path fill=\"none\" stroke=\"black\" d=\"M3008.24,-431.697C3008.24,-420.846 3008.24,-406.917 3008.24,-396.104\"/>\r\n</g>\r\n<!-- 22 -->\r\n<g id=\"node23\" class=\"node\"><title>22</title>\r\n<ellipse fill=\"none\" stroke=\"black\" cx=\"3296.24\" cy=\"-378\" rx=\"107.781\" ry=\"18\"/>\r\n<text text-anchor=\"middle\" x=\"3296.24\" y=\"-374.3\" font-family=\"Times New Roman,serif\" font-size=\"14.00\">CPPASTUnaryExpression</text>\r\n</g>\r\n<!-- 13&#45;&gt;22 -->\r\n<g id=\"edge22\" class=\"edge\"><title>13&#45;&gt;22</title>\r\n<path fill=\"none\" stroke=\"black\" d=\"M3064.11,-435.42C3114,-423.294 3186.82,-405.594 3237.55,-393.263\"/>\r\n</g>\r\n<!-- 23 -->\r\n<g id=\"node24\" class=\"node\"><title>23</title>\r\n<ellipse fill=\"none\" stroke=\"black\" cx=\"3678.24\" cy=\"-378\" rx=\"122.379\" ry=\"18\"/>\r\n<text text-anchor=\"middle\" x=\"3678.24\" y=\"-374.3\" font-family=\"Times New Roman,serif\" font-size=\"14.00\">CPPASTCompoundStatement</text>\r\n</g>\r\n<!-- 13&#45;&gt;23 -->\r\n<g id=\"edge23\" class=\"edge\"><title>13&#45;&gt;23</title>\r\n<path fill=\"none\" stroke=\"black\" d=\"M3088.72,-440.591C3212.42,-427.668 3448.83,-402.968 3581.6,-389.097\"/>\r\n</g>\r\n<!-- 24 -->\r\n<g id=\"node25\" class=\"node\"><title>24</title>\r\n<ellipse fill=\"none\" stroke=\"black\" cx=\"5263.24\" cy=\"-378\" rx=\"109.381\" ry=\"18\"/>\r\n<text text-anchor=\"middle\" x=\"5263.24\" y=\"-374.3\" font-family=\"Times New Roman,serif\" font-size=\"14.00\">CPPASTBinaryExpression</text>\r\n</g>\r\n<!-- 14&#45;&gt;24 -->\r\n<g id=\"edge24\" class=\"edge\"><title>14&#45;&gt;24</title>\r\n<path fill=\"none\" stroke=\"black\" d=\"M5398.27,-433.638C5369.83,-422.128 5331.03,-406.428 5302.31,-394.811\"/>\r\n</g>\r\n<!-- 25 -->\r\n<g id=\"node26\" class=\"node\"><title>25</title>\r\n<ellipse fill=\"none\" stroke=\"black\" cx=\"5609.24\" cy=\"-378\" rx=\"121.578\" ry=\"18\"/>\r\n<text text-anchor=\"middle\" x=\"5609.24\" y=\"-374.3\" font-family=\"Times New Roman,serif\" font-size=\"14.00\">CPPASTExpressionStatement</text>\r\n</g>\r\n<!-- 14&#45;&gt;25 -->\r\n<g id=\"edge25\" class=\"edge\"><title>14&#45;&gt;25</title>\r\n<path fill=\"none\" stroke=\"black\" d=\"M5474.2,-433.638C5502.45,-422.209 5540.91,-406.648 5569.56,-395.055\"/>\r\n</g>\r\n<!-- 26 -->\r\n<g id=\"node27\" class=\"node\"><title>26</title>\r\n<ellipse fill=\"none\" stroke=\"black\" cx=\"6074.24\" cy=\"-378\" rx=\"121.578\" ry=\"18\"/>\r\n<text text-anchor=\"middle\" x=\"6074.24\" y=\"-374.3\" font-family=\"Times New Roman,serif\" font-size=\"14.00\">CPPASTExpressionStatement</text>\r\n</g>\r\n<!-- 14&#45;&gt;26 -->\r\n<g id=\"edge26\" class=\"edge\"><title>14&#45;&gt;26</title>\r\n<path fill=\"none\" stroke=\"black\" d=\"M5511.3,-440.764C5627.91,-427.971 5852.38,-403.342 5979.81,-389.36\"/>\r\n</g>\r\n<!-- 27 -->\r\n<g id=\"node28\" class=\"node\"><title>27</title>\r\n<ellipse fill=\"none\" stroke=\"black\" cx=\"133.238\" cy=\"-306\" rx=\"133.477\" ry=\"18\"/>\r\n<text text-anchor=\"middle\" x=\"133.238\" y=\"-302.3\" font-family=\"Times New Roman,serif\" font-size=\"14.00\">CPPASTSimpleDeclSpecifier |int|</text>\r\n</g>\r\n<!-- 15&#45;&gt;27 -->\r\n<g id=\"edge27\" class=\"edge\"><title>15&#45;&gt;27</title>\r\n<path fill=\"none\" stroke=\"black\" d=\"M316.752,-361.897C278.058,-350.322 224.83,-334.399 185.661,-322.682\"/>\r\n</g>\r\n<!-- 28 -->\r\n<g id=\"node29\" class=\"node\"><title>28</title>\r\n<ellipse fill=\"none\" stroke=\"black\" cx=\"367.238\" cy=\"-306\" rx=\"83.3857\" ry=\"18\"/>\r\n<text text-anchor=\"middle\" x=\"367.238\" y=\"-302.3\" font-family=\"Times New Roman,serif\" font-size=\"14.00\">CPPASTDeclarator</text>\r\n</g>\r\n<!-- 15&#45;&gt;28 -->\r\n<g id=\"edge28\" class=\"edge\"><title>15&#45;&gt;28</title>\r\n<path fill=\"none\" stroke=\"black\" d=\"M367.238,-359.697C367.238,-348.846 367.238,-334.917 367.238,-324.104\"/>\r\n</g>\r\n<!-- 29 -->\r\n<g id=\"node30\" class=\"node\"><title>29</title>\r\n<ellipse fill=\"none\" stroke=\"black\" cx=\"601.238\" cy=\"-306\" rx=\"133.477\" ry=\"18\"/>\r\n<text text-anchor=\"middle\" x=\"601.238\" y=\"-302.3\" font-family=\"Times New Roman,serif\" font-size=\"14.00\">CPPASTSimpleDeclSpecifier |int|</text>\r\n</g>\r\n<!-- 16&#45;&gt;29 -->\r\n<g id=\"edge29\" class=\"edge\"><title>16&#45;&gt;29</title>\r\n<path fill=\"none\" stroke=\"black\" d=\"M784.752,-361.897C746.058,-350.322 692.83,-334.399 653.661,-322.682\"/>\r\n</g>\r\n<!-- 30 -->\r\n<g id=\"node31\" class=\"node\"><title>30</title>\r\n<ellipse fill=\"none\" stroke=\"black\" cx=\"835.238\" cy=\"-306\" rx=\"83.3857\" ry=\"18\"/>\r\n<text text-anchor=\"middle\" x=\"835.238\" y=\"-302.3\" font-family=\"Times New Roman,serif\" font-size=\"14.00\">CPPASTDeclarator</text>\r\n</g>\r\n<!-- 16&#45;&gt;30 -->\r\n<g id=\"edge30\" class=\"edge\"><title>16&#45;&gt;30</title>\r\n<path fill=\"none\" stroke=\"black\" d=\"M835.238,-359.697C835.238,-348.846 835.238,-334.917 835.238,-324.104\"/>\r\n</g>\r\n<!-- 31 -->\r\n<g id=\"node32\" class=\"node\"><title>31</title>\r\n<ellipse fill=\"none\" stroke=\"black\" cx=\"1069.24\" cy=\"-306\" rx=\"133.477\" ry=\"18\"/>\r\n<text text-anchor=\"middle\" x=\"1069.24\" y=\"-302.3\" font-family=\"Times New Roman,serif\" font-size=\"14.00\">CPPASTSimpleDeclSpecifier |int|</text>\r\n</g>\r\n<!-- 17&#45;&gt;31 -->\r\n<g id=\"edge31\" class=\"edge\"><title>17&#45;&gt;31</title>\r\n<path fill=\"none\" stroke=\"black\" d=\"M1252.75,-361.897C1214.06,-350.322 1160.83,-334.399 1121.66,-322.682\"/>\r\n</g>\r\n<!-- 32 -->\r\n<g id=\"node33\" class=\"node\"><title>32</title>\r\n<ellipse fill=\"none\" stroke=\"black\" cx=\"1303.24\" cy=\"-306\" rx=\"83.3857\" ry=\"18\"/>\r\n<text text-anchor=\"middle\" x=\"1303.24\" y=\"-302.3\" font-family=\"Times New Roman,serif\" font-size=\"14.00\">CPPASTDeclarator</text>\r\n</g>\r\n<!-- 17&#45;&gt;32 -->\r\n<g id=\"edge32\" class=\"edge\"><title>17&#45;&gt;32</title>\r\n<path fill=\"none\" stroke=\"black\" d=\"M1303.24,-359.697C1303.24,-348.846 1303.24,-334.917 1303.24,-324.104\"/>\r\n</g>\r\n<!-- 33 -->\r\n<g id=\"node34\" class=\"node\"><title>33</title>\r\n<ellipse fill=\"none\" stroke=\"black\" cx=\"1526.24\" cy=\"-306\" rx=\"122.379\" ry=\"18\"/>\r\n<text text-anchor=\"middle\" x=\"1526.24\" y=\"-302.3\" font-family=\"Times New Roman,serif\" font-size=\"14.00\">CPPASTNamedTypeSpecifier</text>\r\n</g>\r\n<!-- 18&#45;&gt;33 -->\r\n<g id=\"edge33\" class=\"edge\"><title>18&#45;&gt;33</title>\r\n<path fill=\"none\" stroke=\"black\" d=\"M1626.52,-360.588C1605.65,-349.435 1578.14,-334.734 1557.21,-323.552\"/>\r\n</g>\r\n<!-- 34 -->\r\n<g id=\"node35\" class=\"node\"><title>34</title>\r\n<ellipse fill=\"none\" stroke=\"black\" cx=\"1749.24\" cy=\"-306\" rx=\"83.3857\" ry=\"18\"/>\r\n<text text-anchor=\"middle\" x=\"1749.24\" y=\"-302.3\" font-family=\"Times New Roman,serif\" font-size=\"14.00\">CPPASTDeclarator</text>\r\n</g>\r\n<!-- 18&#45;&gt;34 -->\r\n<g id=\"edge34\" class=\"edge\"><title>18&#45;&gt;34</title>\r\n<path fill=\"none\" stroke=\"black\" d=\"M1679.51,-360.055C1694.08,-348.968 1713.03,-334.553 1727.49,-323.547\"/>\r\n</g>\r\n<!-- 35 -->\r\n<g id=\"node36\" class=\"node\"><title>35</title>\r\n<ellipse fill=\"none\" stroke=\"black\" cx=\"2040.24\" cy=\"-306\" rx=\"109.381\" ry=\"18\"/>\r\n<text text-anchor=\"middle\" x=\"2040.24\" y=\"-302.3\" font-family=\"Times New Roman,serif\" font-size=\"14.00\">CPPASTBinaryExpression</text>\r\n</g>\r\n<!-- 19&#45;&gt;35 -->\r\n<g id=\"edge35\" class=\"edge\"><title>19&#45;&gt;35</title>\r\n<path fill=\"none\" stroke=\"black\" d=\"M2102.39,-360.055C2089.5,-349.049 2072.76,-334.764 2059.91,-323.789\"/>\r\n</g>\r\n<!-- 36 -->\r\n<g id=\"node37\" class=\"node\"><title>36</title>\r\n<ellipse fill=\"none\" stroke=\"black\" cx=\"2205.24\" cy=\"-306\" rx=\"37.8943\" ry=\"18\"/>\r\n<text text-anchor=\"middle\" x=\"2205.24\" y=\"-302.3\" font-family=\"Times New Roman,serif\" font-size=\"14.00\">&gt;&gt; |&gt;&gt;|</text>\r\n</g>\r\n<!-- 19&#45;&gt;36 -->\r\n<g id=\"edge36\" class=\"edge\"><title>19&#45;&gt;36</title>\r\n<path fill=\"none\" stroke=\"black\" d=\"M2142.33,-360.055C2156.05,-348.483 2174.07,-333.284 2187.31,-322.122\"/>\r\n</g>\r\n<!-- 37 -->\r\n<g id=\"node38\" class=\"node\"><title>37</title>\r\n<ellipse fill=\"none\" stroke=\"black\" cx=\"2367.24\" cy=\"-306\" rx=\"93.6835\" ry=\"18\"/>\r\n<text text-anchor=\"middle\" x=\"2367.24\" y=\"-302.3\" font-family=\"Times New Roman,serif\" font-size=\"14.00\">CPPASTIdExpression</text>\r\n</g>\r\n<!-- 19&#45;&gt;37 -->\r\n<g id=\"edge37\" class=\"edge\"><title>19&#45;&gt;37</title>\r\n<path fill=\"none\" stroke=\"black\" d=\"M2174.2,-362.155C2216.34,-350.115 2275.37,-333.248 2317.03,-321.345\"/>\r\n</g>\r\n<!-- 38 -->\r\n<g id=\"node39\" class=\"node\"><title>38</title>\r\n<ellipse fill=\"none\" stroke=\"black\" cx=\"2646.24\" cy=\"-306\" rx=\"111.28\" ry=\"18\"/>\r\n<text text-anchor=\"middle\" x=\"2646.24\" y=\"-302.3\" font-family=\"Times New Roman,serif\" font-size=\"14.00\">CPPASTSimpleDeclaration</text>\r\n</g>\r\n<!-- 20&#45;&gt;38 -->\r\n<g id=\"edge38\" class=\"edge\"><title>20&#45;&gt;38</title>\r\n<path fill=\"none\" stroke=\"black\" d=\"M2688.68,-360.055C2680.01,-349.211 2668.78,-335.183 2660.06,-324.275\"/>\r\n</g>\r\n<!-- 39 -->\r\n<g id=\"node40\" class=\"node\"><title>39</title>\r\n<ellipse fill=\"none\" stroke=\"black\" cx=\"2869.24\" cy=\"-306\" rx=\"93.6835\" ry=\"18\"/>\r\n<text text-anchor=\"middle\" x=\"2869.24\" y=\"-302.3\" font-family=\"Times New Roman,serif\" font-size=\"14.00\">CPPASTIdExpression</text>\r\n</g>\r\n<!-- 21&#45;&gt;39 -->\r\n<g id=\"edge39\" class=\"edge\"><title>21&#45;&gt;39</title>\r\n<path fill=\"none\" stroke=\"black\" d=\"M2976,-360.765C2953.54,-349.456 2923.72,-334.437 2901.3,-323.147\"/>\r\n</g>\r\n<!-- 40 -->\r\n<g id=\"node41\" class=\"node\"><title>40</title>\r\n<ellipse fill=\"none\" stroke=\"black\" cx=\"3008.24\" cy=\"-306\" rx=\"27\" ry=\"18\"/>\r\n<text text-anchor=\"middle\" x=\"3008.24\" y=\"-302.3\" font-family=\"Times New Roman,serif\" font-size=\"14.00\">&lt; |&lt;|</text>\r\n</g>\r\n<!-- 21&#45;&gt;40 -->\r\n<g id=\"edge40\" class=\"edge\"><title>21&#45;&gt;40</title>\r\n<path fill=\"none\" stroke=\"black\" d=\"M3008.24,-359.697C3008.24,-348.846 3008.24,-334.917 3008.24,-324.104\"/>\r\n</g>\r\n<!-- 41 -->\r\n<g id=\"node42\" class=\"node\"><title>41</title>\r\n<ellipse fill=\"none\" stroke=\"black\" cx=\"3147.24\" cy=\"-306\" rx=\"93.6835\" ry=\"18\"/>\r\n<text text-anchor=\"middle\" x=\"3147.24\" y=\"-302.3\" font-family=\"Times New Roman,serif\" font-size=\"14.00\">CPPASTIdExpression</text>\r\n</g>\r\n<!-- 21&#45;&gt;41 -->\r\n<g id=\"edge41\" class=\"edge\"><title>21&#45;&gt;41</title>\r\n<path fill=\"none\" stroke=\"black\" d=\"M3040.48,-360.765C3062.93,-349.456 3092.76,-334.437 3115.17,-323.147\"/>\r\n</g>\r\n<!-- 42 -->\r\n<g id=\"node43\" class=\"node\"><title>42</title>\r\n<ellipse fill=\"none\" stroke=\"black\" cx=\"3296.24\" cy=\"-306\" rx=\"37.8943\" ry=\"18\"/>\r\n<text text-anchor=\"middle\" x=\"3296.24\" y=\"-302.3\" font-family=\"Times New Roman,serif\" font-size=\"14.00\">++ |++|</text>\r\n</g>\r\n<!-- 22&#45;&gt;42 -->\r\n<g id=\"edge42\" class=\"edge\"><title>22&#45;&gt;42</title>\r\n<path fill=\"none\" stroke=\"black\" d=\"M3296.24,-359.697C3296.24,-348.846 3296.24,-334.917 3296.24,-324.104\"/>\r\n</g>\r\n<!-- 43 -->\r\n<g id=\"node44\" class=\"node\"><title>43</title>\r\n<ellipse fill=\"none\" stroke=\"black\" cx=\"3445.24\" cy=\"-306\" rx=\"93.6835\" ry=\"18\"/>\r\n<text text-anchor=\"middle\" x=\"3445.24\" y=\"-302.3\" font-family=\"Times New Roman,serif\" font-size=\"14.00\">CPPASTIdExpression</text>\r\n</g>\r\n<!-- 22&#45;&gt;43 -->\r\n<g id=\"edge43\" class=\"edge\"><title>22&#45;&gt;43</title>\r\n<path fill=\"none\" stroke=\"black\" d=\"M3330.8,-360.765C3355.04,-349.375 3387.29,-334.222 3411.38,-322.906\"/>\r\n</g>\r\n<!-- 44 -->\r\n<g id=\"node45\" class=\"node\"><title>44</title>\r\n<ellipse fill=\"none\" stroke=\"black\" cx=\"3678.24\" cy=\"-306\" rx=\"121.578\" ry=\"18\"/>\r\n<text text-anchor=\"middle\" x=\"3678.24\" y=\"-302.3\" font-family=\"Times New Roman,serif\" font-size=\"14.00\">CPPASTExpressionStatement</text>\r\n</g>\r\n<!-- 23&#45;&gt;44 -->\r\n<g id=\"edge44\" class=\"edge\"><title>23&#45;&gt;44</title>\r\n<path fill=\"none\" stroke=\"black\" d=\"M3678.24,-359.697C3678.24,-348.846 3678.24,-334.917 3678.24,-324.104\"/>\r\n</g>\r\n<!-- 45 -->\r\n<g id=\"node46\" class=\"node\"><title>45</title>\r\n<ellipse fill=\"none\" stroke=\"black\" cx=\"3939.24\" cy=\"-306\" rx=\"121.578\" ry=\"18\"/>\r\n<text text-anchor=\"middle\" x=\"3939.24\" y=\"-302.3\" font-family=\"Times New Roman,serif\" font-size=\"14.00\">CPPASTExpressionStatement</text>\r\n</g>\r\n<!-- 23&#45;&gt;45 -->\r\n<g id=\"edge45\" class=\"edge\"><title>23&#45;&gt;45</title>\r\n<path fill=\"none\" stroke=\"black\" d=\"M3734.23,-361.983C3778.27,-350.173 3839.33,-333.796 3883.34,-321.992\"/>\r\n</g>\r\n<!-- 46 -->\r\n<g id=\"node47\" class=\"node\"><title>46</title>\r\n<ellipse fill=\"none\" stroke=\"black\" cx=\"4881.24\" cy=\"-306\" rx=\"131.877\" ry=\"18\"/>\r\n<text text-anchor=\"middle\" x=\"4881.24\" y=\"-302.3\" font-family=\"Times New Roman,serif\" font-size=\"14.00\">CPPASTFunctionCallExpression</text>\r\n</g>\r\n<!-- 24&#45;&gt;46 -->\r\n<g id=\"edge46\" class=\"edge\"><title>24&#45;&gt;46</title>\r\n<path fill=\"none\" stroke=\"black\" d=\"M5193.17,-364.161C5126.19,-351.886 5025.49,-333.433 4956.74,-320.836\"/>\r\n</g>\r\n<!-- 47 -->\r\n<g id=\"node48\" class=\"node\"><title>47</title>\r\n<ellipse fill=\"none\" stroke=\"black\" cx=\"5214.24\" cy=\"-306\" rx=\"37.8943\" ry=\"18\"/>\r\n<text text-anchor=\"middle\" x=\"5214.24\" y=\"-302.3\" font-family=\"Times New Roman,serif\" font-size=\"14.00\">&gt;= |&gt;=|</text>\r\n</g>\r\n<!-- 24&#45;&gt;47 -->\r\n<g id=\"edge47\" class=\"edge\"><title>24&#45;&gt;47</title>\r\n<path fill=\"none\" stroke=\"black\" d=\"M5251.38,-360.055C5243.56,-348.887 5233.38,-334.343 5225.65,-323.307\"/>\r\n</g>\r\n<!-- 48 -->\r\n<g id=\"node49\" class=\"node\"><title>48</title>\r\n<ellipse fill=\"none\" stroke=\"black\" cx=\"5363.24\" cy=\"-306\" rx=\"93.6835\" ry=\"18\"/>\r\n<text text-anchor=\"middle\" x=\"5363.24\" y=\"-302.3\" font-family=\"Times New Roman,serif\" font-size=\"14.00\">CPPASTIdExpression</text>\r\n</g>\r\n<!-- 24&#45;&gt;48 -->\r\n<g id=\"edge48\" class=\"edge\"><title>24&#45;&gt;48</title>\r\n<path fill=\"none\" stroke=\"black\" d=\"M5286.94,-360.411C5302.88,-349.252 5323.8,-334.604 5339.71,-323.47\"/>\r\n</g>\r\n<!-- 49 -->\r\n<g id=\"node50\" class=\"node\"><title>49</title>\r\n<ellipse fill=\"none\" stroke=\"black\" cx=\"5658.24\" cy=\"-306\" rx=\"109.381\" ry=\"18\"/>\r\n<text text-anchor=\"middle\" x=\"5658.24\" y=\"-302.3\" font-family=\"Times New Roman,serif\" font-size=\"14.00\">CPPASTBinaryExpression</text>\r\n</g>\r\n<!-- 25&#45;&gt;49 -->\r\n<g id=\"edge49\" class=\"edge\"><title>25&#45;&gt;49</title>\r\n<path fill=\"none\" stroke=\"black\" d=\"M5621.1,-360.055C5628.69,-349.211 5638.51,-335.183 5646.15,-324.275\"/>\r\n</g>\r\n<!-- 50 -->\r\n<g id=\"node51\" class=\"node\"><title>50</title>\r\n<ellipse fill=\"none\" stroke=\"black\" cx=\"6312.24\" cy=\"-306\" rx=\"109.381\" ry=\"18\"/>\r\n<text text-anchor=\"middle\" x=\"6312.24\" y=\"-302.3\" font-family=\"Times New Roman,serif\" font-size=\"14.00\">CPPASTBinaryExpression</text>\r\n</g>\r\n<!-- 26&#45;&gt;50 -->\r\n<g id=\"edge50\" class=\"edge\"><title>26&#45;&gt;50</title>\r\n<path fill=\"none\" stroke=\"black\" d=\"M6126.17,-361.725C6166.25,-349.938 6221.39,-333.72 6261.23,-322.002\"/>\r\n</g>\r\n<!-- 51 -->\r\n<g id=\"node52\" class=\"node\"><title>51</title>\r\n<ellipse fill=\"none\" stroke=\"black\" cx=\"229.238\" cy=\"-234\" rx=\"77.9862\" ry=\"18\"/>\r\n<text text-anchor=\"middle\" x=\"229.238\" y=\"-230.3\" font-family=\"Times New Roman,serif\" font-size=\"14.00\">CPPASTName |H|</text>\r\n</g>\r\n<!-- 28&#45;&gt;51 -->\r\n<g id=\"edge51\" class=\"edge\"><title>28&#45;&gt;51</title>\r\n<path fill=\"none\" stroke=\"black\" d=\"M336.268,-289.291C313.541,-277.762 282.808,-262.173 260.105,-250.657\"/>\r\n</g>\r\n<!-- 52 -->\r\n<g id=\"node53\" class=\"node\"><title>52</title>\r\n<ellipse fill=\"none\" stroke=\"black\" cx=\"427.238\" cy=\"-234\" rx=\"102.082\" ry=\"18\"/>\r\n<text text-anchor=\"middle\" x=\"427.238\" y=\"-230.3\" font-family=\"Times New Roman,serif\" font-size=\"14.00\">CPPASTEqualsInitializer</text>\r\n</g>\r\n<!-- 28&#45;&gt;52 -->\r\n<g id=\"edge52\" class=\"edge\"><title>28&#45;&gt;52</title>\r\n<path fill=\"none\" stroke=\"black\" d=\"M381.763,-288.055C391.057,-277.211 403.081,-263.183 412.431,-252.275\"/>\r\n</g>\r\n<!-- 53 -->\r\n<g id=\"node54\" class=\"node\"><title>53</title>\r\n<ellipse fill=\"none\" stroke=\"black\" cx=\"661.238\" cy=\"-234\" rx=\"77.9862\" ry=\"18\"/>\r\n<text text-anchor=\"middle\" x=\"661.238\" y=\"-230.3\" font-family=\"Times New Roman,serif\" font-size=\"14.00\">CPPASTName |N|</text>\r\n</g>\r\n<!-- 30&#45;&gt;53 -->\r\n<g id=\"edge53\" class=\"edge\"><title>30&#45;&gt;53</title>\r\n<path fill=\"none\" stroke=\"black\" d=\"M797.483,-289.811C768.097,-277.989 727.536,-261.671 698.322,-249.919\"/>\r\n</g>\r\n<!-- 54 -->\r\n<g id=\"node55\" class=\"node\"><title>54</title>\r\n<ellipse fill=\"none\" stroke=\"black\" cx=\"859.238\" cy=\"-234\" rx=\"102.082\" ry=\"18\"/>\r\n<text text-anchor=\"middle\" x=\"859.238\" y=\"-230.3\" font-family=\"Times New Roman,serif\" font-size=\"14.00\">CPPASTEqualsInitializer</text>\r\n</g>\r\n<!-- 30&#45;&gt;54 -->\r\n<g id=\"edge54\" class=\"edge\"><title>30&#45;&gt;54</title>\r\n<path fill=\"none\" stroke=\"black\" d=\"M841.171,-287.697C844.891,-276.846 849.667,-262.917 853.374,-252.104\"/>\r\n</g>\r\n<!-- 55 -->\r\n<g id=\"node56\" class=\"node\"><title>55</title>\r\n<ellipse fill=\"none\" stroke=\"black\" cx=\"1093.24\" cy=\"-234\" rx=\"89.8845\" ry=\"18\"/>\r\n<text text-anchor=\"middle\" x=\"1093.24\" y=\"-230.3\" font-family=\"Times New Roman,serif\" font-size=\"14.00\">CPPASTName |temp|</text>\r\n</g>\r\n<!-- 32&#45;&gt;55 -->\r\n<g id=\"edge55\" class=\"edge\"><title>32&#45;&gt;55</title>\r\n<path fill=\"none\" stroke=\"black\" d=\"M1259.98,-290.581C1224.2,-278.654 1173.58,-261.782 1137.52,-249.762\"/>\r\n</g>\r\n<!-- 56 -->\r\n<g id=\"node57\" class=\"node\"><title>56</title>\r\n<ellipse fill=\"none\" stroke=\"black\" cx=\"1303.24\" cy=\"-234\" rx=\"102.082\" ry=\"18\"/>\r\n<text text-anchor=\"middle\" x=\"1303.24\" y=\"-230.3\" font-family=\"Times New Roman,serif\" font-size=\"14.00\">CPPASTEqualsInitializer</text>\r\n</g>\r\n<!-- 32&#45;&gt;56 -->\r\n<g id=\"edge56\" class=\"edge\"><title>32&#45;&gt;56</title>\r\n<path fill=\"none\" stroke=\"black\" d=\"M1303.24,-287.697C1303.24,-276.846 1303.24,-262.917 1303.24,-252.104\"/>\r\n</g>\r\n<!-- 57 -->\r\n<g id=\"node58\" class=\"node\"><title>57</title>\r\n<ellipse fill=\"none\" stroke=\"black\" cx=\"1518.24\" cy=\"-234\" rx=\"87.1846\" ry=\"18\"/>\r\n<text text-anchor=\"middle\" x=\"1518.24\" y=\"-230.3\" font-family=\"Times New Roman,serif\" font-size=\"14.00\">CPPASTTemplateId</text>\r\n</g>\r\n<!-- 33&#45;&gt;57 -->\r\n<g id=\"edge57\" class=\"edge\"><title>33&#45;&gt;57</title>\r\n<path fill=\"none\" stroke=\"black\" d=\"M1524.26,-287.697C1523.02,-276.846 1521.43,-262.917 1520.19,-252.104\"/>\r\n</g>\r\n<!-- 58 -->\r\n<g id=\"node59\" class=\"node\"><title>58</title>\r\n<ellipse fill=\"none\" stroke=\"black\" cx=\"1701.24\" cy=\"-234\" rx=\"77.9862\" ry=\"18\"/>\r\n<text text-anchor=\"middle\" x=\"1701.24\" y=\"-230.3\" font-family=\"Times New Roman,serif\" font-size=\"14.00\">CPPASTName |A|</text>\r\n</g>\r\n<!-- 34&#45;&gt;58 -->\r\n<g id=\"edge58\" class=\"edge\"><title>34&#45;&gt;58</title>\r\n<path fill=\"none\" stroke=\"black\" d=\"M1737.62,-288.055C1730.18,-277.211 1720.56,-263.183 1713.08,-252.275\"/>\r\n</g>\r\n<!-- 59 -->\r\n<g id=\"node60\" class=\"node\"><title>59</title>\r\n<ellipse fill=\"none\" stroke=\"black\" cx=\"1891.24\" cy=\"-234\" rx=\"93.6835\" ry=\"18\"/>\r\n<text text-anchor=\"middle\" x=\"1891.24\" y=\"-230.3\" font-family=\"Times New Roman,serif\" font-size=\"14.00\">CPPASTIdExpression</text>\r\n</g>\r\n<!-- 35&#45;&gt;59 -->\r\n<g id=\"edge59\" class=\"edge\"><title>35&#45;&gt;59</title>\r\n<path fill=\"none\" stroke=\"black\" d=\"M2005.68,-288.765C1981.44,-277.375 1949.18,-262.222 1925.1,-250.906\"/>\r\n</g>\r\n<!-- 60 -->\r\n<g id=\"node61\" class=\"node\"><title>60</title>\r\n<ellipse fill=\"none\" stroke=\"black\" cx=\"2040.24\" cy=\"-234\" rx=\"37.8943\" ry=\"18\"/>\r\n<text text-anchor=\"middle\" x=\"2040.24\" y=\"-230.3\" font-family=\"Times New Roman,serif\" font-size=\"14.00\">&gt;&gt; |&gt;&gt;|</text>\r\n</g>\r\n<!-- 35&#45;&gt;60 -->\r\n<g id=\"edge60\" class=\"edge\"><title>35&#45;&gt;60</title>\r\n<path fill=\"none\" stroke=\"black\" d=\"M2040.24,-287.697C2040.24,-276.846 2040.24,-262.917 2040.24,-252.104\"/>\r\n</g>\r\n<!-- 61 -->\r\n<g id=\"node62\" class=\"node\"><title>61</title>\r\n<ellipse fill=\"none\" stroke=\"black\" cx=\"2189.24\" cy=\"-234\" rx=\"93.6835\" ry=\"18\"/>\r\n<text text-anchor=\"middle\" x=\"2189.24\" y=\"-230.3\" font-family=\"Times New Roman,serif\" font-size=\"14.00\">CPPASTIdExpression</text>\r\n</g>\r\n<!-- 35&#45;&gt;61 -->\r\n<g id=\"edge61\" class=\"edge\"><title>35&#45;&gt;61</title>\r\n<path fill=\"none\" stroke=\"black\" d=\"M2074.8,-288.765C2099.04,-277.375 2131.29,-262.222 2155.38,-250.906\"/>\r\n</g>\r\n<!-- 62 -->\r\n<g id=\"node63\" class=\"node\"><title>62</title>\r\n<ellipse fill=\"none\" stroke=\"black\" cx=\"2379.24\" cy=\"-234\" rx=\"77.9862\" ry=\"18\"/>\r\n<text text-anchor=\"middle\" x=\"2379.24\" y=\"-230.3\" font-family=\"Times New Roman,serif\" font-size=\"14.00\">CPPASTName |N|</text>\r\n</g>\r\n<!-- 37&#45;&gt;62 -->\r\n<g id=\"edge62\" class=\"edge\"><title>37&#45;&gt;62</title>\r\n<path fill=\"none\" stroke=\"black\" d=\"M2370.2,-287.697C2372.06,-276.846 2374.45,-262.917 2376.31,-252.104\"/>\r\n</g>\r\n<!-- 63 -->\r\n<g id=\"node64\" class=\"node\"><title>63</title>\r\n<ellipse fill=\"none\" stroke=\"black\" cx=\"2608.24\" cy=\"-234\" rx=\"133.477\" ry=\"18\"/>\r\n<text text-anchor=\"middle\" x=\"2608.24\" y=\"-230.3\" font-family=\"Times New Roman,serif\" font-size=\"14.00\">CPPASTSimpleDeclSpecifier |int|</text>\r\n</g>\r\n<!-- 38&#45;&gt;63 -->\r\n<g id=\"edge63\" class=\"edge\"><title>38&#45;&gt;63</title>\r\n<path fill=\"none\" stroke=\"black\" d=\"M2637.04,-288.055C2631.15,-277.211 2623.54,-263.183 2617.62,-252.275\"/>\r\n</g>\r\n<!-- 64 -->\r\n<g id=\"node65\" class=\"node\"><title>64</title>\r\n<ellipse fill=\"none\" stroke=\"black\" cx=\"2842.24\" cy=\"-234\" rx=\"83.3857\" ry=\"18\"/>\r\n<text text-anchor=\"middle\" x=\"2842.24\" y=\"-230.3\" font-family=\"Times New Roman,serif\" font-size=\"14.00\">CPPASTDeclarator</text>\r\n</g>\r\n<!-- 38&#45;&gt;64 -->\r\n<g id=\"edge64\" class=\"edge\"><title>38&#45;&gt;64</title>\r\n<path fill=\"none\" stroke=\"black\" d=\"M2690.22,-289.291C2723.41,-277.44 2768.6,-261.298 2801.08,-249.7\"/>\r\n</g>\r\n<!-- 65 -->\r\n<g id=\"node66\" class=\"node\"><title>65</title>\r\n<ellipse fill=\"none\" stroke=\"black\" cx=\"3017.24\" cy=\"-234\" rx=\"73.387\" ry=\"18\"/>\r\n<text text-anchor=\"middle\" x=\"3017.24\" y=\"-230.3\" font-family=\"Times New Roman,serif\" font-size=\"14.00\">CPPASTName |i|</text>\r\n</g>\r\n<!-- 39&#45;&gt;65 -->\r\n<g id=\"edge65\" class=\"edge\"><title>39&#45;&gt;65</title>\r\n<path fill=\"none\" stroke=\"black\" d=\"M2902.82,-289.116C2927.47,-277.458 2960.75,-261.719 2985.06,-250.221\"/>\r\n</g>\r\n<!-- 66 -->\r\n<g id=\"node67\" class=\"node\"><title>66</title>\r\n<ellipse fill=\"none\" stroke=\"black\" cx=\"3186.24\" cy=\"-234\" rx=\"77.9862\" ry=\"18\"/>\r\n<text text-anchor=\"middle\" x=\"3186.24\" y=\"-230.3\" font-family=\"Times New Roman,serif\" font-size=\"14.00\">CPPASTName |N|</text>\r\n</g>\r\n<!-- 41&#45;&gt;66 -->\r\n<g id=\"edge66\" class=\"edge\"><title>41&#45;&gt;66</title>\r\n<path fill=\"none\" stroke=\"black\" d=\"M3156.68,-288.055C3162.72,-277.211 3170.54,-263.183 3176.61,-252.275\"/>\r\n</g>\r\n<!-- 67 -->\r\n<g id=\"node68\" class=\"node\"><title>67</title>\r\n<ellipse fill=\"none\" stroke=\"black\" cx=\"3445.24\" cy=\"-234\" rx=\"73.387\" ry=\"18\"/>\r\n<text text-anchor=\"middle\" x=\"3445.24\" y=\"-230.3\" font-family=\"Times New Roman,serif\" font-size=\"14.00\">CPPASTName |i|</text>\r\n</g>\r\n<!-- 43&#45;&gt;67 -->\r\n<g id=\"edge67\" class=\"edge\"><title>43&#45;&gt;67</title>\r\n<path fill=\"none\" stroke=\"black\" d=\"M3445.24,-287.697C3445.24,-276.846 3445.24,-262.917 3445.24,-252.104\"/>\r\n</g>\r\n<!-- 68 -->\r\n<g id=\"node69\" class=\"node\"><title>68</title>\r\n<ellipse fill=\"none\" stroke=\"black\" cx=\"3662.24\" cy=\"-234\" rx=\"109.381\" ry=\"18\"/>\r\n<text text-anchor=\"middle\" x=\"3662.24\" y=\"-230.3\" font-family=\"Times New Roman,serif\" font-size=\"14.00\">CPPASTBinaryExpression</text>\r\n</g>\r\n<!-- 44&#45;&gt;68 -->\r\n<g id=\"edge68\" class=\"edge\"><title>44&#45;&gt;68</title>\r\n<path fill=\"none\" stroke=\"black\" d=\"M3674.28,-287.697C3671.8,-276.846 3668.62,-262.917 3666.15,-252.104\"/>\r\n</g>\r\n<!-- 69 -->\r\n<g id=\"node70\" class=\"node\"><title>69</title>\r\n<ellipse fill=\"none\" stroke=\"black\" cx=\"3939.24\" cy=\"-234\" rx=\"131.877\" ry=\"18\"/>\r\n<text text-anchor=\"middle\" x=\"3939.24\" y=\"-230.3\" font-family=\"Times New Roman,serif\" font-size=\"14.00\">CPPASTFunctionCallExpression</text>\r\n</g>\r\n<!-- 45&#45;&gt;69 -->\r\n<g id=\"edge69\" class=\"edge\"><title>45&#45;&gt;69</title>\r\n<path fill=\"none\" stroke=\"black\" d=\"M3939.24,-287.697C3939.24,-276.846 3939.24,-262.917 3939.24,-252.104\"/>\r\n</g>\r\n<!-- 70 -->\r\n<g id=\"node71\" class=\"node\"><title>70</title>\r\n<ellipse fill=\"none\" stroke=\"black\" cx=\"4355.24\" cy=\"-234\" rx=\"93.6835\" ry=\"18\"/>\r\n<text text-anchor=\"middle\" x=\"4355.24\" y=\"-230.3\" font-family=\"Times New Roman,serif\" font-size=\"14.00\">CPPASTIdExpression</text>\r\n</g>\r\n<!-- 46&#45;&gt;70 -->\r\n<g id=\"edge70\" class=\"edge\"><title>46&#45;&gt;70</title>\r\n<path fill=\"none\" stroke=\"black\" d=\"M4783.65,-293.865C4697.82,-283.811 4569.57,-268.156 4458.24,-252 4446.76,-250.334 4434.58,-248.439 4422.77,-246.533\"/>\r\n</g>\r\n<!-- 71 -->\r\n<g id=\"node72\" class=\"node\"><title>71</title>\r\n<ellipse fill=\"none\" stroke=\"black\" cx=\"4599.24\" cy=\"-234\" rx=\"131.877\" ry=\"18\"/>\r\n<text text-anchor=\"middle\" x=\"4599.24\" y=\"-230.3\" font-family=\"Times New Roman,serif\" font-size=\"14.00\">CPPASTFunctionCallExpression</text>\r\n</g>\r\n<!-- 46&#45;&gt;71 -->\r\n<g id=\"edge71\" class=\"edge\"><title>46&#45;&gt;71</title>\r\n<path fill=\"none\" stroke=\"black\" d=\"M4820.74,-289.983C4773.32,-278.213 4707.64,-261.908 4660.12,-250.113\"/>\r\n</g>\r\n<!-- 72 -->\r\n<g id=\"node73\" class=\"node\"><title>72</title>\r\n<ellipse fill=\"none\" stroke=\"black\" cx=\"4881.24\" cy=\"-234\" rx=\"131.877\" ry=\"18\"/>\r\n<text text-anchor=\"middle\" x=\"4881.24\" y=\"-230.3\" font-family=\"Times New Roman,serif\" font-size=\"14.00\">CPPASTFunctionCallExpression</text>\r\n</g>\r\n<!-- 46&#45;&gt;72 -->\r\n<g id=\"edge72\" class=\"edge\"><title>46&#45;&gt;72</title>\r\n<path fill=\"none\" stroke=\"black\" d=\"M4881.24,-287.697C4881.24,-276.846 4881.24,-262.917 4881.24,-252.104\"/>\r\n</g>\r\n<!-- 73 -->\r\n<g id=\"node74\" class=\"node\"><title>73</title>\r\n<ellipse fill=\"none\" stroke=\"black\" cx=\"5149.24\" cy=\"-234\" rx=\"118.079\" ry=\"18\"/>\r\n<text text-anchor=\"middle\" x=\"5149.24\" y=\"-230.3\" font-family=\"Times New Roman,serif\" font-size=\"14.00\">CPPASTLiteralExpression |0|</text>\r\n</g>\r\n<!-- 46&#45;&gt;73 -->\r\n<g id=\"edge73\" class=\"edge\"><title>46&#45;&gt;73</title>\r\n<path fill=\"none\" stroke=\"black\" d=\"M4939.39,-289.811C4984.65,-277.989 5047.12,-261.671 5092.12,-249.919\"/>\r\n</g>\r\n<!-- 74 -->\r\n<g id=\"node75\" class=\"node\"><title>74</title>\r\n<ellipse fill=\"none\" stroke=\"black\" cx=\"5363.24\" cy=\"-234\" rx=\"77.9862\" ry=\"18\"/>\r\n<text text-anchor=\"middle\" x=\"5363.24\" y=\"-230.3\" font-family=\"Times New Roman,serif\" font-size=\"14.00\">CPPASTName |H|</text>\r\n</g>\r\n<!-- 48&#45;&gt;74 -->\r\n<g id=\"edge74\" class=\"edge\"><title>48&#45;&gt;74</title>\r\n<path fill=\"none\" stroke=\"black\" d=\"M5363.24,-287.697C5363.24,-276.846 5363.24,-262.917 5363.24,-252.104\"/>\r\n</g>\r\n<!-- 75 -->\r\n<g id=\"node76\" class=\"node\"><title>75</title>\r\n<ellipse fill=\"none\" stroke=\"black\" cx=\"5568.24\" cy=\"-234\" rx=\"109.381\" ry=\"18\"/>\r\n<text text-anchor=\"middle\" x=\"5568.24\" y=\"-230.3\" font-family=\"Times New Roman,serif\" font-size=\"14.00\">CPPASTBinaryExpression</text>\r\n</g>\r\n<!-- 49&#45;&gt;75 -->\r\n<g id=\"edge75\" class=\"edge\"><title>49&#45;&gt;75</title>\r\n<path fill=\"none\" stroke=\"black\" d=\"M5636.45,-288.055C5622.3,-277.049 5603.93,-262.764 5589.82,-251.789\"/>\r\n</g>\r\n<!-- 76 -->\r\n<g id=\"node77\" class=\"node\"><title>76</title>\r\n<ellipse fill=\"none\" stroke=\"black\" cx=\"5733.24\" cy=\"-234\" rx=\"37.8943\" ry=\"18\"/>\r\n<text text-anchor=\"middle\" x=\"5733.24\" y=\"-230.3\" font-family=\"Times New Roman,serif\" font-size=\"14.00\">&lt;&lt; |&lt;&lt;|</text>\r\n</g>\r\n<!-- 49&#45;&gt;76 -->\r\n<g id=\"edge76\" class=\"edge\"><title>49&#45;&gt;76</title>\r\n<path fill=\"none\" stroke=\"black\" d=\"M5676.39,-288.055C5688.71,-276.564 5704.85,-261.497 5716.78,-250.356\"/>\r\n</g>\r\n<!-- 77 -->\r\n<g id=\"node78\" class=\"node\"><title>77</title>\r\n<ellipse fill=\"none\" stroke=\"black\" cx=\"5882.24\" cy=\"-234\" rx=\"93.6835\" ry=\"18\"/>\r\n<text text-anchor=\"middle\" x=\"5882.24\" y=\"-230.3\" font-family=\"Times New Roman,serif\" font-size=\"14.00\">CPPASTIdExpression</text>\r\n</g>\r\n<!-- 49&#45;&gt;77 -->\r\n<g id=\"edge77\" class=\"edge\"><title>49&#45;&gt;77</title>\r\n<path fill=\"none\" stroke=\"black\" d=\"M5706.84,-289.811C5744.93,-277.909 5797.6,-261.449 5835.26,-249.68\"/>\r\n</g>\r\n<!-- 78 -->\r\n<g id=\"node79\" class=\"node\"><title>78</title>\r\n<ellipse fill=\"none\" stroke=\"black\" cx=\"6230.24\" cy=\"-234\" rx=\"109.381\" ry=\"18\"/>\r\n<text text-anchor=\"middle\" x=\"6230.24\" y=\"-230.3\" font-family=\"Times New Roman,serif\" font-size=\"14.00\">CPPASTBinaryExpression</text>\r\n</g>\r\n<!-- 50&#45;&gt;78 -->\r\n<g id=\"edge78\" class=\"edge\"><title>50&#45;&gt;78</title>\r\n<path fill=\"none\" stroke=\"black\" d=\"M6292.39,-288.055C6279.5,-277.049 6262.76,-262.764 6249.91,-251.789\"/>\r\n</g>\r\n<!-- 79 -->\r\n<g id=\"node80\" class=\"node\"><title>79</title>\r\n<ellipse fill=\"none\" stroke=\"black\" cx=\"6395.24\" cy=\"-234\" rx=\"37.8943\" ry=\"18\"/>\r\n<text text-anchor=\"middle\" x=\"6395.24\" y=\"-230.3\" font-family=\"Times New Roman,serif\" font-size=\"14.00\">&lt;&lt; |&lt;&lt;|</text>\r\n</g>\r\n<!-- 50&#45;&gt;79 -->\r\n<g id=\"edge79\" class=\"edge\"><title>50&#45;&gt;79</title>\r\n<path fill=\"none\" stroke=\"black\" d=\"M6332.33,-288.055C6346.05,-276.483 6364.07,-261.284 6377.31,-250.122\"/>\r\n</g>\r\n<!-- 80 -->\r\n<g id=\"node81\" class=\"node\"><title>80</title>\r\n<ellipse fill=\"none\" stroke=\"black\" cx=\"6600.24\" cy=\"-234\" rx=\"93.6835\" ry=\"18\"/>\r\n<text text-anchor=\"middle\" x=\"6600.24\" y=\"-230.3\" font-family=\"Times New Roman,serif\" font-size=\"14.00\">CPPASTIdExpression</text>\r\n</g>\r\n<!-- 50&#45;&gt;80 -->\r\n<g id=\"edge80\" class=\"edge\"><title>50&#45;&gt;80</title>\r\n<path fill=\"none\" stroke=\"black\" d=\"M6370.87,-290.75C6421.69,-278.398 6494.71,-260.649 6544.63,-248.517\"/>\r\n</g>\r\n<!-- 81 -->\r\n<g id=\"node82\" class=\"node\"><title>81</title>\r\n<ellipse fill=\"none\" stroke=\"black\" cx=\"427.238\" cy=\"-162\" rx=\"118.079\" ry=\"18\"/>\r\n<text text-anchor=\"middle\" x=\"427.238\" y=\"-158.3\" font-family=\"Times New Roman,serif\" font-size=\"14.00\">CPPASTLiteralExpression |0|</text>\r\n</g>\r\n<!-- 52&#45;&gt;81 -->\r\n<g id=\"edge81\" class=\"edge\"><title>52&#45;&gt;81</title>\r\n<path fill=\"none\" stroke=\"black\" d=\"M427.238,-215.697C427.238,-204.846 427.238,-190.917 427.238,-180.104\"/>\r\n</g>\r\n<!-- 82 -->\r\n<g id=\"node83\" class=\"node\"><title>82</title>\r\n<ellipse fill=\"none\" stroke=\"black\" cx=\"859.238\" cy=\"-162\" rx=\"118.079\" ry=\"18\"/>\r\n<text text-anchor=\"middle\" x=\"859.238\" y=\"-158.3\" font-family=\"Times New Roman,serif\" font-size=\"14.00\">CPPASTLiteralExpression |0|</text>\r\n</g>\r\n<!-- 54&#45;&gt;82 -->\r\n<g id=\"edge82\" class=\"edge\"><title>54&#45;&gt;82</title>\r\n<path fill=\"none\" stroke=\"black\" d=\"M859.238,-215.697C859.238,-204.846 859.238,-190.917 859.238,-180.104\"/>\r\n</g>\r\n<!-- 83 -->\r\n<g id=\"node84\" class=\"node\"><title>83</title>\r\n<ellipse fill=\"none\" stroke=\"black\" cx=\"1287.24\" cy=\"-162\" rx=\"118.079\" ry=\"18\"/>\r\n<text text-anchor=\"middle\" x=\"1287.24\" y=\"-158.3\" font-family=\"Times New Roman,serif\" font-size=\"14.00\">CPPASTLiteralExpression |0|</text>\r\n</g>\r\n<!-- 56&#45;&gt;83 -->\r\n<g id=\"edge83\" class=\"edge\"><title>56&#45;&gt;83</title>\r\n<path fill=\"none\" stroke=\"black\" d=\"M1299.28,-215.697C1296.8,-204.846 1293.62,-190.917 1291.15,-180.104\"/>\r\n</g>\r\n<!-- 84 -->\r\n<g id=\"node85\" class=\"node\"><title>84</title>\r\n<ellipse fill=\"none\" stroke=\"black\" cx=\"1518.24\" cy=\"-162\" rx=\"94.7833\" ry=\"18\"/>\r\n<text text-anchor=\"middle\" x=\"1518.24\" y=\"-158.3\" font-family=\"Times New Roman,serif\" font-size=\"14.00\">CPPASTName |vector|</text>\r\n</g>\r\n<!-- 57&#45;&gt;84 -->\r\n<g id=\"edge84\" class=\"edge\"><title>57&#45;&gt;84</title>\r\n<path fill=\"none\" stroke=\"black\" d=\"M1518.24,-215.697C1518.24,-204.846 1518.24,-190.917 1518.24,-180.104\"/>\r\n</g>\r\n<!-- 85 -->\r\n<g id=\"node86\" class=\"node\"><title>85</title>\r\n<ellipse fill=\"none\" stroke=\"black\" cx=\"1703.24\" cy=\"-162\" rx=\"72.2875\" ry=\"18\"/>\r\n<text text-anchor=\"middle\" x=\"1703.24\" y=\"-158.3\" font-family=\"Times New Roman,serif\" font-size=\"14.00\">CPPASTTypeId</text>\r\n</g>\r\n<!-- 57&#45;&gt;85 -->\r\n<g id=\"edge85\" class=\"edge\"><title>57&#45;&gt;85</title>\r\n<path fill=\"none\" stroke=\"black\" d=\"M1558.38,-217.811C1590.16,-205.788 1634.22,-189.115 1665.38,-177.323\"/>\r\n</g>\r\n<!-- 86 -->\r\n<g id=\"node87\" class=\"node\"><title>86</title>\r\n<ellipse fill=\"none\" stroke=\"black\" cx=\"1891.24\" cy=\"-162\" rx=\"82.5854\" ry=\"18\"/>\r\n<text text-anchor=\"middle\" x=\"1891.24\" y=\"-158.3\" font-family=\"Times New Roman,serif\" font-size=\"14.00\">CPPASTName |cin|</text>\r\n</g>\r\n<!-- 59&#45;&gt;86 -->\r\n<g id=\"edge86\" class=\"edge\"><title>59&#45;&gt;86</title>\r\n<path fill=\"none\" stroke=\"black\" d=\"M1891.24,-215.697C1891.24,-204.846 1891.24,-190.917 1891.24,-180.104\"/>\r\n</g>\r\n<!-- 87 -->\r\n<g id=\"node88\" class=\"node\"><title>87</title>\r\n<ellipse fill=\"none\" stroke=\"black\" cx=\"2189.24\" cy=\"-162\" rx=\"77.9862\" ry=\"18\"/>\r\n<text text-anchor=\"middle\" x=\"2189.24\" y=\"-158.3\" font-family=\"Times New Roman,serif\" font-size=\"14.00\">CPPASTName |H|</text>\r\n</g>\r\n<!-- 61&#45;&gt;87 -->\r\n<g id=\"edge87\" class=\"edge\"><title>61&#45;&gt;87</title>\r\n<path fill=\"none\" stroke=\"black\" d=\"M2189.24,-215.697C2189.24,-204.846 2189.24,-190.917 2189.24,-180.104\"/>\r\n</g>\r\n<!-- 88 -->\r\n<g id=\"node89\" class=\"node\"><title>88</title>\r\n<ellipse fill=\"none\" stroke=\"black\" cx=\"2746.24\" cy=\"-162\" rx=\"73.387\" ry=\"18\"/>\r\n<text text-anchor=\"middle\" x=\"2746.24\" y=\"-158.3\" font-family=\"Times New Roman,serif\" font-size=\"14.00\">CPPASTName |i|</text>\r\n</g>\r\n<!-- 64&#45;&gt;88 -->\r\n<g id=\"edge88\" class=\"edge\"><title>64&#45;&gt;88</title>\r\n<path fill=\"none\" stroke=\"black\" d=\"M2819.49,-216.411C2804.07,-205.172 2783.8,-190.391 2768.49,-179.228\"/>\r\n</g>\r\n<!-- 89 -->\r\n<g id=\"node90\" class=\"node\"><title>89</title>\r\n<ellipse fill=\"none\" stroke=\"black\" cx=\"2939.24\" cy=\"-162\" rx=\"102.082\" ry=\"18\"/>\r\n<text text-anchor=\"middle\" x=\"2939.24\" y=\"-158.3\" font-family=\"Times New Roman,serif\" font-size=\"14.00\">CPPASTEqualsInitializer</text>\r\n</g>\r\n<!-- 64&#45;&gt;89 -->\r\n<g id=\"edge89\" class=\"edge\"><title>64&#45;&gt;89</title>\r\n<path fill=\"none\" stroke=\"black\" d=\"M2865.23,-216.411C2880.58,-205.333 2900.69,-190.816 2916.08,-179.713\"/>\r\n</g>\r\n<!-- 90 -->\r\n<g id=\"node91\" class=\"node\"><title>90</title>\r\n<ellipse fill=\"none\" stroke=\"black\" cx=\"3376.24\" cy=\"-162\" rx=\"93.6835\" ry=\"18\"/>\r\n<text text-anchor=\"middle\" x=\"3376.24\" y=\"-158.3\" font-family=\"Times New Roman,serif\" font-size=\"14.00\">CPPASTIdExpression</text>\r\n</g>\r\n<!-- 68&#45;&gt;90 -->\r\n<g id=\"edge90\" class=\"edge\"><title>68&#45;&gt;90</title>\r\n<path fill=\"none\" stroke=\"black\" d=\"M3604.02,-218.75C3553.71,-206.438 3481.5,-188.764 3431.95,-176.635\"/>\r\n</g>\r\n<!-- 91 -->\r\n<g id=\"node92\" class=\"node\"><title>91</title>\r\n<ellipse fill=\"none\" stroke=\"black\" cx=\"3525.24\" cy=\"-162\" rx=\"37.8943\" ry=\"18\"/>\r\n<text text-anchor=\"middle\" x=\"3525.24\" y=\"-158.3\" font-family=\"Times New Roman,serif\" font-size=\"14.00\">&gt;&gt; |&gt;&gt;|</text>\r\n</g>\r\n<!-- 68&#45;&gt;91 -->\r\n<g id=\"edge91\" class=\"edge\"><title>68&#45;&gt;91</title>\r\n<path fill=\"none\" stroke=\"black\" d=\"M3630.46,-216.765C3605.96,-204.244 3572.55,-187.176 3550.01,-175.656\"/>\r\n</g>\r\n<!-- 92 -->\r\n<g id=\"node93\" class=\"node\"><title>92</title>\r\n<ellipse fill=\"none\" stroke=\"black\" cx=\"3674.24\" cy=\"-162\" rx=\"93.6835\" ry=\"18\"/>\r\n<text text-anchor=\"middle\" x=\"3674.24\" y=\"-158.3\" font-family=\"Times New Roman,serif\" font-size=\"14.00\">CPPASTIdExpression</text>\r\n</g>\r\n<!-- 68&#45;&gt;92 -->\r\n<g id=\"edge92\" class=\"edge\"><title>68&#45;&gt;92</title>\r\n<path fill=\"none\" stroke=\"black\" d=\"M3665.2,-215.697C3667.06,-204.846 3669.45,-190.917 3671.31,-180.104\"/>\r\n</g>\r\n<!-- 93 -->\r\n<g id=\"node94\" class=\"node\"><title>93</title>\r\n<ellipse fill=\"none\" stroke=\"black\" cx=\"3926.24\" cy=\"-162\" rx=\"100.182\" ry=\"18\"/>\r\n<text text-anchor=\"middle\" x=\"3926.24\" y=\"-158.3\" font-family=\"Times New Roman,serif\" font-size=\"14.00\">CPPASTFieldReference</text>\r\n</g>\r\n<!-- 69&#45;&gt;93 -->\r\n<g id=\"edge93\" class=\"edge\"><title>69&#45;&gt;93</title>\r\n<path fill=\"none\" stroke=\"black\" d=\"M3936.02,-215.697C3934.01,-204.846 3931.42,-190.917 3929.41,-180.104\"/>\r\n</g>\r\n<!-- 94 -->\r\n<g id=\"node95\" class=\"node\"><title>94</title>\r\n<ellipse fill=\"none\" stroke=\"black\" cx=\"4138.24\" cy=\"-162\" rx=\"93.6835\" ry=\"18\"/>\r\n<text text-anchor=\"middle\" x=\"4138.24\" y=\"-158.3\" font-family=\"Times New Roman,serif\" font-size=\"14.00\">CPPASTIdExpression</text>\r\n</g>\r\n<!-- 69&#45;&gt;94 -->\r\n<g id=\"edge94\" class=\"edge\"><title>69&#45;&gt;94</title>\r\n<path fill=\"none\" stroke=\"black\" d=\"M3984.89,-216.941C4018.17,-205.235 4062.95,-189.485 4095.52,-178.027\"/>\r\n</g>\r\n<!-- 95 -->\r\n<g id=\"node96\" class=\"node\"><title>95</title>\r\n<ellipse fill=\"none\" stroke=\"black\" cx=\"4362.24\" cy=\"-162\" rx=\"112.38\" ry=\"18\"/>\r\n<text text-anchor=\"middle\" x=\"4362.24\" y=\"-158.3\" font-family=\"Times New Roman,serif\" font-size=\"14.00\">CPPASTName |accumulate|</text>\r\n</g>\r\n<!-- 70&#45;&gt;95 -->\r\n<g id=\"edge95\" class=\"edge\"><title>70&#45;&gt;95</title>\r\n<path fill=\"none\" stroke=\"black\" d=\"M4356.97,-215.697C4358.05,-204.846 4359.45,-190.917 4360.53,-180.104\"/>\r\n</g>\r\n<!-- 96 -->\r\n<g id=\"node97\" class=\"node\"><title>96</title>\r\n<ellipse fill=\"none\" stroke=\"black\" cx=\"4599.24\" cy=\"-162\" rx=\"100.182\" ry=\"18\"/>\r\n<text text-anchor=\"middle\" x=\"4599.24\" y=\"-158.3\" font-family=\"Times New Roman,serif\" font-size=\"14.00\">CPPASTFieldReference</text>\r\n</g>\r\n<!-- 71&#45;&gt;96 -->\r\n<g id=\"edge96\" class=\"edge\"><title>71&#45;&gt;96</title>\r\n<path fill=\"none\" stroke=\"black\" d=\"M4599.24,-215.697C4599.24,-204.846 4599.24,-190.917 4599.24,-180.104\"/>\r\n</g>\r\n<!-- 97 -->\r\n<g id=\"node98\" class=\"node\"><title>97</title>\r\n<ellipse fill=\"none\" stroke=\"black\" cx=\"4881.24\" cy=\"-162\" rx=\"100.182\" ry=\"18\"/>\r\n<text text-anchor=\"middle\" x=\"4881.24\" y=\"-158.3\" font-family=\"Times New Roman,serif\" font-size=\"14.00\">CPPASTFieldReference</text>\r\n</g>\r\n<!-- 72&#45;&gt;97 -->\r\n<g id=\"edge97\" class=\"edge\"><title>72&#45;&gt;97</title>\r\n<path fill=\"none\" stroke=\"black\" d=\"M4881.24,-215.697C4881.24,-204.846 4881.24,-190.917 4881.24,-180.104\"/>\r\n</g>\r\n<!-- 98 -->\r\n<g id=\"node99\" class=\"node\"><title>98</title>\r\n<ellipse fill=\"none\" stroke=\"black\" cx=\"5300.24\" cy=\"-162\" rx=\"93.6835\" ry=\"18\"/>\r\n<text text-anchor=\"middle\" x=\"5300.24\" y=\"-158.3\" font-family=\"Times New Roman,serif\" font-size=\"14.00\">CPPASTIdExpression</text>\r\n</g>\r\n<!-- 75&#45;&gt;98 -->\r\n<g id=\"edge98\" class=\"edge\"><title>75&#45;&gt;98</title>\r\n<path fill=\"none\" stroke=\"black\" d=\"M5512.71,-218.496C5465.95,-206.282 5399.5,-188.926 5353.41,-176.889\"/>\r\n</g>\r\n<!-- 99 -->\r\n<g id=\"node100\" class=\"node\"><title>99</title>\r\n<ellipse fill=\"none\" stroke=\"black\" cx=\"5449.24\" cy=\"-162\" rx=\"37.8943\" ry=\"18\"/>\r\n<text text-anchor=\"middle\" x=\"5449.24\" y=\"-158.3\" font-family=\"Times New Roman,serif\" font-size=\"14.00\">&lt;&lt; |&lt;&lt;|</text>\r\n</g>\r\n<!-- 75&#45;&gt;99 -->\r\n<g id=\"edge99\" class=\"edge\"><title>75&#45;&gt;99</title>\r\n<path fill=\"none\" stroke=\"black\" d=\"M5540.34,-216.588C5519.59,-204.384 5491.62,-187.933 5472.17,-176.491\"/>\r\n</g>\r\n<!-- 100 -->\r\n<g id=\"node101\" class=\"node\"><title>100</title>\r\n<ellipse fill=\"none\" stroke=\"black\" cx=\"5641.24\" cy=\"-162\" rx=\"135.676\" ry=\"18\"/>\r\n<text text-anchor=\"middle\" x=\"5641.24\" y=\"-158.3\" font-family=\"Times New Roman,serif\" font-size=\"14.00\">CPPASTLiteralExpression |&quot;Yes&quot;|</text>\r\n</g>\r\n<!-- 75&#45;&gt;100 -->\r\n<g id=\"edge100\" class=\"edge\"><title>75&#45;&gt;100</title>\r\n<path fill=\"none\" stroke=\"black\" d=\"M5585.91,-216.055C5597.3,-205.13 5612.07,-190.973 5623.48,-180.032\"/>\r\n</g>\r\n<!-- 101 -->\r\n<g id=\"node102\" class=\"node\"><title>101</title>\r\n<ellipse fill=\"none\" stroke=\"black\" cx=\"5882.24\" cy=\"-162\" rx=\"87.1846\" ry=\"18\"/>\r\n<text text-anchor=\"middle\" x=\"5882.24\" y=\"-158.3\" font-family=\"Times New Roman,serif\" font-size=\"14.00\">CPPASTName |endl|</text>\r\n</g>\r\n<!-- 77&#45;&gt;101 -->\r\n<g id=\"edge101\" class=\"edge\"><title>77&#45;&gt;101</title>\r\n<path fill=\"none\" stroke=\"black\" d=\"M5882.24,-215.697C5882.24,-204.846 5882.24,-190.917 5882.24,-180.104\"/>\r\n</g>\r\n<!-- 102 -->\r\n<g id=\"node103\" class=\"node\"><title>102</title>\r\n<ellipse fill=\"none\" stroke=\"black\" cx=\"6081.24\" cy=\"-162\" rx=\"93.6835\" ry=\"18\"/>\r\n<text text-anchor=\"middle\" x=\"6081.24\" y=\"-158.3\" font-family=\"Times New Roman,serif\" font-size=\"14.00\">CPPASTIdExpression</text>\r\n</g>\r\n<!-- 78&#45;&gt;102 -->\r\n<g id=\"edge102\" class=\"edge\"><title>78&#45;&gt;102</title>\r\n<path fill=\"none\" stroke=\"black\" d=\"M6195.68,-216.765C6171.44,-205.375 6139.18,-190.222 6115.1,-178.906\"/>\r\n</g>\r\n<!-- 103 -->\r\n<g id=\"node104\" class=\"node\"><title>103</title>\r\n<ellipse fill=\"none\" stroke=\"black\" cx=\"6230.24\" cy=\"-162\" rx=\"37.8943\" ry=\"18\"/>\r\n<text text-anchor=\"middle\" x=\"6230.24\" y=\"-158.3\" font-family=\"Times New Roman,serif\" font-size=\"14.00\">&lt;&lt; |&lt;&lt;|</text>\r\n</g>\r\n<!-- 78&#45;&gt;103 -->\r\n<g id=\"edge103\" class=\"edge\"><title>78&#45;&gt;103</title>\r\n<path fill=\"none\" stroke=\"black\" d=\"M6230.24,-215.697C6230.24,-204.846 6230.24,-190.917 6230.24,-180.104\"/>\r\n</g>\r\n<!-- 104 -->\r\n<g id=\"node105\" class=\"node\"><title>104</title>\r\n<ellipse fill=\"none\" stroke=\"black\" cx=\"6418.24\" cy=\"-162\" rx=\"132.677\" ry=\"18\"/>\r\n<text text-anchor=\"middle\" x=\"6418.24\" y=\"-158.3\" font-family=\"Times New Roman,serif\" font-size=\"14.00\">CPPASTLiteralExpression |&quot;No&quot;|</text>\r\n</g>\r\n<!-- 78&#45;&gt;104 -->\r\n<g id=\"edge104\" class=\"edge\"><title>78&#45;&gt;104</title>\r\n<path fill=\"none\" stroke=\"black\" d=\"M6272.43,-217.291C6302.96,-205.923 6344.09,-190.608 6374.88,-179.142\"/>\r\n</g>\r\n<!-- 105 -->\r\n<g id=\"node106\" class=\"node\"><title>105</title>\r\n<ellipse fill=\"none\" stroke=\"black\" cx=\"6656.24\" cy=\"-162\" rx=\"87.1846\" ry=\"18\"/>\r\n<text text-anchor=\"middle\" x=\"6656.24\" y=\"-158.3\" font-family=\"Times New Roman,serif\" font-size=\"14.00\">CPPASTName |endl|</text>\r\n</g>\r\n<!-- 80&#45;&gt;105 -->\r\n<g id=\"edge105\" class=\"edge\"><title>80&#45;&gt;105</title>\r\n<path fill=\"none\" stroke=\"black\" d=\"M6613.79,-216.055C6622.6,-205.049 6634.03,-190.764 6642.81,-179.789\"/>\r\n</g>\r\n<!-- 106 -->\r\n<g id=\"node107\" class=\"node\"><title>106</title>\r\n<ellipse fill=\"none\" stroke=\"black\" cx=\"1586.24\" cy=\"-90\" rx=\"133.477\" ry=\"18\"/>\r\n<text text-anchor=\"middle\" x=\"1586.24\" y=\"-86.3\" font-family=\"Times New Roman,serif\" font-size=\"14.00\">CPPASTSimpleDeclSpecifier |int|</text>\r\n</g>\r\n<!-- 85&#45;&gt;106 -->\r\n<g id=\"edge106\" class=\"edge\"><title>85&#45;&gt;106</title>\r\n<path fill=\"none\" stroke=\"black\" d=\"M1676.69,-145.116C1658.08,-133.983 1633.25,-119.127 1614.31,-107.797\"/>\r\n</g>\r\n<!-- 107 -->\r\n<g id=\"node108\" class=\"node\"><title>107</title>\r\n<ellipse fill=\"none\" stroke=\"black\" cx=\"1820.24\" cy=\"-90\" rx=\"83.3857\" ry=\"18\"/>\r\n<text text-anchor=\"middle\" x=\"1820.24\" y=\"-86.3\" font-family=\"Times New Roman,serif\" font-size=\"14.00\">CPPASTDeclarator</text>\r\n</g>\r\n<!-- 85&#45;&gt;107 -->\r\n<g id=\"edge107\" class=\"edge\"><title>85&#45;&gt;107</title>\r\n<path fill=\"none\" stroke=\"black\" d=\"M1729.79,-145.116C1748.8,-133.741 1774.31,-118.479 1793.39,-107.064\"/>\r\n</g>\r\n<!-- 108 -->\r\n<g id=\"node109\" class=\"node\"><title>108</title>\r\n<ellipse fill=\"none\" stroke=\"black\" cx=\"2939.24\" cy=\"-90\" rx=\"118.079\" ry=\"18\"/>\r\n<text text-anchor=\"middle\" x=\"2939.24\" y=\"-86.3\" font-family=\"Times New Roman,serif\" font-size=\"14.00\">CPPASTLiteralExpression |0|</text>\r\n</g>\r\n<!-- 89&#45;&gt;108 -->\r\n<g id=\"edge108\" class=\"edge\"><title>89&#45;&gt;108</title>\r\n<path fill=\"none\" stroke=\"black\" d=\"M2939.24,-143.697C2939.24,-132.846 2939.24,-118.917 2939.24,-108.104\"/>\r\n</g>\r\n<!-- 109 -->\r\n<g id=\"node110\" class=\"node\"><title>109</title>\r\n<ellipse fill=\"none\" stroke=\"black\" cx=\"3376.24\" cy=\"-90\" rx=\"82.5854\" ry=\"18\"/>\r\n<text text-anchor=\"middle\" x=\"3376.24\" y=\"-86.3\" font-family=\"Times New Roman,serif\" font-size=\"14.00\">CPPASTName |cin|</text>\r\n</g>\r\n<!-- 90&#45;&gt;109 -->\r\n<g id=\"edge109\" class=\"edge\"><title>90&#45;&gt;109</title>\r\n<path fill=\"none\" stroke=\"black\" d=\"M3376.24,-143.697C3376.24,-132.846 3376.24,-118.917 3376.24,-108.104\"/>\r\n</g>\r\n<!-- 110 -->\r\n<g id=\"node111\" class=\"node\"><title>110</title>\r\n<ellipse fill=\"none\" stroke=\"black\" cx=\"3575.24\" cy=\"-90\" rx=\"89.8845\" ry=\"18\"/>\r\n<text text-anchor=\"middle\" x=\"3575.24\" y=\"-86.3\" font-family=\"Times New Roman,serif\" font-size=\"14.00\">CPPASTName |temp|</text>\r\n</g>\r\n<!-- 92&#45;&gt;110 -->\r\n<g id=\"edge110\" class=\"edge\"><title>92&#45;&gt;110</title>\r\n<path fill=\"none\" stroke=\"black\" d=\"M3650.78,-144.411C3635,-133.252 3614.28,-118.604 3598.53,-107.47\"/>\r\n</g>\r\n<!-- 111 -->\r\n<g id=\"node112\" class=\"node\"><title>111</title>\r\n<ellipse fill=\"none\" stroke=\"black\" cx=\"3776.24\" cy=\"-90\" rx=\"93.6835\" ry=\"18\"/>\r\n<text text-anchor=\"middle\" x=\"3776.24\" y=\"-86.3\" font-family=\"Times New Roman,serif\" font-size=\"14.00\">CPPASTIdExpression</text>\r\n</g>\r\n<!-- 93&#45;&gt;111 -->\r\n<g id=\"edge111\" class=\"edge\"><title>93&#45;&gt;111</title>\r\n<path fill=\"none\" stroke=\"black\" d=\"M3891.83,-144.941C3867.35,-133.518 3834.62,-118.243 3810.23,-106.864\"/>\r\n</g>\r\n<!-- 112 -->\r\n<g id=\"node113\" class=\"node\"><title>112</title>\r\n<ellipse fill=\"none\" stroke=\"black\" cx=\"3999.24\" cy=\"-90\" rx=\"111.581\" ry=\"18\"/>\r\n<text text-anchor=\"middle\" x=\"3999.24\" y=\"-86.3\" font-family=\"Times New Roman,serif\" font-size=\"14.00\">CPPASTName |push_back|</text>\r\n</g>\r\n<!-- 93&#45;&gt;112 -->\r\n<g id=\"edge112\" class=\"edge\"><title>93&#45;&gt;112</title>\r\n<path fill=\"none\" stroke=\"black\" d=\"M3943.91,-144.055C3955.39,-133.049 3970.28,-118.764 3981.73,-107.789\"/>\r\n</g>\r\n<!-- 113 -->\r\n<g id=\"node114\" class=\"node\"><title>113</title>\r\n<ellipse fill=\"none\" stroke=\"black\" cx=\"4218.24\" cy=\"-90\" rx=\"89.8845\" ry=\"18\"/>\r\n<text text-anchor=\"middle\" x=\"4218.24\" y=\"-86.3\" font-family=\"Times New Roman,serif\" font-size=\"14.00\">CPPASTName |temp|</text>\r\n</g>\r\n<!-- 94&#45;&gt;113 -->\r\n<g id=\"edge113\" class=\"edge\"><title>94&#45;&gt;113</title>\r\n<path fill=\"none\" stroke=\"black\" d=\"M4157.6,-144.055C4170.18,-133.049 4186.51,-118.764 4199.05,-107.789\"/>\r\n</g>\r\n<!-- 114 -->\r\n<g id=\"node115\" class=\"node\"><title>114</title>\r\n<ellipse fill=\"none\" stroke=\"black\" cx=\"4435.24\" cy=\"-90\" rx=\"93.6835\" ry=\"18\"/>\r\n<text text-anchor=\"middle\" x=\"4435.24\" y=\"-86.3\" font-family=\"Times New Roman,serif\" font-size=\"14.00\">CPPASTIdExpression</text>\r\n</g>\r\n<!-- 96&#45;&gt;114 -->\r\n<g id=\"edge114\" class=\"edge\"><title>96&#45;&gt;114</title>\r\n<path fill=\"none\" stroke=\"black\" d=\"M4562.02,-145.116C4535,-133.579 4498.6,-118.046 4471.74,-106.58\"/>\r\n</g>\r\n<!-- 115 -->\r\n<g id=\"node116\" class=\"node\"><title>115</title>\r\n<ellipse fill=\"none\" stroke=\"black\" cx=\"4638.24\" cy=\"-90\" rx=\"90.9839\" ry=\"18\"/>\r\n<text text-anchor=\"middle\" x=\"4638.24\" y=\"-86.3\" font-family=\"Times New Roman,serif\" font-size=\"14.00\">CPPASTName |begin|</text>\r\n</g>\r\n<!-- 96&#45;&gt;115 -->\r\n<g id=\"edge115\" class=\"edge\"><title>96&#45;&gt;115</title>\r\n<path fill=\"none\" stroke=\"black\" d=\"M4608.68,-144.055C4614.72,-133.211 4622.54,-119.183 4628.61,-108.275\"/>\r\n</g>\r\n<!-- 116 -->\r\n<g id=\"node117\" class=\"node\"><title>116</title>\r\n<ellipse fill=\"none\" stroke=\"black\" cx=\"4849.24\" cy=\"-90\" rx=\"93.6835\" ry=\"18\"/>\r\n<text text-anchor=\"middle\" x=\"4849.24\" y=\"-86.3\" font-family=\"Times New Roman,serif\" font-size=\"14.00\">CPPASTIdExpression</text>\r\n</g>\r\n<!-- 97&#45;&gt;116 -->\r\n<g id=\"edge116\" class=\"edge\"><title>97&#45;&gt;116</title>\r\n<path fill=\"none\" stroke=\"black\" d=\"M4873.33,-143.697C4868.37,-132.846 4862,-118.917 4857.06,-108.104\"/>\r\n</g>\r\n<!-- 117 -->\r\n<g id=\"node118\" class=\"node\"><title>117</title>\r\n<ellipse fill=\"none\" stroke=\"black\" cx=\"5046.24\" cy=\"-90\" rx=\"85.2851\" ry=\"18\"/>\r\n<text text-anchor=\"middle\" x=\"5046.24\" y=\"-86.3\" font-family=\"Times New Roman,serif\" font-size=\"14.00\">CPPASTName |end|</text>\r\n</g>\r\n<!-- 97&#45;&gt;117 -->\r\n<g id=\"edge117\" class=\"edge\"><title>97&#45;&gt;117</title>\r\n<path fill=\"none\" stroke=\"black\" d=\"M4918.68,-145.116C4946.06,-133.499 4983,-117.828 5010.08,-106.34\"/>\r\n</g>\r\n<!-- 118 -->\r\n<g id=\"node119\" class=\"node\"><title>118</title>\r\n<ellipse fill=\"none\" stroke=\"black\" cx=\"5300.24\" cy=\"-90\" rx=\"87.9851\" ry=\"18\"/>\r\n<text text-anchor=\"middle\" x=\"5300.24\" y=\"-86.3\" font-family=\"Times New Roman,serif\" font-size=\"14.00\">CPPASTName |cout|</text>\r\n</g>\r\n<!-- 98&#45;&gt;118 -->\r\n<g id=\"edge118\" class=\"edge\"><title>98&#45;&gt;118</title>\r\n<path fill=\"none\" stroke=\"black\" d=\"M5300.24,-143.697C5300.24,-132.846 5300.24,-118.917 5300.24,-108.104\"/>\r\n</g>\r\n<!-- 119 -->\r\n<g id=\"node120\" class=\"node\"><title>119</title>\r\n<ellipse fill=\"none\" stroke=\"black\" cx=\"6081.24\" cy=\"-90\" rx=\"87.9851\" ry=\"18\"/>\r\n<text text-anchor=\"middle\" x=\"6081.24\" y=\"-86.3\" font-family=\"Times New Roman,serif\" font-size=\"14.00\">CPPASTName |cout|</text>\r\n</g>\r\n<!-- 102&#45;&gt;119 -->\r\n<g id=\"edge119\" class=\"edge\"><title>102&#45;&gt;119</title>\r\n<path fill=\"none\" stroke=\"black\" d=\"M6081.24,-143.697C6081.24,-132.846 6081.24,-118.917 6081.24,-108.104\"/>\r\n</g>\r\n<!-- 120 -->\r\n<g id=\"node121\" class=\"node\"><title>120</title>\r\n<ellipse fill=\"none\" stroke=\"black\" cx=\"3776.24\" cy=\"-18\" rx=\"77.9862\" ry=\"18\"/>\r\n<text text-anchor=\"middle\" x=\"3776.24\" y=\"-14.3\" font-family=\"Times New Roman,serif\" font-size=\"14.00\">CPPASTName |A|</text>\r\n</g>\r\n<!-- 111&#45;&gt;120 -->\r\n<g id=\"edge120\" class=\"edge\"><title>111&#45;&gt;120</title>\r\n<path fill=\"none\" stroke=\"black\" d=\"M3776.24,-71.6966C3776.24,-60.8463 3776.24,-46.9167 3776.24,-36.1043\"/>\r\n</g>\r\n<!-- 121 -->\r\n<g id=\"node122\" class=\"node\"><title>121</title>\r\n<ellipse fill=\"none\" stroke=\"black\" cx=\"4435.24\" cy=\"-18\" rx=\"77.9862\" ry=\"18\"/>\r\n<text text-anchor=\"middle\" x=\"4435.24\" y=\"-14.3\" font-family=\"Times New Roman,serif\" font-size=\"14.00\">CPPASTName |A|</text>\r\n</g>\r\n<!-- 114&#45;&gt;121 -->\r\n<g id=\"edge121\" class=\"edge\"><title>114&#45;&gt;121</title>\r\n<path fill=\"none\" stroke=\"black\" d=\"M4435.24,-71.6966C4435.24,-60.8463 4435.24,-46.9167 4435.24,-36.1043\"/>\r\n</g>\r\n<!-- 122 -->\r\n<g id=\"node123\" class=\"node\"><title>122</title>\r\n<ellipse fill=\"none\" stroke=\"black\" cx=\"4849.24\" cy=\"-18\" rx=\"77.9862\" ry=\"18\"/>\r\n<text text-anchor=\"middle\" x=\"4849.24\" y=\"-14.3\" font-family=\"Times New Roman,serif\" font-size=\"14.00\">CPPASTName |A|</text>\r\n</g>\r\n<!-- 116&#45;&gt;122 -->\r\n<g id=\"edge122\" class=\"edge\"><title>116&#45;&gt;122</title>\r\n<path fill=\"none\" stroke=\"black\" d=\"M4849.24,-71.6966C4849.24,-60.8463 4849.24,-46.9167 4849.24,-36.1043\"/>\r\n</g>\r\n</g>\r\n</svg>\r\n",
      "text/plain": [
       "<graphviz.dot.Digraph at 0x241c2766760>"
      ]
     },
     "execution_count": 14,
     "metadata": {},
     "output_type": "execute_result"
    }
   ],
   "source": [
    "from visualization import AI4CodeGraphVizualizer\n",
    "from AI4Code.AI4CodeJsonObject import AI4CodeJsonObject\n",
    "import json\n",
    "json_file = r\"C:\\Users\\sebas\\Documents\\Masterarbeit\\datasets\\2_parallel_dataset\\ai4code_cpp\\p02784\\s000008197.json\"\n",
    "with open(json_file, 'r') as json_file:\n",
    "    ai4code_json = json.load(json_file)\n",
    "\n",
    "ai4code = AI4CodeJsonObject.from_json(ai4code_json)\n",
    "ast = ai4code.get_graph().get_root_node()\n",
    "AI4CodeGraphVizualizer.visualize_ast(ast)"
   ]
  },
  {
   "cell_type": "code",
   "execution_count": 120,
   "metadata": {},
   "outputs": [],
   "source": [
    "from vectorizer.AstNode2VecDataset import AstNode2VecDataset\n",
    "\n",
    "dataset = AstNode2VecDataset(r\"C:\\Users\\sebas\\Documents\\Masterarbeit\\datasets\\2_parallel_dataset\\astnode2vec_cpp\", r\"C:\\Users\\sebas\\Documents\\Masterarbeit\\datasets\\2_parallel_dataset\\ai4code_cpp\", 100)"
   ]
  },
  {
   "cell_type": "code",
   "execution_count": 121,
   "metadata": {},
   "outputs": [],
   "source": [
    "dataset.create()"
   ]
  },
  {
   "cell_type": "code",
   "execution_count": 122,
   "metadata": {},
   "outputs": [
    {
     "data": {
      "text/plain": [
       "{'++': 0,\n",
       " '+=': 1,\n",
       " '/': 2,\n",
       " '<': 3,\n",
       " '<<': 4,\n",
       " '>>': 5,\n",
       " 'CPPASTBinaryExpression': 6,\n",
       " 'CPPASTCastExpression': 7,\n",
       " 'CPPASTCompoundStatement': 8,\n",
       " 'CPPASTConstructorInitializer': 9,\n",
       " 'CPPASTDeclarationStatement': 10,\n",
       " 'CPPASTDeclarator': 11,\n",
       " 'CPPASTEqualsInitializer': 12,\n",
       " 'CPPASTExpressionStatement': 13,\n",
       " 'CPPASTFieldReference': 14,\n",
       " 'CPPASTForStatement': 15,\n",
       " 'CPPASTFunctionCallExpression': 16,\n",
       " 'CPPASTFunctionDeclarator': 17,\n",
       " 'CPPASTFunctionDefinition': 18,\n",
       " 'CPPASTIdExpression': 19,\n",
       " 'CPPASTLiteralExpression': 20,\n",
       " 'CPPASTName': 21,\n",
       " 'CPPASTNamedTypeSpecifier': 22,\n",
       " 'CPPASTSimpleDeclSpecifier': 23,\n",
       " 'CPPASTSimpleDeclaration': 24,\n",
       " 'CPPASTTemplateId': 25,\n",
       " 'CPPASTTranslationUnit': 26,\n",
       " 'CPPASTTypeId': 27,\n",
       " 'CPPASTUnaryExpression': 28,\n",
       " 'CPPASTUsingDirective': 29}"
      ]
     },
     "execution_count": 122,
     "metadata": {},
     "output_type": "execute_result"
    }
   ],
   "source": [
    "dataset.get_vocabulary_map()"
   ]
  },
  {
   "cell_type": "code",
   "execution_count": 123,
   "metadata": {},
   "outputs": [
    {
     "ename": "FileNotFoundError",
     "evalue": "[Errno 2] No such file or directory: 'C:\\\\Users\\\\sebas\\\\Documents\\\\Masterarbeit\\\\datasets\\\\2_parallel_dataset\\\\astnode2vec_cpp\\\\data\\\\s211935115_2.pkl'",
     "output_type": "error",
     "traceback": [
      "\u001b[1;31m---------------------------------------------------------------------------\u001b[0m",
      "\u001b[1;31mFileNotFoundError\u001b[0m                         Traceback (most recent call last)",
      "\u001b[1;32mc:\\Users\\sebas\\Documents\\Masterarbeit\\tbcnn-tf2\\embeddings.ipynb Cell 5'\u001b[0m in \u001b[0;36m<cell line: 3>\u001b[1;34m()\u001b[0m\n\u001b[0;32m      <a href='vscode-notebook-cell:/c%3A/Users/sebas/Documents/Masterarbeit/tbcnn-tf2/embeddings.ipynb#ch0000004?line=0'>1</a>\u001b[0m \u001b[39mimport\u001b[39;00m \u001b[39mpickle\u001b[39;00m\n\u001b[0;32m      <a href='vscode-notebook-cell:/c%3A/Users/sebas/Documents/Masterarbeit/tbcnn-tf2/embeddings.ipynb#ch0000004?line=1'>2</a>\u001b[0m file \u001b[39m=\u001b[39m \u001b[39m'\u001b[39m\u001b[39mC:\u001b[39m\u001b[39m\\\\\u001b[39;00m\u001b[39mUsers\u001b[39m\u001b[39m\\\\\u001b[39;00m\u001b[39msebas\u001b[39m\u001b[39m\\\\\u001b[39;00m\u001b[39mDocuments\u001b[39m\u001b[39m\\\\\u001b[39;00m\u001b[39mMasterarbeit\u001b[39m\u001b[39m\\\\\u001b[39;00m\u001b[39mdatasets\u001b[39m\u001b[39m\\\\\u001b[39;00m\u001b[39m2_parallel_dataset\u001b[39m\u001b[39m\\\\\u001b[39;00m\u001b[39mastnode2vec_cpp\u001b[39m\u001b[39m\\\\\u001b[39;00m\u001b[39mdata\u001b[39m\u001b[39m\\\\\u001b[39;00m\u001b[39ms211935115_2.pkl\u001b[39m\u001b[39m'\u001b[39m\n\u001b[1;32m----> <a href='vscode-notebook-cell:/c%3A/Users/sebas/Documents/Masterarbeit/tbcnn-tf2/embeddings.ipynb#ch0000004?line=2'>3</a>\u001b[0m \u001b[39mwith\u001b[39;00m \u001b[39mopen\u001b[39;49m(file, \u001b[39m'\u001b[39;49m\u001b[39mrb\u001b[39;49m\u001b[39m'\u001b[39;49m) \u001b[39mas\u001b[39;00m f:\n\u001b[0;32m      <a href='vscode-notebook-cell:/c%3A/Users/sebas/Documents/Masterarbeit/tbcnn-tf2/embeddings.ipynb#ch0000004?line=3'>4</a>\u001b[0m     tree \u001b[39m=\u001b[39m pickle\u001b[39m.\u001b[39mload(f)\n\u001b[0;32m      <a href='vscode-notebook-cell:/c%3A/Users/sebas/Documents/Masterarbeit/tbcnn-tf2/embeddings.ipynb#ch0000004?line=4'>5</a>\u001b[0m tree\n",
      "\u001b[1;31mFileNotFoundError\u001b[0m: [Errno 2] No such file or directory: 'C:\\\\Users\\\\sebas\\\\Documents\\\\Masterarbeit\\\\datasets\\\\2_parallel_dataset\\\\astnode2vec_cpp\\\\data\\\\s211935115_2.pkl'"
     ]
    }
   ],
   "source": [
    "import pickle\n",
    "file = 'C:\\\\Users\\\\sebas\\\\Documents\\\\Masterarbeit\\\\datasets\\\\2_parallel_dataset\\\\astnode2vec_cpp\\\\data\\\\s211935115_2.pkl'\n",
    "with open(file, 'rb') as f:\n",
    "    tree = pickle.load(f)\n",
    "tree"
   ]
  },
  {
   "cell_type": "code",
   "execution_count": 36,
   "metadata": {},
   "outputs": [
    {
     "data": {
      "text/plain": [
       "'C:\\\\Users\\\\sebas\\\\Documents\\\\Masterarbeit\\\\datasets\\\\2_parallel_dataset\\\\astnode2vec_cpp\\\\data\\\\s179880363_117.pkl'"
      ]
     },
     "execution_count": 36,
     "metadata": {},
     "output_type": "execute_result"
    }
   ],
   "source": [
    "dataset.get_data_files()[21]"
   ]
  },
  {
   "cell_type": "code",
   "execution_count": 14,
   "metadata": {},
   "outputs": [
    {
     "data": {
      "image/svg+xml": "<?xml version=\"1.0\" encoding=\"UTF-8\" standalone=\"no\"?>\r\n<!DOCTYPE svg PUBLIC \"-//W3C//DTD SVG 1.1//EN\"\r\n \"http://www.w3.org/Graphics/SVG/1.1/DTD/svg11.dtd\">\r\n<!-- Generated by graphviz version 2.38.0 (20140413.2041)\r\n -->\r\n<!-- Title: ast Pages: 1 -->\r\n<svg width=\"9272pt\" height=\"764pt\"\r\n viewBox=\"0.00 0.00 9271.78 764.00\" xmlns=\"http://www.w3.org/2000/svg\" xmlns:xlink=\"http://www.w3.org/1999/xlink\">\r\n<g id=\"graph0\" class=\"graph\" transform=\"scale(1 1) rotate(0) translate(4 760)\">\r\n<title>ast</title>\r\n<polygon fill=\"white\" stroke=\"none\" points=\"-4,4 -4,-760 9267.78,-760 9267.78,4 -4,4\"/>\r\n<!-- 0 -->\r\n<g id=\"node1\" class=\"node\"><title>0</title>\r\n<ellipse fill=\"none\" stroke=\"black\" cx=\"850.193\" cy=\"-738\" rx=\"100.983\" ry=\"18\"/>\r\n<text text-anchor=\"middle\" x=\"850.193\" y=\"-734.3\" font-family=\"Times New Roman,serif\" font-size=\"14.00\">CPPASTTranslationUnit</text>\r\n</g>\r\n<!-- 1 -->\r\n<g id=\"node2\" class=\"node\"><title>1</title>\r\n<ellipse fill=\"none\" stroke=\"black\" cx=\"258.193\" cy=\"-666\" rx=\"98.5829\" ry=\"18\"/>\r\n<text text-anchor=\"middle\" x=\"258.193\" y=\"-662.3\" font-family=\"Times New Roman,serif\" font-size=\"14.00\">CPPASTUsingDirective</text>\r\n</g>\r\n<!-- 0&#45;&gt;1 -->\r\n<g id=\"edge1\" class=\"edge\"><title>0&#45;&gt;1</title>\r\n<path fill=\"none\" stroke=\"black\" d=\"M768.809,-727.377C655.507,-713.98 451.482,-689.855 338.667,-676.516\"/>\r\n</g>\r\n<!-- 2 -->\r\n<g id=\"node3\" class=\"node\"><title>2</title>\r\n<ellipse fill=\"none\" stroke=\"black\" cx=\"661.193\" cy=\"-666\" rx=\"111.28\" ry=\"18\"/>\r\n<text text-anchor=\"middle\" x=\"661.193\" y=\"-662.3\" font-family=\"Times New Roman,serif\" font-size=\"14.00\">CPPASTSimpleDeclaration</text>\r\n</g>\r\n<!-- 0&#45;&gt;2 -->\r\n<g id=\"edge2\" class=\"edge\"><title>0&#45;&gt;2</title>\r\n<path fill=\"none\" stroke=\"black\" d=\"M808.247,-721.465C777.144,-709.945 734.904,-694.301 703.674,-682.734\"/>\r\n</g>\r\n<!-- 3 -->\r\n<g id=\"node4\" class=\"node\"><title>3</title>\r\n<ellipse fill=\"none\" stroke=\"black\" cx=\"1040.19\" cy=\"-666\" rx=\"112.38\" ry=\"18\"/>\r\n<text text-anchor=\"middle\" x=\"1040.19\" y=\"-662.3\" font-family=\"Times New Roman,serif\" font-size=\"14.00\">CPPASTFunctionDefinition</text>\r\n</g>\r\n<!-- 0&#45;&gt;3 -->\r\n<g id=\"edge3\" class=\"edge\"><title>0&#45;&gt;3</title>\r\n<path fill=\"none\" stroke=\"black\" d=\"M892.36,-721.465C923.627,-709.945 966.091,-694.301 997.486,-682.734\"/>\r\n</g>\r\n<!-- 4 -->\r\n<g id=\"node5\" class=\"node\"><title>4</title>\r\n<ellipse fill=\"none\" stroke=\"black\" cx=\"2309.19\" cy=\"-666\" rx=\"112.38\" ry=\"18\"/>\r\n<text text-anchor=\"middle\" x=\"2309.19\" y=\"-662.3\" font-family=\"Times New Roman,serif\" font-size=\"14.00\">CPPASTFunctionDefinition</text>\r\n</g>\r\n<!-- 0&#45;&gt;4 -->\r\n<g id=\"edge4\" class=\"edge\"><title>0&#45;&gt;4</title>\r\n<path fill=\"none\" stroke=\"black\" d=\"M946.204,-732.394C1207.49,-719.857 1930.02,-685.192 2202.94,-672.098\"/>\r\n</g>\r\n<!-- 5 -->\r\n<g id=\"node6\" class=\"node\"><title>5</title>\r\n<ellipse fill=\"none\" stroke=\"black\" cx=\"83.1926\" cy=\"-594\" rx=\"83.3857\" ry=\"18\"/>\r\n<text text-anchor=\"middle\" x=\"83.1926\" y=\"-590.3\" font-family=\"Times New Roman,serif\" font-size=\"14.00\">CPPASTName |std|</text>\r\n</g>\r\n<!-- 1&#45;&gt;5 -->\r\n<g id=\"edge5\" class=\"edge\"><title>1&#45;&gt;5</title>\r\n<path fill=\"none\" stroke=\"black\" d=\"M218.919,-649.291C189.594,-637.561 149.759,-621.627 120.834,-610.057\"/>\r\n</g>\r\n<!-- 6 -->\r\n<g id=\"node7\" class=\"node\"><title>6</title>\r\n<ellipse fill=\"none\" stroke=\"black\" cx=\"372.193\" cy=\"-594\" rx=\"187.667\" ry=\"18\"/>\r\n<text text-anchor=\"middle\" x=\"372.193\" y=\"-590.3\" font-family=\"Times New Roman,serif\" font-size=\"14.00\">CPPASTSimpleDeclSpecifier |typedef long long|</text>\r\n</g>\r\n<!-- 2&#45;&gt;6 -->\r\n<g id=\"edge6\" class=\"edge\"><title>2&#45;&gt;6</title>\r\n<path fill=\"none\" stroke=\"black\" d=\"M602.012,-650.666C554.287,-639.106 487.217,-622.861 437.846,-610.902\"/>\r\n</g>\r\n<!-- 7 -->\r\n<g id=\"node8\" class=\"node\"><title>7</title>\r\n<ellipse fill=\"none\" stroke=\"black\" cx=\"661.193\" cy=\"-594\" rx=\"83.3857\" ry=\"18\"/>\r\n<text text-anchor=\"middle\" x=\"661.193\" y=\"-590.3\" font-family=\"Times New Roman,serif\" font-size=\"14.00\">CPPASTDeclarator</text>\r\n</g>\r\n<!-- 2&#45;&gt;7 -->\r\n<g id=\"edge7\" class=\"edge\"><title>2&#45;&gt;7</title>\r\n<path fill=\"none\" stroke=\"black\" d=\"M661.193,-647.697C661.193,-636.846 661.193,-622.917 661.193,-612.104\"/>\r\n</g>\r\n<!-- 8 -->\r\n<g id=\"node9\" class=\"node\"><title>8</title>\r\n<ellipse fill=\"none\" stroke=\"black\" cx=\"903.193\" cy=\"-594\" rx=\"141.075\" ry=\"18\"/>\r\n<text text-anchor=\"middle\" x=\"903.193\" y=\"-590.3\" font-family=\"Times New Roman,serif\" font-size=\"14.00\">CPPASTSimpleDeclSpecifier |bool|</text>\r\n</g>\r\n<!-- 3&#45;&gt;8 -->\r\n<g id=\"edge8\" class=\"edge\"><title>3&#45;&gt;8</title>\r\n<path fill=\"none\" stroke=\"black\" d=\"M1008.07,-648.588C986.244,-637.435 957.472,-622.734 935.586,-611.552\"/>\r\n</g>\r\n<!-- 9 -->\r\n<g id=\"node10\" class=\"node\"><title>9</title>\r\n<ellipse fill=\"none\" stroke=\"black\" cx=\"1177.19\" cy=\"-594\" rx=\"115.08\" ry=\"18\"/>\r\n<text text-anchor=\"middle\" x=\"1177.19\" y=\"-590.3\" font-family=\"Times New Roman,serif\" font-size=\"14.00\">CPPASTFunctionDeclarator</text>\r\n</g>\r\n<!-- 3&#45;&gt;9 -->\r\n<g id=\"edge9\" class=\"edge\"><title>3&#45;&gt;9</title>\r\n<path fill=\"none\" stroke=\"black\" d=\"M1072.31,-648.588C1094.3,-637.354 1123.33,-622.521 1145.27,-611.309\"/>\r\n</g>\r\n<!-- 10 -->\r\n<g id=\"node11\" class=\"node\"><title>10</title>\r\n<ellipse fill=\"none\" stroke=\"black\" cx=\"1453.19\" cy=\"-594\" rx=\"122.379\" ry=\"18\"/>\r\n<text text-anchor=\"middle\" x=\"1453.19\" y=\"-590.3\" font-family=\"Times New Roman,serif\" font-size=\"14.00\">CPPASTCompoundStatement</text>\r\n</g>\r\n<!-- 3&#45;&gt;10 -->\r\n<g id=\"edge10\" class=\"edge\"><title>3&#45;&gt;10</title>\r\n<path fill=\"none\" stroke=\"black\" d=\"M1114.51,-652.405C1188.47,-639.868 1301.48,-620.715 1376.33,-608.028\"/>\r\n</g>\r\n<!-- 11 -->\r\n<g id=\"node12\" class=\"node\"><title>11</title>\r\n<ellipse fill=\"none\" stroke=\"black\" cx=\"2176.19\" cy=\"-594\" rx=\"133.477\" ry=\"18\"/>\r\n<text text-anchor=\"middle\" x=\"2176.19\" y=\"-590.3\" font-family=\"Times New Roman,serif\" font-size=\"14.00\">CPPASTSimpleDeclSpecifier |int|</text>\r\n</g>\r\n<!-- 4&#45;&gt;11 -->\r\n<g id=\"edge11\" class=\"edge\"><title>4&#45;&gt;11</title>\r\n<path fill=\"none\" stroke=\"black\" d=\"M2278.01,-648.588C2256.82,-637.435 2228.89,-622.734 2207.64,-611.552\"/>\r\n</g>\r\n<!-- 12 -->\r\n<g id=\"node13\" class=\"node\"><title>12</title>\r\n<ellipse fill=\"none\" stroke=\"black\" cx=\"2442.19\" cy=\"-594\" rx=\"115.08\" ry=\"18\"/>\r\n<text text-anchor=\"middle\" x=\"2442.19\" y=\"-590.3\" font-family=\"Times New Roman,serif\" font-size=\"14.00\">CPPASTFunctionDeclarator</text>\r\n</g>\r\n<!-- 4&#45;&gt;12 -->\r\n<g id=\"edge12\" class=\"edge\"><title>4&#45;&gt;12</title>\r\n<path fill=\"none\" stroke=\"black\" d=\"M2340.38,-648.588C2361.57,-637.435 2389.5,-622.734 2410.74,-611.552\"/>\r\n</g>\r\n<!-- 13 -->\r\n<g id=\"node14\" class=\"node\"><title>13</title>\r\n<ellipse fill=\"none\" stroke=\"black\" cx=\"4859.19\" cy=\"-594\" rx=\"122.379\" ry=\"18\"/>\r\n<text text-anchor=\"middle\" x=\"4859.19\" y=\"-590.3\" font-family=\"Times New Roman,serif\" font-size=\"14.00\">CPPASTCompoundStatement</text>\r\n</g>\r\n<!-- 4&#45;&gt;13 -->\r\n<g id=\"edge13\" class=\"edge\"><title>4&#45;&gt;13</title>\r\n<path fill=\"none\" stroke=\"black\" d=\"M2419.17,-661.981C2835.03,-650.565 4309.6,-610.087 4740.27,-598.265\"/>\r\n</g>\r\n<!-- 14 -->\r\n<g id=\"node15\" class=\"node\"><title>14</title>\r\n<ellipse fill=\"none\" stroke=\"black\" cx=\"504.193\" cy=\"-522\" rx=\"82.5854\" ry=\"18\"/>\r\n<text text-anchor=\"middle\" x=\"504.193\" y=\"-518.3\" font-family=\"Times New Roman,serif\" font-size=\"14.00\">CPPASTName |LL|</text>\r\n</g>\r\n<!-- 7&#45;&gt;14 -->\r\n<g id=\"edge14\" class=\"edge\"><title>7&#45;&gt;14</title>\r\n<path fill=\"none\" stroke=\"black\" d=\"M626.349,-577.465C600.241,-565.824 564.687,-549.972 538.668,-538.371\"/>\r\n</g>\r\n<!-- 15 -->\r\n<g id=\"node16\" class=\"node\"><title>15</title>\r\n<ellipse fill=\"none\" stroke=\"black\" cx=\"692.193\" cy=\"-522\" rx=\"87.9851\" ry=\"18\"/>\r\n<text text-anchor=\"middle\" x=\"692.193\" y=\"-518.3\" font-family=\"Times New Roman,serif\" font-size=\"14.00\">CPPASTName |cmp|</text>\r\n</g>\r\n<!-- 9&#45;&gt;15 -->\r\n<g id=\"edge15\" class=\"edge\"><title>9&#45;&gt;15</title>\r\n<path fill=\"none\" stroke=\"black\" d=\"M1093.82,-581.561C1080.24,-579.701 1066.33,-577.796 1053.19,-576 935.865,-559.958 906.201,-558.224 789.193,-540 778.296,-538.303 766.733,-536.382 755.531,-534.457\"/>\r\n</g>\r\n<!-- 16 -->\r\n<g id=\"node17\" class=\"node\"><title>16</title>\r\n<ellipse fill=\"none\" stroke=\"black\" cx=\"920.193\" cy=\"-522\" rx=\"122.379\" ry=\"18\"/>\r\n<text text-anchor=\"middle\" x=\"920.193\" y=\"-518.3\" font-family=\"Times New Roman,serif\" font-size=\"14.00\">CPPASTParameterDeclaration</text>\r\n</g>\r\n<!-- 9&#45;&gt;16 -->\r\n<g id=\"edge16\" class=\"edge\"><title>9&#45;&gt;16</title>\r\n<path fill=\"none\" stroke=\"black\" d=\"M1122.37,-578.069C1079.18,-566.304 1019.21,-549.97 975.812,-538.149\"/>\r\n</g>\r\n<!-- 17 -->\r\n<g id=\"node18\" class=\"node\"><title>17</title>\r\n<ellipse fill=\"none\" stroke=\"black\" cx=\"1182.19\" cy=\"-522\" rx=\"122.379\" ry=\"18\"/>\r\n<text text-anchor=\"middle\" x=\"1182.19\" y=\"-518.3\" font-family=\"Times New Roman,serif\" font-size=\"14.00\">CPPASTParameterDeclaration</text>\r\n</g>\r\n<!-- 9&#45;&gt;17 -->\r\n<g id=\"edge17\" class=\"edge\"><title>9&#45;&gt;17</title>\r\n<path fill=\"none\" stroke=\"black\" d=\"M1178.43,-575.697C1179.2,-564.846 1180.2,-550.917 1180.97,-540.104\"/>\r\n</g>\r\n<!-- 18 -->\r\n<g id=\"node19\" class=\"node\"><title>18</title>\r\n<ellipse fill=\"none\" stroke=\"black\" cx=\"1533.19\" cy=\"-522\" rx=\"105.082\" ry=\"18\"/>\r\n<text text-anchor=\"middle\" x=\"1533.19\" y=\"-518.3\" font-family=\"Times New Roman,serif\" font-size=\"14.00\">CPPASTReturnStatement</text>\r\n</g>\r\n<!-- 10&#45;&gt;18 -->\r\n<g id=\"edge18\" class=\"edge\"><title>10&#45;&gt;18</title>\r\n<path fill=\"none\" stroke=\"black\" d=\"M1472.56,-576.055C1485.14,-565.049 1501.46,-550.764 1514.01,-539.789\"/>\r\n</g>\r\n<!-- 19 -->\r\n<g id=\"node20\" class=\"node\"><title>19</title>\r\n<ellipse fill=\"none\" stroke=\"black\" cx=\"2442.19\" cy=\"-522\" rx=\"89.0842\" ry=\"18\"/>\r\n<text text-anchor=\"middle\" x=\"2442.19\" y=\"-518.3\" font-family=\"Times New Roman,serif\" font-size=\"14.00\">CPPASTName |main|</text>\r\n</g>\r\n<!-- 12&#45;&gt;19 -->\r\n<g id=\"edge19\" class=\"edge\"><title>12&#45;&gt;19</title>\r\n<path fill=\"none\" stroke=\"black\" d=\"M2442.19,-575.697C2442.19,-564.846 2442.19,-550.917 2442.19,-540.104\"/>\r\n</g>\r\n<!-- 20 -->\r\n<g id=\"node21\" class=\"node\"><title>20</title>\r\n<ellipse fill=\"none\" stroke=\"black\" cx=\"2969.19\" cy=\"-522\" rx=\"122.379\" ry=\"18\"/>\r\n<text text-anchor=\"middle\" x=\"2969.19\" y=\"-518.3\" font-family=\"Times New Roman,serif\" font-size=\"14.00\">CPPASTDeclarationStatement</text>\r\n</g>\r\n<!-- 13&#45;&gt;20 -->\r\n<g id=\"edge20\" class=\"edge\"><title>13&#45;&gt;20</title>\r\n<path fill=\"none\" stroke=\"black\" d=\"M4742.39,-588.674C4403.87,-576.136 3424.8,-539.874 3086.12,-527.331\"/>\r\n</g>\r\n<!-- 21 -->\r\n<g id=\"node22\" class=\"node\"><title>21</title>\r\n<ellipse fill=\"none\" stroke=\"black\" cx=\"3681.19\" cy=\"-522\" rx=\"122.379\" ry=\"18\"/>\r\n<text text-anchor=\"middle\" x=\"3681.19\" y=\"-518.3\" font-family=\"Times New Roman,serif\" font-size=\"14.00\">CPPASTDeclarationStatement</text>\r\n</g>\r\n<!-- 13&#45;&gt;21 -->\r\n<g id=\"edge21\" class=\"edge\"><title>13&#45;&gt;21</title>\r\n<path fill=\"none\" stroke=\"black\" d=\"M4748.37,-586.415C4523.71,-573.065 4016.92,-542.95 3792.15,-529.593\"/>\r\n</g>\r\n<!-- 22 -->\r\n<g id=\"node23\" class=\"node\"><title>22</title>\r\n<ellipse fill=\"none\" stroke=\"black\" cx=\"4408.19\" cy=\"-522\" rx=\"121.578\" ry=\"18\"/>\r\n<text text-anchor=\"middle\" x=\"4408.19\" y=\"-518.3\" font-family=\"Times New Roman,serif\" font-size=\"14.00\">CPPASTExpressionStatement</text>\r\n</g>\r\n<!-- 13&#45;&gt;22 -->\r\n<g id=\"edge22\" class=\"edge\"><title>13&#45;&gt;22</title>\r\n<path fill=\"none\" stroke=\"black\" d=\"M4778.3,-580.445C4696.43,-567.737 4570.56,-548.201 4488.79,-535.509\"/>\r\n</g>\r\n<!-- 23 -->\r\n<g id=\"node24\" class=\"node\"><title>23</title>\r\n<ellipse fill=\"none\" stroke=\"black\" cx=\"4859.19\" cy=\"-522\" rx=\"94.4839\" ry=\"18\"/>\r\n<text text-anchor=\"middle\" x=\"4859.19\" y=\"-518.3\" font-family=\"Times New Roman,serif\" font-size=\"14.00\">CPPASTForStatement</text>\r\n</g>\r\n<!-- 13&#45;&gt;23 -->\r\n<g id=\"edge23\" class=\"edge\"><title>13&#45;&gt;23</title>\r\n<path fill=\"none\" stroke=\"black\" d=\"M4859.19,-575.697C4859.19,-564.846 4859.19,-550.917 4859.19,-540.104\"/>\r\n</g>\r\n<!-- 24 -->\r\n<g id=\"node25\" class=\"node\"><title>24</title>\r\n<ellipse fill=\"none\" stroke=\"black\" cx=\"5536.19\" cy=\"-522\" rx=\"121.578\" ry=\"18\"/>\r\n<text text-anchor=\"middle\" x=\"5536.19\" y=\"-518.3\" font-family=\"Times New Roman,serif\" font-size=\"14.00\">CPPASTExpressionStatement</text>\r\n</g>\r\n<!-- 13&#45;&gt;24 -->\r\n<g id=\"edge24\" class=\"edge\"><title>13&#45;&gt;24</title>\r\n<path fill=\"none\" stroke=\"black\" d=\"M4956.19,-582.971C5084.98,-569.654 5311.09,-546.275 5439.65,-532.982\"/>\r\n</g>\r\n<!-- 25 -->\r\n<g id=\"node26\" class=\"node\"><title>25</title>\r\n<ellipse fill=\"none\" stroke=\"black\" cx=\"7317.19\" cy=\"-522\" rx=\"94.4839\" ry=\"18\"/>\r\n<text text-anchor=\"middle\" x=\"7317.19\" y=\"-518.3\" font-family=\"Times New Roman,serif\" font-size=\"14.00\">CPPASTForStatement</text>\r\n</g>\r\n<!-- 13&#45;&gt;25 -->\r\n<g id=\"edge25\" class=\"edge\"><title>13&#45;&gt;25</title>\r\n<path fill=\"none\" stroke=\"black\" d=\"M4977.75,-589.624C5402.69,-577.522 6844.44,-536.463 7224.65,-525.636\"/>\r\n</g>\r\n<!-- 26 -->\r\n<g id=\"node27\" class=\"node\"><title>26</title>\r\n<ellipse fill=\"none\" stroke=\"black\" cx=\"7805.19\" cy=\"-522\" rx=\"121.578\" ry=\"18\"/>\r\n<text text-anchor=\"middle\" x=\"7805.19\" y=\"-518.3\" font-family=\"Times New Roman,serif\" font-size=\"14.00\">CPPASTExpressionStatement</text>\r\n</g>\r\n<!-- 13&#45;&gt;26 -->\r\n<g id=\"edge26\" class=\"edge\"><title>13&#45;&gt;26</title>\r\n<path fill=\"none\" stroke=\"black\" d=\"M4980.53,-591.498C5348.02,-586.733 6481.23,-570.442 7420.19,-540 7511.64,-537.035 7615.25,-532.387 7691.93,-528.7\"/>\r\n</g>\r\n<!-- 27 -->\r\n<g id=\"node28\" class=\"node\"><title>27</title>\r\n<ellipse fill=\"none\" stroke=\"black\" cx=\"8558.19\" cy=\"-522\" rx=\"105.082\" ry=\"18\"/>\r\n<text text-anchor=\"middle\" x=\"8558.19\" y=\"-518.3\" font-family=\"Times New Roman,serif\" font-size=\"14.00\">CPPASTReturnStatement</text>\r\n</g>\r\n<!-- 13&#45;&gt;27 -->\r\n<g id=\"edge27\" class=\"edge\"><title>13&#45;&gt;27</title>\r\n<path fill=\"none\" stroke=\"black\" d=\"M4980.15,-591.356C5393.17,-585.647 6785.77,-565.628 7936.19,-540 8119.12,-535.925 8332.26,-529.801 8455.57,-526.122\"/>\r\n</g>\r\n<!-- 28 -->\r\n<g id=\"node29\" class=\"node\"><title>28</title>\r\n<ellipse fill=\"none\" stroke=\"black\" cx=\"676.193\" cy=\"-450\" rx=\"122.379\" ry=\"18\"/>\r\n<text text-anchor=\"middle\" x=\"676.193\" y=\"-446.3\" font-family=\"Times New Roman,serif\" font-size=\"14.00\">CPPASTNamedTypeSpecifier</text>\r\n</g>\r\n<!-- 16&#45;&gt;28 -->\r\n<g id=\"edge28\" class=\"edge\"><title>16&#45;&gt;28</title>\r\n<path fill=\"none\" stroke=\"black\" d=\"M866.947,-505.725C826.142,-494.018 770.101,-477.941 729.324,-466.243\"/>\r\n</g>\r\n<!-- 29 -->\r\n<g id=\"node30\" class=\"node\"><title>29</title>\r\n<ellipse fill=\"none\" stroke=\"black\" cx=\"899.193\" cy=\"-450\" rx=\"83.3857\" ry=\"18\"/>\r\n<text text-anchor=\"middle\" x=\"899.193\" y=\"-446.3\" font-family=\"Times New Roman,serif\" font-size=\"14.00\">CPPASTDeclarator</text>\r\n</g>\r\n<!-- 16&#45;&gt;29 -->\r\n<g id=\"edge29\" class=\"edge\"><title>16&#45;&gt;29</title>\r\n<path fill=\"none\" stroke=\"black\" d=\"M915.002,-503.697C911.747,-492.846 907.568,-478.917 904.324,-468.104\"/>\r\n</g>\r\n<!-- 30 -->\r\n<g id=\"node31\" class=\"node\"><title>30</title>\r\n<ellipse fill=\"none\" stroke=\"black\" cx=\"1122.19\" cy=\"-450\" rx=\"122.379\" ry=\"18\"/>\r\n<text text-anchor=\"middle\" x=\"1122.19\" y=\"-446.3\" font-family=\"Times New Roman,serif\" font-size=\"14.00\">CPPASTNamedTypeSpecifier</text>\r\n</g>\r\n<!-- 17&#45;&gt;30 -->\r\n<g id=\"edge30\" class=\"edge\"><title>17&#45;&gt;30</title>\r\n<path fill=\"none\" stroke=\"black\" d=\"M1167.67,-504.055C1158.37,-493.211 1146.35,-479.183 1137,-468.275\"/>\r\n</g>\r\n<!-- 31 -->\r\n<g id=\"node32\" class=\"node\"><title>31</title>\r\n<ellipse fill=\"none\" stroke=\"black\" cx=\"1345.19\" cy=\"-450\" rx=\"83.3857\" ry=\"18\"/>\r\n<text text-anchor=\"middle\" x=\"1345.19\" y=\"-446.3\" font-family=\"Times New Roman,serif\" font-size=\"14.00\">CPPASTDeclarator</text>\r\n</g>\r\n<!-- 17&#45;&gt;31 -->\r\n<g id=\"edge31\" class=\"edge\"><title>17&#45;&gt;31</title>\r\n<path fill=\"none\" stroke=\"black\" d=\"M1220,-504.765C1246.99,-493.173 1283.06,-477.683 1309.55,-466.308\"/>\r\n</g>\r\n<!-- 32 -->\r\n<g id=\"node33\" class=\"node\"><title>32</title>\r\n<ellipse fill=\"none\" stroke=\"black\" cx=\"1575.19\" cy=\"-450\" rx=\"109.381\" ry=\"18\"/>\r\n<text text-anchor=\"middle\" x=\"1575.19\" y=\"-446.3\" font-family=\"Times New Roman,serif\" font-size=\"14.00\">CPPASTBinaryExpression</text>\r\n</g>\r\n<!-- 18&#45;&gt;32 -->\r\n<g id=\"edge32\" class=\"edge\"><title>18&#45;&gt;32</title>\r\n<path fill=\"none\" stroke=\"black\" d=\"M1543.36,-504.055C1549.87,-493.211 1558.28,-479.183 1564.83,-468.275\"/>\r\n</g>\r\n<!-- 33 -->\r\n<g id=\"node34\" class=\"node\"><title>33</title>\r\n<ellipse fill=\"none\" stroke=\"black\" cx=\"2191.19\" cy=\"-450\" rx=\"111.28\" ry=\"18\"/>\r\n<text text-anchor=\"middle\" x=\"2191.19\" y=\"-446.3\" font-family=\"Times New Roman,serif\" font-size=\"14.00\">CPPASTSimpleDeclaration</text>\r\n</g>\r\n<!-- 20&#45;&gt;33 -->\r\n<g id=\"edge33\" class=\"edge\"><title>20&#45;&gt;33</title>\r\n<path fill=\"none\" stroke=\"black\" d=\"M2867.88,-511.885C2716.44,-498.259 2433.12,-472.767 2285.73,-459.506\"/>\r\n</g>\r\n<!-- 34 -->\r\n<g id=\"node35\" class=\"node\"><title>34</title>\r\n<ellipse fill=\"none\" stroke=\"black\" cx=\"3260.19\" cy=\"-450\" rx=\"111.28\" ry=\"18\"/>\r\n<text text-anchor=\"middle\" x=\"3260.19\" y=\"-446.3\" font-family=\"Times New Roman,serif\" font-size=\"14.00\">CPPASTSimpleDeclaration</text>\r\n</g>\r\n<!-- 21&#45;&gt;34 -->\r\n<g id=\"edge34\" class=\"edge\"><title>21&#45;&gt;34</title>\r\n<path fill=\"none\" stroke=\"black\" d=\"M3603.48,-508.079C3526.74,-495.32 3410.2,-475.942 3334.62,-463.375\"/>\r\n</g>\r\n<!-- 35 -->\r\n<g id=\"node36\" class=\"node\"><title>35</title>\r\n<ellipse fill=\"none\" stroke=\"black\" cx=\"4077.19\" cy=\"-450\" rx=\"109.381\" ry=\"18\"/>\r\n<text text-anchor=\"middle\" x=\"4077.19\" y=\"-446.3\" font-family=\"Times New Roman,serif\" font-size=\"14.00\">CPPASTBinaryExpression</text>\r\n</g>\r\n<!-- 22&#45;&gt;35 -->\r\n<g id=\"edge35\" class=\"edge\"><title>22&#45;&gt;35</title>\r\n<path fill=\"none\" stroke=\"black\" d=\"M4341.61,-506.919C4283.27,-494.582 4199.04,-476.769 4141.42,-464.583\"/>\r\n</g>\r\n<!-- 36 -->\r\n<g id=\"node37\" class=\"node\"><title>36</title>\r\n<ellipse fill=\"none\" stroke=\"black\" cx=\"4386.19\" cy=\"-450\" rx=\"121.578\" ry=\"18\"/>\r\n<text text-anchor=\"middle\" x=\"4386.19\" y=\"-446.3\" font-family=\"Times New Roman,serif\" font-size=\"14.00\">CPPASTExpressionStatement</text>\r\n</g>\r\n<!-- 23&#45;&gt;36 -->\r\n<g id=\"edge36\" class=\"edge\"><title>23&#45;&gt;36</title>\r\n<path fill=\"none\" stroke=\"black\" d=\"M4787.1,-510.33C4701.5,-497.662 4559.02,-476.577 4468.98,-463.252\"/>\r\n</g>\r\n<!-- 37 -->\r\n<g id=\"node38\" class=\"node\"><title>37</title>\r\n<ellipse fill=\"none\" stroke=\"black\" cx=\"4728.19\" cy=\"-450\" rx=\"109.381\" ry=\"18\"/>\r\n<text text-anchor=\"middle\" x=\"4728.19\" y=\"-446.3\" font-family=\"Times New Roman,serif\" font-size=\"14.00\">CPPASTBinaryExpression</text>\r\n</g>\r\n<!-- 23&#45;&gt;37 -->\r\n<g id=\"edge37\" class=\"edge\"><title>23&#45;&gt;37</title>\r\n<path fill=\"none\" stroke=\"black\" d=\"M4828.81,-504.765C4807.8,-493.537 4779.94,-478.651 4758.86,-467.39\"/>\r\n</g>\r\n<!-- 38 -->\r\n<g id=\"node39\" class=\"node\"><title>38</title>\r\n<ellipse fill=\"none\" stroke=\"black\" cx=\"4990.19\" cy=\"-450\" rx=\"107.781\" ry=\"18\"/>\r\n<text text-anchor=\"middle\" x=\"4990.19\" y=\"-446.3\" font-family=\"Times New Roman,serif\" font-size=\"14.00\">CPPASTUnaryExpression</text>\r\n</g>\r\n<!-- 23&#45;&gt;38 -->\r\n<g id=\"edge38\" class=\"edge\"><title>23&#45;&gt;38</title>\r\n<path fill=\"none\" stroke=\"black\" d=\"M4889.58,-504.765C4910.59,-493.537 4938.45,-478.651 4959.52,-467.39\"/>\r\n</g>\r\n<!-- 39 -->\r\n<g id=\"node40\" class=\"node\"><title>39</title>\r\n<ellipse fill=\"none\" stroke=\"black\" cx=\"5372.19\" cy=\"-450\" rx=\"122.379\" ry=\"18\"/>\r\n<text text-anchor=\"middle\" x=\"5372.19\" y=\"-446.3\" font-family=\"Times New Roman,serif\" font-size=\"14.00\">CPPASTCompoundStatement</text>\r\n</g>\r\n<!-- 23&#45;&gt;39 -->\r\n<g id=\"edge39\" class=\"edge\"><title>23&#45;&gt;39</title>\r\n<path fill=\"none\" stroke=\"black\" d=\"M4933.51,-510.859C5026.95,-498.109 5187.06,-476.262 5285.84,-462.783\"/>\r\n</g>\r\n<!-- 40 -->\r\n<g id=\"node41\" class=\"node\"><title>40</title>\r\n<ellipse fill=\"none\" stroke=\"black\" cx=\"6110.19\" cy=\"-450\" rx=\"131.877\" ry=\"18\"/>\r\n<text text-anchor=\"middle\" x=\"6110.19\" y=\"-446.3\" font-family=\"Times New Roman,serif\" font-size=\"14.00\">CPPASTFunctionCallExpression</text>\r\n</g>\r\n<!-- 24&#45;&gt;40 -->\r\n<g id=\"edge40\" class=\"edge\"><title>24&#45;&gt;40</title>\r\n<path fill=\"none\" stroke=\"black\" d=\"M5626.83,-509.947C5732.82,-497.021 5907.45,-475.724 6015.26,-462.577\"/>\r\n</g>\r\n<!-- 41 -->\r\n<g id=\"node42\" class=\"node\"><title>41</title>\r\n<ellipse fill=\"none\" stroke=\"black\" cx=\"7002.19\" cy=\"-450\" rx=\"121.578\" ry=\"18\"/>\r\n<text text-anchor=\"middle\" x=\"7002.19\" y=\"-446.3\" font-family=\"Times New Roman,serif\" font-size=\"14.00\">CPPASTExpressionStatement</text>\r\n</g>\r\n<!-- 25&#45;&gt;41 -->\r\n<g id=\"edge41\" class=\"edge\"><title>25&#45;&gt;41</title>\r\n<path fill=\"none\" stroke=\"black\" d=\"M7258.31,-507.916C7203.73,-495.787 7122.72,-477.783 7066.47,-465.285\"/>\r\n</g>\r\n<!-- 42 -->\r\n<g id=\"node43\" class=\"node\"><title>42</title>\r\n<ellipse fill=\"none\" stroke=\"black\" cx=\"7317.19\" cy=\"-450\" rx=\"109.381\" ry=\"18\"/>\r\n<text text-anchor=\"middle\" x=\"7317.19\" y=\"-446.3\" font-family=\"Times New Roman,serif\" font-size=\"14.00\">CPPASTBinaryExpression</text>\r\n</g>\r\n<!-- 25&#45;&gt;42 -->\r\n<g id=\"edge42\" class=\"edge\"><title>25&#45;&gt;42</title>\r\n<path fill=\"none\" stroke=\"black\" d=\"M7317.19,-503.697C7317.19,-492.846 7317.19,-478.917 7317.19,-468.104\"/>\r\n</g>\r\n<!-- 43 -->\r\n<g id=\"node44\" class=\"node\"><title>43</title>\r\n<ellipse fill=\"none\" stroke=\"black\" cx=\"7605.19\" cy=\"-450\" rx=\"107.781\" ry=\"18\"/>\r\n<text text-anchor=\"middle\" x=\"7605.19\" y=\"-446.3\" font-family=\"Times New Roman,serif\" font-size=\"14.00\">CPPASTUnaryExpression</text>\r\n</g>\r\n<!-- 25&#45;&gt;43 -->\r\n<g id=\"edge43\" class=\"edge\"><title>25&#45;&gt;43</title>\r\n<path fill=\"none\" stroke=\"black\" d=\"M7373.06,-507.42C7422.95,-495.294 7495.78,-477.594 7546.51,-465.263\"/>\r\n</g>\r\n<!-- 44 -->\r\n<g id=\"node45\" class=\"node\"><title>44</title>\r\n<ellipse fill=\"none\" stroke=\"black\" cx=\"7963.19\" cy=\"-450\" rx=\"122.379\" ry=\"18\"/>\r\n<text text-anchor=\"middle\" x=\"7963.19\" y=\"-446.3\" font-family=\"Times New Roman,serif\" font-size=\"14.00\">CPPASTCompoundStatement</text>\r\n</g>\r\n<!-- 25&#45;&gt;44 -->\r\n<g id=\"edge44\" class=\"edge\"><title>25&#45;&gt;44</title>\r\n<path fill=\"none\" stroke=\"black\" d=\"M7397.05,-512.346C7516.3,-499.425 7740.49,-475.131 7868.06,-461.309\"/>\r\n</g>\r\n<!-- 45 -->\r\n<g id=\"node46\" class=\"node\"><title>45</title>\r\n<ellipse fill=\"none\" stroke=\"black\" cx=\"8640.19\" cy=\"-450\" rx=\"109.381\" ry=\"18\"/>\r\n<text text-anchor=\"middle\" x=\"8640.19\" y=\"-446.3\" font-family=\"Times New Roman,serif\" font-size=\"14.00\">CPPASTBinaryExpression</text>\r\n</g>\r\n<!-- 26&#45;&gt;45 -->\r\n<g id=\"edge45\" class=\"edge\"><title>26&#45;&gt;45</title>\r\n<path fill=\"none\" stroke=\"black\" d=\"M7908,-512.382C8071.14,-498.705 8386.99,-472.226 8545.14,-458.969\"/>\r\n</g>\r\n<!-- 46 -->\r\n<g id=\"node47\" class=\"node\"><title>46</title>\r\n<ellipse fill=\"none\" stroke=\"black\" cx=\"8885.19\" cy=\"-450\" rx=\"118.079\" ry=\"18\"/>\r\n<text text-anchor=\"middle\" x=\"8885.19\" y=\"-446.3\" font-family=\"Times New Roman,serif\" font-size=\"14.00\">CPPASTLiteralExpression |0|</text>\r\n</g>\r\n<!-- 27&#45;&gt;46 -->\r\n<g id=\"edge46\" class=\"edge\"><title>27&#45;&gt;46</title>\r\n<path fill=\"none\" stroke=\"black\" d=\"M8621.24,-507.503C8678.22,-495.307 8761.77,-477.422 8819.54,-465.055\"/>\r\n</g>\r\n<!-- 47 -->\r\n<g id=\"node48\" class=\"node\"><title>47</title>\r\n<ellipse fill=\"none\" stroke=\"black\" cx=\"676.193\" cy=\"-378\" rx=\"82.5854\" ry=\"18\"/>\r\n<text text-anchor=\"middle\" x=\"676.193\" y=\"-374.3\" font-family=\"Times New Roman,serif\" font-size=\"14.00\">CPPASTName |LL|</text>\r\n</g>\r\n<!-- 28&#45;&gt;47 -->\r\n<g id=\"edge47\" class=\"edge\"><title>28&#45;&gt;47</title>\r\n<path fill=\"none\" stroke=\"black\" d=\"M676.193,-431.697C676.193,-420.846 676.193,-406.917 676.193,-396.104\"/>\r\n</g>\r\n<!-- 48 -->\r\n<g id=\"node49\" class=\"node\"><title>48</title>\r\n<ellipse fill=\"none\" stroke=\"black\" cx=\"899.193\" cy=\"-378\" rx=\"73.387\" ry=\"18\"/>\r\n<text text-anchor=\"middle\" x=\"899.193\" y=\"-374.3\" font-family=\"Times New Roman,serif\" font-size=\"14.00\">CPPASTName |i|</text>\r\n</g>\r\n<!-- 29&#45;&gt;48 -->\r\n<g id=\"edge48\" class=\"edge\"><title>29&#45;&gt;48</title>\r\n<path fill=\"none\" stroke=\"black\" d=\"M899.193,-431.697C899.193,-420.846 899.193,-406.917 899.193,-396.104\"/>\r\n</g>\r\n<!-- 49 -->\r\n<g id=\"node50\" class=\"node\"><title>49</title>\r\n<ellipse fill=\"none\" stroke=\"black\" cx=\"1097.19\" cy=\"-378\" rx=\"82.5854\" ry=\"18\"/>\r\n<text text-anchor=\"middle\" x=\"1097.19\" y=\"-374.3\" font-family=\"Times New Roman,serif\" font-size=\"14.00\">CPPASTName |LL|</text>\r\n</g>\r\n<!-- 30&#45;&gt;49 -->\r\n<g id=\"edge49\" class=\"edge\"><title>30&#45;&gt;49</title>\r\n<path fill=\"none\" stroke=\"black\" d=\"M1116.01,-431.697C1112.14,-420.846 1107.16,-406.917 1103.3,-396.104\"/>\r\n</g>\r\n<!-- 50 -->\r\n<g id=\"node51\" class=\"node\"><title>50</title>\r\n<ellipse fill=\"none\" stroke=\"black\" cx=\"1271.19\" cy=\"-378\" rx=\"73.387\" ry=\"18\"/>\r\n<text text-anchor=\"middle\" x=\"1271.19\" y=\"-374.3\" font-family=\"Times New Roman,serif\" font-size=\"14.00\">CPPASTName |j|</text>\r\n</g>\r\n<!-- 31&#45;&gt;50 -->\r\n<g id=\"edge50\" class=\"edge\"><title>31&#45;&gt;50</title>\r\n<path fill=\"none\" stroke=\"black\" d=\"M1327.28,-432.055C1315.56,-420.968 1300.32,-406.553 1288.69,-395.547\"/>\r\n</g>\r\n<!-- 51 -->\r\n<g id=\"node52\" class=\"node\"><title>51</title>\r\n<ellipse fill=\"none\" stroke=\"black\" cx=\"1456.19\" cy=\"-378\" rx=\"93.6835\" ry=\"18\"/>\r\n<text text-anchor=\"middle\" x=\"1456.19\" y=\"-374.3\" font-family=\"Times New Roman,serif\" font-size=\"14.00\">CPPASTIdExpression</text>\r\n</g>\r\n<!-- 32&#45;&gt;51 -->\r\n<g id=\"edge51\" class=\"edge\"><title>32&#45;&gt;51</title>\r\n<path fill=\"none\" stroke=\"black\" d=\"M1547.29,-432.588C1528.19,-421.354 1502.98,-406.521 1483.92,-395.309\"/>\r\n</g>\r\n<!-- 52 -->\r\n<g id=\"node53\" class=\"node\"><title>52</title>\r\n<ellipse fill=\"none\" stroke=\"black\" cx=\"1595.19\" cy=\"-378\" rx=\"27\" ry=\"18\"/>\r\n<text text-anchor=\"middle\" x=\"1595.19\" y=\"-374.3\" font-family=\"Times New Roman,serif\" font-size=\"14.00\">&gt; |&gt;|</text>\r\n</g>\r\n<!-- 32&#45;&gt;52 -->\r\n<g id=\"edge52\" class=\"edge\"><title>32&#45;&gt;52</title>\r\n<path fill=\"none\" stroke=\"black\" d=\"M1580.14,-431.697C1583.24,-420.846 1587.22,-406.917 1590.31,-396.104\"/>\r\n</g>\r\n<!-- 53 -->\r\n<g id=\"node54\" class=\"node\"><title>53</title>\r\n<ellipse fill=\"none\" stroke=\"black\" cx=\"1734.19\" cy=\"-378\" rx=\"93.6835\" ry=\"18\"/>\r\n<text text-anchor=\"middle\" x=\"1734.19\" y=\"-374.3\" font-family=\"Times New Roman,serif\" font-size=\"14.00\">CPPASTIdExpression</text>\r\n</g>\r\n<!-- 32&#45;&gt;53 -->\r\n<g id=\"edge53\" class=\"edge\"><title>32&#45;&gt;53</title>\r\n<path fill=\"none\" stroke=\"black\" d=\"M1611.67,-432.941C1637.71,-421.477 1672.56,-406.135 1698.43,-394.743\"/>\r\n</g>\r\n<!-- 54 -->\r\n<g id=\"node55\" class=\"node\"><title>54</title>\r\n<ellipse fill=\"none\" stroke=\"black\" cx=\"1968.19\" cy=\"-378\" rx=\"122.379\" ry=\"18\"/>\r\n<text text-anchor=\"middle\" x=\"1968.19\" y=\"-374.3\" font-family=\"Times New Roman,serif\" font-size=\"14.00\">CPPASTNamedTypeSpecifier</text>\r\n</g>\r\n<!-- 33&#45;&gt;54 -->\r\n<g id=\"edge54\" class=\"edge\"><title>33&#45;&gt;54</title>\r\n<path fill=\"none\" stroke=\"black\" d=\"M2142.53,-433.725C2105.49,-422.099 2054.72,-406.162 2017.52,-394.485\"/>\r\n</g>\r\n<!-- 55 -->\r\n<g id=\"node56\" class=\"node\"><title>55</title>\r\n<ellipse fill=\"none\" stroke=\"black\" cx=\"2191.19\" cy=\"-378\" rx=\"83.3857\" ry=\"18\"/>\r\n<text text-anchor=\"middle\" x=\"2191.19\" y=\"-374.3\" font-family=\"Times New Roman,serif\" font-size=\"14.00\">CPPASTDeclarator</text>\r\n</g>\r\n<!-- 33&#45;&gt;55 -->\r\n<g id=\"edge55\" class=\"edge\"><title>33&#45;&gt;55</title>\r\n<path fill=\"none\" stroke=\"black\" d=\"M2191.19,-431.697C2191.19,-420.846 2191.19,-406.917 2191.19,-396.104\"/>\r\n</g>\r\n<!-- 56 -->\r\n<g id=\"node57\" class=\"node\"><title>56</title>\r\n<ellipse fill=\"none\" stroke=\"black\" cx=\"2460.19\" cy=\"-378\" rx=\"122.379\" ry=\"18\"/>\r\n<text text-anchor=\"middle\" x=\"2460.19\" y=\"-374.3\" font-family=\"Times New Roman,serif\" font-size=\"14.00\">CPPASTNamedTypeSpecifier</text>\r\n</g>\r\n<!-- 34&#45;&gt;56 -->\r\n<g id=\"edge56\" class=\"edge\"><title>34&#45;&gt;56</title>\r\n<path fill=\"none\" stroke=\"black\" d=\"M3160.84,-441.916C3033.09,-432.577 2804.44,-415.081 2609.19,-396 2590.67,-394.189 2570.86,-392.064 2551.95,-389.941\"/>\r\n</g>\r\n<!-- 57 -->\r\n<g id=\"node58\" class=\"node\"><title>57</title>\r\n<ellipse fill=\"none\" stroke=\"black\" cx=\"2701.19\" cy=\"-378\" rx=\"83.3857\" ry=\"18\"/>\r\n<text text-anchor=\"middle\" x=\"2701.19\" y=\"-374.3\" font-family=\"Times New Roman,serif\" font-size=\"14.00\">CPPASTDeclarator</text>\r\n</g>\r\n<!-- 34&#45;&gt;57 -->\r\n<g id=\"edge57\" class=\"edge\"><title>34&#45;&gt;57</title>\r\n<path fill=\"none\" stroke=\"black\" d=\"M3175.29,-438.369C3064.88,-424.542 2874.04,-400.644 2771.38,-387.789\"/>\r\n</g>\r\n<!-- 58 -->\r\n<g id=\"node59\" class=\"node\"><title>58</title>\r\n<ellipse fill=\"none\" stroke=\"black\" cx=\"3076.19\" cy=\"-378\" rx=\"83.3857\" ry=\"18\"/>\r\n<text text-anchor=\"middle\" x=\"3076.19\" y=\"-374.3\" font-family=\"Times New Roman,serif\" font-size=\"14.00\">CPPASTDeclarator</text>\r\n</g>\r\n<!-- 34&#45;&gt;58 -->\r\n<g id=\"edge58\" class=\"edge\"><title>34&#45;&gt;58</title>\r\n<path fill=\"none\" stroke=\"black\" d=\"M3218.44,-433.116C3187.59,-421.378 3145.85,-405.501 3115.58,-393.983\"/>\r\n</g>\r\n<!-- 59 -->\r\n<g id=\"node60\" class=\"node\"><title>59</title>\r\n<ellipse fill=\"none\" stroke=\"black\" cx=\"3260.19\" cy=\"-378\" rx=\"83.3857\" ry=\"18\"/>\r\n<text text-anchor=\"middle\" x=\"3260.19\" y=\"-374.3\" font-family=\"Times New Roman,serif\" font-size=\"14.00\">CPPASTDeclarator</text>\r\n</g>\r\n<!-- 34&#45;&gt;59 -->\r\n<g id=\"edge59\" class=\"edge\"><title>34&#45;&gt;59</title>\r\n<path fill=\"none\" stroke=\"black\" d=\"M3260.19,-431.697C3260.19,-420.846 3260.19,-406.917 3260.19,-396.104\"/>\r\n</g>\r\n<!-- 60 -->\r\n<g id=\"node61\" class=\"node\"><title>60</title>\r\n<ellipse fill=\"none\" stroke=\"black\" cx=\"3444.19\" cy=\"-378\" rx=\"83.3857\" ry=\"18\"/>\r\n<text text-anchor=\"middle\" x=\"3444.19\" y=\"-374.3\" font-family=\"Times New Roman,serif\" font-size=\"14.00\">CPPASTDeclarator</text>\r\n</g>\r\n<!-- 34&#45;&gt;60 -->\r\n<g id=\"edge60\" class=\"edge\"><title>34&#45;&gt;60</title>\r\n<path fill=\"none\" stroke=\"black\" d=\"M3301.95,-433.116C3332.8,-421.378 3374.53,-405.501 3404.81,-393.983\"/>\r\n</g>\r\n<!-- 61 -->\r\n<g id=\"node62\" class=\"node\"><title>61</title>\r\n<ellipse fill=\"none\" stroke=\"black\" cx=\"3628.19\" cy=\"-378\" rx=\"83.3857\" ry=\"18\"/>\r\n<text text-anchor=\"middle\" x=\"3628.19\" y=\"-374.3\" font-family=\"Times New Roman,serif\" font-size=\"14.00\">CPPASTDeclarator</text>\r\n</g>\r\n<!-- 34&#45;&gt;61 -->\r\n<g id=\"edge61\" class=\"edge\"><title>34&#45;&gt;61</title>\r\n<path fill=\"none\" stroke=\"black\" d=\"M3329.41,-435.834C3398.12,-422.764 3502.38,-402.932 3567.82,-390.484\"/>\r\n</g>\r\n<!-- 62 -->\r\n<g id=\"node63\" class=\"node\"><title>62</title>\r\n<ellipse fill=\"none\" stroke=\"black\" cx=\"3823.19\" cy=\"-378\" rx=\"93.6835\" ry=\"18\"/>\r\n<text text-anchor=\"middle\" x=\"3823.19\" y=\"-374.3\" font-family=\"Times New Roman,serif\" font-size=\"14.00\">CPPASTIdExpression</text>\r\n</g>\r\n<!-- 35&#45;&gt;62 -->\r\n<g id=\"edge62\" class=\"edge\"><title>35&#45;&gt;62</title>\r\n<path fill=\"none\" stroke=\"black\" d=\"M4023.64,-434.24C3979.68,-422.127 3917.84,-405.084 3874.51,-393.142\"/>\r\n</g>\r\n<!-- 63 -->\r\n<g id=\"node64\" class=\"node\"><title>63</title>\r\n<ellipse fill=\"none\" stroke=\"black\" cx=\"3972.19\" cy=\"-378\" rx=\"37.8943\" ry=\"18\"/>\r\n<text text-anchor=\"middle\" x=\"3972.19\" y=\"-374.3\" font-family=\"Times New Roman,serif\" font-size=\"14.00\">&gt;&gt; |&gt;&gt;|</text>\r\n</g>\r\n<!-- 35&#45;&gt;63 -->\r\n<g id=\"edge63\" class=\"edge\"><title>35&#45;&gt;63</title>\r\n<path fill=\"none\" stroke=\"black\" d=\"M4052.31,-432.411C4034.36,-420.444 4010.39,-404.462 3993.35,-393.108\"/>\r\n</g>\r\n<!-- 64 -->\r\n<g id=\"node65\" class=\"node\"><title>64</title>\r\n<ellipse fill=\"none\" stroke=\"black\" cx=\"4121.19\" cy=\"-378\" rx=\"93.6835\" ry=\"18\"/>\r\n<text text-anchor=\"middle\" x=\"4121.19\" y=\"-374.3\" font-family=\"Times New Roman,serif\" font-size=\"14.00\">CPPASTIdExpression</text>\r\n</g>\r\n<!-- 35&#45;&gt;64 -->\r\n<g id=\"edge64\" class=\"edge\"><title>35&#45;&gt;64</title>\r\n<path fill=\"none\" stroke=\"black\" d=\"M4087.84,-432.055C4094.66,-421.211 4103.48,-407.183 4110.33,-396.275\"/>\r\n</g>\r\n<!-- 65 -->\r\n<g id=\"node66\" class=\"node\"><title>65</title>\r\n<ellipse fill=\"none\" stroke=\"black\" cx=\"4342.19\" cy=\"-378\" rx=\"109.381\" ry=\"18\"/>\r\n<text text-anchor=\"middle\" x=\"4342.19\" y=\"-374.3\" font-family=\"Times New Roman,serif\" font-size=\"14.00\">CPPASTBinaryExpression</text>\r\n</g>\r\n<!-- 36&#45;&gt;65 -->\r\n<g id=\"edge65\" class=\"edge\"><title>36&#45;&gt;65</title>\r\n<path fill=\"none\" stroke=\"black\" d=\"M4375.54,-432.055C4368.73,-421.211 4359.91,-407.183 4353.05,-396.275\"/>\r\n</g>\r\n<!-- 66 -->\r\n<g id=\"node67\" class=\"node\"><title>66</title>\r\n<ellipse fill=\"none\" stroke=\"black\" cx=\"4563.19\" cy=\"-378\" rx=\"93.6835\" ry=\"18\"/>\r\n<text text-anchor=\"middle\" x=\"4563.19\" y=\"-374.3\" font-family=\"Times New Roman,serif\" font-size=\"14.00\">CPPASTIdExpression</text>\r\n</g>\r\n<!-- 37&#45;&gt;66 -->\r\n<g id=\"edge66\" class=\"edge\"><title>37&#45;&gt;66</title>\r\n<path fill=\"none\" stroke=\"black\" d=\"M4690.34,-432.941C4663.22,-421.437 4626.9,-406.027 4600.02,-394.623\"/>\r\n</g>\r\n<!-- 67 -->\r\n<g id=\"node68\" class=\"node\"><title>67</title>\r\n<ellipse fill=\"none\" stroke=\"black\" cx=\"4702.19\" cy=\"-378\" rx=\"27\" ry=\"18\"/>\r\n<text text-anchor=\"middle\" x=\"4702.19\" y=\"-374.3\" font-family=\"Times New Roman,serif\" font-size=\"14.00\">&lt; |&lt;|</text>\r\n</g>\r\n<!-- 37&#45;&gt;67 -->\r\n<g id=\"edge67\" class=\"edge\"><title>37&#45;&gt;67</title>\r\n<path fill=\"none\" stroke=\"black\" d=\"M4721.77,-431.697C4717.68,-420.684 4712.41,-406.5 4708.37,-395.622\"/>\r\n</g>\r\n<!-- 68 -->\r\n<g id=\"node69\" class=\"node\"><title>68</title>\r\n<ellipse fill=\"none\" stroke=\"black\" cx=\"4841.19\" cy=\"-378\" rx=\"93.6835\" ry=\"18\"/>\r\n<text text-anchor=\"middle\" x=\"4841.19\" y=\"-374.3\" font-family=\"Times New Roman,serif\" font-size=\"14.00\">CPPASTIdExpression</text>\r\n</g>\r\n<!-- 37&#45;&gt;68 -->\r\n<g id=\"edge68\" class=\"edge\"><title>37&#45;&gt;68</title>\r\n<path fill=\"none\" stroke=\"black\" d=\"M4754.97,-432.411C4772.99,-421.252 4796.63,-406.604 4814.61,-395.47\"/>\r\n</g>\r\n<!-- 69 -->\r\n<g id=\"node70\" class=\"node\"><title>69</title>\r\n<ellipse fill=\"none\" stroke=\"black\" cx=\"4990.19\" cy=\"-378\" rx=\"37.8943\" ry=\"18\"/>\r\n<text text-anchor=\"middle\" x=\"4990.19\" y=\"-374.3\" font-family=\"Times New Roman,serif\" font-size=\"14.00\">++ |++|</text>\r\n</g>\r\n<!-- 38&#45;&gt;69 -->\r\n<g id=\"edge69\" class=\"edge\"><title>38&#45;&gt;69</title>\r\n<path fill=\"none\" stroke=\"black\" d=\"M4990.19,-431.697C4990.19,-420.846 4990.19,-406.917 4990.19,-396.104\"/>\r\n</g>\r\n<!-- 70 -->\r\n<g id=\"node71\" class=\"node\"><title>70</title>\r\n<ellipse fill=\"none\" stroke=\"black\" cx=\"5139.19\" cy=\"-378\" rx=\"93.6835\" ry=\"18\"/>\r\n<text text-anchor=\"middle\" x=\"5139.19\" y=\"-374.3\" font-family=\"Times New Roman,serif\" font-size=\"14.00\">CPPASTIdExpression</text>\r\n</g>\r\n<!-- 38&#45;&gt;70 -->\r\n<g id=\"edge70\" class=\"edge\"><title>38&#45;&gt;70</title>\r\n<path fill=\"none\" stroke=\"black\" d=\"M5024.75,-432.765C5048.99,-421.375 5081.25,-406.222 5105.34,-394.906\"/>\r\n</g>\r\n<!-- 71 -->\r\n<g id=\"node72\" class=\"node\"><title>71</title>\r\n<ellipse fill=\"none\" stroke=\"black\" cx=\"5372.19\" cy=\"-378\" rx=\"121.578\" ry=\"18\"/>\r\n<text text-anchor=\"middle\" x=\"5372.19\" y=\"-374.3\" font-family=\"Times New Roman,serif\" font-size=\"14.00\">CPPASTExpressionStatement</text>\r\n</g>\r\n<!-- 39&#45;&gt;71 -->\r\n<g id=\"edge71\" class=\"edge\"><title>39&#45;&gt;71</title>\r\n<path fill=\"none\" stroke=\"black\" d=\"M5372.19,-431.697C5372.19,-420.846 5372.19,-406.917 5372.19,-396.104\"/>\r\n</g>\r\n<!-- 72 -->\r\n<g id=\"node73\" class=\"node\"><title>72</title>\r\n<ellipse fill=\"none\" stroke=\"black\" cx=\"5633.19\" cy=\"-378\" rx=\"121.578\" ry=\"18\"/>\r\n<text text-anchor=\"middle\" x=\"5633.19\" y=\"-374.3\" font-family=\"Times New Roman,serif\" font-size=\"14.00\">CPPASTExpressionStatement</text>\r\n</g>\r\n<!-- 39&#45;&gt;72 -->\r\n<g id=\"edge72\" class=\"edge\"><title>39&#45;&gt;72</title>\r\n<path fill=\"none\" stroke=\"black\" d=\"M5428.18,-433.983C5472.22,-422.173 5533.28,-405.796 5577.29,-393.992\"/>\r\n</g>\r\n<!-- 73 -->\r\n<g id=\"node74\" class=\"node\"><title>73</title>\r\n<ellipse fill=\"none\" stroke=\"black\" cx=\"5866.19\" cy=\"-378\" rx=\"93.6835\" ry=\"18\"/>\r\n<text text-anchor=\"middle\" x=\"5866.19\" y=\"-374.3\" font-family=\"Times New Roman,serif\" font-size=\"14.00\">CPPASTIdExpression</text>\r\n</g>\r\n<!-- 40&#45;&gt;73 -->\r\n<g id=\"edge73\" class=\"edge\"><title>40&#45;&gt;73</title>\r\n<path fill=\"none\" stroke=\"black\" d=\"M6056.34,-433.552C6014.52,-421.553 5956.97,-405.042 5916.16,-393.335\"/>\r\n</g>\r\n<!-- 74 -->\r\n<g id=\"node75\" class=\"node\"><title>74</title>\r\n<ellipse fill=\"none\" stroke=\"black\" cx=\"6110.19\" cy=\"-378\" rx=\"131.877\" ry=\"18\"/>\r\n<text text-anchor=\"middle\" x=\"6110.19\" y=\"-374.3\" font-family=\"Times New Roman,serif\" font-size=\"14.00\">CPPASTFunctionCallExpression</text>\r\n</g>\r\n<!-- 40&#45;&gt;74 -->\r\n<g id=\"edge74\" class=\"edge\"><title>40&#45;&gt;74</title>\r\n<path fill=\"none\" stroke=\"black\" d=\"M6110.19,-431.697C6110.19,-420.846 6110.19,-406.917 6110.19,-396.104\"/>\r\n</g>\r\n<!-- 75 -->\r\n<g id=\"node76\" class=\"node\"><title>75</title>\r\n<ellipse fill=\"none\" stroke=\"black\" cx=\"6392.19\" cy=\"-378\" rx=\"131.877\" ry=\"18\"/>\r\n<text text-anchor=\"middle\" x=\"6392.19\" y=\"-374.3\" font-family=\"Times New Roman,serif\" font-size=\"14.00\">CPPASTFunctionCallExpression</text>\r\n</g>\r\n<!-- 40&#45;&gt;75 -->\r\n<g id=\"edge75\" class=\"edge\"><title>40&#45;&gt;75</title>\r\n<path fill=\"none\" stroke=\"black\" d=\"M6170.69,-433.983C6218.11,-422.213 6283.79,-405.908 6331.31,-394.113\"/>\r\n</g>\r\n<!-- 76 -->\r\n<g id=\"node77\" class=\"node\"><title>76</title>\r\n<ellipse fill=\"none\" stroke=\"black\" cx=\"6636.19\" cy=\"-378\" rx=\"93.6835\" ry=\"18\"/>\r\n<text text-anchor=\"middle\" x=\"6636.19\" y=\"-374.3\" font-family=\"Times New Roman,serif\" font-size=\"14.00\">CPPASTIdExpression</text>\r\n</g>\r\n<!-- 40&#45;&gt;76 -->\r\n<g id=\"edge76\" class=\"edge\"><title>40&#45;&gt;76</title>\r\n<path fill=\"none\" stroke=\"black\" d=\"M6207.78,-437.865C6293.61,-427.811 6421.86,-412.156 6533.19,-396 6544.67,-394.334 6556.85,-392.439 6568.66,-390.533\"/>\r\n</g>\r\n<!-- 77 -->\r\n<g id=\"node78\" class=\"node\"><title>77</title>\r\n<ellipse fill=\"none\" stroke=\"black\" cx=\"6947.19\" cy=\"-378\" rx=\"109.381\" ry=\"18\"/>\r\n<text text-anchor=\"middle\" x=\"6947.19\" y=\"-374.3\" font-family=\"Times New Roman,serif\" font-size=\"14.00\">CPPASTBinaryExpression</text>\r\n</g>\r\n<!-- 41&#45;&gt;77 -->\r\n<g id=\"edge77\" class=\"edge\"><title>41&#45;&gt;77</title>\r\n<path fill=\"none\" stroke=\"black\" d=\"M6988.88,-432.055C6980.36,-421.211 6969.34,-407.183 6960.77,-396.275\"/>\r\n</g>\r\n<!-- 78 -->\r\n<g id=\"node79\" class=\"node\"><title>78</title>\r\n<ellipse fill=\"none\" stroke=\"black\" cx=\"7178.19\" cy=\"-378\" rx=\"93.6835\" ry=\"18\"/>\r\n<text text-anchor=\"middle\" x=\"7178.19\" y=\"-374.3\" font-family=\"Times New Roman,serif\" font-size=\"14.00\">CPPASTIdExpression</text>\r\n</g>\r\n<!-- 42&#45;&gt;78 -->\r\n<g id=\"edge78\" class=\"edge\"><title>42&#45;&gt;78</title>\r\n<path fill=\"none\" stroke=\"black\" d=\"M7284.95,-432.765C7262.5,-421.456 7232.67,-406.437 7210.26,-395.147\"/>\r\n</g>\r\n<!-- 79 -->\r\n<g id=\"node80\" class=\"node\"><title>79</title>\r\n<ellipse fill=\"none\" stroke=\"black\" cx=\"7317.19\" cy=\"-378\" rx=\"27\" ry=\"18\"/>\r\n<text text-anchor=\"middle\" x=\"7317.19\" y=\"-374.3\" font-family=\"Times New Roman,serif\" font-size=\"14.00\">&lt; |&lt;|</text>\r\n</g>\r\n<!-- 42&#45;&gt;79 -->\r\n<g id=\"edge79\" class=\"edge\"><title>42&#45;&gt;79</title>\r\n<path fill=\"none\" stroke=\"black\" d=\"M7317.19,-431.697C7317.19,-420.846 7317.19,-406.917 7317.19,-396.104\"/>\r\n</g>\r\n<!-- 80 -->\r\n<g id=\"node81\" class=\"node\"><title>80</title>\r\n<ellipse fill=\"none\" stroke=\"black\" cx=\"7456.19\" cy=\"-378\" rx=\"93.6835\" ry=\"18\"/>\r\n<text text-anchor=\"middle\" x=\"7456.19\" y=\"-374.3\" font-family=\"Times New Roman,serif\" font-size=\"14.00\">CPPASTIdExpression</text>\r\n</g>\r\n<!-- 42&#45;&gt;80 -->\r\n<g id=\"edge80\" class=\"edge\"><title>42&#45;&gt;80</title>\r\n<path fill=\"none\" stroke=\"black\" d=\"M7349.43,-432.765C7371.89,-421.456 7401.71,-406.437 7424.13,-395.147\"/>\r\n</g>\r\n<!-- 81 -->\r\n<g id=\"node82\" class=\"node\"><title>81</title>\r\n<ellipse fill=\"none\" stroke=\"black\" cx=\"7605.19\" cy=\"-378\" rx=\"37.8943\" ry=\"18\"/>\r\n<text text-anchor=\"middle\" x=\"7605.19\" y=\"-374.3\" font-family=\"Times New Roman,serif\" font-size=\"14.00\">++ |++|</text>\r\n</g>\r\n<!-- 43&#45;&gt;81 -->\r\n<g id=\"edge81\" class=\"edge\"><title>43&#45;&gt;81</title>\r\n<path fill=\"none\" stroke=\"black\" d=\"M7605.19,-431.697C7605.19,-420.846 7605.19,-406.917 7605.19,-396.104\"/>\r\n</g>\r\n<!-- 82 -->\r\n<g id=\"node83\" class=\"node\"><title>82</title>\r\n<ellipse fill=\"none\" stroke=\"black\" cx=\"7754.19\" cy=\"-378\" rx=\"93.6835\" ry=\"18\"/>\r\n<text text-anchor=\"middle\" x=\"7754.19\" y=\"-374.3\" font-family=\"Times New Roman,serif\" font-size=\"14.00\">CPPASTIdExpression</text>\r\n</g>\r\n<!-- 43&#45;&gt;82 -->\r\n<g id=\"edge82\" class=\"edge\"><title>43&#45;&gt;82</title>\r\n<path fill=\"none\" stroke=\"black\" d=\"M7639.75,-432.765C7663.99,-421.375 7696.25,-406.222 7720.34,-394.906\"/>\r\n</g>\r\n<!-- 83 -->\r\n<g id=\"node84\" class=\"node\"><title>83</title>\r\n<ellipse fill=\"none\" stroke=\"black\" cx=\"8028.19\" cy=\"-378\" rx=\"87.1846\" ry=\"18\"/>\r\n<text text-anchor=\"middle\" x=\"8028.19\" y=\"-374.3\" font-family=\"Times New Roman,serif\" font-size=\"14.00\">CPPASTIfStatement</text>\r\n</g>\r\n<!-- 44&#45;&gt;83 -->\r\n<g id=\"edge83\" class=\"edge\"><title>44&#45;&gt;83</title>\r\n<path fill=\"none\" stroke=\"black\" d=\"M7978.93,-432.055C7989.15,-421.049 8002.41,-406.764 8012.6,-395.789\"/>\r\n</g>\r\n<!-- 84 -->\r\n<g id=\"node85\" class=\"node\"><title>84</title>\r\n<ellipse fill=\"none\" stroke=\"black\" cx=\"8640.19\" cy=\"-378\" rx=\"109.381\" ry=\"18\"/>\r\n<text text-anchor=\"middle\" x=\"8640.19\" y=\"-374.3\" font-family=\"Times New Roman,serif\" font-size=\"14.00\">CPPASTBinaryExpression</text>\r\n</g>\r\n<!-- 45&#45;&gt;84 -->\r\n<g id=\"edge84\" class=\"edge\"><title>45&#45;&gt;84</title>\r\n<path fill=\"none\" stroke=\"black\" d=\"M8640.19,-431.697C8640.19,-420.846 8640.19,-406.917 8640.19,-396.104\"/>\r\n</g>\r\n<!-- 85 -->\r\n<g id=\"node86\" class=\"node\"><title>85</title>\r\n<ellipse fill=\"none\" stroke=\"black\" cx=\"8805.19\" cy=\"-378\" rx=\"37.8943\" ry=\"18\"/>\r\n<text text-anchor=\"middle\" x=\"8805.19\" y=\"-374.3\" font-family=\"Times New Roman,serif\" font-size=\"14.00\">&lt;&lt; |&lt;&lt;|</text>\r\n</g>\r\n<!-- 45&#45;&gt;85 -->\r\n<g id=\"edge85\" class=\"edge\"><title>45&#45;&gt;85</title>\r\n<path fill=\"none\" stroke=\"black\" d=\"M8678.05,-432.941C8708.59,-419.984 8750.81,-402.071 8778.06,-390.51\"/>\r\n</g>\r\n<!-- 86 -->\r\n<g id=\"node87\" class=\"node\"><title>86</title>\r\n<ellipse fill=\"none\" stroke=\"black\" cx=\"9008.19\" cy=\"-378\" rx=\"93.6835\" ry=\"18\"/>\r\n<text text-anchor=\"middle\" x=\"9008.19\" y=\"-374.3\" font-family=\"Times New Roman,serif\" font-size=\"14.00\">CPPASTIdExpression</text>\r\n</g>\r\n<!-- 45&#45;&gt;86 -->\r\n<g id=\"edge86\" class=\"edge\"><title>45&#45;&gt;86</title>\r\n<path fill=\"none\" stroke=\"black\" d=\"M8708.98,-435.916C8776.38,-423.095 8878.3,-403.708 8944.06,-391.2\"/>\r\n</g>\r\n<!-- 87 -->\r\n<g id=\"node88\" class=\"node\"><title>87</title>\r\n<ellipse fill=\"none\" stroke=\"black\" cx=\"1456.19\" cy=\"-306\" rx=\"73.387\" ry=\"18\"/>\r\n<text text-anchor=\"middle\" x=\"1456.19\" y=\"-302.3\" font-family=\"Times New Roman,serif\" font-size=\"14.00\">CPPASTName |i|</text>\r\n</g>\r\n<!-- 51&#45;&gt;87 -->\r\n<g id=\"edge87\" class=\"edge\"><title>51&#45;&gt;87</title>\r\n<path fill=\"none\" stroke=\"black\" d=\"M1456.19,-359.697C1456.19,-348.846 1456.19,-334.917 1456.19,-324.104\"/>\r\n</g>\r\n<!-- 88 -->\r\n<g id=\"node89\" class=\"node\"><title>88</title>\r\n<ellipse fill=\"none\" stroke=\"black\" cx=\"1734.19\" cy=\"-306\" rx=\"73.387\" ry=\"18\"/>\r\n<text text-anchor=\"middle\" x=\"1734.19\" y=\"-302.3\" font-family=\"Times New Roman,serif\" font-size=\"14.00\">CPPASTName |j|</text>\r\n</g>\r\n<!-- 53&#45;&gt;88 -->\r\n<g id=\"edge88\" class=\"edge\"><title>53&#45;&gt;88</title>\r\n<path fill=\"none\" stroke=\"black\" d=\"M1734.19,-359.697C1734.19,-348.846 1734.19,-334.917 1734.19,-324.104\"/>\r\n</g>\r\n<!-- 89 -->\r\n<g id=\"node90\" class=\"node\"><title>89</title>\r\n<ellipse fill=\"none\" stroke=\"black\" cx=\"1940.19\" cy=\"-306\" rx=\"87.1846\" ry=\"18\"/>\r\n<text text-anchor=\"middle\" x=\"1940.19\" y=\"-302.3\" font-family=\"Times New Roman,serif\" font-size=\"14.00\">CPPASTTemplateId</text>\r\n</g>\r\n<!-- 54&#45;&gt;89 -->\r\n<g id=\"edge89\" class=\"edge\"><title>54&#45;&gt;89</title>\r\n<path fill=\"none\" stroke=\"black\" d=\"M1961.27,-359.697C1956.93,-348.846 1951.36,-334.917 1947.03,-324.104\"/>\r\n</g>\r\n<!-- 90 -->\r\n<g id=\"node91\" class=\"node\"><title>90</title>\r\n<ellipse fill=\"none\" stroke=\"black\" cx=\"2121.19\" cy=\"-306\" rx=\"76.0865\" ry=\"18\"/>\r\n<text text-anchor=\"middle\" x=\"2121.19\" y=\"-302.3\" font-family=\"Times New Roman,serif\" font-size=\"14.00\">CPPASTName |v|</text>\r\n</g>\r\n<!-- 55&#45;&gt;90 -->\r\n<g id=\"edge90\" class=\"edge\"><title>55&#45;&gt;90</title>\r\n<path fill=\"none\" stroke=\"black\" d=\"M2174.25,-360.055C2163.24,-349.049 2148.96,-334.764 2137.98,-323.789\"/>\r\n</g>\r\n<!-- 91 -->\r\n<g id=\"node92\" class=\"node\"><title>91</title>\r\n<ellipse fill=\"none\" stroke=\"black\" cx=\"2298.19\" cy=\"-306\" rx=\"82.5854\" ry=\"18\"/>\r\n<text text-anchor=\"middle\" x=\"2298.19\" y=\"-302.3\" font-family=\"Times New Roman,serif\" font-size=\"14.00\">CPPASTName |LL|</text>\r\n</g>\r\n<!-- 56&#45;&gt;91 -->\r\n<g id=\"edge91\" class=\"edge\"><title>56&#45;&gt;91</title>\r\n<path fill=\"none\" stroke=\"black\" d=\"M2422.62,-360.765C2395.79,-349.173 2359.95,-333.683 2333.62,-322.308\"/>\r\n</g>\r\n<!-- 92 -->\r\n<g id=\"node93\" class=\"node\"><title>92</title>\r\n<ellipse fill=\"none\" stroke=\"black\" cx=\"2490.19\" cy=\"-306\" rx=\"90.9839\" ry=\"18\"/>\r\n<text text-anchor=\"middle\" x=\"2490.19\" y=\"-302.3\" font-family=\"Times New Roman,serif\" font-size=\"14.00\">CPPASTName |suma|</text>\r\n</g>\r\n<!-- 57&#45;&gt;92 -->\r\n<g id=\"edge92\" class=\"edge\"><title>57&#45;&gt;92</title>\r\n<path fill=\"none\" stroke=\"black\" d=\"M2657.73,-362.581C2621.78,-350.654 2570.92,-333.782 2534.69,-321.762\"/>\r\n</g>\r\n<!-- 93 -->\r\n<g id=\"node94\" class=\"node\"><title>93</title>\r\n<ellipse fill=\"none\" stroke=\"black\" cx=\"2701.19\" cy=\"-306\" rx=\"102.082\" ry=\"18\"/>\r\n<text text-anchor=\"middle\" x=\"2701.19\" y=\"-302.3\" font-family=\"Times New Roman,serif\" font-size=\"14.00\">CPPASTEqualsInitializer</text>\r\n</g>\r\n<!-- 57&#45;&gt;93 -->\r\n<g id=\"edge93\" class=\"edge\"><title>57&#45;&gt;93</title>\r\n<path fill=\"none\" stroke=\"black\" d=\"M2701.19,-359.697C2701.19,-348.846 2701.19,-334.917 2701.19,-324.104\"/>\r\n</g>\r\n<!-- 94 -->\r\n<g id=\"node95\" class=\"node\"><title>94</title>\r\n<ellipse fill=\"none\" stroke=\"black\" cx=\"2913.19\" cy=\"-306\" rx=\"91.784\" ry=\"18\"/>\r\n<text text-anchor=\"middle\" x=\"2913.19\" y=\"-302.3\" font-family=\"Times New Roman,serif\" font-size=\"14.00\">CPPASTName |sumb|</text>\r\n</g>\r\n<!-- 58&#45;&gt;94 -->\r\n<g id=\"edge94\" class=\"edge\"><title>58&#45;&gt;94</title>\r\n<path fill=\"none\" stroke=\"black\" d=\"M3040.42,-361.638C3013.43,-350.048 2976.55,-334.208 2949.44,-322.568\"/>\r\n</g>\r\n<!-- 95 -->\r\n<g id=\"node96\" class=\"node\"><title>95</title>\r\n<ellipse fill=\"none\" stroke=\"black\" cx=\"3125.19\" cy=\"-306\" rx=\"102.082\" ry=\"18\"/>\r\n<text text-anchor=\"middle\" x=\"3125.19\" y=\"-302.3\" font-family=\"Times New Roman,serif\" font-size=\"14.00\">CPPASTEqualsInitializer</text>\r\n</g>\r\n<!-- 58&#45;&gt;95 -->\r\n<g id=\"edge95\" class=\"edge\"><title>58&#45;&gt;95</title>\r\n<path fill=\"none\" stroke=\"black\" d=\"M3088.05,-360.055C3095.64,-349.211 3105.46,-335.183 3113.1,-324.275\"/>\r\n</g>\r\n<!-- 96 -->\r\n<g id=\"node97\" class=\"node\"><title>96</title>\r\n<ellipse fill=\"none\" stroke=\"black\" cx=\"3321.19\" cy=\"-306\" rx=\"76.0865\" ry=\"18\"/>\r\n<text text-anchor=\"middle\" x=\"3321.19\" y=\"-302.3\" font-family=\"Times New Roman,serif\" font-size=\"14.00\">CPPASTName |n|</text>\r\n</g>\r\n<!-- 59&#45;&gt;96 -->\r\n<g id=\"edge96\" class=\"edge\"><title>59&#45;&gt;96</title>\r\n<path fill=\"none\" stroke=\"black\" d=\"M3274.96,-360.055C3284.55,-349.049 3297,-334.764 3306.56,-323.789\"/>\r\n</g>\r\n<!-- 97 -->\r\n<g id=\"node98\" class=\"node\"><title>97</title>\r\n<ellipse fill=\"none\" stroke=\"black\" cx=\"3488.19\" cy=\"-306\" rx=\"73.387\" ry=\"18\"/>\r\n<text text-anchor=\"middle\" x=\"3488.19\" y=\"-302.3\" font-family=\"Times New Roman,serif\" font-size=\"14.00\">CPPASTName |i|</text>\r\n</g>\r\n<!-- 60&#45;&gt;97 -->\r\n<g id=\"edge97\" class=\"edge\"><title>60&#45;&gt;97</title>\r\n<path fill=\"none\" stroke=\"black\" d=\"M3454.84,-360.055C3461.66,-349.211 3470.48,-335.183 3477.33,-324.275\"/>\r\n</g>\r\n<!-- 98 -->\r\n<g id=\"node99\" class=\"node\"><title>98</title>\r\n<ellipse fill=\"none\" stroke=\"black\" cx=\"3653.19\" cy=\"-306\" rx=\"73.387\" ry=\"18\"/>\r\n<text text-anchor=\"middle\" x=\"3653.19\" y=\"-302.3\" font-family=\"Times New Roman,serif\" font-size=\"14.00\">CPPASTName |j|</text>\r\n</g>\r\n<!-- 61&#45;&gt;98 -->\r\n<g id=\"edge98\" class=\"edge\"><title>61&#45;&gt;98</title>\r\n<path fill=\"none\" stroke=\"black\" d=\"M3634.37,-359.697C3638.25,-348.846 3643.22,-334.917 3647.08,-324.104\"/>\r\n</g>\r\n<!-- 99 -->\r\n<g id=\"node100\" class=\"node\"><title>99</title>\r\n<ellipse fill=\"none\" stroke=\"black\" cx=\"3827.19\" cy=\"-306\" rx=\"82.5854\" ry=\"18\"/>\r\n<text text-anchor=\"middle\" x=\"3827.19\" y=\"-302.3\" font-family=\"Times New Roman,serif\" font-size=\"14.00\">CPPASTName |cin|</text>\r\n</g>\r\n<!-- 62&#45;&gt;99 -->\r\n<g id=\"edge99\" class=\"edge\"><title>62&#45;&gt;99</title>\r\n<path fill=\"none\" stroke=\"black\" d=\"M3824.18,-359.697C3824.8,-348.846 3825.6,-334.917 3826.22,-324.104\"/>\r\n</g>\r\n<!-- 100 -->\r\n<g id=\"node101\" class=\"node\"><title>100</title>\r\n<ellipse fill=\"none\" stroke=\"black\" cx=\"4011.19\" cy=\"-306\" rx=\"76.0865\" ry=\"18\"/>\r\n<text text-anchor=\"middle\" x=\"4011.19\" y=\"-302.3\" font-family=\"Times New Roman,serif\" font-size=\"14.00\">CPPASTName |n|</text>\r\n</g>\r\n<!-- 64&#45;&gt;100 -->\r\n<g id=\"edge100\" class=\"edge\"><title>64&#45;&gt;100</title>\r\n<path fill=\"none\" stroke=\"black\" d=\"M4095.4,-360.588C4077.62,-349.273 4054.1,-334.307 4036.44,-323.068\"/>\r\n</g>\r\n<!-- 101 -->\r\n<g id=\"node102\" class=\"node\"><title>101</title>\r\n<ellipse fill=\"none\" stroke=\"black\" cx=\"4199.19\" cy=\"-306\" rx=\"93.6835\" ry=\"18\"/>\r\n<text text-anchor=\"middle\" x=\"4199.19\" y=\"-302.3\" font-family=\"Times New Roman,serif\" font-size=\"14.00\">CPPASTIdExpression</text>\r\n</g>\r\n<!-- 65&#45;&gt;101 -->\r\n<g id=\"edge101\" class=\"edge\"><title>65&#45;&gt;101</title>\r\n<path fill=\"none\" stroke=\"black\" d=\"M4309.03,-360.765C4285.76,-349.375 4254.8,-334.222 4231.69,-322.906\"/>\r\n</g>\r\n<!-- 102 -->\r\n<g id=\"node103\" class=\"node\"><title>102</title>\r\n<ellipse fill=\"none\" stroke=\"black\" cx=\"4338.19\" cy=\"-306\" rx=\"27\" ry=\"18\"/>\r\n<text text-anchor=\"middle\" x=\"4338.19\" y=\"-302.3\" font-family=\"Times New Roman,serif\" font-size=\"14.00\">= |=|</text>\r\n</g>\r\n<!-- 65&#45;&gt;102 -->\r\n<g id=\"edge102\" class=\"edge\"><title>65&#45;&gt;102</title>\r\n<path fill=\"none\" stroke=\"black\" d=\"M4341.2,-359.697C4340.58,-348.846 4339.79,-334.917 4339.17,-324.104\"/>\r\n</g>\r\n<!-- 103 -->\r\n<g id=\"node104\" class=\"node\"><title>103</title>\r\n<ellipse fill=\"none\" stroke=\"black\" cx=\"4501.19\" cy=\"-306\" rx=\"118.079\" ry=\"18\"/>\r\n<text text-anchor=\"middle\" x=\"4501.19\" y=\"-302.3\" font-family=\"Times New Roman,serif\" font-size=\"14.00\">CPPASTLiteralExpression |0|</text>\r\n</g>\r\n<!-- 65&#45;&gt;103 -->\r\n<g id=\"edge103\" class=\"edge\"><title>65&#45;&gt;103</title>\r\n<path fill=\"none\" stroke=\"black\" d=\"M4378.67,-360.941C4404.34,-349.639 4438.58,-334.566 4464.33,-323.227\"/>\r\n</g>\r\n<!-- 104 -->\r\n<g id=\"node105\" class=\"node\"><title>104</title>\r\n<ellipse fill=\"none\" stroke=\"black\" cx=\"4711.19\" cy=\"-306\" rx=\"73.387\" ry=\"18\"/>\r\n<text text-anchor=\"middle\" x=\"4711.19\" y=\"-302.3\" font-family=\"Times New Roman,serif\" font-size=\"14.00\">CPPASTName |i|</text>\r\n</g>\r\n<!-- 66&#45;&gt;104 -->\r\n<g id=\"edge104\" class=\"edge\"><title>66&#45;&gt;104</title>\r\n<path fill=\"none\" stroke=\"black\" d=\"M4596.78,-361.116C4621.42,-349.458 4654.7,-333.719 4679.01,-322.221\"/>\r\n</g>\r\n<!-- 105 -->\r\n<g id=\"node106\" class=\"node\"><title>105</title>\r\n<ellipse fill=\"none\" stroke=\"black\" cx=\"4878.19\" cy=\"-306\" rx=\"76.0865\" ry=\"18\"/>\r\n<text text-anchor=\"middle\" x=\"4878.19\" y=\"-302.3\" font-family=\"Times New Roman,serif\" font-size=\"14.00\">CPPASTName |n|</text>\r\n</g>\r\n<!-- 68&#45;&gt;105 -->\r\n<g id=\"edge105\" class=\"edge\"><title>68&#45;&gt;105</title>\r\n<path fill=\"none\" stroke=\"black\" d=\"M4850.15,-360.055C4855.88,-349.211 4863.3,-335.183 4869.06,-324.275\"/>\r\n</g>\r\n<!-- 106 -->\r\n<g id=\"node107\" class=\"node\"><title>106</title>\r\n<ellipse fill=\"none\" stroke=\"black\" cx=\"5139.19\" cy=\"-306\" rx=\"73.387\" ry=\"18\"/>\r\n<text text-anchor=\"middle\" x=\"5139.19\" y=\"-302.3\" font-family=\"Times New Roman,serif\" font-size=\"14.00\">CPPASTName |i|</text>\r\n</g>\r\n<!-- 70&#45;&gt;106 -->\r\n<g id=\"edge106\" class=\"edge\"><title>70&#45;&gt;106</title>\r\n<path fill=\"none\" stroke=\"black\" d=\"M5139.19,-359.697C5139.19,-348.846 5139.19,-334.917 5139.19,-324.104\"/>\r\n</g>\r\n<!-- 107 -->\r\n<g id=\"node108\" class=\"node\"><title>107</title>\r\n<ellipse fill=\"none\" stroke=\"black\" cx=\"5340.19\" cy=\"-306\" rx=\"109.381\" ry=\"18\"/>\r\n<text text-anchor=\"middle\" x=\"5340.19\" y=\"-302.3\" font-family=\"Times New Roman,serif\" font-size=\"14.00\">CPPASTBinaryExpression</text>\r\n</g>\r\n<!-- 71&#45;&gt;107 -->\r\n<g id=\"edge107\" class=\"edge\"><title>71&#45;&gt;107</title>\r\n<path fill=\"none\" stroke=\"black\" d=\"M5364.28,-359.697C5359.32,-348.846 5352.95,-334.917 5348.01,-324.104\"/>\r\n</g>\r\n<!-- 108 -->\r\n<g id=\"node109\" class=\"node\"><title>108</title>\r\n<ellipse fill=\"none\" stroke=\"black\" cx=\"5632.19\" cy=\"-306\" rx=\"131.877\" ry=\"18\"/>\r\n<text text-anchor=\"middle\" x=\"5632.19\" y=\"-302.3\" font-family=\"Times New Roman,serif\" font-size=\"14.00\">CPPASTFunctionCallExpression</text>\r\n</g>\r\n<!-- 72&#45;&gt;108 -->\r\n<g id=\"edge108\" class=\"edge\"><title>72&#45;&gt;108</title>\r\n<path fill=\"none\" stroke=\"black\" d=\"M5632.95,-359.697C5632.79,-348.846 5632.59,-334.917 5632.44,-324.104\"/>\r\n</g>\r\n<!-- 109 -->\r\n<g id=\"node110\" class=\"node\"><title>109</title>\r\n<ellipse fill=\"none\" stroke=\"black\" cx=\"5868.19\" cy=\"-306\" rx=\"85.5853\" ry=\"18\"/>\r\n<text text-anchor=\"middle\" x=\"5868.19\" y=\"-302.3\" font-family=\"Times New Roman,serif\" font-size=\"14.00\">CPPASTName |sort|</text>\r\n</g>\r\n<!-- 73&#45;&gt;109 -->\r\n<g id=\"edge109\" class=\"edge\"><title>73&#45;&gt;109</title>\r\n<path fill=\"none\" stroke=\"black\" d=\"M5866.69,-359.697C5867,-348.846 5867.39,-334.917 5867.7,-324.104\"/>\r\n</g>\r\n<!-- 110 -->\r\n<g id=\"node111\" class=\"node\"><title>110</title>\r\n<ellipse fill=\"none\" stroke=\"black\" cx=\"6110.19\" cy=\"-306\" rx=\"100.182\" ry=\"18\"/>\r\n<text text-anchor=\"middle\" x=\"6110.19\" y=\"-302.3\" font-family=\"Times New Roman,serif\" font-size=\"14.00\">CPPASTFieldReference</text>\r\n</g>\r\n<!-- 74&#45;&gt;110 -->\r\n<g id=\"edge110\" class=\"edge\"><title>74&#45;&gt;110</title>\r\n<path fill=\"none\" stroke=\"black\" d=\"M6110.19,-359.697C6110.19,-348.846 6110.19,-334.917 6110.19,-324.104\"/>\r\n</g>\r\n<!-- 111 -->\r\n<g id=\"node112\" class=\"node\"><title>111</title>\r\n<ellipse fill=\"none\" stroke=\"black\" cx=\"6392.19\" cy=\"-306\" rx=\"100.182\" ry=\"18\"/>\r\n<text text-anchor=\"middle\" x=\"6392.19\" y=\"-302.3\" font-family=\"Times New Roman,serif\" font-size=\"14.00\">CPPASTFieldReference</text>\r\n</g>\r\n<!-- 75&#45;&gt;111 -->\r\n<g id=\"edge111\" class=\"edge\"><title>75&#45;&gt;111</title>\r\n<path fill=\"none\" stroke=\"black\" d=\"M6392.19,-359.697C6392.19,-348.846 6392.19,-334.917 6392.19,-324.104\"/>\r\n</g>\r\n<!-- 112 -->\r\n<g id=\"node113\" class=\"node\"><title>112</title>\r\n<ellipse fill=\"none\" stroke=\"black\" cx=\"6598.19\" cy=\"-306\" rx=\"87.9851\" ry=\"18\"/>\r\n<text text-anchor=\"middle\" x=\"6598.19\" y=\"-302.3\" font-family=\"Times New Roman,serif\" font-size=\"14.00\">CPPASTName |cmp|</text>\r\n</g>\r\n<!-- 76&#45;&gt;112 -->\r\n<g id=\"edge112\" class=\"edge\"><title>76&#45;&gt;112</title>\r\n<path fill=\"none\" stroke=\"black\" d=\"M6626.99,-360.055C6621.11,-349.211 6613.49,-335.183 6607.57,-324.275\"/>\r\n</g>\r\n<!-- 113 -->\r\n<g id=\"node114\" class=\"node\"><title>113</title>\r\n<ellipse fill=\"none\" stroke=\"black\" cx=\"6797.19\" cy=\"-306\" rx=\"93.6835\" ry=\"18\"/>\r\n<text text-anchor=\"middle\" x=\"6797.19\" y=\"-302.3\" font-family=\"Times New Roman,serif\" font-size=\"14.00\">CPPASTIdExpression</text>\r\n</g>\r\n<!-- 77&#45;&gt;113 -->\r\n<g id=\"edge113\" class=\"edge\"><title>77&#45;&gt;113</title>\r\n<path fill=\"none\" stroke=\"black\" d=\"M6912.4,-360.765C6887.91,-349.335 6855.29,-334.114 6831.02,-322.786\"/>\r\n</g>\r\n<!-- 114 -->\r\n<g id=\"node115\" class=\"node\"><title>114</title>\r\n<ellipse fill=\"none\" stroke=\"black\" cx=\"6936.19\" cy=\"-306\" rx=\"27\" ry=\"18\"/>\r\n<text text-anchor=\"middle\" x=\"6936.19\" y=\"-302.3\" font-family=\"Times New Roman,serif\" font-size=\"14.00\">= |=|</text>\r\n</g>\r\n<!-- 77&#45;&gt;114 -->\r\n<g id=\"edge114\" class=\"edge\"><title>77&#45;&gt;114</title>\r\n<path fill=\"none\" stroke=\"black\" d=\"M6944.47,-359.697C6942.77,-348.846 6940.58,-334.917 6938.88,-324.104\"/>\r\n</g>\r\n<!-- 115 -->\r\n<g id=\"node116\" class=\"node\"><title>115</title>\r\n<ellipse fill=\"none\" stroke=\"black\" cx=\"7099.19\" cy=\"-306\" rx=\"118.079\" ry=\"18\"/>\r\n<text text-anchor=\"middle\" x=\"7099.19\" y=\"-302.3\" font-family=\"Times New Roman,serif\" font-size=\"14.00\">CPPASTLiteralExpression |0|</text>\r\n</g>\r\n<!-- 77&#45;&gt;115 -->\r\n<g id=\"edge115\" class=\"edge\"><title>77&#45;&gt;115</title>\r\n<path fill=\"none\" stroke=\"black\" d=\"M6982.06,-360.941C7006.61,-349.639 7039.33,-334.566 7063.96,-323.227\"/>\r\n</g>\r\n<!-- 116 -->\r\n<g id=\"node117\" class=\"node\"><title>116</title>\r\n<ellipse fill=\"none\" stroke=\"black\" cx=\"7309.19\" cy=\"-306\" rx=\"73.387\" ry=\"18\"/>\r\n<text text-anchor=\"middle\" x=\"7309.19\" y=\"-302.3\" font-family=\"Times New Roman,serif\" font-size=\"14.00\">CPPASTName |i|</text>\r\n</g>\r\n<!-- 78&#45;&gt;116 -->\r\n<g id=\"edge116\" class=\"edge\"><title>78&#45;&gt;116</title>\r\n<path fill=\"none\" stroke=\"black\" d=\"M7208.25,-360.941C7229.7,-349.477 7258.41,-334.135 7279.73,-322.743\"/>\r\n</g>\r\n<!-- 117 -->\r\n<g id=\"node118\" class=\"node\"><title>117</title>\r\n<ellipse fill=\"none\" stroke=\"black\" cx=\"7476.19\" cy=\"-306\" rx=\"76.0865\" ry=\"18\"/>\r\n<text text-anchor=\"middle\" x=\"7476.19\" y=\"-302.3\" font-family=\"Times New Roman,serif\" font-size=\"14.00\">CPPASTName |n|</text>\r\n</g>\r\n<!-- 80&#45;&gt;117 -->\r\n<g id=\"edge117\" class=\"edge\"><title>80&#45;&gt;117</title>\r\n<path fill=\"none\" stroke=\"black\" d=\"M7461.14,-359.697C7464.24,-348.846 7468.22,-334.917 7471.31,-324.104\"/>\r\n</g>\r\n<!-- 118 -->\r\n<g id=\"node119\" class=\"node\"><title>118</title>\r\n<ellipse fill=\"none\" stroke=\"black\" cx=\"7643.19\" cy=\"-306\" rx=\"73.387\" ry=\"18\"/>\r\n<text text-anchor=\"middle\" x=\"7643.19\" y=\"-302.3\" font-family=\"Times New Roman,serif\" font-size=\"14.00\">CPPASTName |i|</text>\r\n</g>\r\n<!-- 82&#45;&gt;118 -->\r\n<g id=\"edge118\" class=\"edge\"><title>82&#45;&gt;118</title>\r\n<path fill=\"none\" stroke=\"black\" d=\"M7728.17,-360.588C7710.23,-349.273 7686.49,-334.307 7668.67,-323.068\"/>\r\n</g>\r\n<!-- 119 -->\r\n<g id=\"node120\" class=\"node\"><title>119</title>\r\n<ellipse fill=\"none\" stroke=\"black\" cx=\"7844.19\" cy=\"-306\" rx=\"109.381\" ry=\"18\"/>\r\n<text text-anchor=\"middle\" x=\"7844.19\" y=\"-302.3\" font-family=\"Times New Roman,serif\" font-size=\"14.00\">CPPASTBinaryExpression</text>\r\n</g>\r\n<!-- 83&#45;&gt;119 -->\r\n<g id=\"edge119\" class=\"edge\"><title>83&#45;&gt;119</title>\r\n<path fill=\"none\" stroke=\"black\" d=\"M7988.27,-361.811C7957.93,-350.271 7916.34,-334.446 7885.63,-322.766\"/>\r\n</g>\r\n<!-- 120 -->\r\n<g id=\"node121\" class=\"node\"><title>120</title>\r\n<ellipse fill=\"none\" stroke=\"black\" cx=\"8093.19\" cy=\"-306\" rx=\"121.578\" ry=\"18\"/>\r\n<text text-anchor=\"middle\" x=\"8093.19\" y=\"-302.3\" font-family=\"Times New Roman,serif\" font-size=\"14.00\">CPPASTExpressionStatement</text>\r\n</g>\r\n<!-- 83&#45;&gt;120 -->\r\n<g id=\"edge120\" class=\"edge\"><title>83&#45;&gt;120</title>\r\n<path fill=\"none\" stroke=\"black\" d=\"M8043.93,-360.055C8054,-349.211 8067.02,-335.183 8077.15,-324.275\"/>\r\n</g>\r\n<!-- 121 -->\r\n<g id=\"node122\" class=\"node\"><title>121</title>\r\n<ellipse fill=\"none\" stroke=\"black\" cx=\"8354.19\" cy=\"-306\" rx=\"121.578\" ry=\"18\"/>\r\n<text text-anchor=\"middle\" x=\"8354.19\" y=\"-302.3\" font-family=\"Times New Roman,serif\" font-size=\"14.00\">CPPASTExpressionStatement</text>\r\n</g>\r\n<!-- 83&#45;&gt;121 -->\r\n<g id=\"edge121\" class=\"edge\"><title>83&#45;&gt;121</title>\r\n<path fill=\"none\" stroke=\"black\" d=\"M8086.47,-364.485C8143.16,-352.314 8229.14,-333.852 8288.28,-321.152\"/>\r\n</g>\r\n<!-- 122 -->\r\n<g id=\"node123\" class=\"node\"><title>122</title>\r\n<ellipse fill=\"none\" stroke=\"black\" cx=\"8587.19\" cy=\"-306\" rx=\"93.6835\" ry=\"18\"/>\r\n<text text-anchor=\"middle\" x=\"8587.19\" y=\"-302.3\" font-family=\"Times New Roman,serif\" font-size=\"14.00\">CPPASTIdExpression</text>\r\n</g>\r\n<!-- 84&#45;&gt;122 -->\r\n<g id=\"edge122\" class=\"edge\"><title>84&#45;&gt;122</title>\r\n<path fill=\"none\" stroke=\"black\" d=\"M8627.36,-360.055C8619.15,-349.211 8608.53,-335.183 8600.27,-324.275\"/>\r\n</g>\r\n<!-- 123 -->\r\n<g id=\"node124\" class=\"node\"><title>123</title>\r\n<ellipse fill=\"none\" stroke=\"black\" cx=\"8736.19\" cy=\"-306\" rx=\"37.8943\" ry=\"18\"/>\r\n<text text-anchor=\"middle\" x=\"8736.19\" y=\"-302.3\" font-family=\"Times New Roman,serif\" font-size=\"14.00\">&lt;&lt; |&lt;&lt;|</text>\r\n</g>\r\n<!-- 84&#45;&gt;123 -->\r\n<g id=\"edge123\" class=\"edge\"><title>84&#45;&gt;123</title>\r\n<path fill=\"none\" stroke=\"black\" d=\"M8663.43,-360.055C8679.63,-348.24 8701.02,-332.645 8716.41,-321.424\"/>\r\n</g>\r\n<!-- 124 -->\r\n<g id=\"node125\" class=\"node\"><title>124</title>\r\n<ellipse fill=\"none\" stroke=\"black\" cx=\"8901.19\" cy=\"-306\" rx=\"109.381\" ry=\"18\"/>\r\n<text text-anchor=\"middle\" x=\"8901.19\" y=\"-302.3\" font-family=\"Times New Roman,serif\" font-size=\"14.00\">CPPASTBinaryExpression</text>\r\n</g>\r\n<!-- 84&#45;&gt;124 -->\r\n<g id=\"edge124\" class=\"edge\"><title>84&#45;&gt;124</title>\r\n<path fill=\"none\" stroke=\"black\" d=\"M8694.91,-362.326C8739.45,-350.379 8802.03,-333.597 8846.55,-321.655\"/>\r\n</g>\r\n<!-- 125 -->\r\n<g id=\"node126\" class=\"node\"><title>125</title>\r\n<ellipse fill=\"none\" stroke=\"black\" cx=\"9115.19\" cy=\"-306\" rx=\"87.1846\" ry=\"18\"/>\r\n<text text-anchor=\"middle\" x=\"9115.19\" y=\"-302.3\" font-family=\"Times New Roman,serif\" font-size=\"14.00\">CPPASTName |endl|</text>\r\n</g>\r\n<!-- 86&#45;&gt;125 -->\r\n<g id=\"edge125\" class=\"edge\"><title>86&#45;&gt;125</title>\r\n<path fill=\"none\" stroke=\"black\" d=\"M9033.28,-360.588C9050.45,-349.354 9073.12,-334.521 9090.26,-323.309\"/>\r\n</g>\r\n<!-- 126 -->\r\n<g id=\"node127\" class=\"node\"><title>126</title>\r\n<ellipse fill=\"none\" stroke=\"black\" cx=\"1848.19\" cy=\"-234\" rx=\"94.7833\" ry=\"18\"/>\r\n<text text-anchor=\"middle\" x=\"1848.19\" y=\"-230.3\" font-family=\"Times New Roman,serif\" font-size=\"14.00\">CPPASTName |vector|</text>\r\n</g>\r\n<!-- 89&#45;&gt;126 -->\r\n<g id=\"edge126\" class=\"edge\"><title>89&#45;&gt;126</title>\r\n<path fill=\"none\" stroke=\"black\" d=\"M1918.39,-288.411C1903.83,-277.333 1884.75,-262.816 1870.16,-251.713\"/>\r\n</g>\r\n<!-- 127 -->\r\n<g id=\"node128\" class=\"node\"><title>127</title>\r\n<ellipse fill=\"none\" stroke=\"black\" cx=\"2033.19\" cy=\"-234\" rx=\"72.2875\" ry=\"18\"/>\r\n<text text-anchor=\"middle\" x=\"2033.19\" y=\"-230.3\" font-family=\"Times New Roman,serif\" font-size=\"14.00\">CPPASTTypeId</text>\r\n</g>\r\n<!-- 89&#45;&gt;127 -->\r\n<g id=\"edge127\" class=\"edge\"><title>89&#45;&gt;127</title>\r\n<path fill=\"none\" stroke=\"black\" d=\"M1962.23,-288.411C1977.16,-277.172 1996.8,-262.391 2011.63,-251.228\"/>\r\n</g>\r\n<!-- 128 -->\r\n<g id=\"node129\" class=\"node\"><title>128</title>\r\n<ellipse fill=\"none\" stroke=\"black\" cx=\"2701.19\" cy=\"-234\" rx=\"118.079\" ry=\"18\"/>\r\n<text text-anchor=\"middle\" x=\"2701.19\" y=\"-230.3\" font-family=\"Times New Roman,serif\" font-size=\"14.00\">CPPASTLiteralExpression |0|</text>\r\n</g>\r\n<!-- 93&#45;&gt;128 -->\r\n<g id=\"edge128\" class=\"edge\"><title>93&#45;&gt;128</title>\r\n<path fill=\"none\" stroke=\"black\" d=\"M2701.19,-287.697C2701.19,-276.846 2701.19,-262.917 2701.19,-252.104\"/>\r\n</g>\r\n<!-- 129 -->\r\n<g id=\"node130\" class=\"node\"><title>129</title>\r\n<ellipse fill=\"none\" stroke=\"black\" cx=\"3125.19\" cy=\"-234\" rx=\"118.079\" ry=\"18\"/>\r\n<text text-anchor=\"middle\" x=\"3125.19\" y=\"-230.3\" font-family=\"Times New Roman,serif\" font-size=\"14.00\">CPPASTLiteralExpression |0|</text>\r\n</g>\r\n<!-- 95&#45;&gt;129 -->\r\n<g id=\"edge129\" class=\"edge\"><title>95&#45;&gt;129</title>\r\n<path fill=\"none\" stroke=\"black\" d=\"M3125.19,-287.697C3125.19,-276.846 3125.19,-262.917 3125.19,-252.104\"/>\r\n</g>\r\n<!-- 130 -->\r\n<g id=\"node131\" class=\"node\"><title>130</title>\r\n<ellipse fill=\"none\" stroke=\"black\" cx=\"4199.19\" cy=\"-234\" rx=\"73.387\" ry=\"18\"/>\r\n<text text-anchor=\"middle\" x=\"4199.19\" y=\"-230.3\" font-family=\"Times New Roman,serif\" font-size=\"14.00\">CPPASTName |i|</text>\r\n</g>\r\n<!-- 101&#45;&gt;130 -->\r\n<g id=\"edge130\" class=\"edge\"><title>101&#45;&gt;130</title>\r\n<path fill=\"none\" stroke=\"black\" d=\"M4199.19,-287.697C4199.19,-276.846 4199.19,-262.917 4199.19,-252.104\"/>\r\n</g>\r\n<!-- 131 -->\r\n<g id=\"node132\" class=\"node\"><title>131</title>\r\n<ellipse fill=\"none\" stroke=\"black\" cx=\"5041.19\" cy=\"-234\" rx=\"93.6835\" ry=\"18\"/>\r\n<text text-anchor=\"middle\" x=\"5041.19\" y=\"-230.3\" font-family=\"Times New Roman,serif\" font-size=\"14.00\">CPPASTIdExpression</text>\r\n</g>\r\n<!-- 107&#45;&gt;131 -->\r\n<g id=\"edge131\" class=\"edge\"><title>107&#45;&gt;131</title>\r\n<path fill=\"none\" stroke=\"black\" d=\"M5280.05,-290.919C5227.01,-278.502 5150.28,-260.538 5098.2,-248.347\"/>\r\n</g>\r\n<!-- 132 -->\r\n<g id=\"node133\" class=\"node\"><title>132</title>\r\n<ellipse fill=\"none\" stroke=\"black\" cx=\"5191.19\" cy=\"-234\" rx=\"37.8943\" ry=\"18\"/>\r\n<text text-anchor=\"middle\" x=\"5191.19\" y=\"-230.3\" font-family=\"Times New Roman,serif\" font-size=\"14.00\">&gt;&gt; |&gt;&gt;|</text>\r\n</g>\r\n<!-- 107&#45;&gt;132 -->\r\n<g id=\"edge132\" class=\"edge\"><title>107&#45;&gt;132</title>\r\n<path fill=\"none\" stroke=\"black\" d=\"M5305.63,-288.765C5278.64,-276.083 5241.71,-258.734 5217.19,-247.213\"/>\r\n</g>\r\n<!-- 133 -->\r\n<g id=\"node134\" class=\"node\"><title>133</title>\r\n<ellipse fill=\"none\" stroke=\"black\" cx=\"5340.19\" cy=\"-234\" rx=\"93.6835\" ry=\"18\"/>\r\n<text text-anchor=\"middle\" x=\"5340.19\" y=\"-230.3\" font-family=\"Times New Roman,serif\" font-size=\"14.00\">CPPASTIdExpression</text>\r\n</g>\r\n<!-- 107&#45;&gt;133 -->\r\n<g id=\"edge133\" class=\"edge\"><title>107&#45;&gt;133</title>\r\n<path fill=\"none\" stroke=\"black\" d=\"M5340.19,-287.697C5340.19,-276.846 5340.19,-262.917 5340.19,-252.104\"/>\r\n</g>\r\n<!-- 134 -->\r\n<g id=\"node135\" class=\"node\"><title>134</title>\r\n<ellipse fill=\"none\" stroke=\"black\" cx=\"5570.19\" cy=\"-234\" rx=\"100.182\" ry=\"18\"/>\r\n<text text-anchor=\"middle\" x=\"5570.19\" y=\"-230.3\" font-family=\"Times New Roman,serif\" font-size=\"14.00\">CPPASTFieldReference</text>\r\n</g>\r\n<!-- 108&#45;&gt;134 -->\r\n<g id=\"edge134\" class=\"edge\"><title>108&#45;&gt;134</title>\r\n<path fill=\"none\" stroke=\"black\" d=\"M5617.18,-288.055C5607.58,-277.211 5595.15,-263.183 5585.49,-252.275\"/>\r\n</g>\r\n<!-- 135 -->\r\n<g id=\"node136\" class=\"node\"><title>135</title>\r\n<ellipse fill=\"none\" stroke=\"black\" cx=\"5782.19\" cy=\"-234\" rx=\"93.6835\" ry=\"18\"/>\r\n<text text-anchor=\"middle\" x=\"5782.19\" y=\"-230.3\" font-family=\"Times New Roman,serif\" font-size=\"14.00\">CPPASTIdExpression</text>\r\n</g>\r\n<!-- 108&#45;&gt;135 -->\r\n<g id=\"edge135\" class=\"edge\"><title>108&#45;&gt;135</title>\r\n<path fill=\"none\" stroke=\"black\" d=\"M5667.36,-288.588C5691.78,-277.193 5724.14,-262.093 5748.28,-250.827\"/>\r\n</g>\r\n<!-- 136 -->\r\n<g id=\"node137\" class=\"node\"><title>136</title>\r\n<ellipse fill=\"none\" stroke=\"black\" cx=\"5987.19\" cy=\"-234\" rx=\"93.6835\" ry=\"18\"/>\r\n<text text-anchor=\"middle\" x=\"5987.19\" y=\"-230.3\" font-family=\"Times New Roman,serif\" font-size=\"14.00\">CPPASTIdExpression</text>\r\n</g>\r\n<!-- 110&#45;&gt;136 -->\r\n<g id=\"edge136\" class=\"edge\"><title>110&#45;&gt;136</title>\r\n<path fill=\"none\" stroke=\"black\" d=\"M6081.35,-288.588C6061.61,-277.354 6035.55,-262.521 6015.85,-251.309\"/>\r\n</g>\r\n<!-- 137 -->\r\n<g id=\"node138\" class=\"node\"><title>137</title>\r\n<ellipse fill=\"none\" stroke=\"black\" cx=\"6190.19\" cy=\"-234\" rx=\"90.9839\" ry=\"18\"/>\r\n<text text-anchor=\"middle\" x=\"6190.19\" y=\"-230.3\" font-family=\"Times New Roman,serif\" font-size=\"14.00\">CPPASTName |begin|</text>\r\n</g>\r\n<!-- 110&#45;&gt;137 -->\r\n<g id=\"edge137\" class=\"edge\"><title>110&#45;&gt;137</title>\r\n<path fill=\"none\" stroke=\"black\" d=\"M6129.56,-288.055C6142.14,-277.049 6158.46,-262.764 6171.01,-251.789\"/>\r\n</g>\r\n<!-- 138 -->\r\n<g id=\"node139\" class=\"node\"><title>138</title>\r\n<ellipse fill=\"none\" stroke=\"black\" cx=\"6393.19\" cy=\"-234\" rx=\"93.6835\" ry=\"18\"/>\r\n<text text-anchor=\"middle\" x=\"6393.19\" y=\"-230.3\" font-family=\"Times New Roman,serif\" font-size=\"14.00\">CPPASTIdExpression</text>\r\n</g>\r\n<!-- 111&#45;&gt;138 -->\r\n<g id=\"edge138\" class=\"edge\"><title>111&#45;&gt;138</title>\r\n<path fill=\"none\" stroke=\"black\" d=\"M6392.44,-287.697C6392.59,-276.846 6392.79,-262.917 6392.95,-252.104\"/>\r\n</g>\r\n<!-- 139 -->\r\n<g id=\"node140\" class=\"node\"><title>139</title>\r\n<ellipse fill=\"none\" stroke=\"black\" cx=\"6590.19\" cy=\"-234\" rx=\"85.2851\" ry=\"18\"/>\r\n<text text-anchor=\"middle\" x=\"6590.19\" y=\"-230.3\" font-family=\"Times New Roman,serif\" font-size=\"14.00\">CPPASTName |end|</text>\r\n</g>\r\n<!-- 111&#45;&gt;139 -->\r\n<g id=\"edge139\" class=\"edge\"><title>111&#45;&gt;139</title>\r\n<path fill=\"none\" stroke=\"black\" d=\"M6435.64,-289.638C6469.23,-277.766 6515.42,-261.436 6548.54,-249.727\"/>\r\n</g>\r\n<!-- 140 -->\r\n<g id=\"node141\" class=\"node\"><title>140</title>\r\n<ellipse fill=\"none\" stroke=\"black\" cx=\"6797.19\" cy=\"-234\" rx=\"73.387\" ry=\"18\"/>\r\n<text text-anchor=\"middle\" x=\"6797.19\" y=\"-230.3\" font-family=\"Times New Roman,serif\" font-size=\"14.00\">CPPASTName |i|</text>\r\n</g>\r\n<!-- 113&#45;&gt;140 -->\r\n<g id=\"edge140\" class=\"edge\"><title>113&#45;&gt;140</title>\r\n<path fill=\"none\" stroke=\"black\" d=\"M6797.19,-287.697C6797.19,-276.846 6797.19,-262.917 6797.19,-252.104\"/>\r\n</g>\r\n<!-- 141 -->\r\n<g id=\"node142\" class=\"node\"><title>141</title>\r\n<ellipse fill=\"none\" stroke=\"black\" cx=\"7426.19\" cy=\"-234\" rx=\"109.381\" ry=\"18\"/>\r\n<text text-anchor=\"middle\" x=\"7426.19\" y=\"-230.3\" font-family=\"Times New Roman,serif\" font-size=\"14.00\">CPPASTBinaryExpression</text>\r\n</g>\r\n<!-- 119&#45;&gt;141 -->\r\n<g id=\"edge141\" class=\"edge\"><title>119&#45;&gt;141</title>\r\n<path fill=\"none\" stroke=\"black\" d=\"M7770.42,-292.647C7694.25,-279.891 7576.08,-260.101 7499.92,-247.347\"/>\r\n</g>\r\n<!-- 142 -->\r\n<g id=\"node143\" class=\"node\"><title>142</title>\r\n<ellipse fill=\"none\" stroke=\"black\" cx=\"7671.19\" cy=\"-234\" rx=\"37.8943\" ry=\"18\"/>\r\n<text text-anchor=\"middle\" x=\"7671.19\" y=\"-230.3\" font-family=\"Times New Roman,serif\" font-size=\"14.00\">== |==|</text>\r\n</g>\r\n<!-- 119&#45;&gt;142 -->\r\n<g id=\"edge142\" class=\"edge\"><title>119&#45;&gt;142</title>\r\n<path fill=\"none\" stroke=\"black\" d=\"M7804.94,-289.116C7772.64,-276.046 7727.66,-257.847 7698.98,-246.244\"/>\r\n</g>\r\n<!-- 143 -->\r\n<g id=\"node144\" class=\"node\"><title>143</title>\r\n<ellipse fill=\"none\" stroke=\"black\" cx=\"7845.19\" cy=\"-234\" rx=\"118.079\" ry=\"18\"/>\r\n<text text-anchor=\"middle\" x=\"7845.19\" y=\"-230.3\" font-family=\"Times New Roman,serif\" font-size=\"14.00\">CPPASTLiteralExpression |0|</text>\r\n</g>\r\n<!-- 119&#45;&gt;143 -->\r\n<g id=\"edge143\" class=\"edge\"><title>119&#45;&gt;143</title>\r\n<path fill=\"none\" stroke=\"black\" d=\"M7844.44,-287.697C7844.59,-276.846 7844.79,-262.917 7844.95,-252.104\"/>\r\n</g>\r\n<!-- 144 -->\r\n<g id=\"node145\" class=\"node\"><title>144</title>\r\n<ellipse fill=\"none\" stroke=\"black\" cx=\"8092.19\" cy=\"-234\" rx=\"109.381\" ry=\"18\"/>\r\n<text text-anchor=\"middle\" x=\"8092.19\" y=\"-230.3\" font-family=\"Times New Roman,serif\" font-size=\"14.00\">CPPASTBinaryExpression</text>\r\n</g>\r\n<!-- 120&#45;&gt;144 -->\r\n<g id=\"edge144\" class=\"edge\"><title>120&#45;&gt;144</title>\r\n<path fill=\"none\" stroke=\"black\" d=\"M8092.95,-287.697C8092.79,-276.846 8092.59,-262.917 8092.44,-252.104\"/>\r\n</g>\r\n<!-- 145 -->\r\n<g id=\"node146\" class=\"node\"><title>145</title>\r\n<ellipse fill=\"none\" stroke=\"black\" cx=\"8363.19\" cy=\"-234\" rx=\"109.381\" ry=\"18\"/>\r\n<text text-anchor=\"middle\" x=\"8363.19\" y=\"-230.3\" font-family=\"Times New Roman,serif\" font-size=\"14.00\">CPPASTBinaryExpression</text>\r\n</g>\r\n<!-- 121&#45;&gt;145 -->\r\n<g id=\"edge145\" class=\"edge\"><title>121&#45;&gt;145</title>\r\n<path fill=\"none\" stroke=\"black\" d=\"M8356.42,-287.697C8357.81,-276.846 8359.6,-262.917 8360.99,-252.104\"/>\r\n</g>\r\n<!-- 146 -->\r\n<g id=\"node147\" class=\"node\"><title>146</title>\r\n<ellipse fill=\"none\" stroke=\"black\" cx=\"8587.19\" cy=\"-234\" rx=\"87.9851\" ry=\"18\"/>\r\n<text text-anchor=\"middle\" x=\"8587.19\" y=\"-230.3\" font-family=\"Times New Roman,serif\" font-size=\"14.00\">CPPASTName |cout|</text>\r\n</g>\r\n<!-- 122&#45;&gt;146 -->\r\n<g id=\"edge146\" class=\"edge\"><title>122&#45;&gt;146</title>\r\n<path fill=\"none\" stroke=\"black\" d=\"M8587.19,-287.697C8587.19,-276.846 8587.19,-262.917 8587.19,-252.104\"/>\r\n</g>\r\n<!-- 147 -->\r\n<g id=\"node148\" class=\"node\"><title>147</title>\r\n<ellipse fill=\"none\" stroke=\"black\" cx=\"8892.19\" cy=\"-234\" rx=\"93.6835\" ry=\"18\"/>\r\n<text text-anchor=\"middle\" x=\"8892.19\" y=\"-230.3\" font-family=\"Times New Roman,serif\" font-size=\"14.00\">CPPASTIdExpression</text>\r\n</g>\r\n<!-- 124&#45;&gt;147 -->\r\n<g id=\"edge147\" class=\"edge\"><title>124&#45;&gt;147</title>\r\n<path fill=\"none\" stroke=\"black\" d=\"M8898.97,-287.697C8897.57,-276.846 8895.78,-262.917 8894.39,-252.104\"/>\r\n</g>\r\n<!-- 148 -->\r\n<g id=\"node149\" class=\"node\"><title>148</title>\r\n<ellipse fill=\"none\" stroke=\"black\" cx=\"9031.19\" cy=\"-234\" rx=\"27\" ry=\"18\"/>\r\n<text text-anchor=\"middle\" x=\"9031.19\" y=\"-230.3\" font-family=\"Times New Roman,serif\" font-size=\"14.00\">&#45; |&#45;|</text>\r\n</g>\r\n<!-- 124&#45;&gt;148 -->\r\n<g id=\"edge148\" class=\"edge\"><title>124&#45;&gt;148</title>\r\n<path fill=\"none\" stroke=\"black\" d=\"M8931.67,-288.588C8955.99,-275.495 8989.38,-257.514 9010.63,-246.074\"/>\r\n</g>\r\n<!-- 149 -->\r\n<g id=\"node150\" class=\"node\"><title>149</title>\r\n<ellipse fill=\"none\" stroke=\"black\" cx=\"9170.19\" cy=\"-234\" rx=\"93.6835\" ry=\"18\"/>\r\n<text text-anchor=\"middle\" x=\"9170.19\" y=\"-230.3\" font-family=\"Times New Roman,serif\" font-size=\"14.00\">CPPASTIdExpression</text>\r\n</g>\r\n<!-- 124&#45;&gt;149 -->\r\n<g id=\"edge149\" class=\"edge\"><title>124&#45;&gt;149</title>\r\n<path fill=\"none\" stroke=\"black\" d=\"M8956.93,-290.496C9003.87,-278.282 9070.56,-260.926 9116.82,-248.889\"/>\r\n</g>\r\n<!-- 150 -->\r\n<g id=\"node151\" class=\"node\"><title>150</title>\r\n<ellipse fill=\"none\" stroke=\"black\" cx=\"1922.19\" cy=\"-162\" rx=\"122.379\" ry=\"18\"/>\r\n<text text-anchor=\"middle\" x=\"1922.19\" y=\"-158.3\" font-family=\"Times New Roman,serif\" font-size=\"14.00\">CPPASTNamedTypeSpecifier</text>\r\n</g>\r\n<!-- 127&#45;&gt;150 -->\r\n<g id=\"edge150\" class=\"edge\"><title>127&#45;&gt;150</title>\r\n<path fill=\"none\" stroke=\"black\" d=\"M2008.01,-217.116C1990.35,-205.983 1966.79,-191.127 1948.83,-179.797\"/>\r\n</g>\r\n<!-- 151 -->\r\n<g id=\"node152\" class=\"node\"><title>151</title>\r\n<ellipse fill=\"none\" stroke=\"black\" cx=\"2145.19\" cy=\"-162\" rx=\"83.3857\" ry=\"18\"/>\r\n<text text-anchor=\"middle\" x=\"2145.19\" y=\"-158.3\" font-family=\"Times New Roman,serif\" font-size=\"14.00\">CPPASTDeclarator</text>\r\n</g>\r\n<!-- 127&#45;&gt;151 -->\r\n<g id=\"edge151\" class=\"edge\"><title>127&#45;&gt;151</title>\r\n<path fill=\"none\" stroke=\"black\" d=\"M2058.61,-217.116C2076.68,-205.821 2100.88,-190.696 2119.1,-179.307\"/>\r\n</g>\r\n<!-- 152 -->\r\n<g id=\"node153\" class=\"node\"><title>152</title>\r\n<ellipse fill=\"none\" stroke=\"black\" cx=\"5037.19\" cy=\"-162\" rx=\"82.5854\" ry=\"18\"/>\r\n<text text-anchor=\"middle\" x=\"5037.19\" y=\"-158.3\" font-family=\"Times New Roman,serif\" font-size=\"14.00\">CPPASTName |cin|</text>\r\n</g>\r\n<!-- 131&#45;&gt;152 -->\r\n<g id=\"edge152\" class=\"edge\"><title>131&#45;&gt;152</title>\r\n<path fill=\"none\" stroke=\"black\" d=\"M5040.2,-215.697C5039.58,-204.846 5038.79,-190.917 5038.17,-180.104\"/>\r\n</g>\r\n<!-- 153 -->\r\n<g id=\"node154\" class=\"node\"><title>153</title>\r\n<ellipse fill=\"none\" stroke=\"black\" cx=\"5211.19\" cy=\"-162\" rx=\"73.387\" ry=\"18\"/>\r\n<text text-anchor=\"middle\" x=\"5211.19\" y=\"-158.3\" font-family=\"Times New Roman,serif\" font-size=\"14.00\">CPPASTName |j|</text>\r\n</g>\r\n<!-- 133&#45;&gt;153 -->\r\n<g id=\"edge153\" class=\"edge\"><title>133&#45;&gt;153</title>\r\n<path fill=\"none\" stroke=\"black\" d=\"M5310.27,-216.765C5289.14,-205.294 5260.96,-190.007 5240.06,-178.666\"/>\r\n</g>\r\n<!-- 154 -->\r\n<g id=\"node155\" class=\"node\"><title>154</title>\r\n<ellipse fill=\"none\" stroke=\"black\" cx=\"5396.19\" cy=\"-162\" rx=\"93.6835\" ry=\"18\"/>\r\n<text text-anchor=\"middle\" x=\"5396.19\" y=\"-158.3\" font-family=\"Times New Roman,serif\" font-size=\"14.00\">CPPASTIdExpression</text>\r\n</g>\r\n<!-- 134&#45;&gt;154 -->\r\n<g id=\"edge154\" class=\"edge\"><title>134&#45;&gt;154</title>\r\n<path fill=\"none\" stroke=\"black\" d=\"M5531.14,-217.291C5502.39,-205.722 5463.47,-190.064 5434.81,-178.536\"/>\r\n</g>\r\n<!-- 155 -->\r\n<g id=\"node156\" class=\"node\"><title>155</title>\r\n<ellipse fill=\"none\" stroke=\"black\" cx=\"5619.19\" cy=\"-162\" rx=\"111.581\" ry=\"18\"/>\r\n<text text-anchor=\"middle\" x=\"5619.19\" y=\"-158.3\" font-family=\"Times New Roman,serif\" font-size=\"14.00\">CPPASTName |push_back|</text>\r\n</g>\r\n<!-- 134&#45;&gt;155 -->\r\n<g id=\"edge155\" class=\"edge\"><title>134&#45;&gt;155</title>\r\n<path fill=\"none\" stroke=\"black\" d=\"M5582.05,-216.055C5589.64,-205.211 5599.46,-191.183 5607.1,-180.275\"/>\r\n</g>\r\n<!-- 156 -->\r\n<g id=\"node157\" class=\"node\"><title>156</title>\r\n<ellipse fill=\"none\" stroke=\"black\" cx=\"5822.19\" cy=\"-162\" rx=\"73.387\" ry=\"18\"/>\r\n<text text-anchor=\"middle\" x=\"5822.19\" y=\"-158.3\" font-family=\"Times New Roman,serif\" font-size=\"14.00\">CPPASTName |j|</text>\r\n</g>\r\n<!-- 135&#45;&gt;156 -->\r\n<g id=\"edge156\" class=\"edge\"><title>135&#45;&gt;156</title>\r\n<path fill=\"none\" stroke=\"black\" d=\"M5791.88,-216.055C5798.07,-205.211 5806.09,-191.183 5812.32,-180.275\"/>\r\n</g>\r\n<!-- 157 -->\r\n<g id=\"node158\" class=\"node\"><title>157</title>\r\n<ellipse fill=\"none\" stroke=\"black\" cx=\"5989.19\" cy=\"-162\" rx=\"76.0865\" ry=\"18\"/>\r\n<text text-anchor=\"middle\" x=\"5989.19\" y=\"-158.3\" font-family=\"Times New Roman,serif\" font-size=\"14.00\">CPPASTName |v|</text>\r\n</g>\r\n<!-- 136&#45;&gt;157 -->\r\n<g id=\"edge157\" class=\"edge\"><title>136&#45;&gt;157</title>\r\n<path fill=\"none\" stroke=\"black\" d=\"M5987.69,-215.697C5988,-204.846 5988.39,-190.917 5988.7,-180.104\"/>\r\n</g>\r\n<!-- 158 -->\r\n<g id=\"node159\" class=\"node\"><title>158</title>\r\n<ellipse fill=\"none\" stroke=\"black\" cx=\"6393.19\" cy=\"-162\" rx=\"76.0865\" ry=\"18\"/>\r\n<text text-anchor=\"middle\" x=\"6393.19\" y=\"-158.3\" font-family=\"Times New Roman,serif\" font-size=\"14.00\">CPPASTName |v|</text>\r\n</g>\r\n<!-- 138&#45;&gt;158 -->\r\n<g id=\"edge158\" class=\"edge\"><title>138&#45;&gt;158</title>\r\n<path fill=\"none\" stroke=\"black\" d=\"M6393.19,-215.697C6393.19,-204.846 6393.19,-190.917 6393.19,-180.104\"/>\r\n</g>\r\n<!-- 159 -->\r\n<g id=\"node160\" class=\"node\"><title>159</title>\r\n<ellipse fill=\"none\" stroke=\"black\" cx=\"7214.19\" cy=\"-162\" rx=\"93.6835\" ry=\"18\"/>\r\n<text text-anchor=\"middle\" x=\"7214.19\" y=\"-158.3\" font-family=\"Times New Roman,serif\" font-size=\"14.00\">CPPASTIdExpression</text>\r\n</g>\r\n<!-- 141&#45;&gt;159 -->\r\n<g id=\"edge159\" class=\"edge\"><title>141&#45;&gt;159</title>\r\n<path fill=\"none\" stroke=\"black\" d=\"M7379.67,-217.638C7343.83,-205.806 7294.59,-189.547 7259.15,-177.846\"/>\r\n</g>\r\n<!-- 160 -->\r\n<g id=\"node161\" class=\"node\"><title>160</title>\r\n<ellipse fill=\"none\" stroke=\"black\" cx=\"7357.19\" cy=\"-162\" rx=\"31.6951\" ry=\"18\"/>\r\n<text text-anchor=\"middle\" x=\"7357.19\" y=\"-158.3\" font-family=\"Times New Roman,serif\" font-size=\"14.00\">% |%|</text>\r\n</g>\r\n<!-- 141&#45;&gt;160 -->\r\n<g id=\"edge160\" class=\"edge\"><title>141&#45;&gt;160</title>\r\n<path fill=\"none\" stroke=\"black\" d=\"M7409.49,-216.055C7398.16,-204.564 7383.31,-189.497 7372.33,-178.356\"/>\r\n</g>\r\n<!-- 161 -->\r\n<g id=\"node162\" class=\"node\"><title>161</title>\r\n<ellipse fill=\"none\" stroke=\"black\" cx=\"7525.19\" cy=\"-162\" rx=\"118.079\" ry=\"18\"/>\r\n<text text-anchor=\"middle\" x=\"7525.19\" y=\"-158.3\" font-family=\"Times New Roman,serif\" font-size=\"14.00\">CPPASTLiteralExpression |2|</text>\r\n</g>\r\n<!-- 141&#45;&gt;161 -->\r\n<g id=\"edge161\" class=\"edge\"><title>141&#45;&gt;161</title>\r\n<path fill=\"none\" stroke=\"black\" d=\"M7449.65,-216.411C7465.32,-205.333 7485.85,-190.816 7501.56,-179.713\"/>\r\n</g>\r\n<!-- 162 -->\r\n<g id=\"node163\" class=\"node\"><title>162</title>\r\n<ellipse fill=\"none\" stroke=\"black\" cx=\"7755.19\" cy=\"-162\" rx=\"93.6835\" ry=\"18\"/>\r\n<text text-anchor=\"middle\" x=\"7755.19\" y=\"-158.3\" font-family=\"Times New Roman,serif\" font-size=\"14.00\">CPPASTIdExpression</text>\r\n</g>\r\n<!-- 144&#45;&gt;162 -->\r\n<g id=\"edge162\" class=\"edge\"><title>144&#45;&gt;162</title>\r\n<path fill=\"none\" stroke=\"black\" d=\"M8027.22,-219.503C7966.3,-206.85 7875.9,-188.074 7816.28,-175.689\"/>\r\n</g>\r\n<!-- 163 -->\r\n<g id=\"node164\" class=\"node\"><title>163</title>\r\n<ellipse fill=\"none\" stroke=\"black\" cx=\"7904.19\" cy=\"-162\" rx=\"37.8943\" ry=\"18\"/>\r\n<text text-anchor=\"middle\" x=\"7904.19\" y=\"-158.3\" font-family=\"Times New Roman,serif\" font-size=\"14.00\">+= |+=|</text>\r\n</g>\r\n<!-- 144&#45;&gt;163 -->\r\n<g id=\"edge163\" class=\"edge\"><title>144&#45;&gt;163</title>\r\n<path fill=\"none\" stroke=\"black\" d=\"M8050,-217.291C8014.38,-204.029 7964.34,-185.394 7933.11,-173.766\"/>\r\n</g>\r\n<!-- 164 -->\r\n<g id=\"node165\" class=\"node\"><title>164</title>\r\n<ellipse fill=\"none\" stroke=\"black\" cx=\"8101.19\" cy=\"-162\" rx=\"141.875\" ry=\"18\"/>\r\n<text text-anchor=\"middle\" x=\"8101.19\" y=\"-158.3\" font-family=\"Times New Roman,serif\" font-size=\"14.00\">CPPASTArraySubscriptExpression</text>\r\n</g>\r\n<!-- 144&#45;&gt;164 -->\r\n<g id=\"edge164\" class=\"edge\"><title>144&#45;&gt;164</title>\r\n<path fill=\"none\" stroke=\"black\" d=\"M8094.42,-215.697C8095.81,-204.846 8097.6,-190.917 8098.99,-180.104\"/>\r\n</g>\r\n<!-- 165 -->\r\n<g id=\"node166\" class=\"node\"><title>165</title>\r\n<ellipse fill=\"none\" stroke=\"black\" cx=\"8354.19\" cy=\"-162\" rx=\"93.6835\" ry=\"18\"/>\r\n<text text-anchor=\"middle\" x=\"8354.19\" y=\"-158.3\" font-family=\"Times New Roman,serif\" font-size=\"14.00\">CPPASTIdExpression</text>\r\n</g>\r\n<!-- 145&#45;&gt;165 -->\r\n<g id=\"edge165\" class=\"edge\"><title>145&#45;&gt;165</title>\r\n<path fill=\"none\" stroke=\"black\" d=\"M8360.97,-215.697C8359.57,-204.846 8357.78,-190.917 8356.39,-180.104\"/>\r\n</g>\r\n<!-- 166 -->\r\n<g id=\"node167\" class=\"node\"><title>166</title>\r\n<ellipse fill=\"none\" stroke=\"black\" cx=\"8503.19\" cy=\"-162\" rx=\"37.8943\" ry=\"18\"/>\r\n<text text-anchor=\"middle\" x=\"8503.19\" y=\"-158.3\" font-family=\"Times New Roman,serif\" font-size=\"14.00\">+= |+=|</text>\r\n</g>\r\n<!-- 145&#45;&gt;166 -->\r\n<g id=\"edge166\" class=\"edge\"><title>145&#45;&gt;166</title>\r\n<path fill=\"none\" stroke=\"black\" d=\"M8395.66,-216.765C8420.7,-204.244 8454.84,-187.176 8477.88,-175.656\"/>\r\n</g>\r\n<!-- 167 -->\r\n<g id=\"node168\" class=\"node\"><title>167</title>\r\n<ellipse fill=\"none\" stroke=\"black\" cx=\"8700.19\" cy=\"-162\" rx=\"141.875\" ry=\"18\"/>\r\n<text text-anchor=\"middle\" x=\"8700.19\" y=\"-158.3\" font-family=\"Times New Roman,serif\" font-size=\"14.00\">CPPASTArraySubscriptExpression</text>\r\n</g>\r\n<!-- 145&#45;&gt;167 -->\r\n<g id=\"edge167\" class=\"edge\"><title>145&#45;&gt;167</title>\r\n<path fill=\"none\" stroke=\"black\" d=\"M8428.17,-219.503C8485.93,-207.505 8570.19,-190.003 8629.6,-177.664\"/>\r\n</g>\r\n<!-- 168 -->\r\n<g id=\"node169\" class=\"node\"><title>168</title>\r\n<ellipse fill=\"none\" stroke=\"black\" cx=\"8951.19\" cy=\"-162\" rx=\"90.9839\" ry=\"18\"/>\r\n<text text-anchor=\"middle\" x=\"8951.19\" y=\"-158.3\" font-family=\"Times New Roman,serif\" font-size=\"14.00\">CPPASTName |suma|</text>\r\n</g>\r\n<!-- 147&#45;&gt;168 -->\r\n<g id=\"edge168\" class=\"edge\"><title>147&#45;&gt;168</title>\r\n<path fill=\"none\" stroke=\"black\" d=\"M8906.47,-216.055C8915.75,-205.049 8927.79,-190.764 8937.04,-179.789\"/>\r\n</g>\r\n<!-- 169 -->\r\n<g id=\"node170\" class=\"node\"><title>169</title>\r\n<ellipse fill=\"none\" stroke=\"black\" cx=\"9170.19\" cy=\"-162\" rx=\"91.784\" ry=\"18\"/>\r\n<text text-anchor=\"middle\" x=\"9170.19\" y=\"-158.3\" font-family=\"Times New Roman,serif\" font-size=\"14.00\">CPPASTName |sumb|</text>\r\n</g>\r\n<!-- 149&#45;&gt;169 -->\r\n<g id=\"edge169\" class=\"edge\"><title>149&#45;&gt;169</title>\r\n<path fill=\"none\" stroke=\"black\" d=\"M9170.19,-215.697C9170.19,-204.846 9170.19,-190.917 9170.19,-180.104\"/>\r\n</g>\r\n<!-- 170 -->\r\n<g id=\"node171\" class=\"node\"><title>170</title>\r\n<ellipse fill=\"none\" stroke=\"black\" cx=\"1922.19\" cy=\"-90\" rx=\"82.5854\" ry=\"18\"/>\r\n<text text-anchor=\"middle\" x=\"1922.19\" y=\"-86.3\" font-family=\"Times New Roman,serif\" font-size=\"14.00\">CPPASTName |LL|</text>\r\n</g>\r\n<!-- 150&#45;&gt;170 -->\r\n<g id=\"edge170\" class=\"edge\"><title>150&#45;&gt;170</title>\r\n<path fill=\"none\" stroke=\"black\" d=\"M1922.19,-143.697C1922.19,-132.846 1922.19,-118.917 1922.19,-108.104\"/>\r\n</g>\r\n<!-- 171 -->\r\n<g id=\"node172\" class=\"node\"><title>171</title>\r\n<ellipse fill=\"none\" stroke=\"black\" cx=\"5396.19\" cy=\"-90\" rx=\"76.0865\" ry=\"18\"/>\r\n<text text-anchor=\"middle\" x=\"5396.19\" y=\"-86.3\" font-family=\"Times New Roman,serif\" font-size=\"14.00\">CPPASTName |v|</text>\r\n</g>\r\n<!-- 154&#45;&gt;171 -->\r\n<g id=\"edge171\" class=\"edge\"><title>154&#45;&gt;171</title>\r\n<path fill=\"none\" stroke=\"black\" d=\"M5396.19,-143.697C5396.19,-132.846 5396.19,-118.917 5396.19,-108.104\"/>\r\n</g>\r\n<!-- 172 -->\r\n<g id=\"node173\" class=\"node\"><title>172</title>\r\n<ellipse fill=\"none\" stroke=\"black\" cx=\"7214.19\" cy=\"-90\" rx=\"73.387\" ry=\"18\"/>\r\n<text text-anchor=\"middle\" x=\"7214.19\" y=\"-86.3\" font-family=\"Times New Roman,serif\" font-size=\"14.00\">CPPASTName |i|</text>\r\n</g>\r\n<!-- 159&#45;&gt;172 -->\r\n<g id=\"edge172\" class=\"edge\"><title>159&#45;&gt;172</title>\r\n<path fill=\"none\" stroke=\"black\" d=\"M7214.19,-143.697C7214.19,-132.846 7214.19,-118.917 7214.19,-108.104\"/>\r\n</g>\r\n<!-- 173 -->\r\n<g id=\"node174\" class=\"node\"><title>173</title>\r\n<ellipse fill=\"none\" stroke=\"black\" cx=\"7749.19\" cy=\"-90\" rx=\"90.9839\" ry=\"18\"/>\r\n<text text-anchor=\"middle\" x=\"7749.19\" y=\"-86.3\" font-family=\"Times New Roman,serif\" font-size=\"14.00\">CPPASTName |suma|</text>\r\n</g>\r\n<!-- 162&#45;&gt;173 -->\r\n<g id=\"edge173\" class=\"edge\"><title>162&#45;&gt;173</title>\r\n<path fill=\"none\" stroke=\"black\" d=\"M7753.71,-143.697C7752.78,-132.846 7751.59,-118.917 7750.66,-108.104\"/>\r\n</g>\r\n<!-- 174 -->\r\n<g id=\"node175\" class=\"node\"><title>174</title>\r\n<ellipse fill=\"none\" stroke=\"black\" cx=\"7952.19\" cy=\"-90\" rx=\"93.6835\" ry=\"18\"/>\r\n<text text-anchor=\"middle\" x=\"7952.19\" y=\"-86.3\" font-family=\"Times New Roman,serif\" font-size=\"14.00\">CPPASTIdExpression</text>\r\n</g>\r\n<!-- 164&#45;&gt;174 -->\r\n<g id=\"edge174\" class=\"edge\"><title>164&#45;&gt;174</title>\r\n<path fill=\"none\" stroke=\"black\" d=\"M8065.88,-144.411C8041.7,-133.05 8009.82,-118.072 7985.97,-106.868\"/>\r\n</g>\r\n<!-- 175 -->\r\n<g id=\"node176\" class=\"node\"><title>175</title>\r\n<ellipse fill=\"none\" stroke=\"black\" cx=\"8157.19\" cy=\"-90\" rx=\"93.6835\" ry=\"18\"/>\r\n<text text-anchor=\"middle\" x=\"8157.19\" y=\"-86.3\" font-family=\"Times New Roman,serif\" font-size=\"14.00\">CPPASTIdExpression</text>\r\n</g>\r\n<!-- 164&#45;&gt;175 -->\r\n<g id=\"edge175\" class=\"edge\"><title>164&#45;&gt;175</title>\r\n<path fill=\"none\" stroke=\"black\" d=\"M8114.75,-144.055C8123.42,-133.211 8134.65,-119.183 8143.37,-108.275\"/>\r\n</g>\r\n<!-- 176 -->\r\n<g id=\"node177\" class=\"node\"><title>176</title>\r\n<ellipse fill=\"none\" stroke=\"black\" cx=\"8360.19\" cy=\"-90\" rx=\"91.784\" ry=\"18\"/>\r\n<text text-anchor=\"middle\" x=\"8360.19\" y=\"-86.3\" font-family=\"Times New Roman,serif\" font-size=\"14.00\">CPPASTName |sumb|</text>\r\n</g>\r\n<!-- 165&#45;&gt;176 -->\r\n<g id=\"edge176\" class=\"edge\"><title>165&#45;&gt;176</title>\r\n<path fill=\"none\" stroke=\"black\" d=\"M8355.68,-143.697C8356.61,-132.846 8357.8,-118.917 8358.73,-108.104\"/>\r\n</g>\r\n<!-- 177 -->\r\n<g id=\"node178\" class=\"node\"><title>177</title>\r\n<ellipse fill=\"none\" stroke=\"black\" cx=\"8634.19\" cy=\"-90\" rx=\"93.6835\" ry=\"18\"/>\r\n<text text-anchor=\"middle\" x=\"8634.19\" y=\"-86.3\" font-family=\"Times New Roman,serif\" font-size=\"14.00\">CPPASTIdExpression</text>\r\n</g>\r\n<!-- 167&#45;&gt;177 -->\r\n<g id=\"edge177\" class=\"edge\"><title>167&#45;&gt;177</title>\r\n<path fill=\"none\" stroke=\"black\" d=\"M8684.22,-144.055C8673.84,-133.049 8660.37,-118.764 8650.02,-107.789\"/>\r\n</g>\r\n<!-- 178 -->\r\n<g id=\"node179\" class=\"node\"><title>178</title>\r\n<ellipse fill=\"none\" stroke=\"black\" cx=\"8839.19\" cy=\"-90\" rx=\"93.6835\" ry=\"18\"/>\r\n<text text-anchor=\"middle\" x=\"8839.19\" y=\"-86.3\" font-family=\"Times New Roman,serif\" font-size=\"14.00\">CPPASTIdExpression</text>\r\n</g>\r\n<!-- 167&#45;&gt;178 -->\r\n<g id=\"edge178\" class=\"edge\"><title>167&#45;&gt;178</title>\r\n<path fill=\"none\" stroke=\"black\" d=\"M8733.13,-144.411C8755.61,-133.091 8785.22,-118.178 8807.44,-106.988\"/>\r\n</g>\r\n<!-- 179 -->\r\n<g id=\"node180\" class=\"node\"><title>179</title>\r\n<ellipse fill=\"none\" stroke=\"black\" cx=\"7952.19\" cy=\"-18\" rx=\"76.0865\" ry=\"18\"/>\r\n<text text-anchor=\"middle\" x=\"7952.19\" y=\"-14.3\" font-family=\"Times New Roman,serif\" font-size=\"14.00\">CPPASTName |v|</text>\r\n</g>\r\n<!-- 174&#45;&gt;179 -->\r\n<g id=\"edge179\" class=\"edge\"><title>174&#45;&gt;179</title>\r\n<path fill=\"none\" stroke=\"black\" d=\"M7952.19,-71.6966C7952.19,-60.8463 7952.19,-46.9167 7952.19,-36.1043\"/>\r\n</g>\r\n<!-- 180 -->\r\n<g id=\"node181\" class=\"node\"><title>180</title>\r\n<ellipse fill=\"none\" stroke=\"black\" cx=\"8157.19\" cy=\"-18\" rx=\"73.387\" ry=\"18\"/>\r\n<text text-anchor=\"middle\" x=\"8157.19\" y=\"-14.3\" font-family=\"Times New Roman,serif\" font-size=\"14.00\">CPPASTName |i|</text>\r\n</g>\r\n<!-- 175&#45;&gt;180 -->\r\n<g id=\"edge180\" class=\"edge\"><title>175&#45;&gt;180</title>\r\n<path fill=\"none\" stroke=\"black\" d=\"M8157.19,-71.6966C8157.19,-60.8463 8157.19,-46.9167 8157.19,-36.1043\"/>\r\n</g>\r\n<!-- 181 -->\r\n<g id=\"node182\" class=\"node\"><title>181</title>\r\n<ellipse fill=\"none\" stroke=\"black\" cx=\"8634.19\" cy=\"-18\" rx=\"76.0865\" ry=\"18\"/>\r\n<text text-anchor=\"middle\" x=\"8634.19\" y=\"-14.3\" font-family=\"Times New Roman,serif\" font-size=\"14.00\">CPPASTName |v|</text>\r\n</g>\r\n<!-- 177&#45;&gt;181 -->\r\n<g id=\"edge181\" class=\"edge\"><title>177&#45;&gt;181</title>\r\n<path fill=\"none\" stroke=\"black\" d=\"M8634.19,-71.6966C8634.19,-60.8463 8634.19,-46.9167 8634.19,-36.1043\"/>\r\n</g>\r\n<!-- 182 -->\r\n<g id=\"node183\" class=\"node\"><title>182</title>\r\n<ellipse fill=\"none\" stroke=\"black\" cx=\"8839.19\" cy=\"-18\" rx=\"73.387\" ry=\"18\"/>\r\n<text text-anchor=\"middle\" x=\"8839.19\" y=\"-14.3\" font-family=\"Times New Roman,serif\" font-size=\"14.00\">CPPASTName |i|</text>\r\n</g>\r\n<!-- 178&#45;&gt;182 -->\r\n<g id=\"edge182\" class=\"edge\"><title>178&#45;&gt;182</title>\r\n<path fill=\"none\" stroke=\"black\" d=\"M8839.19,-71.6966C8839.19,-60.8463 8839.19,-46.9167 8839.19,-36.1043\"/>\r\n</g>\r\n</g>\r\n</svg>\r\n",
      "text/plain": [
       "<graphviz.dot.Digraph at 0x21251a6c4f0>"
      ]
     },
     "execution_count": 14,
     "metadata": {},
     "output_type": "execute_result"
    }
   ],
   "source": [
    "from visualization import AI4CodeGraphVizualizer\n",
    "from AI4Code.AI4CodeJsonObject import AI4CodeJsonObject\n",
    "import json\n",
    "json_file = r\"C:\\Users\\sebas\\Documents\\Masterarbeit\\datasets\\2_parallel_dataset\\ai4code_cpp\\p03434\\s179880363.json\"\n",
    "with open(json_file, 'r') as json_file:\n",
    "    ai4code_json = json.load(json_file)\n",
    "\n",
    "ai4code = AI4CodeJsonObject.from_json(ai4code_json)\n",
    "ast = ai4code.get_graph().get_root_node()\n",
    "AI4CodeGraphVizualizer.visualize_ast(ast)"
   ]
  },
  {
   "cell_type": "code",
   "execution_count": 135,
   "metadata": {},
   "outputs": [],
   "source": [
    "from vectorizer.AstNode2VecFileStreamDataGenerator import AstNode2VecFileStreamDataGenerator\n",
    "train_files = dataset.get_data_files()\n",
    "node_map = dataset.get_vocabulary_map()\n",
    "training_generator = AstNode2VecFileStreamDataGenerator(train_files, node_map, batch_size=32, shuffle=True)"
   ]
  },
  {
   "cell_type": "code",
   "execution_count": 133,
   "metadata": {},
   "outputs": [],
   "source": [
    "from vectorizer.AstNode2Vec import AstNode2Vec\n",
    "from keras.metrics import Precision, Recall\n",
    "import tensorflow as tf\n",
    "model = AstNode2Vec(feature_size=len(node_map), embedding_size=60, vocab_size=len(node_map))\n",
    "model.compile(loss=tf.keras.losses.CosineSimilarity(), optimizer='adam')"
   ]
  },
  {
   "cell_type": "code",
   "execution_count": 136,
   "metadata": {},
   "outputs": [
    {
     "name": "stdout",
     "output_type": "stream",
     "text": [
      "Epoch 1/13\n"
     ]
    },
    {
     "ename": "InvalidArgumentError",
     "evalue": " In[0] mismatch In[1] shape: 60 vs. 120: [2,60] [120,60] 0 0\n\t [[node ast_node2vec_11/Tensordot/MatMul (defined at c:\\Users\\sebas\\Documents\\Masterarbeit\\tbcnn-tf2\\vectorizer\\AstNode2Vec.py:34) ]] [Op:__inference_train_function_2925370]\n\nFunction call stack:\ntrain_function\n",
     "output_type": "error",
     "traceback": [
      "\u001b[1;31m---------------------------------------------------------------------------\u001b[0m",
      "\u001b[1;31mInvalidArgumentError\u001b[0m                      Traceback (most recent call last)",
      "\u001b[1;32mc:\\Users\\sebas\\Documents\\Masterarbeit\\tbcnn-tf2\\embeddings.ipynb Cell 10'\u001b[0m in \u001b[0;36m<cell line: 1>\u001b[1;34m()\u001b[0m\n\u001b[1;32m----> <a href='vscode-notebook-cell:/c%3A/Users/sebas/Documents/Masterarbeit/tbcnn-tf2/embeddings.ipynb#ch0000010?line=0'>1</a>\u001b[0m model\u001b[39m.\u001b[39;49mfit(training_generator, epochs\u001b[39m=\u001b[39;49m\u001b[39m13\u001b[39;49m)\n",
      "File \u001b[1;32mc:\\Users\\sebas\\miniconda3\\envs\\tbcnn-tf2-gpu\\lib\\site-packages\\keras\\engine\\training.py:1184\u001b[0m, in \u001b[0;36mModel.fit\u001b[1;34m(self, x, y, batch_size, epochs, verbose, callbacks, validation_split, validation_data, shuffle, class_weight, sample_weight, initial_epoch, steps_per_epoch, validation_steps, validation_batch_size, validation_freq, max_queue_size, workers, use_multiprocessing)\u001b[0m\n\u001b[0;32m   1177\u001b[0m \u001b[39mwith\u001b[39;00m tf\u001b[39m.\u001b[39mprofiler\u001b[39m.\u001b[39mexperimental\u001b[39m.\u001b[39mTrace(\n\u001b[0;32m   1178\u001b[0m     \u001b[39m'\u001b[39m\u001b[39mtrain\u001b[39m\u001b[39m'\u001b[39m,\n\u001b[0;32m   1179\u001b[0m     epoch_num\u001b[39m=\u001b[39mepoch,\n\u001b[0;32m   1180\u001b[0m     step_num\u001b[39m=\u001b[39mstep,\n\u001b[0;32m   1181\u001b[0m     batch_size\u001b[39m=\u001b[39mbatch_size,\n\u001b[0;32m   1182\u001b[0m     _r\u001b[39m=\u001b[39m\u001b[39m1\u001b[39m):\n\u001b[0;32m   1183\u001b[0m   callbacks\u001b[39m.\u001b[39mon_train_batch_begin(step)\n\u001b[1;32m-> 1184\u001b[0m   tmp_logs \u001b[39m=\u001b[39m \u001b[39mself\u001b[39;49m\u001b[39m.\u001b[39;49mtrain_function(iterator)\n\u001b[0;32m   1185\u001b[0m   \u001b[39mif\u001b[39;00m data_handler\u001b[39m.\u001b[39mshould_sync:\n\u001b[0;32m   1186\u001b[0m     context\u001b[39m.\u001b[39masync_wait()\n",
      "File \u001b[1;32mc:\\Users\\sebas\\miniconda3\\envs\\tbcnn-tf2-gpu\\lib\\site-packages\\tensorflow\\python\\eager\\def_function.py:885\u001b[0m, in \u001b[0;36mFunction.__call__\u001b[1;34m(self, *args, **kwds)\u001b[0m\n\u001b[0;32m    882\u001b[0m compiler \u001b[39m=\u001b[39m \u001b[39m\"\u001b[39m\u001b[39mxla\u001b[39m\u001b[39m\"\u001b[39m \u001b[39mif\u001b[39;00m \u001b[39mself\u001b[39m\u001b[39m.\u001b[39m_jit_compile \u001b[39melse\u001b[39;00m \u001b[39m\"\u001b[39m\u001b[39mnonXla\u001b[39m\u001b[39m\"\u001b[39m\n\u001b[0;32m    884\u001b[0m \u001b[39mwith\u001b[39;00m OptionalXlaContext(\u001b[39mself\u001b[39m\u001b[39m.\u001b[39m_jit_compile):\n\u001b[1;32m--> 885\u001b[0m   result \u001b[39m=\u001b[39m \u001b[39mself\u001b[39m\u001b[39m.\u001b[39m_call(\u001b[39m*\u001b[39margs, \u001b[39m*\u001b[39m\u001b[39m*\u001b[39mkwds)\n\u001b[0;32m    887\u001b[0m new_tracing_count \u001b[39m=\u001b[39m \u001b[39mself\u001b[39m\u001b[39m.\u001b[39mexperimental_get_tracing_count()\n\u001b[0;32m    888\u001b[0m without_tracing \u001b[39m=\u001b[39m (tracing_count \u001b[39m==\u001b[39m new_tracing_count)\n",
      "File \u001b[1;32mc:\\Users\\sebas\\miniconda3\\envs\\tbcnn-tf2-gpu\\lib\\site-packages\\tensorflow\\python\\eager\\def_function.py:917\u001b[0m, in \u001b[0;36mFunction._call\u001b[1;34m(self, *args, **kwds)\u001b[0m\n\u001b[0;32m    914\u001b[0m   \u001b[39mself\u001b[39m\u001b[39m.\u001b[39m_lock\u001b[39m.\u001b[39mrelease()\n\u001b[0;32m    915\u001b[0m   \u001b[39m# In this case we have created variables on the first call, so we run the\u001b[39;00m\n\u001b[0;32m    916\u001b[0m   \u001b[39m# defunned version which is guaranteed to never create variables.\u001b[39;00m\n\u001b[1;32m--> 917\u001b[0m   \u001b[39mreturn\u001b[39;00m \u001b[39mself\u001b[39m\u001b[39m.\u001b[39m_stateless_fn(\u001b[39m*\u001b[39margs, \u001b[39m*\u001b[39m\u001b[39m*\u001b[39mkwds)  \u001b[39m# pylint: disable=not-callable\u001b[39;00m\n\u001b[0;32m    918\u001b[0m \u001b[39melif\u001b[39;00m \u001b[39mself\u001b[39m\u001b[39m.\u001b[39m_stateful_fn \u001b[39mis\u001b[39;00m \u001b[39mnot\u001b[39;00m \u001b[39mNone\u001b[39;00m:\n\u001b[0;32m    919\u001b[0m   \u001b[39m# Release the lock early so that multiple threads can perform the call\u001b[39;00m\n\u001b[0;32m    920\u001b[0m   \u001b[39m# in parallel.\u001b[39;00m\n\u001b[0;32m    921\u001b[0m   \u001b[39mself\u001b[39m\u001b[39m.\u001b[39m_lock\u001b[39m.\u001b[39mrelease()\n",
      "File \u001b[1;32mc:\\Users\\sebas\\miniconda3\\envs\\tbcnn-tf2-gpu\\lib\\site-packages\\tensorflow\\python\\eager\\function.py:3039\u001b[0m, in \u001b[0;36mFunction.__call__\u001b[1;34m(self, *args, **kwargs)\u001b[0m\n\u001b[0;32m   3036\u001b[0m \u001b[39mwith\u001b[39;00m \u001b[39mself\u001b[39m\u001b[39m.\u001b[39m_lock:\n\u001b[0;32m   3037\u001b[0m   (graph_function,\n\u001b[0;32m   3038\u001b[0m    filtered_flat_args) \u001b[39m=\u001b[39m \u001b[39mself\u001b[39m\u001b[39m.\u001b[39m_maybe_define_function(args, kwargs)\n\u001b[1;32m-> 3039\u001b[0m \u001b[39mreturn\u001b[39;00m graph_function\u001b[39m.\u001b[39;49m_call_flat(\n\u001b[0;32m   3040\u001b[0m     filtered_flat_args, captured_inputs\u001b[39m=\u001b[39;49mgraph_function\u001b[39m.\u001b[39;49mcaptured_inputs)\n",
      "File \u001b[1;32mc:\\Users\\sebas\\miniconda3\\envs\\tbcnn-tf2-gpu\\lib\\site-packages\\tensorflow\\python\\eager\\function.py:1963\u001b[0m, in \u001b[0;36mConcreteFunction._call_flat\u001b[1;34m(self, args, captured_inputs, cancellation_manager)\u001b[0m\n\u001b[0;32m   1959\u001b[0m possible_gradient_type \u001b[39m=\u001b[39m gradients_util\u001b[39m.\u001b[39mPossibleTapeGradientTypes(args)\n\u001b[0;32m   1960\u001b[0m \u001b[39mif\u001b[39;00m (possible_gradient_type \u001b[39m==\u001b[39m gradients_util\u001b[39m.\u001b[39mPOSSIBLE_GRADIENT_TYPES_NONE\n\u001b[0;32m   1961\u001b[0m     \u001b[39mand\u001b[39;00m executing_eagerly):\n\u001b[0;32m   1962\u001b[0m   \u001b[39m# No tape is watching; skip to running the function.\u001b[39;00m\n\u001b[1;32m-> 1963\u001b[0m   \u001b[39mreturn\u001b[39;00m \u001b[39mself\u001b[39m\u001b[39m.\u001b[39m_build_call_outputs(\u001b[39mself\u001b[39;49m\u001b[39m.\u001b[39;49m_inference_function\u001b[39m.\u001b[39;49mcall(\n\u001b[0;32m   1964\u001b[0m       ctx, args, cancellation_manager\u001b[39m=\u001b[39;49mcancellation_manager))\n\u001b[0;32m   1965\u001b[0m forward_backward \u001b[39m=\u001b[39m \u001b[39mself\u001b[39m\u001b[39m.\u001b[39m_select_forward_and_backward_functions(\n\u001b[0;32m   1966\u001b[0m     args,\n\u001b[0;32m   1967\u001b[0m     possible_gradient_type,\n\u001b[0;32m   1968\u001b[0m     executing_eagerly)\n\u001b[0;32m   1969\u001b[0m forward_function, args_with_tangents \u001b[39m=\u001b[39m forward_backward\u001b[39m.\u001b[39mforward()\n",
      "File \u001b[1;32mc:\\Users\\sebas\\miniconda3\\envs\\tbcnn-tf2-gpu\\lib\\site-packages\\tensorflow\\python\\eager\\function.py:591\u001b[0m, in \u001b[0;36m_EagerDefinedFunction.call\u001b[1;34m(self, ctx, args, cancellation_manager)\u001b[0m\n\u001b[0;32m    589\u001b[0m \u001b[39mwith\u001b[39;00m _InterpolateFunctionError(\u001b[39mself\u001b[39m):\n\u001b[0;32m    590\u001b[0m   \u001b[39mif\u001b[39;00m cancellation_manager \u001b[39mis\u001b[39;00m \u001b[39mNone\u001b[39;00m:\n\u001b[1;32m--> 591\u001b[0m     outputs \u001b[39m=\u001b[39m execute\u001b[39m.\u001b[39;49mexecute(\n\u001b[0;32m    592\u001b[0m         \u001b[39mstr\u001b[39;49m(\u001b[39mself\u001b[39;49m\u001b[39m.\u001b[39;49msignature\u001b[39m.\u001b[39;49mname),\n\u001b[0;32m    593\u001b[0m         num_outputs\u001b[39m=\u001b[39;49m\u001b[39mself\u001b[39;49m\u001b[39m.\u001b[39;49m_num_outputs,\n\u001b[0;32m    594\u001b[0m         inputs\u001b[39m=\u001b[39;49margs,\n\u001b[0;32m    595\u001b[0m         attrs\u001b[39m=\u001b[39;49mattrs,\n\u001b[0;32m    596\u001b[0m         ctx\u001b[39m=\u001b[39;49mctx)\n\u001b[0;32m    597\u001b[0m   \u001b[39melse\u001b[39;00m:\n\u001b[0;32m    598\u001b[0m     outputs \u001b[39m=\u001b[39m execute\u001b[39m.\u001b[39mexecute_with_cancellation(\n\u001b[0;32m    599\u001b[0m         \u001b[39mstr\u001b[39m(\u001b[39mself\u001b[39m\u001b[39m.\u001b[39msignature\u001b[39m.\u001b[39mname),\n\u001b[0;32m    600\u001b[0m         num_outputs\u001b[39m=\u001b[39m\u001b[39mself\u001b[39m\u001b[39m.\u001b[39m_num_outputs,\n\u001b[1;32m   (...)\u001b[0m\n\u001b[0;32m    603\u001b[0m         ctx\u001b[39m=\u001b[39mctx,\n\u001b[0;32m    604\u001b[0m         cancellation_manager\u001b[39m=\u001b[39mcancellation_manager)\n",
      "File \u001b[1;32mc:\\Users\\sebas\\miniconda3\\envs\\tbcnn-tf2-gpu\\lib\\site-packages\\tensorflow\\python\\eager\\execute.py:59\u001b[0m, in \u001b[0;36mquick_execute\u001b[1;34m(op_name, num_outputs, inputs, attrs, ctx, name)\u001b[0m\n\u001b[0;32m     57\u001b[0m \u001b[39mtry\u001b[39;00m:\n\u001b[0;32m     58\u001b[0m   ctx\u001b[39m.\u001b[39mensure_initialized()\n\u001b[1;32m---> 59\u001b[0m   tensors \u001b[39m=\u001b[39m pywrap_tfe\u001b[39m.\u001b[39;49mTFE_Py_Execute(ctx\u001b[39m.\u001b[39;49m_handle, device_name, op_name,\n\u001b[0;32m     60\u001b[0m                                       inputs, attrs, num_outputs)\n\u001b[0;32m     61\u001b[0m \u001b[39mexcept\u001b[39;00m core\u001b[39m.\u001b[39m_NotOkStatusException \u001b[39mas\u001b[39;00m e:\n\u001b[0;32m     62\u001b[0m   \u001b[39mif\u001b[39;00m name \u001b[39mis\u001b[39;00m \u001b[39mnot\u001b[39;00m \u001b[39mNone\u001b[39;00m:\n",
      "\u001b[1;31mInvalidArgumentError\u001b[0m:  In[0] mismatch In[1] shape: 60 vs. 120: [2,60] [120,60] 0 0\n\t [[node ast_node2vec_11/Tensordot/MatMul (defined at c:\\Users\\sebas\\Documents\\Masterarbeit\\tbcnn-tf2\\vectorizer\\AstNode2Vec.py:34) ]] [Op:__inference_train_function_2925370]\n\nFunction call stack:\ntrain_function\n"
     ]
    }
   ],
   "source": [
    "model.fit(training_generator, epochs=13)"
   ]
  },
  {
   "cell_type": "code",
   "execution_count": 90,
   "metadata": {},
   "outputs": [],
   "source": [
    "import io\n",
    "weights = model.get_layer('target_embedding').get_weights()[0]\n",
    "vocab = dataset.get_vocabulary_map()\n",
    "out_v = io.open('C:\\\\Users\\\\sebas\\\\Documents\\\\Masterarbeit\\\\vectors_new.tsv', 'w', encoding='utf-8')\n",
    "out_m = io.open('C:\\\\Users\\\\sebas\\\\Documents\\\\Masterarbeit\\\\metadata_new.tsv', 'w', encoding='utf-8')\n",
    "\n",
    "for index, word in enumerate(vocab):\n",
    "    vec = weights[index]\n",
    "    out_v.write('\\t'.join([str(x) for x in vec]) + \"\\n\")\n",
    "    out_m.write(word + \"\\n\")\n",
    "out_v.close()\n",
    "out_m.close()"
   ]
  }
 ],
 "metadata": {
  "kernelspec": {
   "display_name": "Python 3.9.12 ('tbcnn-tf2-gpu')",
   "language": "python",
   "name": "python3"
  },
  "language_info": {
   "codemirror_mode": {
    "name": "ipython",
    "version": 3
   },
   "file_extension": ".py",
   "mimetype": "text/x-python",
   "name": "python",
   "nbconvert_exporter": "python",
   "pygments_lexer": "ipython3",
   "version": "3.9.12"
  },
  "orig_nbformat": 4,
  "vscode": {
   "interpreter": {
    "hash": "624c0db3f60790ff079c94b24694c6442d0e911e6d6545ae8daf3b91e5a8f389"
   }
  }
 },
 "nbformat": 4,
 "nbformat_minor": 2
}
