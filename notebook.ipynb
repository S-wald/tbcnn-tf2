{
 "cells": [
  {
   "cell_type": "code",
   "execution_count": 1,
   "outputs": [],
   "source": [
    "%load_ext autoreload\n",
    "%autoreload 2"
   ],
   "metadata": {
    "collapsed": false,
    "pycharm": {
     "name": "#%%\n"
    }
   }
  },
  {
   "cell_type": "code",
   "execution_count": 2,
   "outputs": [],
   "source": [
    "import tensorflow as tf"
   ],
   "metadata": {
    "collapsed": false,
    "pycharm": {
     "name": "#%%\n"
    }
   }
  },
  {
   "cell_type": "code",
   "execution_count": 23,
   "metadata": {
    "collapsed": true
   },
   "outputs": [],
   "source": [
    "import pickle\n",
    "with open(\"data/algorithm_trees.pkl\", 'rb') as fh:\n",
    "    trees, val_trees, labels = pickle.load(fh)\n",
    "\n",
    "with open(\"data/vectors.pkl\", 'rb') as fh:\n",
    "    embeddings, embed_lookup = pickle.load(fh)\n",
    "    embedding_size = len(embeddings[0])"
   ]
  },
  {
   "cell_type": "code",
   "execution_count": 6,
   "outputs": [
    {
     "data": {
      "text/plain": "array([   0,    1,    2, ..., 1959, 1960, 1961])"
     },
     "execution_count": 6,
     "metadata": {},
     "output_type": "execute_result"
    }
   ],
   "source": [
    "import numpy as np\n",
    "type(trees)\n",
    "len(trees)\n",
    "np.arange(len(trees))"
   ],
   "metadata": {
    "collapsed": false,
    "pycharm": {
     "name": "#%%\n"
    }
   }
  },
  {
   "cell_type": "code",
   "execution_count": 32,
   "outputs": [],
   "source": [
    "from classifier.Tbcnn import Tbcnn\n",
    "model = Tbcnn(embedding_size=embedding_size, conv_output_size=100, num_classes=len(labels))\n",
    "model.compile(loss=tf.keras.losses.CategoricalCrossentropy(), optimizer='adam',\n",
    "              metrics = [tf.keras.metrics.CategoricalAccuracy()])"
   ],
   "metadata": {
    "collapsed": false,
    "pycharm": {
     "name": "#%%\n"
    }
   }
  },
  {
   "cell_type": "code",
   "execution_count": 33,
   "outputs": [
    {
     "name": "stdout",
     "output_type": "stream",
     "text": [
      "Epoch 1/2\n",
      "1962/1962 [==============================] - 6s 3ms/step - loss: 0.9080 - categorical_accuracy: 0.6947 - val_loss: 0.3730 - val_categorical_accuracy: 0.9295\n",
      "Epoch 2/2\n",
      "1962/1962 [==============================] - 5s 3ms/step - loss: 0.2053 - categorical_accuracy: 0.9587 - val_loss: 0.1099 - val_categorical_accuracy: 0.9955\n"
     ]
    },
    {
     "data": {
      "text/plain": "<keras.callbacks.History at 0x2058a3d54b0>"
     },
     "execution_count": 33,
     "metadata": {},
     "output_type": "execute_result"
    }
   ],
   "source": [
    "from generator.DataGenerator import DataGenerator\n",
    "#model.fit(batch_samples(gen_samples(trees, labels, embeddings, embed_lookup, 1), 2))\n",
    "training_generator = DataGenerator(trees, labels, embeddings, embed_lookup, batch_size=1, shuffle=True)\n",
    "validation_generator = DataGenerator(val_trees, labels, embeddings, embed_lookup, batch_size=1, shuffle=False)\n",
    "model.fit(training_generator, validation_data=validation_generator, epochs=2)"
   ],
   "metadata": {
    "collapsed": false,
    "pycharm": {
     "name": "#%%\n"
    }
   }
  },
  {
   "cell_type": "code",
   "execution_count": 28,
   "outputs": [
    {
     "name": "stdout",
     "output_type": "stream",
     "text": [
      "894/894 [==============================] - 6s 7ms/step - loss: 0.0631 - categorical_accuracy: 1.0000\n"
     ]
    }
   ],
   "source": [
    "#model.predict(batch_samples(gen_samples(val_trees, labels, embeddings, embed_lookup, 10), 1))\n",
    "metrics = model.evaluate(validation_generator)\n",
    "#print(metrics)"
   ],
   "metadata": {
    "collapsed": false,
    "pycharm": {
     "name": "#%%\n"
    }
   }
  },
  {
   "cell_type": "code",
   "execution_count": null,
   "outputs": [],
   "source": [],
   "metadata": {
    "collapsed": false,
    "pycharm": {
     "name": "#%%\n"
    }
   }
  }
 ],
 "metadata": {
  "kernelspec": {
   "display_name": "Python 3",
   "language": "python",
   "name": "python3"
  },
  "language_info": {
   "codemirror_mode": {
    "name": "ipython",
    "version": 2
   },
   "file_extension": ".py",
   "mimetype": "text/x-python",
   "name": "python",
   "nbconvert_exporter": "python",
   "pygments_lexer": "ipython2",
   "version": "2.7.6"
  }
 },
 "nbformat": 4,
 "nbformat_minor": 0
}