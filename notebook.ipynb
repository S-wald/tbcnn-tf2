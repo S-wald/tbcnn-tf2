{
 "cells": [
  {
   "cell_type": "markdown",
   "source": [
    "# Project CodeNet Program Classification with a TBCNN\n",
    "\n",
    "This notebook shows an application of a TBCNN for classifying programs by functionality. In this experiment we use Python source code from Project CodeNet and predict their problem_id.\n",
    "\n",
    "Structure of this notebook:\n",
    "1. Creation of a derived dataset from Project CodeNet\n",
    "2. Training of a TBCNN on this dataset\n",
    "3. Visualizations of the Convolutional Layer of the Model using GraphViz"
   ],
   "metadata": {
    "collapsed": false,
    "pycharm": {
     "name": "#%% md\n"
    }
   }
  },
  {
   "cell_type": "code",
   "execution_count": 1,
   "outputs": [],
   "source": [
    "%load_ext autoreload\n",
    "%autoreload 2"
   ],
   "metadata": {
    "collapsed": false,
    "pycharm": {
     "name": "#%%\n"
    }
   }
  },
  {
   "cell_type": "markdown",
   "source": [
    "## Derived Dataset\n",
    "The derived dataset contains only source code from submissions with status 'Accepted' and programs written in Python 3.4.3. This constraint allows us to parse the code with the built-in Python-module 'ast'."
   ],
   "metadata": {
    "collapsed": false
   }
  },
  {
   "cell_type": "markdown",
   "source": [
    "First, we create an in-memory representation of the CodeNet dataset to retrieve the metadata of all submissions."
   ],
   "metadata": {
    "collapsed": false
   }
  },
  {
   "cell_type": "code",
   "execution_count": 2,
   "outputs": [],
   "source": [
    "from dataset.CodeNet import CodeNet\n",
    "code_net = CodeNet(location=r\"C:\\Users\\sebas\\Documents\\Masterarbeit\\Project_CodeNet\")"
   ],
   "metadata": {
    "collapsed": false,
    "pycharm": {
     "name": "#%%\n"
    }
   }
  },
  {
   "cell_type": "code",
   "execution_count": 3,
   "outputs": [
    {
     "name": "stdout",
     "output_type": "stream",
     "text": [
      "<class 'pandas.core.frame.DataFrame'>\n",
      "Int64Index: 13916868 entries, 0 to 1088\n",
      "Data columns (total 12 columns):\n",
      " #   Column             Dtype \n",
      "---  ------             ----- \n",
      " 0   submission_id      string\n",
      " 1   problem_id         string\n",
      " 2   user_id            string\n",
      " 3   date               Int64 \n",
      " 4   language           string\n",
      " 5   original_language  string\n",
      " 6   filename_ext       string\n",
      " 7   status             string\n",
      " 8   cpu_time           Int64 \n",
      " 9   memory             Int64 \n",
      " 10  code_size          Int64 \n",
      " 11  accuracy           string\n",
      "dtypes: Int64(4), string(8)\n",
      "memory usage: 1.4 GB\n"
     ]
    }
   ],
   "source": [
    "submission_metadata = code_net.get_submission_metadata()\n",
    "submission_metadata.info()"
   ],
   "metadata": {
    "collapsed": false,
    "pycharm": {
     "name": "#%%\n"
    }
   }
  },
  {
   "cell_type": "markdown",
   "source": [
    "pandas Dataframes allow us to query and recombine dataframes to construct the derived dataset."
   ],
   "metadata": {
    "collapsed": false
   }
  },
  {
   "cell_type": "code",
   "execution_count": 4,
   "outputs": [],
   "source": [
    "accepted_python3_submissions = submission_metadata.query(\"original_language == 'Python (3.4.3)' and status == 'Accepted'\")"
   ],
   "metadata": {
    "collapsed": false,
    "pycharm": {
     "name": "#%%\n"
    }
   }
  },
  {
   "cell_type": "markdown",
   "source": [
    "We further use only submissions with more than 2500 submissions, so we have enough data to train on."
   ],
   "metadata": {
    "collapsed": false
   }
  },
  {
   "cell_type": "code",
   "execution_count": 5,
   "outputs": [],
   "source": [
    "python3_submissions_count = accepted_python3_submissions.groupby([\"problem_id\", \"status\"]).size().reset_index(name=\"count\").sort_values(\"count\", ascending=False).query(\"count > 2500\")"
   ],
   "metadata": {
    "collapsed": false,
    "pycharm": {
     "name": "#%%\n"
    }
   }
  },
  {
   "cell_type": "markdown",
   "source": [
    "By merging these two dataframes we get the final derived data we want."
   ],
   "metadata": {
    "collapsed": false
   }
  },
  {
   "cell_type": "code",
   "execution_count": 6,
   "outputs": [],
   "source": [
    "derived_dataset = accepted_python3_submissions.merge(python3_submissions_count, on=\"problem_id\").drop(columns=[\"status_y\"]).rename(columns={\"status_x\": \"status\"})"
   ],
   "metadata": {
    "collapsed": false,
    "pycharm": {
     "name": "#%%\n"
    }
   }
  },
  {
   "cell_type": "markdown",
   "source": [
    "Finally, we use an instance of `ProblemIdClassificationDataset` to manage the dataset on disk. This class offers functionality to create training-, validation- and test-directory with the specified number of samples for each problem. All samples are randomly sampled from the `derived_dataset`"
   ],
   "metadata": {
    "collapsed": false
   }
  },
  {
   "cell_type": "code",
   "execution_count": 11,
   "outputs": [],
   "source": [
    "from dataset.ProblemIdClassificationDataset import ProblemIdClassificationDataset\n",
    "\n",
    "classification_dataset = ProblemIdClassificationDataset(r\"C:\\Users\\sebas\\Documents\\Masterarbeit\\datasets\\tbcnn_py3_2500\",\n",
    "                                                 derived_dataset,\n",
    "                                                 code_net,\n",
    "                                                 n_train_per_problem=600,\n",
    "                                                 n_val_per_problem=100,\n",
    "                                                 n_test_per_problem=300)"
   ],
   "metadata": {
    "collapsed": false,
    "pycharm": {
     "name": "#%%\n"
    }
   }
  },
  {
   "cell_type": "markdown",
   "source": [
    "The `create_or_load`-method creates an in-memory representation of the classification-dataset or loads it if it already exists in the file system. More specifically, following steps happen during creation:\n",
    "1. For each `problem_id` in the `derived_dataset` 1000 submissions are sampled (see parameter of Ctor in previous cell).\n",
    "2. The 1000 samples are split up into train-, validation- and test-partitions according to the parameter in the previous cell. These partitions are represented by dataframes which are serialized with `pickle` for later loading.\n",
    "3. Each source file is parsed with the `ast` module and a simpler tree in JSON format is created and placed in its respective directory (train, val or test)\n",
    "4. All encountered AST node types are collected in a map (str->int) and serialized (node_map).\n",
    "5. All encountered problem_ids (classification labels) are collected and serialized"
   ],
   "metadata": {
    "collapsed": false
   }
  },
  {
   "cell_type": "code",
   "execution_count": 12,
   "outputs": [],
   "source": [
    "classification_dataset.create_or_load()"
   ],
   "metadata": {
    "collapsed": false,
    "pycharm": {
     "name": "#%%\n"
    }
   }
  },
  {
   "cell_type": "markdown",
   "source": [
    "## TBCNN"
   ],
   "metadata": {
    "collapsed": false
   }
  },
  {
   "cell_type": "markdown",
   "source": [
    "### Model Creation"
   ],
   "metadata": {
    "collapsed": false
   }
  },
  {
   "cell_type": "code",
   "execution_count": 55,
   "outputs": [],
   "source": [
    "from keras.metrics import Precision, Recall\n",
    "import tensorflow as tf\n",
    "from classifier.Tbcnn import Tbcnn\n",
    "node_map = classification_dataset.get_node_map()\n",
    "labels = classification_dataset.get_labels()\n",
    "model = Tbcnn(feature_size=len(node_map), conv_output_size=100, num_classes=len(labels))\n",
    "model.compile(loss=tf.keras.losses.CategoricalCrossentropy(), optimizer='adam',\n",
    "              metrics = [tf.keras.metrics.CategoricalAccuracy(), Precision(), Recall()])"
   ],
   "metadata": {
    "collapsed": false,
    "pycharm": {
     "name": "#%%\n"
    }
   }
  },
  {
   "cell_type": "markdown",
   "source": [
    "### Model Training"
   ],
   "metadata": {
    "collapsed": false
   }
  },
  {
   "cell_type": "code",
   "execution_count": 56,
   "outputs": [
    {
     "name": "stdout",
     "output_type": "stream",
     "text": [
      "75600/75600 [==============================] - 170s 2ms/step - loss: 0.6145 - categorical_accuracy: 0.8520 - precision_1: 0.9458 - recall_1: 0.7795 - val_loss: 0.2884 - val_categorical_accuracy: 0.9190 - val_precision_1: 0.9534 - val_recall_1: 0.8934\n"
     ]
    },
    {
     "data": {
      "text/plain": "<keras.callbacks.History at 0x291af26fc10>"
     },
     "execution_count": 56,
     "metadata": {},
     "output_type": "execute_result"
    }
   ],
   "source": [
    "from generators.FileStreamDataGenerator import FileStreamDataGenerator\n",
    "\n",
    "train_files = classification_dataset.get_train_files()\n",
    "val_files = classification_dataset.get_val_files()\n",
    "training_generator = FileStreamDataGenerator(train_files, labels, node_map, batch_size=1, shuffle=True)\n",
    "validation_generator = FileStreamDataGenerator(val_files, labels, node_map, batch_size=1, shuffle=False)\n",
    "model.fit(training_generator, validation_data=validation_generator, epochs=1)"
   ],
   "metadata": {
    "collapsed": false,
    "pycharm": {
     "name": "#%%\n"
    }
   }
  },
  {
   "cell_type": "markdown",
   "source": [
    "### Model Evaluation"
   ],
   "metadata": {
    "collapsed": false
   }
  },
  {
   "cell_type": "code",
   "execution_count": 57,
   "outputs": [
    {
     "name": "stdout",
     "output_type": "stream",
     "text": [
      "37800/37800 [==============================] - 62s 2ms/step - loss: 0.2869 - categorical_accuracy: 0.9181 - precision_1: 0.9522 - recall_1: 0.8944\n"
     ]
    }
   ],
   "source": [
    "test_files = classification_dataset.get_test_files()\n",
    "test_generator = FileStreamDataGenerator(test_files, labels, node_map, batch_size=1, shuffle=False)\n",
    "y_hat = model.predict(test_generator)\n",
    "metrics = model.evaluate(test_generator)"
   ],
   "metadata": {
    "collapsed": false,
    "pycharm": {
     "name": "#%%\n"
    }
   }
  },
  {
   "cell_type": "code",
   "execution_count": 60,
   "outputs": [
    {
     "data": {
      "text/plain": "<Figure size 432x288 with 2 Axes>",
      "image/png": "[encoded data removed]"
     },
     "metadata": {
      "needs_background": "light"
     },
     "output_type": "display_data"
    }
   ],
   "source": [
    "from sklearn.metrics import confusion_matrix, ConfusionMatrixDisplay\n",
    "from numpy import argmax\n",
    "from matplotlib import pyplot as plt\n",
    "labels = list(test_generator.get_label_lookup().keys())\n",
    "expected_labels = []\n",
    "predicted_labels = []\n",
    "for i in range(len(test_generator)):\n",
    "    _, y = test_generator[i]\n",
    "    expected_label = labels[argmax(y)]\n",
    "    predicted_label = labels[argmax(y_hat[i])]\n",
    "    expected_labels.append(expected_label)\n",
    "    predicted_labels.append(predicted_label)\n",
    "cm = confusion_matrix(expected_labels, predicted_labels, labels=labels)\n",
    "disp = ConfusionMatrixDisplay(confusion_matrix=cm, display_labels=labels)\n",
    "disp.plot(cmap=plt.cm.Blues)\n",
    "plt.show()"
   ],
   "metadata": {
    "collapsed": false,
    "pycharm": {
     "name": "#%%\n"
    }
   }
  },
  {
   "cell_type": "code",
   "execution_count": 67,
   "outputs": [
    {
     "name": "stdout",
     "output_type": "stream",
     "text": [
      "              precision    recall  f1-score   support\n",
      "\n",
      "      p02717       0.98      0.95      0.97       300\n",
      "      p02718       1.00      0.97      0.98       300\n",
      "      p02719       0.95      0.95      0.95       300\n",
      "      p02723       0.88      0.89      0.88       300\n",
      "      p02724       0.91      0.96      0.93       300\n",
      "      p02725       0.97      0.93      0.95       300\n",
      "      p02729       0.85      0.90      0.87       300\n",
      "      p02730       0.99      0.91      0.95       300\n",
      "      p02731       0.97      0.96      0.96       300\n",
      "      p02753       0.64      0.62      0.63       300\n",
      "      p02754       0.99      0.99      0.99       300\n",
      "      p02755       0.95      0.99      0.97       300\n",
      "      p02759       0.93      0.97      0.95       300\n",
      "      p02760       0.92      0.97      0.94       300\n",
      "      p02765       1.00      0.99      0.99       300\n",
      "      p02766       0.92      0.92      0.92       300\n",
      "      p02767       0.93      0.96      0.94       300\n",
      "      p02771       0.88      0.94      0.90       300\n",
      "      p02772       0.96      0.99      0.97       300\n",
      "      p02773       0.84      0.98      0.90       300\n",
      "      p02777       0.97      0.97      0.97       300\n",
      "      p02778       0.96      0.93      0.95       300\n",
      "      p02779       0.96      0.83      0.89       300\n",
      "      p02783       0.94      0.89      0.91       300\n",
      "      p02784       0.91      0.93      0.92       300\n",
      "      p02785       0.93      0.84      0.88       300\n",
      "      p02786       0.93      0.92      0.92       300\n",
      "      p02789       0.95      0.88      0.91       300\n",
      "      p02790       0.93      0.89      0.91       300\n",
      "      p02801       0.96      0.92      0.94       300\n",
      "      p02811       0.98      0.96      0.97       300\n",
      "      p02812       0.85      0.56      0.68       300\n",
      "      p02817       0.96      0.89      0.93       300\n",
      "      p02829       0.83      0.89      0.86       300\n",
      "      p02830       0.96      0.93      0.95       300\n",
      "      p02831       0.86      0.98      0.91       300\n",
      "      p02835       0.90      0.97      0.93       300\n",
      "      p02836       0.87      0.99      0.93       300\n",
      "      p02847       0.96      0.70      0.81       300\n",
      "      p02848       0.91      0.94      0.93       300\n",
      "      p02859       0.76      0.52      0.61       300\n",
      "      p02860       0.95      0.96      0.95       300\n",
      "      p02861       0.99      0.97      0.98       300\n",
      "      p02879       0.99      0.99      0.99       300\n",
      "      p02880       0.98      0.94      0.96       300\n",
      "      p02881       0.98      0.96      0.97       300\n",
      "      p02885       0.98      0.99      0.99       300\n",
      "      p02886       0.97      0.95      0.96       300\n",
      "      p02887       0.87      0.88      0.87       300\n",
      "      p02897       0.96      1.00      0.98       300\n",
      "      p02898       0.98      0.90      0.94       300\n",
      "      p02899       0.81      0.97      0.88       300\n",
      "      p02909       0.57      0.60      0.59       300\n",
      "      p02910       0.95      0.81      0.88       300\n",
      "      p02911       0.98      0.99      0.99       300\n",
      "      p02915       0.64      0.80      0.71       300\n",
      "      p02916       0.99      0.97      0.98       300\n",
      "      p02917       0.95      0.91      0.93       300\n",
      "      p02921       0.94      0.97      0.96       300\n",
      "      p02922       0.71      0.97      0.82       300\n",
      "      p02923       0.91      0.91      0.91       300\n",
      "      p02933       0.98      0.93      0.95       300\n",
      "      p02934       0.97      0.98      0.97       300\n",
      "      p02935       0.94      0.96      0.95       300\n",
      "      p02945       1.00      0.99      0.99       300\n",
      "      p02946       0.99      0.94      0.96       300\n",
      "      p02947       0.91      0.97      0.94       300\n",
      "      p02951       0.96      0.96      0.96       300\n",
      "      p02952       0.92      0.87      0.90       300\n",
      "      p02957       0.98      0.94      0.96       300\n",
      "      p02958       0.94      0.89      0.91       300\n",
      "      p02969       1.00      0.97      0.99       300\n",
      "      p02970       0.98      0.96      0.97       300\n",
      "      p02971       0.89      0.93      0.91       300\n",
      "      p02981       0.97      0.97      0.97       300\n",
      "      p02982       0.98      0.96      0.97       300\n",
      "      p02987       0.76      0.75      0.76       300\n",
      "      p02988       0.95      0.91      0.93       300\n",
      "      p02989       0.97      0.96      0.96       300\n",
      "      p02993       0.74      0.85      0.79       300\n",
      "      p02994       0.87      0.87      0.87       300\n",
      "      p02999       0.94      0.97      0.96       300\n",
      "      p03000       0.98      0.88      0.93       300\n",
      "      p03011       0.88      0.93      0.91       300\n",
      "      p03012       0.93      0.91      0.92       300\n",
      "      p03029       0.99      0.97      0.98       300\n",
      "      p03030       0.94      0.88      0.91       300\n",
      "      p03035       1.00      0.99      0.99       300\n",
      "      p03036       0.99      1.00      0.99       300\n",
      "      p03037       0.93      0.97      0.95       300\n",
      "      p03041       0.97      0.93      0.95       300\n",
      "      p03042       0.93      0.84      0.88       300\n",
      "      p03043       0.99      0.91      0.95       300\n",
      "      p03059       0.95      0.90      0.92       300\n",
      "      p03060       0.95      0.97      0.96       300\n",
      "      p03071       0.97      0.93      0.95       300\n",
      "      p03072       0.84      0.90      0.87       300\n",
      "      p03073       0.83      0.71      0.77       300\n",
      "      p03075       0.97      0.96      0.96       300\n",
      "      p03076       0.92      0.94      0.93       300\n",
      "      p03085       0.51      0.55      0.53       300\n",
      "      p03086       0.93      0.84      0.88       300\n",
      "      p03101       1.00      0.96      0.98       300\n",
      "      p03102       1.00      0.99      0.99       300\n",
      "      p03105       0.96      0.88      0.92       300\n",
      "      p03106       0.96      0.95      0.96       300\n",
      "      p03109       0.78      0.91      0.84       300\n",
      "      p03125       0.99      0.99      0.99       300\n",
      "      p03135       0.91      0.96      0.93       300\n",
      "      p03136       0.91      0.92      0.91       300\n",
      "      p03145       0.98      0.96      0.97       300\n",
      "      p03160       0.96      0.99      0.98       300\n",
      "      p03210       0.93      0.88      0.90       300\n",
      "      p03220       0.99      0.98      0.99       300\n",
      "      p03434       0.95      0.94      0.94       300\n",
      "      p03448       0.99      0.98      0.98       300\n",
      "      p03455       0.99      0.99      0.99       300\n",
      "      p03470       0.89      0.93      0.91       300\n",
      "      p03471       0.99      0.96      0.97       300\n",
      "      p03478       0.95      0.98      0.96       300\n",
      "      p03493       0.62      0.88      0.73       300\n",
      "      p03494       0.94      0.96      0.95       300\n",
      "      p03545       0.89      0.97      0.93       300\n",
      "      p03835       0.98      0.98      0.98       300\n",
      "      p04043       0.91      0.87      0.89       300\n",
      "      p04044       0.81      0.97      0.88       300\n",
      "\n",
      "    accuracy                           0.92     37800\n",
      "   macro avg       0.92      0.92      0.92     37800\n",
      "weighted avg       0.92      0.92      0.92     37800\n",
      "\n"
     ]
    }
   ],
   "source": [
    "from sklearn.metrics import classification_report\n",
    "\n",
    "print(classification_report(expected_labels, predicted_labels, labels=labels))"
   ],
   "metadata": {
    "collapsed": false,
    "pycharm": {
     "name": "#%%\n"
    }
   }
  },
  {
   "cell_type": "markdown",
   "source": [
    "## Visualization"
   ],
   "metadata": {
    "collapsed": false
   }
  },
  {
   "cell_type": "code",
   "execution_count": 16,
   "outputs": [],
   "source": [
    "conv_filter_activations = model.conv_layer(test_generator.__getitem__(1300)[0])"
   ],
   "metadata": {
    "collapsed": false,
    "pycharm": {
     "name": "#%%\n"
    }
   }
  },
  {
   "cell_type": "code",
   "execution_count": 17,
   "outputs": [],
   "source": [
    "node_importance = model.pooling_layer(conv_filter_activations)[0]"
   ],
   "metadata": {
    "collapsed": false,
    "pycharm": {
     "name": "#%%\n"
    }
   }
  },
  {
   "cell_type": "code",
   "execution_count": 18,
   "outputs": [],
   "source": [
    "from collections import Counter\n",
    "\n",
    "node_importance_list = node_importance.numpy().tolist()[0]\n",
    "counter = Counter(node_importance_list)"
   ],
   "metadata": {
    "collapsed": false,
    "pycharm": {
     "name": "#%%\n"
    }
   }
  },
  {
   "cell_type": "code",
   "execution_count": 19,
   "outputs": [],
   "source": [
    "import pickle\n",
    "with open(test_files[1300], 'rb') as f:\n",
    "    test_sample_ast = pickle.load(f)"
   ],
   "metadata": {
    "collapsed": false,
    "pycharm": {
     "name": "#%%\n"
    }
   }
  },
  {
   "cell_type": "code",
   "execution_count": 20,
   "outputs": [
    {
     "data": {
      "image/svg+xml": "<?xml version=\"1.0\" encoding=\"UTF-8\" standalone=\"no\"?>\n<!DOCTYPE svg PUBLIC \"-//W3C//DTD SVG 1.1//EN\"\n \"http://www.w3.org/Graphics/SVG/1.1/DTD/svg11.dtd\">\n<!-- Generated by graphviz version 3.0.0 (20220226.1711)\n -->\n<!-- Title: ast Pages: 1 -->\n<svg width=\"1286pt\" height=\"620pt\"\n viewBox=\"0.00 0.00 1286.39 620.00\" xmlns=\"http://www.w3.org/2000/svg\" xmlns:xlink=\"http://www.w3.org/1999/xlink\">\n<g id=\"graph0\" class=\"graph\" transform=\"scale(1 1) rotate(0) translate(4 616)\">\n<title>ast</title>\n<polygon fill=\"white\" stroke=\"transparent\" points=\"-4,4 -4,-616 1282.39,-616 1282.39,4 -4,4\"/>\n<!-- 0 -->\n<g id=\"node1\" class=\"node\">\n<title>0</title>\n<ellipse fill=\"#b0ffae\" stroke=\"black\" cx=\"328.55\" cy=\"-594\" rx=\"38.19\" ry=\"18\"/>\n<text text-anchor=\"middle\" x=\"328.55\" y=\"-590.3\" font-family=\"Times New Roman,serif\" font-size=\"14.00\">Module</text>\n</g>\n<!-- 1 -->\n<g id=\"node2\" class=\"node\">\n<title>1</title>\n<ellipse fill=\"#f1fff1\" stroke=\"black\" cx=\"110.55\" cy=\"-522\" rx=\"36\" ry=\"18\"/>\n<text text-anchor=\"middle\" x=\"110.55\" y=\"-518.3\" font-family=\"Times New Roman,serif\" font-size=\"14.00\">Assign</text>\n</g>\n<!-- 0&#45;&gt;1 -->\n<g id=\"edge1\" class=\"edge\">\n<title>0&#45;&gt;1</title>\n<path fill=\"none\" stroke=\"black\" d=\"M297.78,-583.12C255.76,-569.63 180.96,-545.61 139.77,-532.38\"/>\n</g>\n<!-- 2 -->\n<g id=\"node3\" class=\"node\">\n<title>2</title>\n<ellipse fill=\"#e4ffe4\" stroke=\"black\" cx=\"282.55\" cy=\"-522\" rx=\"36\" ry=\"18\"/>\n<text text-anchor=\"middle\" x=\"282.55\" y=\"-518.3\" font-family=\"Times New Roman,serif\" font-size=\"14.00\">Assign</text>\n</g>\n<!-- 0&#45;&gt;2 -->\n<g id=\"edge2\" class=\"edge\">\n<title>0&#45;&gt;2</title>\n<path fill=\"none\" stroke=\"black\" d=\"M317.65,-576.41C310.31,-565.25 300.69,-550.6 293.37,-539.47\"/>\n</g>\n<!-- 3 -->\n<g id=\"node4\" class=\"node\">\n<title>3</title>\n<ellipse fill=\"#d7ffd6\" stroke=\"black\" cx=\"413.55\" cy=\"-522\" rx=\"27\" ry=\"18\"/>\n<text text-anchor=\"middle\" x=\"413.55\" y=\"-518.3\" font-family=\"Times New Roman,serif\" font-size=\"14.00\">For</text>\n</g>\n<!-- 0&#45;&gt;3 -->\n<g id=\"edge3\" class=\"edge\">\n<title>0&#45;&gt;3</title>\n<path fill=\"none\" stroke=\"black\" d=\"M346.99,-577.81C361.93,-565.51 382.79,-548.33 397.15,-536.5\"/>\n</g>\n<!-- 4 -->\n<g id=\"node5\" class=\"node\">\n<title>4</title>\n<ellipse fill=\"#ffffff\" stroke=\"black\" cx=\"844.55\" cy=\"-522\" rx=\"28.7\" ry=\"18\"/>\n<text text-anchor=\"middle\" x=\"844.55\" y=\"-518.3\" font-family=\"Times New Roman,serif\" font-size=\"14.00\">Expr</text>\n</g>\n<!-- 0&#45;&gt;4 -->\n<g id=\"edge4\" class=\"edge\">\n<title>0&#45;&gt;4</title>\n<path fill=\"none\" stroke=\"black\" d=\"M364.83,-588.08C462.56,-574.82 729.76,-538.57 816.76,-526.77\"/>\n</g>\n<!-- 5 -->\n<g id=\"node6\" class=\"node\">\n<title>5</title>\n<ellipse fill=\"#ffffff\" stroke=\"black\" cx=\"32.55\" cy=\"-450\" rx=\"31.7\" ry=\"18\"/>\n<text text-anchor=\"middle\" x=\"32.55\" y=\"-446.3\" font-family=\"Times New Roman,serif\" font-size=\"14.00\">Name</text>\n</g>\n<!-- 1&#45;&gt;5 -->\n<g id=\"edge5\" class=\"edge\">\n<title>1&#45;&gt;5</title>\n<path fill=\"none\" stroke=\"black\" d=\"M93.62,-505.81C80.36,-493.91 62.02,-477.45 48.9,-465.68\"/>\n</g>\n<!-- 6 -->\n<g id=\"node7\" class=\"node\">\n<title>6</title>\n<ellipse fill=\"#e4ffe4\" stroke=\"black\" cx=\"110.55\" cy=\"-450\" rx=\"27\" ry=\"18\"/>\n<text text-anchor=\"middle\" x=\"110.55\" y=\"-446.3\" font-family=\"Times New Roman,serif\" font-size=\"14.00\">Call</text>\n</g>\n<!-- 1&#45;&gt;6 -->\n<g id=\"edge6\" class=\"edge\">\n<title>1&#45;&gt;6</title>\n<path fill=\"none\" stroke=\"black\" d=\"M110.55,-503.7C110.55,-492.85 110.55,-478.92 110.55,-468.1\"/>\n</g>\n<!-- 7 -->\n<g id=\"node8\" class=\"node\">\n<title>7</title>\n<ellipse fill=\"#ffffff\" stroke=\"black\" cx=\"189.55\" cy=\"-450\" rx=\"31.7\" ry=\"18\"/>\n<text text-anchor=\"middle\" x=\"189.55\" y=\"-446.3\" font-family=\"Times New Roman,serif\" font-size=\"14.00\">Name</text>\n</g>\n<!-- 2&#45;&gt;7 -->\n<g id=\"edge7\" class=\"edge\">\n<title>2&#45;&gt;7</title>\n<path fill=\"none\" stroke=\"black\" d=\"M263.28,-506.5C247,-494.24 223.84,-476.81 207.84,-464.77\"/>\n</g>\n<!-- 8 -->\n<g id=\"node9\" class=\"node\">\n<title>8</title>\n<ellipse fill=\"#ffffff\" stroke=\"black\" cx=\"282.55\" cy=\"-450\" rx=\"43.59\" ry=\"18\"/>\n<text text-anchor=\"middle\" x=\"282.55\" y=\"-446.3\" font-family=\"Times New Roman,serif\" font-size=\"14.00\">Constant</text>\n</g>\n<!-- 2&#45;&gt;8 -->\n<g id=\"edge8\" class=\"edge\">\n<title>2&#45;&gt;8</title>\n<path fill=\"none\" stroke=\"black\" d=\"M282.55,-503.7C282.55,-492.85 282.55,-478.92 282.55,-468.1\"/>\n</g>\n<!-- 9 -->\n<g id=\"node10\" class=\"node\">\n<title>9</title>\n<ellipse fill=\"#ffffff\" stroke=\"black\" cx=\"375.55\" cy=\"-450\" rx=\"31.7\" ry=\"18\"/>\n<text text-anchor=\"middle\" x=\"375.55\" y=\"-446.3\" font-family=\"Times New Roman,serif\" font-size=\"14.00\">Name</text>\n</g>\n<!-- 3&#45;&gt;9 -->\n<g id=\"edge9\" class=\"edge\">\n<title>3&#45;&gt;9</title>\n<path fill=\"none\" stroke=\"black\" d=\"M404.73,-504.76C398.68,-493.62 390.67,-478.87 384.58,-467.63\"/>\n</g>\n<!-- 10 -->\n<g id=\"node11\" class=\"node\">\n<title>10</title>\n<ellipse fill=\"#e4ffe4\" stroke=\"black\" cx=\"452.55\" cy=\"-450\" rx=\"27\" ry=\"18\"/>\n<text text-anchor=\"middle\" x=\"452.55\" y=\"-446.3\" font-family=\"Times New Roman,serif\" font-size=\"14.00\">Call</text>\n</g>\n<!-- 3&#45;&gt;10 -->\n<g id=\"edge10\" class=\"edge\">\n<title>3&#45;&gt;10</title>\n<path fill=\"none\" stroke=\"black\" d=\"M422.59,-504.76C428.89,-493.46 437.26,-478.44 443.55,-467.15\"/>\n</g>\n<!-- 11 -->\n<g id=\"node12\" class=\"node\">\n<title>11</title>\n<ellipse fill=\"#b0ffae\" stroke=\"black\" cx=\"714.55\" cy=\"-450\" rx=\"27\" ry=\"18\"/>\n<text text-anchor=\"middle\" x=\"714.55\" y=\"-446.3\" font-family=\"Times New Roman,serif\" font-size=\"14.00\">If</text>\n</g>\n<!-- 3&#45;&gt;11 -->\n<g id=\"edge11\" class=\"edge\">\n<title>3&#45;&gt;11</title>\n<path fill=\"none\" stroke=\"black\" d=\"M438.69,-515.15C495.35,-501.98 632.47,-470.09 689.26,-456.88\"/>\n</g>\n<!-- 12 -->\n<g id=\"node13\" class=\"node\">\n<title>12</title>\n<ellipse fill=\"#f1fff1\" stroke=\"black\" cx=\"1164.55\" cy=\"-450\" rx=\"27\" ry=\"18\"/>\n<text text-anchor=\"middle\" x=\"1164.55\" y=\"-446.3\" font-family=\"Times New Roman,serif\" font-size=\"14.00\">Call</text>\n</g>\n<!-- 4&#45;&gt;12 -->\n<g id=\"edge12\" class=\"edge\">\n<title>4&#45;&gt;12</title>\n<path fill=\"none\" stroke=\"black\" d=\"M871.28,-515.15C931.97,-501.88 1079.48,-469.61 1139.01,-456.59\"/>\n</g>\n<!-- 13 -->\n<g id=\"node14\" class=\"node\">\n<title>13</title>\n<ellipse fill=\"#ffffff\" stroke=\"black\" cx=\"30.55\" cy=\"-378\" rx=\"30.59\" ry=\"18\"/>\n<text text-anchor=\"middle\" x=\"30.55\" y=\"-374.3\" font-family=\"Times New Roman,serif\" font-size=\"14.00\">Store</text>\n</g>\n<!-- 5&#45;&gt;13 -->\n<g id=\"edge13\" class=\"edge\">\n<title>5&#45;&gt;13</title>\n<path fill=\"none\" stroke=\"black\" d=\"M32.05,-431.7C31.74,-420.85 31.34,-406.92 31.04,-396.1\"/>\n</g>\n<!-- 14 -->\n<g id=\"node15\" class=\"node\">\n<title>14</title>\n<ellipse fill=\"#ffffff\" stroke=\"black\" cx=\"110.55\" cy=\"-378\" rx=\"31.7\" ry=\"18\"/>\n<text text-anchor=\"middle\" x=\"110.55\" y=\"-374.3\" font-family=\"Times New Roman,serif\" font-size=\"14.00\">Name</text>\n</g>\n<!-- 6&#45;&gt;14 -->\n<g id=\"edge14\" class=\"edge\">\n<title>6&#45;&gt;14</title>\n<path fill=\"none\" stroke=\"black\" d=\"M110.55,-431.7C110.55,-420.85 110.55,-406.92 110.55,-396.1\"/>\n</g>\n<!-- 15 -->\n<g id=\"node16\" class=\"node\">\n<title>15</title>\n<ellipse fill=\"#ffffff\" stroke=\"black\" cx=\"190.55\" cy=\"-378\" rx=\"30.59\" ry=\"18\"/>\n<text text-anchor=\"middle\" x=\"190.55\" y=\"-374.3\" font-family=\"Times New Roman,serif\" font-size=\"14.00\">Store</text>\n</g>\n<!-- 7&#45;&gt;15 -->\n<g id=\"edge15\" class=\"edge\">\n<title>7&#45;&gt;15</title>\n<path fill=\"none\" stroke=\"black\" d=\"M189.79,-431.7C189.95,-420.85 190.15,-406.92 190.3,-396.1\"/>\n</g>\n<!-- 16 -->\n<g id=\"node17\" class=\"node\">\n<title>16</title>\n<ellipse fill=\"#ffffff\" stroke=\"black\" cx=\"288.55\" cy=\"-378\" rx=\"30.59\" ry=\"18\"/>\n<text text-anchor=\"middle\" x=\"288.55\" y=\"-374.3\" font-family=\"Times New Roman,serif\" font-size=\"14.00\">Store</text>\n</g>\n<!-- 9&#45;&gt;16 -->\n<g id=\"edge16\" class=\"edge\">\n<title>9&#45;&gt;16</title>\n<path fill=\"none\" stroke=\"black\" d=\"M357.94,-434.83C342.75,-422.61 320.93,-405.05 305.83,-392.91\"/>\n</g>\n<!-- 17 -->\n<g id=\"node18\" class=\"node\">\n<title>17</title>\n<ellipse fill=\"#ffffff\" stroke=\"black\" cx=\"368.55\" cy=\"-378\" rx=\"31.7\" ry=\"18\"/>\n<text text-anchor=\"middle\" x=\"368.55\" y=\"-374.3\" font-family=\"Times New Roman,serif\" font-size=\"14.00\">Name</text>\n</g>\n<!-- 10&#45;&gt;17 -->\n<g id=\"edge17\" class=\"edge\">\n<title>10&#45;&gt;17</title>\n<path fill=\"none\" stroke=\"black\" d=\"M436.35,-435.5C421.86,-423.43 400.67,-405.77 385.85,-393.42\"/>\n</g>\n<!-- 18 -->\n<g id=\"node19\" class=\"node\">\n<title>18</title>\n<ellipse fill=\"#2cff28\" stroke=\"black\" cx=\"452.55\" cy=\"-378\" rx=\"34.39\" ry=\"18\"/>\n<text text-anchor=\"middle\" x=\"452.55\" y=\"-374.3\" font-family=\"Times New Roman,serif\" font-size=\"14.00\">BinOp</text>\n</g>\n<!-- 10&#45;&gt;18 -->\n<g id=\"edge18\" class=\"edge\">\n<title>10&#45;&gt;18</title>\n<path fill=\"none\" stroke=\"black\" d=\"M452.55,-431.7C452.55,-420.85 452.55,-406.92 452.55,-396.1\"/>\n</g>\n<!-- 19 -->\n<g id=\"node20\" class=\"node\">\n<title>19</title>\n<ellipse fill=\"#61ff5d\" stroke=\"black\" cx=\"714.55\" cy=\"-378\" rx=\"44.39\" ry=\"18\"/>\n<text text-anchor=\"middle\" x=\"714.55\" y=\"-374.3\" font-family=\"Times New Roman,serif\" font-size=\"14.00\">Compare</text>\n</g>\n<!-- 11&#45;&gt;19 -->\n<g id=\"edge19\" class=\"edge\">\n<title>11&#45;&gt;19</title>\n<path fill=\"none\" stroke=\"black\" d=\"M714.55,-431.7C714.55,-420.85 714.55,-406.92 714.55,-396.1\"/>\n</g>\n<!-- 20 -->\n<g id=\"node21\" class=\"node\">\n<title>20</title>\n<ellipse fill=\"#caffc9\" stroke=\"black\" cx=\"947.55\" cy=\"-378\" rx=\"50.89\" ry=\"18\"/>\n<text text-anchor=\"middle\" x=\"947.55\" y=\"-374.3\" font-family=\"Times New Roman,serif\" font-size=\"14.00\">AugAssign</text>\n</g>\n<!-- 11&#45;&gt;20 -->\n<g id=\"edge20\" class=\"edge\">\n<title>11&#45;&gt;20</title>\n<path fill=\"none\" stroke=\"black\" d=\"M738.6,-441.77C779.3,-429.55 862,-404.7 910.25,-390.2\"/>\n</g>\n<!-- 21 -->\n<g id=\"node22\" class=\"node\">\n<title>21</title>\n<ellipse fill=\"#ffffff\" stroke=\"black\" cx=\"1164.55\" cy=\"-378\" rx=\"31.7\" ry=\"18\"/>\n<text text-anchor=\"middle\" x=\"1164.55\" y=\"-374.3\" font-family=\"Times New Roman,serif\" font-size=\"14.00\">Name</text>\n</g>\n<!-- 12&#45;&gt;21 -->\n<g id=\"edge21\" class=\"edge\">\n<title>12&#45;&gt;21</title>\n<path fill=\"none\" stroke=\"black\" d=\"M1164.55,-431.7C1164.55,-420.85 1164.55,-406.92 1164.55,-396.1\"/>\n</g>\n<!-- 22 -->\n<g id=\"node23\" class=\"node\">\n<title>22</title>\n<ellipse fill=\"#ffffff\" stroke=\"black\" cx=\"1246.55\" cy=\"-378\" rx=\"31.7\" ry=\"18\"/>\n<text text-anchor=\"middle\" x=\"1246.55\" y=\"-374.3\" font-family=\"Times New Roman,serif\" font-size=\"14.00\">Name</text>\n</g>\n<!-- 12&#45;&gt;22 -->\n<g id=\"edge22\" class=\"edge\">\n<title>12&#45;&gt;22</title>\n<path fill=\"none\" stroke=\"black\" d=\"M1180.75,-435.17C1194.84,-423.14 1215.2,-405.76 1229.53,-393.52\"/>\n</g>\n<!-- 23 -->\n<g id=\"node24\" class=\"node\">\n<title>23</title>\n<ellipse fill=\"#ffffff\" stroke=\"black\" cx=\"110.55\" cy=\"-306\" rx=\"29.8\" ry=\"18\"/>\n<text text-anchor=\"middle\" x=\"110.55\" y=\"-302.3\" font-family=\"Times New Roman,serif\" font-size=\"14.00\">Load</text>\n</g>\n<!-- 14&#45;&gt;23 -->\n<g id=\"edge23\" class=\"edge\">\n<title>14&#45;&gt;23</title>\n<path fill=\"none\" stroke=\"black\" d=\"M110.55,-359.7C110.55,-348.85 110.55,-334.92 110.55,-324.1\"/>\n</g>\n<!-- 24 -->\n<g id=\"node25\" class=\"node\">\n<title>24</title>\n<ellipse fill=\"#ffffff\" stroke=\"black\" cx=\"238.55\" cy=\"-306\" rx=\"29.8\" ry=\"18\"/>\n<text text-anchor=\"middle\" x=\"238.55\" y=\"-302.3\" font-family=\"Times New Roman,serif\" font-size=\"14.00\">Load</text>\n</g>\n<!-- 17&#45;&gt;24 -->\n<g id=\"edge24\" class=\"edge\">\n<title>17&#45;&gt;24</title>\n<path fill=\"none\" stroke=\"black\" d=\"M346.2,-364.97C322.1,-351.99 283.99,-331.47 260.17,-318.64\"/>\n</g>\n<!-- 25 -->\n<g id=\"node26\" class=\"node\">\n<title>25</title>\n<ellipse fill=\"#ffffff\" stroke=\"black\" cx=\"313.55\" cy=\"-306\" rx=\"27\" ry=\"18\"/>\n<text text-anchor=\"middle\" x=\"313.55\" y=\"-302.3\" font-family=\"Times New Roman,serif\" font-size=\"14.00\">Call</text>\n</g>\n<!-- 18&#45;&gt;25 -->\n<g id=\"edge25\" class=\"edge\">\n<title>18&#45;&gt;25</title>\n<path fill=\"none\" stroke=\"black\" d=\"M428.65,-364.97C402.11,-351.6 359.67,-330.23 334.41,-317.51\"/>\n</g>\n<!-- 26 -->\n<g id=\"node27\" class=\"node\">\n<title>26</title>\n<ellipse fill=\"#88ff86\" stroke=\"black\" cx=\"402.55\" cy=\"-306\" rx=\"43.59\" ry=\"18\"/>\n<text text-anchor=\"middle\" x=\"402.55\" y=\"-302.3\" font-family=\"Times New Roman,serif\" font-size=\"14.00\">FloorDiv</text>\n</g>\n<!-- 18&#45;&gt;26 -->\n<g id=\"edge26\" class=\"edge\">\n<title>18&#45;&gt;26</title>\n<path fill=\"none\" stroke=\"black\" d=\"M440.95,-360.76C432.99,-349.62 422.45,-334.87 414.43,-323.63\"/>\n</g>\n<!-- 27 -->\n<g id=\"node28\" class=\"node\">\n<title>27</title>\n<ellipse fill=\"#ffffff\" stroke=\"black\" cx=\"507.55\" cy=\"-306\" rx=\"43.59\" ry=\"18\"/>\n<text text-anchor=\"middle\" x=\"507.55\" y=\"-302.3\" font-family=\"Times New Roman,serif\" font-size=\"14.00\">Constant</text>\n</g>\n<!-- 18&#45;&gt;27 -->\n<g id=\"edge27\" class=\"edge\">\n<title>18&#45;&gt;27</title>\n<path fill=\"none\" stroke=\"black\" d=\"M465.03,-361.12C473.9,-349.82 485.79,-334.7 494.73,-323.31\"/>\n</g>\n<!-- 28 -->\n<g id=\"node29\" class=\"node\">\n<title>28</title>\n<ellipse fill=\"#e4ffe4\" stroke=\"black\" cx=\"615.55\" cy=\"-306\" rx=\"46.29\" ry=\"18\"/>\n<text text-anchor=\"middle\" x=\"615.55\" y=\"-302.3\" font-family=\"Times New Roman,serif\" font-size=\"14.00\">Subscript</text>\n</g>\n<!-- 19&#45;&gt;28 -->\n<g id=\"edge28\" class=\"edge\">\n<title>19&#45;&gt;28</title>\n<path fill=\"none\" stroke=\"black\" d=\"M693.55,-362.15C676.86,-350.36 653.62,-333.92 636.85,-322.07\"/>\n</g>\n<!-- 29 -->\n<g id=\"node30\" class=\"node\">\n<title>29</title>\n<ellipse fill=\"#caffc9\" stroke=\"black\" cx=\"714.55\" cy=\"-306\" rx=\"34.39\" ry=\"18\"/>\n<text text-anchor=\"middle\" x=\"714.55\" y=\"-302.3\" font-family=\"Times New Roman,serif\" font-size=\"14.00\">NotEq</text>\n</g>\n<!-- 19&#45;&gt;29 -->\n<g id=\"edge29\" class=\"edge\">\n<title>19&#45;&gt;29</title>\n<path fill=\"none\" stroke=\"black\" d=\"M714.55,-359.7C714.55,-348.85 714.55,-334.92 714.55,-324.1\"/>\n</g>\n<!-- 30 -->\n<g id=\"node31\" class=\"node\">\n<title>30</title>\n<ellipse fill=\"#f1fff1\" stroke=\"black\" cx=\"813.55\" cy=\"-306\" rx=\"46.29\" ry=\"18\"/>\n<text text-anchor=\"middle\" x=\"813.55\" y=\"-302.3\" font-family=\"Times New Roman,serif\" font-size=\"14.00\">Subscript</text>\n</g>\n<!-- 19&#45;&gt;30 -->\n<g id=\"edge30\" class=\"edge\">\n<title>19&#45;&gt;30</title>\n<path fill=\"none\" stroke=\"black\" d=\"M735.54,-362.15C752.23,-350.36 775.47,-333.92 792.24,-322.07\"/>\n</g>\n<!-- 31 -->\n<g id=\"node32\" class=\"node\">\n<title>31</title>\n<ellipse fill=\"#ffffff\" stroke=\"black\" cx=\"909.55\" cy=\"-306\" rx=\"31.7\" ry=\"18\"/>\n<text text-anchor=\"middle\" x=\"909.55\" y=\"-302.3\" font-family=\"Times New Roman,serif\" font-size=\"14.00\">Name</text>\n</g>\n<!-- 20&#45;&gt;31 -->\n<g id=\"edge31\" class=\"edge\">\n<title>20&#45;&gt;31</title>\n<path fill=\"none\" stroke=\"black\" d=\"M938.35,-360.05C932.29,-348.89 924.39,-334.34 918.4,-323.31\"/>\n</g>\n<!-- 32 -->\n<g id=\"node33\" class=\"node\">\n<title>32</title>\n<ellipse fill=\"#d7ffd6\" stroke=\"black\" cx=\"986.55\" cy=\"-306\" rx=\"27\" ry=\"18\"/>\n<text text-anchor=\"middle\" x=\"986.55\" y=\"-302.3\" font-family=\"Times New Roman,serif\" font-size=\"14.00\">Add</text>\n</g>\n<!-- 20&#45;&gt;32 -->\n<g id=\"edge32\" class=\"edge\">\n<title>20&#45;&gt;32</title>\n<path fill=\"none\" stroke=\"black\" d=\"M956.99,-360.05C963.21,-348.89 971.31,-334.34 977.46,-323.31\"/>\n</g>\n<!-- 33 -->\n<g id=\"node34\" class=\"node\">\n<title>33</title>\n<ellipse fill=\"#ffffff\" stroke=\"black\" cx=\"1075.55\" cy=\"-306\" rx=\"43.59\" ry=\"18\"/>\n<text text-anchor=\"middle\" x=\"1075.55\" y=\"-302.3\" font-family=\"Times New Roman,serif\" font-size=\"14.00\">Constant</text>\n</g>\n<!-- 20&#45;&gt;33 -->\n<g id=\"edge33\" class=\"edge\">\n<title>20&#45;&gt;33</title>\n<path fill=\"none\" stroke=\"black\" d=\"M974.07,-362.5C996.48,-350.24 1028.35,-332.81 1050.37,-320.77\"/>\n</g>\n<!-- 34 -->\n<g id=\"node35\" class=\"node\">\n<title>34</title>\n<ellipse fill=\"#ffffff\" stroke=\"black\" cx=\"1166.55\" cy=\"-306\" rx=\"29.8\" ry=\"18\"/>\n<text text-anchor=\"middle\" x=\"1166.55\" y=\"-302.3\" font-family=\"Times New Roman,serif\" font-size=\"14.00\">Load</text>\n</g>\n<!-- 21&#45;&gt;34 -->\n<g id=\"edge34\" class=\"edge\">\n<title>21&#45;&gt;34</title>\n<path fill=\"none\" stroke=\"black\" d=\"M1165.04,-359.7C1165.35,-348.85 1165.75,-334.92 1166.06,-324.1\"/>\n</g>\n<!-- 35 -->\n<g id=\"node36\" class=\"node\">\n<title>35</title>\n<ellipse fill=\"#ffffff\" stroke=\"black\" cx=\"1246.55\" cy=\"-306\" rx=\"29.8\" ry=\"18\"/>\n<text text-anchor=\"middle\" x=\"1246.55\" y=\"-302.3\" font-family=\"Times New Roman,serif\" font-size=\"14.00\">Load</text>\n</g>\n<!-- 22&#45;&gt;35 -->\n<g id=\"edge35\" class=\"edge\">\n<title>22&#45;&gt;35</title>\n<path fill=\"none\" stroke=\"black\" d=\"M1246.55,-359.7C1246.55,-348.85 1246.55,-334.92 1246.55,-324.1\"/>\n</g>\n<!-- 36 -->\n<g id=\"node37\" class=\"node\">\n<title>36</title>\n<ellipse fill=\"#ffffff\" stroke=\"black\" cx=\"272.55\" cy=\"-234\" rx=\"31.7\" ry=\"18\"/>\n<text text-anchor=\"middle\" x=\"272.55\" y=\"-230.3\" font-family=\"Times New Roman,serif\" font-size=\"14.00\">Name</text>\n</g>\n<!-- 25&#45;&gt;36 -->\n<g id=\"edge36\" class=\"edge\">\n<title>25&#45;&gt;36</title>\n<path fill=\"none\" stroke=\"black\" d=\"M304.04,-288.76C297.51,-277.62 288.87,-262.87 282.29,-251.63\"/>\n</g>\n<!-- 37 -->\n<g id=\"node38\" class=\"node\">\n<title>37</title>\n<ellipse fill=\"#ffffff\" stroke=\"black\" cx=\"354.55\" cy=\"-234\" rx=\"31.7\" ry=\"18\"/>\n<text text-anchor=\"middle\" x=\"354.55\" y=\"-230.3\" font-family=\"Times New Roman,serif\" font-size=\"14.00\">Name</text>\n</g>\n<!-- 25&#45;&gt;37 -->\n<g id=\"edge37\" class=\"edge\">\n<title>25&#45;&gt;37</title>\n<path fill=\"none\" stroke=\"black\" d=\"M323.06,-288.76C329.59,-277.62 338.23,-262.87 344.8,-251.63\"/>\n</g>\n<!-- 38 -->\n<g id=\"node39\" class=\"node\">\n<title>38</title>\n<ellipse fill=\"#ffffff\" stroke=\"black\" cx=\"477.55\" cy=\"-234\" rx=\"31.7\" ry=\"18\"/>\n<text text-anchor=\"middle\" x=\"477.55\" y=\"-230.3\" font-family=\"Times New Roman,serif\" font-size=\"14.00\">Name</text>\n</g>\n<!-- 28&#45;&gt;38 -->\n<g id=\"edge38\" class=\"edge\">\n<title>28&#45;&gt;38</title>\n<path fill=\"none\" stroke=\"black\" d=\"M588.61,-291.34C563.04,-278.37 525.01,-259.07 500.75,-246.77\"/>\n</g>\n<!-- 39 -->\n<g id=\"node40\" class=\"node\">\n<title>39</title>\n<ellipse fill=\"#ffffff\" stroke=\"black\" cx=\"559.55\" cy=\"-234\" rx=\"31.7\" ry=\"18\"/>\n<text text-anchor=\"middle\" x=\"559.55\" y=\"-230.3\" font-family=\"Times New Roman,serif\" font-size=\"14.00\">Name</text>\n</g>\n<!-- 28&#45;&gt;39 -->\n<g id=\"edge39\" class=\"edge\">\n<title>28&#45;&gt;39</title>\n<path fill=\"none\" stroke=\"black\" d=\"M602.28,-288.41C593.22,-277.09 581.29,-262.18 572.34,-250.99\"/>\n</g>\n<!-- 40 -->\n<g id=\"node41\" class=\"node\">\n<title>40</title>\n<ellipse fill=\"#ffffff\" stroke=\"black\" cx=\"639.55\" cy=\"-234\" rx=\"29.8\" ry=\"18\"/>\n<text text-anchor=\"middle\" x=\"639.55\" y=\"-230.3\" font-family=\"Times New Roman,serif\" font-size=\"14.00\">Load</text>\n</g>\n<!-- 28&#45;&gt;40 -->\n<g id=\"edge40\" class=\"edge\">\n<title>28&#45;&gt;40</title>\n<path fill=\"none\" stroke=\"black\" d=\"M621.36,-288.05C625.13,-277.05 630.03,-262.76 633.79,-251.79\"/>\n</g>\n<!-- 41 -->\n<g id=\"node42\" class=\"node\">\n<title>41</title>\n<ellipse fill=\"#ffffff\" stroke=\"black\" cx=\"719.55\" cy=\"-234\" rx=\"31.7\" ry=\"18\"/>\n<text text-anchor=\"middle\" x=\"719.55\" y=\"-230.3\" font-family=\"Times New Roman,serif\" font-size=\"14.00\">Name</text>\n</g>\n<!-- 30&#45;&gt;41 -->\n<g id=\"edge41\" class=\"edge\">\n<title>30&#45;&gt;41</title>\n<path fill=\"none\" stroke=\"black\" d=\"M793.15,-289.81C776.74,-277.59 753.87,-260.56 737.99,-248.74\"/>\n</g>\n<!-- 42 -->\n<g id=\"node43\" class=\"node\">\n<title>42</title>\n<ellipse fill=\"#2cff28\" stroke=\"black\" cx=\"813.55\" cy=\"-234\" rx=\"44.39\" ry=\"18\"/>\n<text text-anchor=\"middle\" x=\"813.55\" y=\"-230.3\" font-family=\"Times New Roman,serif\" font-size=\"14.00\">UnaryOp</text>\n</g>\n<!-- 30&#45;&gt;42 -->\n<g id=\"edge42\" class=\"edge\">\n<title>30&#45;&gt;42</title>\n<path fill=\"none\" stroke=\"black\" d=\"M813.55,-287.7C813.55,-276.85 813.55,-262.92 813.55,-252.1\"/>\n</g>\n<!-- 43 -->\n<g id=\"node44\" class=\"node\">\n<title>43</title>\n<ellipse fill=\"#ffffff\" stroke=\"black\" cx=\"905.55\" cy=\"-234\" rx=\"29.8\" ry=\"18\"/>\n<text text-anchor=\"middle\" x=\"905.55\" y=\"-230.3\" font-family=\"Times New Roman,serif\" font-size=\"14.00\">Load</text>\n</g>\n<!-- 30&#45;&gt;43 -->\n<g id=\"edge43\" class=\"edge\">\n<title>30&#45;&gt;43</title>\n<path fill=\"none\" stroke=\"black\" d=\"M833.97,-289.46C850.06,-277.22 872.28,-260.32 887.67,-248.6\"/>\n</g>\n<!-- 44 -->\n<g id=\"node45\" class=\"node\">\n<title>44</title>\n<ellipse fill=\"#ffffff\" stroke=\"black\" cx=\"983.55\" cy=\"-234\" rx=\"30.59\" ry=\"18\"/>\n<text text-anchor=\"middle\" x=\"983.55\" y=\"-230.3\" font-family=\"Times New Roman,serif\" font-size=\"14.00\">Store</text>\n</g>\n<!-- 31&#45;&gt;44 -->\n<g id=\"edge44\" class=\"edge\">\n<title>31&#45;&gt;44</title>\n<path fill=\"none\" stroke=\"black\" d=\"M925.24,-290.15C937.88,-278.2 955.56,-261.47 968.13,-249.58\"/>\n</g>\n<!-- 45 -->\n<g id=\"node46\" class=\"node\">\n<title>45</title>\n<ellipse fill=\"#ffffff\" stroke=\"black\" cx=\"272.55\" cy=\"-162\" rx=\"29.8\" ry=\"18\"/>\n<text text-anchor=\"middle\" x=\"272.55\" y=\"-158.3\" font-family=\"Times New Roman,serif\" font-size=\"14.00\">Load</text>\n</g>\n<!-- 36&#45;&gt;45 -->\n<g id=\"edge45\" class=\"edge\">\n<title>36&#45;&gt;45</title>\n<path fill=\"none\" stroke=\"black\" d=\"M272.55,-215.7C272.55,-204.85 272.55,-190.92 272.55,-180.1\"/>\n</g>\n<!-- 46 -->\n<g id=\"node47\" class=\"node\">\n<title>46</title>\n<ellipse fill=\"#ffffff\" stroke=\"black\" cx=\"354.55\" cy=\"-162\" rx=\"29.8\" ry=\"18\"/>\n<text text-anchor=\"middle\" x=\"354.55\" y=\"-158.3\" font-family=\"Times New Roman,serif\" font-size=\"14.00\">Load</text>\n</g>\n<!-- 37&#45;&gt;46 -->\n<g id=\"edge46\" class=\"edge\">\n<title>37&#45;&gt;46</title>\n<path fill=\"none\" stroke=\"black\" d=\"M354.55,-215.7C354.55,-204.85 354.55,-190.92 354.55,-180.1\"/>\n</g>\n<!-- 47 -->\n<g id=\"node48\" class=\"node\">\n<title>47</title>\n<ellipse fill=\"#ffffff\" stroke=\"black\" cx=\"477.55\" cy=\"-162\" rx=\"29.8\" ry=\"18\"/>\n<text text-anchor=\"middle\" x=\"477.55\" y=\"-158.3\" font-family=\"Times New Roman,serif\" font-size=\"14.00\">Load</text>\n</g>\n<!-- 38&#45;&gt;47 -->\n<g id=\"edge47\" class=\"edge\">\n<title>38&#45;&gt;47</title>\n<path fill=\"none\" stroke=\"black\" d=\"M477.55,-215.7C477.55,-204.85 477.55,-190.92 477.55,-180.1\"/>\n</g>\n<!-- 48 -->\n<g id=\"node49\" class=\"node\">\n<title>48</title>\n<ellipse fill=\"#ffffff\" stroke=\"black\" cx=\"559.55\" cy=\"-162\" rx=\"29.8\" ry=\"18\"/>\n<text text-anchor=\"middle\" x=\"559.55\" y=\"-158.3\" font-family=\"Times New Roman,serif\" font-size=\"14.00\">Load</text>\n</g>\n<!-- 39&#45;&gt;48 -->\n<g id=\"edge48\" class=\"edge\">\n<title>39&#45;&gt;48</title>\n<path fill=\"none\" stroke=\"black\" d=\"M559.55,-215.7C559.55,-204.85 559.55,-190.92 559.55,-180.1\"/>\n</g>\n<!-- 49 -->\n<g id=\"node50\" class=\"node\">\n<title>49</title>\n<ellipse fill=\"#ffffff\" stroke=\"black\" cx=\"719.55\" cy=\"-162\" rx=\"29.8\" ry=\"18\"/>\n<text text-anchor=\"middle\" x=\"719.55\" y=\"-158.3\" font-family=\"Times New Roman,serif\" font-size=\"14.00\">Load</text>\n</g>\n<!-- 41&#45;&gt;49 -->\n<g id=\"edge49\" class=\"edge\">\n<title>41&#45;&gt;49</title>\n<path fill=\"none\" stroke=\"black\" d=\"M719.55,-215.7C719.55,-204.85 719.55,-190.92 719.55,-180.1\"/>\n</g>\n<!-- 50 -->\n<g id=\"node51\" class=\"node\">\n<title>50</title>\n<ellipse fill=\"#95ff93\" stroke=\"black\" cx=\"806.55\" cy=\"-162\" rx=\"31.7\" ry=\"18\"/>\n<text text-anchor=\"middle\" x=\"806.55\" y=\"-158.3\" font-family=\"Times New Roman,serif\" font-size=\"14.00\">USub</text>\n</g>\n<!-- 42&#45;&gt;50 -->\n<g id=\"edge50\" class=\"edge\">\n<title>42&#45;&gt;50</title>\n<path fill=\"none\" stroke=\"black\" d=\"M811.82,-215.7C810.73,-204.85 809.34,-190.92 808.26,-180.1\"/>\n</g>\n<!-- 51 -->\n<g id=\"node52\" class=\"node\">\n<title>51</title>\n<ellipse fill=\"#e4ffe4\" stroke=\"black\" cx=\"890.55\" cy=\"-162\" rx=\"34.39\" ry=\"18\"/>\n<text text-anchor=\"middle\" x=\"890.55\" y=\"-158.3\" font-family=\"Times New Roman,serif\" font-size=\"14.00\">BinOp</text>\n</g>\n<!-- 42&#45;&gt;51 -->\n<g id=\"edge51\" class=\"edge\">\n<title>42&#45;&gt;51</title>\n<path fill=\"none\" stroke=\"black\" d=\"M831.02,-217.12C843.98,-205.34 861.52,-189.39 874.2,-177.86\"/>\n</g>\n<!-- 52 -->\n<g id=\"node53\" class=\"node\">\n<title>52</title>\n<ellipse fill=\"#ffffff\" stroke=\"black\" cx=\"813.55\" cy=\"-90\" rx=\"31.7\" ry=\"18\"/>\n<text text-anchor=\"middle\" x=\"813.55\" y=\"-86.3\" font-family=\"Times New Roman,serif\" font-size=\"14.00\">Name</text>\n</g>\n<!-- 51&#45;&gt;52 -->\n<g id=\"edge52\" class=\"edge\">\n<title>51&#45;&gt;52</title>\n<path fill=\"none\" stroke=\"black\" d=\"M873.84,-145.81C860.75,-133.91 842.64,-117.45 829.69,-105.68\"/>\n</g>\n<!-- 53 -->\n<g id=\"node54\" class=\"node\">\n<title>53</title>\n<ellipse fill=\"#ffffff\" stroke=\"black\" cx=\"890.55\" cy=\"-90\" rx=\"27\" ry=\"18\"/>\n<text text-anchor=\"middle\" x=\"890.55\" y=\"-86.3\" font-family=\"Times New Roman,serif\" font-size=\"14.00\">Add</text>\n</g>\n<!-- 51&#45;&gt;53 -->\n<g id=\"edge53\" class=\"edge\">\n<title>51&#45;&gt;53</title>\n<path fill=\"none\" stroke=\"black\" d=\"M890.55,-143.7C890.55,-132.85 890.55,-118.92 890.55,-108.1\"/>\n</g>\n<!-- 54 -->\n<g id=\"node55\" class=\"node\">\n<title>54</title>\n<ellipse fill=\"#ffffff\" stroke=\"black\" cx=\"979.55\" cy=\"-90\" rx=\"43.59\" ry=\"18\"/>\n<text text-anchor=\"middle\" x=\"979.55\" y=\"-86.3\" font-family=\"Times New Roman,serif\" font-size=\"14.00\">Constant</text>\n</g>\n<!-- 51&#45;&gt;54 -->\n<g id=\"edge54\" class=\"edge\">\n<title>51&#45;&gt;54</title>\n<path fill=\"none\" stroke=\"black\" d=\"M908.99,-146.5C923.96,-134.72 945,-118.17 960.21,-106.21\"/>\n</g>\n<!-- 55 -->\n<g id=\"node56\" class=\"node\">\n<title>55</title>\n<ellipse fill=\"#ffffff\" stroke=\"black\" cx=\"813.55\" cy=\"-18\" rx=\"29.8\" ry=\"18\"/>\n<text text-anchor=\"middle\" x=\"813.55\" y=\"-14.3\" font-family=\"Times New Roman,serif\" font-size=\"14.00\">Load</text>\n</g>\n<!-- 52&#45;&gt;55 -->\n<g id=\"edge55\" class=\"edge\">\n<title>52&#45;&gt;55</title>\n<path fill=\"none\" stroke=\"black\" d=\"M813.55,-71.7C813.55,-60.85 813.55,-46.92 813.55,-36.1\"/>\n</g>\n</g>\n</svg>\n",
      "text/plain": "<graphviz.graphs.Digraph at 0x29090544fd0>"
     },
     "execution_count": 20,
     "metadata": {},
     "output_type": "execute_result"
    }
   ],
   "source": [
    "from visualization.GraphvizVisualizer import GraphvizVisualizer\n",
    "\n",
    "vis = GraphvizVisualizer()\n",
    "vis.visualizeAst(test_sample_ast, counter)"
   ],
   "metadata": {
    "collapsed": false,
    "pycharm": {
     "name": "#%%\n"
    }
   }
  },
  {
   "cell_type": "code",
   "execution_count": 23,
   "outputs": [
    {
     "data": {
      "text/plain": "      submission_id problem_id     user_id        date language  \\\n11167    s706812044     p02836  u504562455  1588648856   Python   \n\n      original_language filename_ext    status  cpu_time  memory  code_size  \\\n11167    Python (3.4.3)           py  Accepted        19    2940         95   \n\n      accuracy  count  \n11167     <NA>   2860  ",
      "text/html": "<div>\n<style scoped>\n    .dataframe tbody tr th:only-of-type {\n        vertical-align: middle;\n    }\n\n    .dataframe tbody tr th {\n        vertical-align: top;\n    }\n\n    .dataframe thead th {\n        text-align: right;\n    }\n</style>\n<table border=\"1\" class=\"dataframe\">\n  <thead>\n    <tr style=\"text-align: right;\">\n      <th></th>\n      <th>submission_id</th>\n      <th>problem_id</th>\n      <th>user_id</th>\n      <th>date</th>\n      <th>language</th>\n      <th>original_language</th>\n      <th>filename_ext</th>\n      <th>status</th>\n      <th>cpu_time</th>\n      <th>memory</th>\n      <th>code_size</th>\n      <th>accuracy</th>\n      <th>count</th>\n    </tr>\n  </thead>\n  <tbody>\n    <tr>\n      <th>11167</th>\n      <td>s706812044</td>\n      <td>p02836</td>\n      <td>u504562455</td>\n      <td>1588648856</td>\n      <td>Python</td>\n      <td>Python (3.4.3)</td>\n      <td>py</td>\n      <td>Accepted</td>\n      <td>19</td>\n      <td>2940</td>\n      <td>95</td>\n      <td>&lt;NA&gt;</td>\n      <td>2860</td>\n    </tr>\n  </tbody>\n</table>\n</div>"
     },
     "execution_count": 23,
     "metadata": {},
     "output_type": "execute_result"
    }
   ],
   "source": [
    "classification_dataset.get_test_df().iloc[[11167]]"
   ],
   "metadata": {
    "collapsed": false,
    "pycharm": {
     "name": "#%%\n"
    }
   }
  },
  {
   "cell_type": "code",
   "execution_count": 24,
   "outputs": [
    {
     "data": {
      "text/plain": "{'s706812044': 'C:\\\\Users\\\\sebas\\\\Documents\\\\Masterarbeit\\\\Project_CodeNet\\\\data\\\\p02836\\\\Python\\\\s706812044.py'}"
     },
     "execution_count": 24,
     "metadata": {},
     "output_type": "execute_result"
    }
   ],
   "source": [
    "code_net.get_src_paths_of_submissions([\"s706812044\"])"
   ],
   "metadata": {
    "collapsed": false,
    "pycharm": {
     "name": "#%%\n"
    }
   }
  }
 ],
 "metadata": {
  "kernelspec": {
   "display_name": "Python 3",
   "language": "python",
   "name": "python3"
  },
  "language_info": {
   "codemirror_mode": {
    "name": "ipython",
    "version": 2
   },
   "file_extension": ".py",
   "mimetype": "text/x-python",
   "name": "python",
   "nbconvert_exporter": "python",
   "pygments_lexer": "ipython2",
   "version": "2.7.6"
  }
 },
 "nbformat": 4,
 "nbformat_minor": 0
}