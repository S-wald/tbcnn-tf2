{
 "cells": [
  {
   "cell_type": "code",
   "execution_count": 1,
   "outputs": [],
   "source": [
    "%load_ext autoreload\n",
    "%autoreload 2"
   ],
   "metadata": {
    "collapsed": false,
    "pycharm": {
     "name": "#%%\n"
    }
   }
  },
  {
   "cell_type": "code",
   "execution_count": 2,
   "outputs": [],
   "source": [
    "import tensorflow as tf"
   ],
   "metadata": {
    "collapsed": false,
    "pycharm": {
     "name": "#%%\n"
    }
   }
  },
  {
   "cell_type": "code",
   "execution_count": 3,
   "metadata": {
    "collapsed": true
   },
   "outputs": [],
   "source": [
    "import pickle\n",
    "with open(\"data/algorithm_trees.pkl\", 'rb') as fh:\n",
    "    trees, val_trees, labels = pickle.load(fh)\n",
    "\n",
    "with open(\"data/vectors.pkl\", 'rb') as fh:\n",
    "    embeddings, embed_lookup = pickle.load(fh)\n",
    "    num_feats = len(embeddings[0])"
   ]
  },
  {
   "cell_type": "code",
   "execution_count": 4,
   "outputs": [],
   "source": [
    "from classifier.Tbcnn import Tbcnn\n",
    "model = Tbcnn(num_feats, 100, len(labels))\n",
    "model.compile(loss=tf.keras.losses.CategoricalCrossentropy(), optimizer='adam',\n",
    "              metrics = [tf.keras.metrics.CategoricalAccuracy()])"
   ],
   "metadata": {
    "collapsed": false,
    "pycharm": {
     "name": "#%%\n"
    }
   }
  },
  {
   "cell_type": "code",
   "execution_count": 7,
   "outputs": [
    {
     "name": "stdout",
     "output_type": "stream",
     "text": [
      "1962/1962 [==============================] - 9s 5ms/step - loss: 0.1474 - categorical_accuracy: 0.9735\n"
     ]
    },
    {
     "data": {
      "text/plain": "<keras.callbacks.History at 0x22f433b6860>"
     },
     "execution_count": 7,
     "metadata": {},
     "output_type": "execute_result"
    }
   ],
   "source": [
    "from classifier.sampling import batch_samples, gen_samples\n",
    "model.fit(batch_samples(gen_samples(trees, labels, embeddings, embed_lookup, 1), 1))"
   ],
   "metadata": {
    "collapsed": false,
    "pycharm": {
     "name": "#%%\n"
    }
   }
  },
  {
   "cell_type": "code",
   "execution_count": 8,
   "outputs": [
    {
     "name": "stdout",
     "output_type": "stream",
     "text": [
      "894/894 [==============================] - 4s 4ms/step - loss: 0.0841 - categorical_accuracy: 0.9911\n",
      "[0.08409417420625687, 0.991051435470581]\n"
     ]
    }
   ],
   "source": [
    "#model.predict(batch_samples(gen_samples(val_trees, labels, embeddings, embed_lookup, 10), 1))\n",
    "metrics = model.evaluate(batch_samples(gen_samples(val_trees, labels, embeddings, embed_lookup, 1), 1))\n",
    "print(metrics)"
   ],
   "metadata": {
    "collapsed": false,
    "pycharm": {
     "name": "#%%\n"
    }
   }
  },
  {
   "cell_type": "code",
   "execution_count": null,
   "outputs": [],
   "source": [],
   "metadata": {
    "collapsed": false,
    "pycharm": {
     "name": "#%%\n"
    }
   }
  }
 ],
 "metadata": {
  "kernelspec": {
   "display_name": "Python 3",
   "language": "python",
   "name": "python3"
  },
  "language_info": {
   "codemirror_mode": {
    "name": "ipython",
    "version": 2
   },
   "file_extension": ".py",
   "mimetype": "text/x-python",
   "name": "python",
   "nbconvert_exporter": "python",
   "pygments_lexer": "ipython2",
   "version": "2.7.6"
  }
 },
 "nbformat": 4,
 "nbformat_minor": 0
}