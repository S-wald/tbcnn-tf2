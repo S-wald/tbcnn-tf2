{
 "cells": [
  {
   "cell_type": "code",
   "execution_count": 2,
   "outputs": [],
   "source": [
    "%load_ext autoreload\n",
    "%autoreload 2"
   ],
   "metadata": {
    "collapsed": false,
    "pycharm": {
     "name": "#%%\n"
    }
   }
  },
  {
   "cell_type": "code",
   "execution_count": 3,
   "outputs": [],
   "source": [
    "import tensorflow as tf"
   ],
   "metadata": {
    "collapsed": false,
    "pycharm": {
     "name": "#%%\n"
    }
   }
  },
  {
   "cell_type": "code",
   "execution_count": 4,
   "metadata": {
    "collapsed": true
   },
   "outputs": [],
   "source": [
    "import pickle\n",
    "with open(\"data/algorithm_trees.pkl\", 'rb') as fh:\n",
    "    trees, val_trees, labels = pickle.load(fh)\n",
    "\n",
    "with open(\"data/vectors.pkl\", 'rb') as fh:\n",
    "    embeddings, embed_lookup = pickle.load(fh)\n",
    "    embedding_size = len(embeddings[0])"
   ]
  },
  {
   "cell_type": "code",
   "execution_count": 15,
   "outputs": [
    {
     "name": "stdout",
     "output_type": "stream",
     "text": [
      "92\n"
     ]
    },
    {
     "data": {
      "text/plain": "{'GtE': 82,\n 'Mult': 63,\n 'Print': 9,\n 'GeneratorExp': 37,\n 'arguments': 89,\n 'And': 59,\n 'Repr': 41,\n 'BitAnd': 71,\n 'ExceptHandler': 88,\n 'FunctionDef': 3,\n 'ClassDef': 4,\n 'Yield': 38,\n 'Expression': 2,\n 'Assign': 7,\n 'UAdd': 75,\n 'IfExp': 31,\n 'AugStore': 53,\n 'Return': 5,\n 'IsNot': 84,\n 'NotIn': 86,\n 'ListComp': 34,\n 'While': 11,\n 'DictComp': 36,\n 'BoolOp': 27,\n 'Mod': 65,\n 'List': 47,\n 'Import': 18,\n 'Interactive': 1,\n 'Store': 50,\n 'Is': 83,\n 'Set': 33,\n 'In': 85,\n 'Assert': 17,\n 'USub': 76,\n 'Tuple': 48,\n 'AugLoad': 52,\n 'Str': 43,\n 'Break': 24,\n 'Raise': 14,\n 'FloorDiv': 72,\n 'Gt': 81,\n 'Name': 46,\n 'Compare': 39,\n 'NotEq': 78,\n 'Exec': 20,\n 'Index': 58,\n 'For': 10,\n 'Div': 64,\n 'Attribute': 44,\n 'Lambda': 30,\n 'RShift': 68,\n 'UnaryOp': 29,\n 'AugAssign': 8,\n 'LShift': 67,\n 'Call': 40,\n 'Load': 49,\n 'Pow': 66,\n 'ImportFrom': 19,\n 'If': 12,\n 'TryFinally': 16,\n 'Subscript': 45,\n 'Continue': 25,\n 'Ellipsis': 55,\n 'alias': 91,\n 'Not': 74,\n 'Dict': 32,\n 'keyword': 90,\n 'SetComp': 35,\n 'Add': 61,\n 'Sub': 62,\n 'Slice': 56,\n 'TryExcept': 15,\n 'Del': 51,\n 'Num': 42,\n 'Param': 54,\n 'Lt': 79,\n 'ExtSlice': 57,\n 'Global': 21,\n 'Expr': 22,\n 'comprehension': 87,\n 'With': 13,\n 'Module': 0,\n 'BinOp': 28,\n 'BitOr': 69,\n 'LtE': 80,\n 'attributes': 26,\n 'Or': 60,\n 'BitXor': 70,\n 'Eq': 77,\n 'Invert': 73,\n 'Pass': 23,\n 'Delete': 6}"
     },
     "execution_count": 15,
     "metadata": {},
     "output_type": "execute_result"
    }
   ],
   "source": [
    "import numpy as np\n",
    "#type(trees)\n",
    "#len(trees)\n",
    "#np.arange(len(trees))\n",
    "print(len(embed_lookup))\n",
    "embed_lookup"
   ],
   "metadata": {
    "collapsed": false,
    "pycharm": {
     "name": "#%%\n"
    }
   }
  },
  {
   "cell_type": "code",
   "execution_count": 12,
   "outputs": [],
   "source": [
    "from classifier.Tbcnn import Tbcnn\n",
    "model = Tbcnn(embedding_size=len(embed_lookup), conv_output_size=100, num_classes=len(labels))\n",
    "model.compile(loss=tf.keras.losses.CategoricalCrossentropy(), optimizer='adam',\n",
    "              metrics = [tf.keras.metrics.CategoricalAccuracy()])"
   ],
   "metadata": {
    "collapsed": false,
    "pycharm": {
     "name": "#%%\n"
    }
   }
  },
  {
   "cell_type": "code",
   "execution_count": 37,
   "outputs": [
    {
     "name": "stdout",
     "output_type": "stream",
     "text": [
      "Model: \"tbcnn_11\"\n",
      "_________________________________________________________________\n",
      " Layer (type)                Output Shape              Param #   \n",
      "=================================================================\n",
      " continuous_binary_tree_conv  multiple                 9100      \n",
      " _layer_11 (ContinuousBinary                                     \n",
      " TreeConvLayer)                                                  \n",
      "                                                                 \n",
      " dynamic_max_pooling_layer_1  multiple                 0         \n",
      " 1 (DynamicMaxPoolingLayer)                                      \n",
      "                                                                 \n",
      " dense_11 (Dense)            multiple                  606       \n",
      "                                                                 \n",
      "=================================================================\n",
      "Total params: 9,706\n",
      "Trainable params: 9,706\n",
      "Non-trainable params: 0\n",
      "_________________________________________________________________\n"
     ]
    }
   ],
   "source": [
    "model.summary()"
   ],
   "metadata": {
    "collapsed": false,
    "pycharm": {
     "name": "#%%\n"
    }
   }
  },
  {
   "cell_type": "code",
   "execution_count": 14,
   "outputs": [
    {
     "name": "stdout",
     "output_type": "stream",
     "text": [
      "Epoch 1/2\n",
      "392/392 [==============================] - 21s 53ms/step - loss: 0.0153 - categorical_accuracy: 1.0000 - val_loss: 0.0130 - val_categorical_accuracy: 1.0000\n",
      "Epoch 2/2\n",
      "392/392 [==============================] - 21s 53ms/step - loss: 0.0112 - categorical_accuracy: 1.0000 - val_loss: 0.0098 - val_categorical_accuracy: 1.0000\n"
     ]
    },
    {
     "data": {
      "text/plain": "<keras.callbacks.History at 0x1de58bc8be0>"
     },
     "execution_count": 14,
     "metadata": {},
     "output_type": "execute_result"
    }
   ],
   "source": [
    "from generator.DataGenerator import DataGenerator\n",
    "training_generator = DataGenerator(trees, labels, embeddings, embed_lookup, batch_size=1, shuffle=True)\n",
    "validation_generator = DataGenerator(val_trees, labels, embeddings, embed_lookup, batch_size=1, shuffle=False)\n",
    "model.fit(training_generator, validation_data=validation_generator, epochs=2)"
   ],
   "metadata": {
    "collapsed": false,
    "pycharm": {
     "name": "#%%\n"
    }
   }
  },
  {
   "cell_type": "code",
   "execution_count": 12,
   "outputs": [
    {
     "name": "stdout",
     "output_type": "stream",
     "text": [
      "894/894 [==============================] - 5s 5ms/step - loss: 0.0198 - categorical_accuracy: 1.0000\n"
     ]
    }
   ],
   "source": [
    "#model.predict(batch_samples(gen_samples(val_trees, labels, embeddings, embed_lookup, 10), 1))\n",
    "metrics = model.evaluate(validation_generator)\n",
    "#print(metrics)"
   ],
   "metadata": {
    "collapsed": false,
    "pycharm": {
     "name": "#%%\n"
    }
   }
  },
  {
   "cell_type": "markdown",
   "source": [
    "# Dataset Creation"
   ],
   "metadata": {
    "collapsed": false
   }
  },
  {
   "cell_type": "code",
   "execution_count": 5,
   "outputs": [
    {
     "data": {
      "text/plain": "<StringArray>\n['p02717', 'p02718', 'p02719', 'p02723', 'p02724', 'p02725', 'p02729',\n 'p02730', 'p02731', 'p02753',\n ...\n 'p03455', 'p03470', 'p03471', 'p03478', 'p03493', 'p03494', 'p03545',\n 'p03835', 'p04043', 'p04044']\nLength: 126, dtype: string"
     },
     "execution_count": 5,
     "metadata": {},
     "output_type": "execute_result"
    }
   ],
   "source": [
    "from sampler.Sampler import Sampler\n",
    "source_file = 'C:\\\\Users\\\\sebas\\\\Documents\\\\Masterarbeit\\\\custom_python_dataset\\\\python_dataset.csv'\n",
    "train_dir = 'C:\\\\Users\\\\sebas\\\\Documents\\\\Masterarbeit\\\\custom_python_dataset\\\\train'\n",
    "val_dir = 'C:\\\\Users\\\\sebas\\\\Documents\\\\Masterarbeit\\\\custom_python_dataset\\\\val'\n",
    "test_dir = 'C:\\\\Users\\\\sebas\\\\Documents\\\\Masterarbeit\\\\custom_python_dataset\\\\test'\n",
    "sampler = Sampler(source_file, train_dir, val_dir, test_dir)\n",
    "pids_labels = sampler.setup_data()\n",
    "pids_labels"
   ],
   "metadata": {
    "collapsed": false,
    "pycharm": {
     "name": "#%%\n"
    }
   }
  },
  {
   "cell_type": "code",
   "execution_count": 6,
   "outputs": [],
   "source": [
    "sampler.create_trees()"
   ],
   "metadata": {
    "collapsed": false,
    "pycharm": {
     "name": "#%%\n"
    }
   }
  },
  {
   "cell_type": "code",
   "execution_count": 8,
   "outputs": [
    {
     "data": {
      "text/plain": "{'Add': 1,\n 'And': 2,\n 'Assert': 3,\n 'Assign': 4,\n 'Attribute': 5,\n 'AugAssign': 6,\n 'BinOp': 7,\n 'BitAnd': 8,\n 'BitOr': 9,\n 'BitXor': 10,\n 'BoolOp': 11,\n 'Break': 12,\n 'Call': 13,\n 'ClassDef': 14,\n 'Compare': 15,\n 'Constant': 16,\n 'Continue': 17,\n 'Del': 18,\n 'Delete': 19,\n 'Dict': 20,\n 'DictComp': 21,\n 'Div': 22,\n 'Eq': 23,\n 'ExceptHandler': 24,\n 'Expr': 25,\n 'FloorDiv': 26,\n 'For': 27,\n 'FunctionDef': 28,\n 'GeneratorExp': 29,\n 'Global': 30,\n 'Gt': 31,\n 'GtE': 32,\n 'If': 33,\n 'IfExp': 34,\n 'Import': 35,\n 'ImportFrom': 36,\n 'In': 37,\n 'Invert': 38,\n 'Is': 39,\n 'IsNot': 40,\n 'LShift': 41,\n 'Lambda': 42,\n 'List': 43,\n 'ListComp': 44,\n 'Load': 45,\n 'Lt': 46,\n 'LtE': 47,\n 'Mod': 48,\n 'Module': 49,\n 'Mult': 50,\n 'Name': 51,\n 'Nonlocal': 52,\n 'Not': 53,\n 'NotEq': 54,\n 'NotIn': 55,\n 'Or': 56,\n 'Pass': 57,\n 'Pow': 58,\n 'RShift': 59,\n 'Raise': 60,\n 'Return': 61,\n 'Set': 62,\n 'SetComp': 63,\n 'Slice': 64,\n 'Starred': 65,\n 'Store': 66,\n 'Sub': 67,\n 'Subscript': 68,\n 'Try': 69,\n 'Tuple': 70,\n 'UAdd': 71,\n 'USub': 72,\n 'UnaryOp': 73,\n 'While': 74,\n 'With': 75,\n 'Yield': 76,\n 'alias': 77,\n 'arg': 78,\n 'arguments': 79,\n 'comprehension': 80,\n 'keyword': 81,\n 'withitem': 82}"
     },
     "execution_count": 8,
     "metadata": {},
     "output_type": "execute_result"
    }
   ],
   "source": [
    "node_set = sampler.get_node_type_set()\n",
    "d = dict([(y,x+1) for x,y in enumerate(sorted(node_set))])\n",
    "d"
   ],
   "metadata": {
    "collapsed": false,
    "pycharm": {
     "name": "#%%\n"
    }
   }
  },
  {
   "cell_type": "code",
   "execution_count": 9,
   "outputs": [
    {
     "data": {
      "text/plain": "{'Add': 1,\n 'And': 2,\n 'Assert': 3,\n 'Assign': 4,\n 'Attribute': 5,\n 'AugAssign': 6,\n 'BinOp': 7,\n 'BitAnd': 8,\n 'BitOr': 9,\n 'BitXor': 10,\n 'BoolOp': 11,\n 'Break': 12,\n 'Call': 13,\n 'ClassDef': 14,\n 'Compare': 15,\n 'Constant': 16,\n 'Continue': 17,\n 'Del': 18,\n 'Delete': 19,\n 'Dict': 20,\n 'DictComp': 21,\n 'Div': 22,\n 'Eq': 23,\n 'ExceptHandler': 24,\n 'Expr': 25,\n 'FloorDiv': 26,\n 'For': 27,\n 'FunctionDef': 28,\n 'GeneratorExp': 29,\n 'Global': 30,\n 'Gt': 31,\n 'GtE': 32,\n 'If': 33,\n 'IfExp': 34,\n 'Import': 35,\n 'ImportFrom': 36,\n 'In': 37,\n 'Invert': 38,\n 'Is': 39,\n 'IsNot': 40,\n 'LShift': 41,\n 'Lambda': 42,\n 'List': 43,\n 'ListComp': 44,\n 'Load': 45,\n 'Lt': 46,\n 'LtE': 47,\n 'Mod': 48,\n 'Module': 49,\n 'Mult': 50,\n 'Name': 51,\n 'Nonlocal': 52,\n 'Not': 53,\n 'NotEq': 54,\n 'NotIn': 55,\n 'Or': 56,\n 'Pass': 57,\n 'Pow': 58,\n 'RShift': 59,\n 'Raise': 60,\n 'Return': 61,\n 'Set': 62,\n 'SetComp': 63,\n 'Slice': 64,\n 'Starred': 65,\n 'Store': 66,\n 'Sub': 67,\n 'Subscript': 68,\n 'Try': 69,\n 'Tuple': 70,\n 'UAdd': 71,\n 'USub': 72,\n 'UnaryOp': 73,\n 'While': 74,\n 'With': 75,\n 'Yield': 76,\n 'alias': 77,\n 'arg': 78,\n 'arguments': 79,\n 'comprehension': 80,\n 'keyword': 81,\n 'withitem': 82}"
     },
     "execution_count": 9,
     "metadata": {},
     "output_type": "execute_result"
    }
   ],
   "source": [
    "import pickle\n",
    "with open('C:\\\\Users\\\\sebas\\\\Documents\\\\Masterarbeit\\\\custom_python_dataset\\\\node_int_map.pkl', 'wb') as out_file:\n",
    "    pickle.dump(d, out_file)\n",
    "\n",
    "\n",
    "with open('C:\\\\Users\\\\sebas\\\\Documents\\\\Masterarbeit\\\\custom_python_dataset\\\\node_int_map.pkl', 'rb') as f:\n",
    "    d1 = pickle.load(f)\n",
    "d1"
   ],
   "metadata": {
    "collapsed": false,
    "pycharm": {
     "name": "#%%\n"
    }
   }
  },
  {
   "cell_type": "code",
   "execution_count": 6,
   "outputs": [
    {
     "data": {
      "text/plain": "       submission_id problem_id     user_id        date language  \\\nid                                                                 \n0         s005016393     p02717  u768256617  1589420406   Python   \n1         s608165181     p02717  u963747475  1589417775   Python   \n2         s714131858     p02717  u523087093  1589416633   Python   \n3         s171581194     p02717  u763534217  1589415736   Python   \n4         s990450823     p02717  u242890210  1589406178   Python   \n...              ...        ...         ...         ...      ...   \n376205    s636390466     p04044  u496694349  1469322410   Python   \n376206    s083855876     p04044  u442984321  1469322350   Python   \n376207    s483453628     p04044  u620084012  1469322273   Python   \n376208    s514621595     p04044  u392220578  1469322198   Python   \n376209    s932335371     p04044  u010733367  1469322167   Python   \n\n       original_language filename_ext  status_x  cpu_time  memory  code_size  \\\nid                                                                             \n0         Python (3.4.3)           py  Accepted      17.0  2940.0         43   \n1         Python (3.4.3)           py  Accepted      17.0  2940.0         60   \n2         Python (3.4.3)           py  Accepted      17.0  2940.0         40   \n3         Python (3.4.3)           py  Accepted      17.0  3060.0        154   \n4         Python (3.4.3)           py  Accepted      17.0  2940.0        155   \n...                  ...          ...       ...       ...     ...        ...   \n376205    Python (3.4.3)           py  Accepted    1405.0  7528.0        111   \n376206    Python (3.4.3)           py  Accepted    1972.0  7272.0        118   \n376207    Python (3.4.3)           py  Accepted      38.0  3064.0         95   \n376208    Python (3.4.3)           py  Accepted      37.0  3064.0         99   \n376209    Python (3.4.3)           py  Accepted      38.0  3064.0         92   \n\n        accuracy  status_y  count  \nid                                 \n0            NaN  Accepted   3678  \n1            NaN  Accepted   3678  \n2            NaN  Accepted   3678  \n3            NaN  Accepted   3678  \n4            NaN  Accepted   3678  \n...          ...       ...    ...  \n376205       NaN  Accepted   2659  \n376206       NaN  Accepted   2659  \n376207       NaN  Accepted   2659  \n376208       NaN  Accepted   2659  \n376209       NaN  Accepted   2659  \n\n[376210 rows x 14 columns]",
      "text/html": "<div>\n<style scoped>\n    .dataframe tbody tr th:only-of-type {\n        vertical-align: middle;\n    }\n\n    .dataframe tbody tr th {\n        vertical-align: top;\n    }\n\n    .dataframe thead th {\n        text-align: right;\n    }\n</style>\n<table border=\"1\" class=\"dataframe\">\n  <thead>\n    <tr style=\"text-align: right;\">\n      <th></th>\n      <th>submission_id</th>\n      <th>problem_id</th>\n      <th>user_id</th>\n      <th>date</th>\n      <th>language</th>\n      <th>original_language</th>\n      <th>filename_ext</th>\n      <th>status_x</th>\n      <th>cpu_time</th>\n      <th>memory</th>\n      <th>code_size</th>\n      <th>accuracy</th>\n      <th>status_y</th>\n      <th>count</th>\n    </tr>\n    <tr>\n      <th>id</th>\n      <th></th>\n      <th></th>\n      <th></th>\n      <th></th>\n      <th></th>\n      <th></th>\n      <th></th>\n      <th></th>\n      <th></th>\n      <th></th>\n      <th></th>\n      <th></th>\n      <th></th>\n      <th></th>\n    </tr>\n  </thead>\n  <tbody>\n    <tr>\n      <th>0</th>\n      <td>s005016393</td>\n      <td>p02717</td>\n      <td>u768256617</td>\n      <td>1589420406</td>\n      <td>Python</td>\n      <td>Python (3.4.3)</td>\n      <td>py</td>\n      <td>Accepted</td>\n      <td>17.0</td>\n      <td>2940.0</td>\n      <td>43</td>\n      <td>NaN</td>\n      <td>Accepted</td>\n      <td>3678</td>\n    </tr>\n    <tr>\n      <th>1</th>\n      <td>s608165181</td>\n      <td>p02717</td>\n      <td>u963747475</td>\n      <td>1589417775</td>\n      <td>Python</td>\n      <td>Python (3.4.3)</td>\n      <td>py</td>\n      <td>Accepted</td>\n      <td>17.0</td>\n      <td>2940.0</td>\n      <td>60</td>\n      <td>NaN</td>\n      <td>Accepted</td>\n      <td>3678</td>\n    </tr>\n    <tr>\n      <th>2</th>\n      <td>s714131858</td>\n      <td>p02717</td>\n      <td>u523087093</td>\n      <td>1589416633</td>\n      <td>Python</td>\n      <td>Python (3.4.3)</td>\n      <td>py</td>\n      <td>Accepted</td>\n      <td>17.0</td>\n      <td>2940.0</td>\n      <td>40</td>\n      <td>NaN</td>\n      <td>Accepted</td>\n      <td>3678</td>\n    </tr>\n    <tr>\n      <th>3</th>\n      <td>s171581194</td>\n      <td>p02717</td>\n      <td>u763534217</td>\n      <td>1589415736</td>\n      <td>Python</td>\n      <td>Python (3.4.3)</td>\n      <td>py</td>\n      <td>Accepted</td>\n      <td>17.0</td>\n      <td>3060.0</td>\n      <td>154</td>\n      <td>NaN</td>\n      <td>Accepted</td>\n      <td>3678</td>\n    </tr>\n    <tr>\n      <th>4</th>\n      <td>s990450823</td>\n      <td>p02717</td>\n      <td>u242890210</td>\n      <td>1589406178</td>\n      <td>Python</td>\n      <td>Python (3.4.3)</td>\n      <td>py</td>\n      <td>Accepted</td>\n      <td>17.0</td>\n      <td>2940.0</td>\n      <td>155</td>\n      <td>NaN</td>\n      <td>Accepted</td>\n      <td>3678</td>\n    </tr>\n    <tr>\n      <th>...</th>\n      <td>...</td>\n      <td>...</td>\n      <td>...</td>\n      <td>...</td>\n      <td>...</td>\n      <td>...</td>\n      <td>...</td>\n      <td>...</td>\n      <td>...</td>\n      <td>...</td>\n      <td>...</td>\n      <td>...</td>\n      <td>...</td>\n      <td>...</td>\n    </tr>\n    <tr>\n      <th>376205</th>\n      <td>s636390466</td>\n      <td>p04044</td>\n      <td>u496694349</td>\n      <td>1469322410</td>\n      <td>Python</td>\n      <td>Python (3.4.3)</td>\n      <td>py</td>\n      <td>Accepted</td>\n      <td>1405.0</td>\n      <td>7528.0</td>\n      <td>111</td>\n      <td>NaN</td>\n      <td>Accepted</td>\n      <td>2659</td>\n    </tr>\n    <tr>\n      <th>376206</th>\n      <td>s083855876</td>\n      <td>p04044</td>\n      <td>u442984321</td>\n      <td>1469322350</td>\n      <td>Python</td>\n      <td>Python (3.4.3)</td>\n      <td>py</td>\n      <td>Accepted</td>\n      <td>1972.0</td>\n      <td>7272.0</td>\n      <td>118</td>\n      <td>NaN</td>\n      <td>Accepted</td>\n      <td>2659</td>\n    </tr>\n    <tr>\n      <th>376207</th>\n      <td>s483453628</td>\n      <td>p04044</td>\n      <td>u620084012</td>\n      <td>1469322273</td>\n      <td>Python</td>\n      <td>Python (3.4.3)</td>\n      <td>py</td>\n      <td>Accepted</td>\n      <td>38.0</td>\n      <td>3064.0</td>\n      <td>95</td>\n      <td>NaN</td>\n      <td>Accepted</td>\n      <td>2659</td>\n    </tr>\n    <tr>\n      <th>376208</th>\n      <td>s514621595</td>\n      <td>p04044</td>\n      <td>u392220578</td>\n      <td>1469322198</td>\n      <td>Python</td>\n      <td>Python (3.4.3)</td>\n      <td>py</td>\n      <td>Accepted</td>\n      <td>37.0</td>\n      <td>3064.0</td>\n      <td>99</td>\n      <td>NaN</td>\n      <td>Accepted</td>\n      <td>2659</td>\n    </tr>\n    <tr>\n      <th>376209</th>\n      <td>s932335371</td>\n      <td>p04044</td>\n      <td>u010733367</td>\n      <td>1469322167</td>\n      <td>Python</td>\n      <td>Python (3.4.3)</td>\n      <td>py</td>\n      <td>Accepted</td>\n      <td>38.0</td>\n      <td>3064.0</td>\n      <td>92</td>\n      <td>NaN</td>\n      <td>Accepted</td>\n      <td>2659</td>\n    </tr>\n  </tbody>\n</table>\n<p>376210 rows × 14 columns</p>\n</div>"
     },
     "execution_count": 6,
     "metadata": {},
     "output_type": "execute_result"
    }
   ],
   "source": [
    "import pandas as pd\n",
    "pd.read_csv(source_file, index_col='id', header=0).astype({'problem_id': 'string'})"
   ],
   "metadata": {
    "collapsed": false,
    "pycharm": {
     "name": "#%%\n"
    }
   }
  },
  {
   "cell_type": "code",
   "execution_count": 10,
   "outputs": [],
   "source": [
    "from classifier.Tbcnn import Tbcnn\n",
    "model = Tbcnn(embedding_size=len(d1), conv_output_size=100, num_classes=len(pids_labels))\n",
    "model.compile(loss=tf.keras.losses.CategoricalCrossentropy(), optimizer='adam',\n",
    "              metrics = [tf.keras.metrics.CategoricalAccuracy()])"
   ],
   "metadata": {
    "collapsed": false,
    "pycharm": {
     "name": "#%%\n"
    }
   }
  },
  {
   "cell_type": "code",
   "execution_count": 55,
   "outputs": [
    {
     "data": {
      "text/plain": "['mergesort', 'linkedlist', 'quicksort', 'bfs', 'bubblesort', 'knapsack']"
     },
     "execution_count": 55,
     "metadata": {},
     "output_type": "execute_result"
    }
   ],
   "source": [],
   "metadata": {
    "collapsed": false,
    "pycharm": {
     "name": "#%%\n"
    }
   }
  },
  {
   "cell_type": "code",
   "execution_count": null,
   "outputs": [],
   "source": [
    "import glob\n",
    "from classifier.generators.FileStreamDataGenerator import FileStreamDataGenerator\n",
    "train_files = glob.glob(train_dir + \"\\\\*.pkl\")\n",
    "val_files = glob.glob(val_dir + \"\\\\*.pkl\")\n",
    "#training_generator = FileStreamDataGenerator(train_files, pids_labels, embeddings, d1, batch_size=1, shuffle=True)\n",
    "validation_generator = FileStreamDataGenerator(val_files, pids_labels, embeddings, d1, batch_size=1, shuffle=False)\n",
    "model.fit(training_generator, validation_data=validation_generator, epochs=1)"
   ],
   "metadata": {
    "collapsed": false,
    "pycharm": {
     "name": "#%%\n",
     "is_executing": true
    }
   }
  },
  {
   "cell_type": "code",
   "execution_count": null,
   "outputs": [],
   "source": [],
   "metadata": {
    "collapsed": false,
    "pycharm": {
     "name": "#%%\n",
     "is_executing": true
    }
   }
  },
  {
   "cell_type": "code",
   "execution_count": null,
   "outputs": [],
   "source": [
    "import glob\n",
    "\n",
    "print(glob.glob(val_dir + \"\\\\*.pkl\"))"
   ],
   "metadata": {
    "collapsed": false,
    "pycharm": {
     "name": "#%%\n",
     "is_executing": true
    }
   }
  },
  {
   "cell_type": "code",
   "execution_count": null,
   "outputs": [],
   "source": [],
   "metadata": {
    "collapsed": false,
    "pycharm": {
     "name": "#%%\n"
    }
   }
  }
 ],
 "metadata": {
  "kernelspec": {
   "display_name": "Python 3",
   "language": "python",
   "name": "python3"
  },
  "language_info": {
   "codemirror_mode": {
    "name": "ipython",
    "version": 2
   },
   "file_extension": ".py",
   "mimetype": "text/x-python",
   "name": "python",
   "nbconvert_exporter": "python",
   "pygments_lexer": "ipython2",
   "version": "2.7.6"
  }
 },
 "nbformat": 4,
 "nbformat_minor": 0
}