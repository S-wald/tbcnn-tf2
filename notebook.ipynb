{
 "cells": [
  {
   "cell_type": "markdown",
   "source": [
    "# Project CodeNet Program Classification with a TBCNN\n",
    "\n",
    "This notebook shows an application of a TBCNN for classifying programs by functionality. In this experiment we use Python source code from Project CodeNet and predict their problem_id.\n",
    "\n",
    "Structure of this notebook:\n",
    "1. Creation of a derived dataset from Project CodeNet\n",
    "2. Training of a TBCNN on this dataset\n",
    "3. Visualizations of the Convolutional Layer of the Model using GraphViz"
   ],
   "metadata": {
    "collapsed": false,
    "pycharm": {
     "name": "#%% md\n"
    }
   }
  },
  {
   "cell_type": "code",
   "execution_count": 1,
   "outputs": [],
   "source": [
    "%load_ext autoreload\n",
    "%autoreload 2"
   ],
   "metadata": {
    "collapsed": false,
    "pycharm": {
     "name": "#%%\n"
    }
   }
  },
  {
   "cell_type": "markdown",
   "source": [
    "## Derived Dataset\n",
    "The derived dataset contains only source code from submissions with status 'Accepted' and programs written in Python 3.4.3. This constraint allows us to parse the code with the built-in Python-module 'ast'."
   ],
   "metadata": {
    "collapsed": false
   }
  },
  {
   "cell_type": "markdown",
   "source": [
    "First, we create an in-memory representation of the CodeNet dataset to retrieve the metadata of all submissions."
   ],
   "metadata": {
    "collapsed": false
   }
  },
  {
   "cell_type": "code",
   "execution_count": 58,
   "outputs": [],
   "source": [
    "from dataset.CodeNet import CodeNet\n",
    "code_net = CodeNet(location=r\"C:\\Users\\sebas\\Documents\\Masterarbeit\\Project_CodeNet\")"
   ],
   "metadata": {
    "collapsed": false,
    "pycharm": {
     "name": "#%%\n"
    }
   }
  },
  {
   "cell_type": "code",
   "execution_count": 59,
   "outputs": [
    {
     "name": "stdout",
     "output_type": "stream",
     "text": [
      "<class 'pandas.core.frame.DataFrame'>\n",
      "Int64Index: 13916868 entries, 0 to 1088\n",
      "Data columns (total 12 columns):\n",
      " #   Column             Dtype \n",
      "---  ------             ----- \n",
      " 0   submission_id      string\n",
      " 1   problem_id         string\n",
      " 2   user_id            string\n",
      " 3   date               Int64 \n",
      " 4   language           string\n",
      " 5   original_language  string\n",
      " 6   filename_ext       string\n",
      " 7   status             string\n",
      " 8   cpu_time           Int64 \n",
      " 9   memory             Int64 \n",
      " 10  code_size          Int64 \n",
      " 11  accuracy           string\n",
      "dtypes: Int64(4), string(8)\n",
      "memory usage: 1.4 GB\n"
     ]
    }
   ],
   "source": [
    "submission_metadata = code_net.get_submission_metadata()\n",
    "submission_metadata.info()"
   ],
   "metadata": {
    "collapsed": false,
    "pycharm": {
     "name": "#%%\n"
    }
   }
  },
  {
   "cell_type": "markdown",
   "source": [
    "pandas Dataframes allow us to query and recombine dataframes to construct the derived dataset."
   ],
   "metadata": {
    "collapsed": false
   }
  },
  {
   "cell_type": "code",
   "execution_count": 4,
   "outputs": [],
   "source": [
    "accepted_python3_submissions = submission_metadata.query(\"original_language == 'Python (3.4.3)' and status == 'Accepted'\")"
   ],
   "metadata": {
    "collapsed": false,
    "pycharm": {
     "name": "#%%\n"
    }
   }
  },
  {
   "cell_type": "markdown",
   "source": [
    "We further use only submissions with more than 2500 submissions, so we have enough data to train on."
   ],
   "metadata": {
    "collapsed": false
   }
  },
  {
   "cell_type": "code",
   "execution_count": 5,
   "outputs": [],
   "source": [
    "python3_submissions_count = accepted_python3_submissions.groupby([\"problem_id\", \"status\"]).size().reset_index(name=\"count\").sort_values(\"count\", ascending=False).query(\"count > 2500\")"
   ],
   "metadata": {
    "collapsed": false,
    "pycharm": {
     "name": "#%%\n"
    }
   }
  },
  {
   "cell_type": "markdown",
   "source": [
    "By merging these two dataframes we get the final derived data we want."
   ],
   "metadata": {
    "collapsed": false
   }
  },
  {
   "cell_type": "code",
   "execution_count": 6,
   "outputs": [],
   "source": [
    "derived_dataset = accepted_python3_submissions.merge(python3_submissions_count, on=\"problem_id\").drop(columns=[\"status_y\"]).rename(columns={\"status_x\": \"status\"})"
   ],
   "metadata": {
    "collapsed": false,
    "pycharm": {
     "name": "#%%\n"
    }
   }
  },
  {
   "cell_type": "markdown",
   "source": [
    "Finally, we use an instance of `ProblemIdClassificationDataset` to manage the dataset on disk. This class offers functionality to create training-, validation- and test-directory with the specified number of samples for each problem. All samples are randomly sampled from the `derived_dataset`"
   ],
   "metadata": {
    "collapsed": false
   }
  },
  {
   "cell_type": "code",
   "execution_count": 38,
   "outputs": [],
   "source": [
    "from dataset.ProblemIdClassificationDataset import ProblemIdClassificationDataset\n",
    "\n",
    "classification_dataset = ProblemIdClassificationDataset(r\"C:\\Users\\sebas\\Documents\\Masterarbeit\\datasets\\tbcnn_py3_2500\",\n",
    "                                                 derived_dataset,\n",
    "                                                 code_net,\n",
    "                                                 n_train_per_problem=600,\n",
    "                                                 n_val_per_problem=100,\n",
    "                                                 n_test_per_problem=300)"
   ],
   "metadata": {
    "collapsed": false,
    "pycharm": {
     "name": "#%%\n"
    }
   }
  },
  {
   "cell_type": "markdown",
   "source": [
    "The `create_or_load`-method creates an in-memory representation of the classification-dataset or loads it if it already exists in the file system. More specifically, following steps happen during creation:\n",
    "1. For each `problem_id` in the `derived_dataset` 1000 submissions are sampled (see parameter of Ctor in previous cell).\n",
    "2. The 1000 samples are split up into train-, validation- and test-partitions according to the parameter in the previous cell. These partitions are represented by dataframes which are serialized with `pickle` for later loading.\n",
    "3. Each source file is parsed with the `ast` module and a simpler tree in JSON format is created and placed in its respective directory (train, val or test)\n",
    "4. All encountered AST node types are collected in a map (str->int) and serialized (node_map).\n",
    "5. All encountered problem_ids (classification labels) are collected and serialized"
   ],
   "metadata": {
    "collapsed": false
   }
  },
  {
   "cell_type": "code",
   "execution_count": 39,
   "outputs": [],
   "source": [
    "classification_dataset.create_or_load()"
   ],
   "metadata": {
    "collapsed": false,
    "pycharm": {
     "name": "#%%\n"
    }
   }
  },
  {
   "cell_type": "markdown",
   "source": [
    "## TBCNN"
   ],
   "metadata": {
    "collapsed": false
   }
  },
  {
   "cell_type": "markdown",
   "source": [
    "### Model Creation"
   ],
   "metadata": {
    "collapsed": false
   }
  },
  {
   "cell_type": "code",
   "execution_count": 40,
   "outputs": [],
   "source": [
    "from keras.metrics import Precision, Recall\n",
    "import tensorflow as tf\n",
    "from classifier.Tbcnn import Tbcnn\n",
    "node_map = classification_dataset.get_node_map()\n",
    "labels = classification_dataset.get_labels()\n",
    "model = Tbcnn(feature_size=len(node_map), conv_output_size=100, num_classes=len(labels))\n",
    "model.compile(loss=tf.keras.losses.CategoricalCrossentropy(), optimizer='adam',\n",
    "              metrics = [tf.keras.metrics.CategoricalAccuracy(), Precision(), Recall()])"
   ],
   "metadata": {
    "collapsed": false,
    "pycharm": {
     "name": "#%%\n"
    }
   }
  },
  {
   "cell_type": "markdown",
   "source": [
    "### Model Training"
   ],
   "metadata": {
    "collapsed": false
   }
  },
  {
   "cell_type": "code",
   "execution_count": 41,
   "outputs": [
    {
     "name": "stdout",
     "output_type": "stream",
     "text": [
      "75600/75600 [==============================] - 172s 2ms/step - loss: 0.6304 - categorical_accuracy: 0.8490 - precision_2: 0.9479 - recall_2: 0.7753 - val_loss: 0.2730 - val_categorical_accuracy: 0.9215 - val_precision_2: 0.9581 - val_recall_2: 0.8980\n"
     ]
    },
    {
     "data": {
      "text/plain": "<keras.callbacks.History at 0x28bad7ca6e0>"
     },
     "execution_count": 41,
     "metadata": {},
     "output_type": "execute_result"
    }
   ],
   "source": [
    "from generators.FileStreamDataGenerator import FileStreamDataGenerator\n",
    "\n",
    "train_files = classification_dataset.get_train_files()\n",
    "val_files = classification_dataset.get_val_files()\n",
    "training_generator = FileStreamDataGenerator(train_files, labels, node_map, batch_size=1, shuffle=True)\n",
    "validation_generator = FileStreamDataGenerator(val_files, labels, node_map, batch_size=1, shuffle=False)\n",
    "model.fit(training_generator, validation_data=validation_generator, epochs=1)"
   ],
   "metadata": {
    "collapsed": false,
    "pycharm": {
     "name": "#%%\n"
    }
   }
  },
  {
   "cell_type": "markdown",
   "source": [
    "### Model Evaluation"
   ],
   "metadata": {
    "collapsed": false
   }
  },
  {
   "cell_type": "code",
   "execution_count": 42,
   "outputs": [
    {
     "name": "stdout",
     "output_type": "stream",
     "text": [
      "37800/37800 [==============================] - 67s 2ms/step - loss: 0.2715 - categorical_accuracy: 0.9224 - precision_2: 0.9584 - recall_2: 0.8985\n"
     ]
    }
   ],
   "source": [
    "test_files = classification_dataset.get_test_files()\n",
    "test_generator = FileStreamDataGenerator(test_files, labels, node_map, batch_size=1, shuffle=False)\n",
    "y_hat = model.predict(test_generator)\n",
    "metrics = model.evaluate(test_generator)"
   ],
   "metadata": {
    "collapsed": false,
    "pycharm": {
     "name": "#%%\n"
    }
   }
  },
  {
   "cell_type": "code",
   "execution_count": 43,
   "outputs": [],
   "source": [
    "from numpy import argmax\n",
    "labels = list(test_generator.get_label_lookup().keys())\n",
    "expected_labels = []\n",
    "predicted_labels = []\n",
    "for i in range(len(test_generator)):\n",
    "    _, y = test_generator[i]\n",
    "    expected_label = labels[argmax(y)]\n",
    "    predicted_label = labels[argmax(y_hat[i])]\n",
    "    expected_labels.append(expected_label)\n",
    "    predicted_labels.append(predicted_label)"
   ],
   "metadata": {
    "collapsed": false,
    "pycharm": {
     "name": "#%%\n"
    }
   }
  },
  {
   "cell_type": "code",
   "execution_count": 60,
   "outputs": [
    {
     "data": {
      "text/plain": "<Figure size 432x288 with 2 Axes>",
      "image/png": "[encoded data removed]"
     },
     "metadata": {
      "needs_background": "light"
     },
     "output_type": "display_data"
    }
   ],
   "source": [
    "from sklearn.metrics import confusion_matrix, ConfusionMatrixDisplay\n",
    "from matplotlib import pyplot as plt\n",
    "\n",
    "cm = confusion_matrix(expected_labels, predicted_labels, labels=labels)\n",
    "disp = ConfusionMatrixDisplay(confusion_matrix=cm, display_labels=labels)\n",
    "disp.plot(cmap=plt.cm.Blues)\n",
    "plt.show()"
   ],
   "metadata": {
    "collapsed": false,
    "pycharm": {
     "name": "#%%\n"
    }
   }
  },
  {
   "cell_type": "code",
   "execution_count": 44,
   "outputs": [
    {
     "name": "stdout",
     "output_type": "stream",
     "text": [
      "              precision    recall  f1-score   support\n",
      "\n",
      "      p02717       0.93      0.96      0.94       300\n",
      "      p02718       0.96      0.99      0.98       300\n",
      "      p02719       0.95      0.97      0.96       300\n",
      "      p02723       0.81      0.96      0.88       300\n",
      "      p02724       0.94      0.97      0.95       300\n",
      "      p02725       0.90      0.96      0.93       300\n",
      "      p02729       0.97      0.85      0.91       300\n",
      "      p02730       0.95      0.96      0.96       300\n",
      "      p02731       0.97      0.97      0.97       300\n",
      "      p02753       0.60      0.69      0.64       300\n",
      "      p02754       1.00      0.99      0.99       300\n",
      "      p02755       0.99      0.97      0.98       300\n",
      "      p02759       0.96      0.95      0.95       300\n",
      "      p02760       0.94      0.98      0.96       300\n",
      "      p02765       1.00      0.99      0.99       300\n",
      "      p02766       0.90      0.92      0.91       300\n",
      "      p02767       0.92      0.93      0.93       300\n",
      "      p02771       0.94      0.89      0.92       300\n",
      "      p02772       0.94      0.98      0.96       300\n",
      "      p02773       0.93      0.92      0.92       300\n",
      "      p02777       0.97      0.97      0.97       300\n",
      "      p02778       0.90      0.95      0.93       300\n",
      "      p02779       0.85      0.91      0.88       300\n",
      "      p02783       0.89      0.91      0.90       300\n",
      "      p02784       0.89      0.93      0.91       300\n",
      "      p02785       0.90      0.87      0.89       300\n",
      "      p02786       0.96      0.92      0.94       300\n",
      "      p02789       0.96      0.90      0.93       300\n",
      "      p02790       0.98      0.87      0.92       300\n",
      "      p02801       0.97      0.91      0.94       300\n",
      "      p02811       0.99      0.96      0.97       300\n",
      "      p02812       0.65      0.89      0.75       300\n",
      "      p02817       0.91      0.90      0.90       300\n",
      "      p02829       0.92      0.83      0.88       300\n",
      "      p02830       0.95      0.93      0.94       300\n",
      "      p02831       0.96      0.95      0.96       300\n",
      "      p02835       0.96      0.94      0.95       300\n",
      "      p02836       0.94      0.96      0.95       300\n",
      "      p02847       0.79      0.74      0.77       300\n",
      "      p02848       0.91      0.94      0.93       300\n",
      "      p02859       0.92      0.34      0.49       300\n",
      "      p02860       0.98      0.94      0.96       300\n",
      "      p02861       0.95      0.98      0.97       300\n",
      "      p02879       0.99      0.99      0.99       300\n",
      "      p02880       0.97      0.97      0.97       300\n",
      "      p02881       0.98      0.99      0.99       300\n",
      "      p02885       0.98      0.99      0.99       300\n",
      "      p02886       0.93      0.95      0.94       300\n",
      "      p02887       0.88      0.90      0.89       300\n",
      "      p02897       1.00      0.99      0.99       300\n",
      "      p02898       0.92      0.92      0.92       300\n",
      "      p02899       0.95      0.94      0.94       300\n",
      "      p02909       0.78      0.36      0.49       300\n",
      "      p02910       0.91      0.92      0.91       300\n",
      "      p02911       0.98      0.99      0.98       300\n",
      "      p02915       0.59      0.95      0.73       300\n",
      "      p02916       0.96      0.97      0.97       300\n",
      "      p02917       0.92      0.94      0.93       300\n",
      "      p02921       0.96      0.96      0.96       300\n",
      "      p02922       0.94      0.90      0.92       300\n",
      "      p02923       0.94      0.89      0.91       300\n",
      "      p02933       0.96      0.93      0.95       300\n",
      "      p02934       0.99      0.96      0.97       300\n",
      "      p02935       0.93      0.96      0.95       300\n",
      "      p02945       0.99      0.99      0.99       300\n",
      "      p02946       0.98      0.96      0.97       300\n",
      "      p02947       0.95      0.96      0.96       300\n",
      "      p02951       0.98      0.96      0.97       300\n",
      "      p02952       0.95      0.90      0.92       300\n",
      "      p02957       0.94      0.97      0.96       300\n",
      "      p02958       0.89      0.93      0.91       300\n",
      "      p02969       0.97      0.98      0.98       300\n",
      "      p02970       0.99      0.96      0.97       300\n",
      "      p02971       0.85      0.95      0.90       300\n",
      "      p02981       0.96      0.98      0.97       300\n",
      "      p02982       0.96      0.98      0.97       300\n",
      "      p02987       0.93      0.60      0.73       300\n",
      "      p02988       0.93      0.95      0.94       300\n",
      "      p02989       0.99      0.96      0.97       300\n",
      "      p02993       0.76      0.87      0.81       300\n",
      "      p02994       0.83      0.95      0.88       300\n",
      "      p02999       0.96      0.92      0.94       300\n",
      "      p03000       0.95      0.92      0.94       300\n",
      "      p03011       0.97      0.83      0.90       300\n",
      "      p03012       0.76      0.96      0.85       300\n",
      "      p03029       0.98      0.98      0.98       300\n",
      "      p03030       0.94      0.95      0.95       300\n",
      "      p03035       1.00      0.99      0.99       300\n",
      "      p03036       0.98      1.00      0.99       300\n",
      "      p03037       0.97      0.93      0.95       300\n",
      "      p03041       0.95      0.96      0.96       300\n",
      "      p03042       0.94      0.94      0.94       300\n",
      "      p03043       0.93      0.98      0.95       300\n",
      "      p03059       0.95      0.93      0.94       300\n",
      "      p03060       0.95      0.96      0.96       300\n",
      "      p03071       0.97      0.94      0.95       300\n",
      "      p03072       0.86      0.92      0.89       300\n",
      "      p03073       0.86      0.75      0.80       300\n",
      "      p03075       0.97      0.96      0.97       300\n",
      "      p03076       0.90      0.95      0.92       300\n",
      "      p03085       0.43      0.72      0.54       300\n",
      "      p03086       0.95      0.84      0.89       300\n",
      "      p03101       0.99      0.96      0.98       300\n",
      "      p03102       0.99      0.99      0.99       300\n",
      "      p03105       0.96      0.94      0.95       300\n",
      "      p03106       0.93      0.99      0.96       300\n",
      "      p03109       0.91      0.89      0.90       300\n",
      "      p03125       1.00      0.99      0.99       300\n",
      "      p03135       0.97      0.94      0.95       300\n",
      "      p03136       0.95      0.91      0.93       300\n",
      "      p03145       0.96      0.96      0.96       300\n",
      "      p03160       0.98      0.93      0.95       300\n",
      "      p03210       0.94      0.93      0.94       300\n",
      "      p03220       0.97      0.99      0.98       300\n",
      "      p03434       0.95      0.90      0.93       300\n",
      "      p03448       0.98      0.98      0.98       300\n",
      "      p03455       1.00      0.95      0.97       300\n",
      "      p03470       0.90      0.94      0.92       300\n",
      "      p03471       0.95      0.99      0.97       300\n",
      "      p03478       1.00      0.98      0.99       300\n",
      "      p03493       0.84      0.56      0.67       300\n",
      "      p03494       0.97      0.94      0.96       300\n",
      "      p03545       0.91      0.97      0.94       300\n",
      "      p03835       1.00      0.98      0.99       300\n",
      "      p04043       0.91      0.86      0.88       300\n",
      "      p04044       0.93      0.95      0.94       300\n",
      "\n",
      "    accuracy                           0.92     37800\n",
      "   macro avg       0.93      0.92      0.92     37800\n",
      "weighted avg       0.93      0.92      0.92     37800\n",
      "\n"
     ]
    }
   ],
   "source": [
    "from sklearn.metrics import classification_report\n",
    "\n",
    "print(classification_report(expected_labels, predicted_labels, labels=labels))"
   ],
   "metadata": {
    "collapsed": false,
    "pycharm": {
     "name": "#%%\n"
    }
   }
  },
  {
   "cell_type": "markdown",
   "source": [
    "## Visualization"
   ],
   "metadata": {
    "collapsed": false
   }
  },
  {
   "cell_type": "code",
   "execution_count": 62,
   "outputs": [
    {
     "data": {
      "image/svg+xml": "<?xml version=\"1.0\" encoding=\"UTF-8\" standalone=\"no\"?>\n<!DOCTYPE svg PUBLIC \"-//W3C//DTD SVG 1.1//EN\"\n \"http://www.w3.org/Graphics/SVG/1.1/DTD/svg11.dtd\">\n<!-- Generated by graphviz version 3.0.0 (20220226.1711)\n -->\n<!-- Title: ast Pages: 1 -->\n<svg width=\"745pt\" height=\"476pt\"\n viewBox=\"0.00 0.00 744.69 476.00\" xmlns=\"http://www.w3.org/2000/svg\" xmlns:xlink=\"http://www.w3.org/1999/xlink\">\n<g id=\"graph0\" class=\"graph\" transform=\"scale(1 1) rotate(0) translate(4 472)\">\n<title>ast</title>\n<polygon fill=\"white\" stroke=\"transparent\" points=\"-4,4 -4,-472 740.69,-472 740.69,4 -4,4\"/>\n<!-- 0 -->\n<g id=\"node1\" class=\"node\">\n<title>0</title>\n<ellipse fill=\"#05ff00\" stroke=\"black\" cx=\"407.85\" cy=\"-450\" rx=\"38.19\" ry=\"18\"/>\n<text text-anchor=\"middle\" x=\"407.85\" y=\"-446.3\" font-family=\"Times New Roman,serif\" font-size=\"14.00\">Module</text>\n</g>\n<!-- 1 -->\n<g id=\"node2\" class=\"node\">\n<title>1</title>\n<ellipse fill=\"#05ff00\" stroke=\"black\" cx=\"366.85\" cy=\"-378\" rx=\"36\" ry=\"18\"/>\n<text text-anchor=\"middle\" x=\"366.85\" y=\"-374.3\" font-family=\"Times New Roman,serif\" font-size=\"14.00\">Assign</text>\n</g>\n<!-- 0&#45;&gt;1 -->\n<g id=\"edge1\" class=\"edge\">\n<title>0&#45;&gt;1</title>\n<path fill=\"none\" stroke=\"black\" d=\"M398.13,-432.41C391.6,-421.25 383.01,-406.6 376.49,-395.47\"/>\n</g>\n<!-- 2 -->\n<g id=\"node3\" class=\"node\">\n<title>2</title>\n<ellipse fill=\"#82ff7f\" stroke=\"black\" cx=\"494.85\" cy=\"-378\" rx=\"28.7\" ry=\"18\"/>\n<text text-anchor=\"middle\" x=\"494.85\" y=\"-374.3\" font-family=\"Times New Roman,serif\" font-size=\"14.00\">Expr</text>\n</g>\n<!-- 0&#45;&gt;2 -->\n<g id=\"edge2\" class=\"edge\">\n<title>0&#45;&gt;2</title>\n<path fill=\"none\" stroke=\"black\" d=\"M426.3,-434.15C441.56,-421.87 463.06,-404.57 477.9,-392.64\"/>\n</g>\n<!-- 3 -->\n<g id=\"node4\" class=\"node\">\n<title>3</title>\n<ellipse fill=\"#43ff3f\" stroke=\"black\" cx=\"195.85\" cy=\"-306\" rx=\"31.7\" ry=\"18\"/>\n<text text-anchor=\"middle\" x=\"195.85\" y=\"-302.3\" font-family=\"Times New Roman,serif\" font-size=\"14.00\">Tuple</text>\n</g>\n<!-- 1&#45;&gt;3 -->\n<g id=\"edge3\" class=\"edge\">\n<title>1&#45;&gt;3</title>\n<path fill=\"none\" stroke=\"black\" d=\"M339.75,-365.91C307.07,-352.53 252.59,-330.23 220.87,-317.24\"/>\n</g>\n<!-- 4 -->\n<g id=\"node5\" class=\"node\">\n<title>4</title>\n<ellipse fill=\"#2eff2a\" stroke=\"black\" cx=\"366.85\" cy=\"-306\" rx=\"27\" ry=\"18\"/>\n<text text-anchor=\"middle\" x=\"366.85\" y=\"-302.3\" font-family=\"Times New Roman,serif\" font-size=\"14.00\">Call</text>\n</g>\n<!-- 1&#45;&gt;4 -->\n<g id=\"edge4\" class=\"edge\">\n<title>1&#45;&gt;4</title>\n<path fill=\"none\" stroke=\"black\" d=\"M366.85,-359.7C366.85,-348.85 366.85,-334.92 366.85,-324.1\"/>\n</g>\n<!-- 5 -->\n<g id=\"node6\" class=\"node\">\n<title>5</title>\n<ellipse fill=\"#05ff00\" stroke=\"black\" cx=\"540.85\" cy=\"-306\" rx=\"27\" ry=\"18\"/>\n<text text-anchor=\"middle\" x=\"540.85\" y=\"-302.3\" font-family=\"Times New Roman,serif\" font-size=\"14.00\">Call</text>\n</g>\n<!-- 2&#45;&gt;5 -->\n<g id=\"edge5\" class=\"edge\">\n<title>2&#45;&gt;5</title>\n<path fill=\"none\" stroke=\"black\" d=\"M505.29,-361.12C512.81,-349.66 522.93,-334.26 530.45,-322.82\"/>\n</g>\n<!-- 6 -->\n<g id=\"node7\" class=\"node\">\n<title>6</title>\n<ellipse fill=\"#c0ffbf\" stroke=\"black\" cx=\"31.85\" cy=\"-234\" rx=\"31.7\" ry=\"18\"/>\n<text text-anchor=\"middle\" x=\"31.85\" y=\"-230.3\" font-family=\"Times New Roman,serif\" font-size=\"14.00\">Name</text>\n</g>\n<!-- 3&#45;&gt;6 -->\n<g id=\"edge6\" class=\"edge\">\n<title>3&#45;&gt;6</title>\n<path fill=\"none\" stroke=\"black\" d=\"M171.29,-294.52C140.38,-281.32 87.56,-258.78 56.57,-245.55\"/>\n</g>\n<!-- 7 -->\n<g id=\"node8\" class=\"node\">\n<title>7</title>\n<ellipse fill=\"#ffffff\" stroke=\"black\" cx=\"113.85\" cy=\"-234\" rx=\"31.7\" ry=\"18\"/>\n<text text-anchor=\"middle\" x=\"113.85\" y=\"-230.3\" font-family=\"Times New Roman,serif\" font-size=\"14.00\">Name</text>\n</g>\n<!-- 3&#45;&gt;7 -->\n<g id=\"edge7\" class=\"edge\">\n<title>3&#45;&gt;7</title>\n<path fill=\"none\" stroke=\"black\" d=\"M178.86,-290.5C164.78,-278.48 144.88,-261.49 130.82,-249.49\"/>\n</g>\n<!-- 8 -->\n<g id=\"node9\" class=\"node\">\n<title>8</title>\n<ellipse fill=\"#ffffff\" stroke=\"black\" cx=\"195.85\" cy=\"-234\" rx=\"31.7\" ry=\"18\"/>\n<text text-anchor=\"middle\" x=\"195.85\" y=\"-230.3\" font-family=\"Times New Roman,serif\" font-size=\"14.00\">Name</text>\n</g>\n<!-- 3&#45;&gt;8 -->\n<g id=\"edge8\" class=\"edge\">\n<title>3&#45;&gt;8</title>\n<path fill=\"none\" stroke=\"black\" d=\"M195.85,-287.7C195.85,-276.85 195.85,-262.92 195.85,-252.1\"/>\n</g>\n<!-- 9 -->\n<g id=\"node10\" class=\"node\">\n<title>9</title>\n<ellipse fill=\"#abffaa\" stroke=\"black\" cx=\"275.85\" cy=\"-234\" rx=\"30.59\" ry=\"18\"/>\n<text text-anchor=\"middle\" x=\"275.85\" y=\"-230.3\" font-family=\"Times New Roman,serif\" font-size=\"14.00\">Store</text>\n</g>\n<!-- 3&#45;&gt;9 -->\n<g id=\"edge9\" class=\"edge\">\n<title>3&#45;&gt;9</title>\n<path fill=\"none\" stroke=\"black\" d=\"M212.42,-290.5C226.24,-278.4 245.83,-261.27 259.57,-249.25\"/>\n</g>\n<!-- 10 -->\n<g id=\"node11\" class=\"node\">\n<title>10</title>\n<ellipse fill=\"#05ff00\" stroke=\"black\" cx=\"366.85\" cy=\"-234\" rx=\"42.49\" ry=\"18\"/>\n<text text-anchor=\"middle\" x=\"366.85\" y=\"-230.3\" font-family=\"Times New Roman,serif\" font-size=\"14.00\">Attribute</text>\n</g>\n<!-- 4&#45;&gt;10 -->\n<g id=\"edge10\" class=\"edge\">\n<title>4&#45;&gt;10</title>\n<path fill=\"none\" stroke=\"black\" d=\"M366.85,-287.7C366.85,-276.85 366.85,-262.92 366.85,-252.1\"/>\n</g>\n<!-- 11 -->\n<g id=\"node12\" class=\"node\">\n<title>11</title>\n<ellipse fill=\"#eaffe9\" stroke=\"black\" cx=\"458.85\" cy=\"-234\" rx=\"31.7\" ry=\"18\"/>\n<text text-anchor=\"middle\" x=\"458.85\" y=\"-230.3\" font-family=\"Times New Roman,serif\" font-size=\"14.00\">Name</text>\n</g>\n<!-- 5&#45;&gt;11 -->\n<g id=\"edge11\" class=\"edge\">\n<title>5&#45;&gt;11</title>\n<path fill=\"none\" stroke=\"black\" d=\"M524.65,-291.17C510.55,-279.14 490.19,-261.76 475.86,-249.52\"/>\n</g>\n<!-- 12 -->\n<g id=\"node13\" class=\"node\">\n<title>12</title>\n<ellipse fill=\"#ffffff\" stroke=\"black\" cx=\"540.85\" cy=\"-234\" rx=\"31.7\" ry=\"18\"/>\n<text text-anchor=\"middle\" x=\"540.85\" y=\"-230.3\" font-family=\"Times New Roman,serif\" font-size=\"14.00\">Name</text>\n</g>\n<!-- 5&#45;&gt;12 -->\n<g id=\"edge12\" class=\"edge\">\n<title>5&#45;&gt;12</title>\n<path fill=\"none\" stroke=\"black\" d=\"M540.85,-287.7C540.85,-276.85 540.85,-262.92 540.85,-252.1\"/>\n</g>\n<!-- 13 -->\n<g id=\"node14\" class=\"node\">\n<title>13</title>\n<ellipse fill=\"#ffffff\" stroke=\"black\" cx=\"622.85\" cy=\"-234\" rx=\"31.7\" ry=\"18\"/>\n<text text-anchor=\"middle\" x=\"622.85\" y=\"-230.3\" font-family=\"Times New Roman,serif\" font-size=\"14.00\">Name</text>\n</g>\n<!-- 5&#45;&gt;13 -->\n<g id=\"edge13\" class=\"edge\">\n<title>5&#45;&gt;13</title>\n<path fill=\"none\" stroke=\"black\" d=\"M557.05,-291.17C571.14,-279.14 591.5,-261.76 605.83,-249.52\"/>\n</g>\n<!-- 14 -->\n<g id=\"node15\" class=\"node\">\n<title>14</title>\n<ellipse fill=\"#ffffff\" stroke=\"black\" cx=\"704.85\" cy=\"-234\" rx=\"31.7\" ry=\"18\"/>\n<text text-anchor=\"middle\" x=\"704.85\" y=\"-230.3\" font-family=\"Times New Roman,serif\" font-size=\"14.00\">Name</text>\n</g>\n<!-- 5&#45;&gt;14 -->\n<g id=\"edge14\" class=\"edge\">\n<title>5&#45;&gt;14</title>\n<path fill=\"none\" stroke=\"black\" d=\"M562.96,-295.56C593.48,-282.54 648.32,-259.13 680.14,-245.55\"/>\n</g>\n<!-- 15 -->\n<g id=\"node16\" class=\"node\">\n<title>15</title>\n<ellipse fill=\"#ffffff\" stroke=\"black\" cx=\"31.85\" cy=\"-162\" rx=\"30.59\" ry=\"18\"/>\n<text text-anchor=\"middle\" x=\"31.85\" y=\"-158.3\" font-family=\"Times New Roman,serif\" font-size=\"14.00\">Store</text>\n</g>\n<!-- 6&#45;&gt;15 -->\n<g id=\"edge15\" class=\"edge\">\n<title>6&#45;&gt;15</title>\n<path fill=\"none\" stroke=\"black\" d=\"M31.85,-215.7C31.85,-204.85 31.85,-190.92 31.85,-180.1\"/>\n</g>\n<!-- 16 -->\n<g id=\"node17\" class=\"node\">\n<title>16</title>\n<ellipse fill=\"#ffffff\" stroke=\"black\" cx=\"113.85\" cy=\"-162\" rx=\"30.59\" ry=\"18\"/>\n<text text-anchor=\"middle\" x=\"113.85\" y=\"-158.3\" font-family=\"Times New Roman,serif\" font-size=\"14.00\">Store</text>\n</g>\n<!-- 7&#45;&gt;16 -->\n<g id=\"edge16\" class=\"edge\">\n<title>7&#45;&gt;16</title>\n<path fill=\"none\" stroke=\"black\" d=\"M113.85,-215.7C113.85,-204.85 113.85,-190.92 113.85,-180.1\"/>\n</g>\n<!-- 17 -->\n<g id=\"node18\" class=\"node\">\n<title>17</title>\n<ellipse fill=\"#ffffff\" stroke=\"black\" cx=\"195.85\" cy=\"-162\" rx=\"30.59\" ry=\"18\"/>\n<text text-anchor=\"middle\" x=\"195.85\" y=\"-158.3\" font-family=\"Times New Roman,serif\" font-size=\"14.00\">Store</text>\n</g>\n<!-- 8&#45;&gt;17 -->\n<g id=\"edge17\" class=\"edge\">\n<title>8&#45;&gt;17</title>\n<path fill=\"none\" stroke=\"black\" d=\"M195.85,-215.7C195.85,-204.85 195.85,-190.92 195.85,-180.1\"/>\n</g>\n<!-- 18 -->\n<g id=\"node19\" class=\"node\">\n<title>18</title>\n<ellipse fill=\"#82ff7f\" stroke=\"black\" cx=\"298.85\" cy=\"-162\" rx=\"27\" ry=\"18\"/>\n<text text-anchor=\"middle\" x=\"298.85\" y=\"-158.3\" font-family=\"Times New Roman,serif\" font-size=\"14.00\">Call</text>\n</g>\n<!-- 10&#45;&gt;18 -->\n<g id=\"edge18\" class=\"edge\">\n<title>10&#45;&gt;18</title>\n<path fill=\"none\" stroke=\"black\" d=\"M351.42,-217.12C339.97,-205.34 324.49,-189.39 313.29,-177.86\"/>\n</g>\n<!-- 19 -->\n<g id=\"node20\" class=\"node\">\n<title>19</title>\n<ellipse fill=\"#43ff3f\" stroke=\"black\" cx=\"373.85\" cy=\"-162\" rx=\"29.8\" ry=\"18\"/>\n<text text-anchor=\"middle\" x=\"373.85\" y=\"-158.3\" font-family=\"Times New Roman,serif\" font-size=\"14.00\">Load</text>\n</g>\n<!-- 10&#45;&gt;19 -->\n<g id=\"edge19\" class=\"edge\">\n<title>10&#45;&gt;19</title>\n<path fill=\"none\" stroke=\"black\" d=\"M368.58,-215.7C369.66,-204.85 371.06,-190.92 372.14,-180.1\"/>\n</g>\n<!-- 20 -->\n<g id=\"node21\" class=\"node\">\n<title>20</title>\n<ellipse fill=\"#ffffff\" stroke=\"black\" cx=\"458.85\" cy=\"-162\" rx=\"29.8\" ry=\"18\"/>\n<text text-anchor=\"middle\" x=\"458.85\" y=\"-158.3\" font-family=\"Times New Roman,serif\" font-size=\"14.00\">Load</text>\n</g>\n<!-- 11&#45;&gt;20 -->\n<g id=\"edge20\" class=\"edge\">\n<title>11&#45;&gt;20</title>\n<path fill=\"none\" stroke=\"black\" d=\"M458.85,-215.7C458.85,-204.85 458.85,-190.92 458.85,-180.1\"/>\n</g>\n<!-- 21 -->\n<g id=\"node22\" class=\"node\">\n<title>21</title>\n<ellipse fill=\"#ffffff\" stroke=\"black\" cx=\"540.85\" cy=\"-162\" rx=\"29.8\" ry=\"18\"/>\n<text text-anchor=\"middle\" x=\"540.85\" y=\"-158.3\" font-family=\"Times New Roman,serif\" font-size=\"14.00\">Load</text>\n</g>\n<!-- 12&#45;&gt;21 -->\n<g id=\"edge21\" class=\"edge\">\n<title>12&#45;&gt;21</title>\n<path fill=\"none\" stroke=\"black\" d=\"M540.85,-215.7C540.85,-204.85 540.85,-190.92 540.85,-180.1\"/>\n</g>\n<!-- 22 -->\n<g id=\"node23\" class=\"node\">\n<title>22</title>\n<ellipse fill=\"#ffffff\" stroke=\"black\" cx=\"622.85\" cy=\"-162\" rx=\"29.8\" ry=\"18\"/>\n<text text-anchor=\"middle\" x=\"622.85\" y=\"-158.3\" font-family=\"Times New Roman,serif\" font-size=\"14.00\">Load</text>\n</g>\n<!-- 13&#45;&gt;22 -->\n<g id=\"edge22\" class=\"edge\">\n<title>13&#45;&gt;22</title>\n<path fill=\"none\" stroke=\"black\" d=\"M622.85,-215.7C622.85,-204.85 622.85,-190.92 622.85,-180.1\"/>\n</g>\n<!-- 23 -->\n<g id=\"node24\" class=\"node\">\n<title>23</title>\n<ellipse fill=\"#ffffff\" stroke=\"black\" cx=\"704.85\" cy=\"-162\" rx=\"29.8\" ry=\"18\"/>\n<text text-anchor=\"middle\" x=\"704.85\" y=\"-158.3\" font-family=\"Times New Roman,serif\" font-size=\"14.00\">Load</text>\n</g>\n<!-- 14&#45;&gt;23 -->\n<g id=\"edge23\" class=\"edge\">\n<title>14&#45;&gt;23</title>\n<path fill=\"none\" stroke=\"black\" d=\"M704.85,-215.7C704.85,-204.85 704.85,-190.92 704.85,-180.1\"/>\n</g>\n<!-- 24 -->\n<g id=\"node25\" class=\"node\">\n<title>24</title>\n<ellipse fill=\"#ffffff\" stroke=\"black\" cx=\"298.85\" cy=\"-90\" rx=\"31.7\" ry=\"18\"/>\n<text text-anchor=\"middle\" x=\"298.85\" y=\"-86.3\" font-family=\"Times New Roman,serif\" font-size=\"14.00\">Name</text>\n</g>\n<!-- 18&#45;&gt;24 -->\n<g id=\"edge24\" class=\"edge\">\n<title>18&#45;&gt;24</title>\n<path fill=\"none\" stroke=\"black\" d=\"M298.85,-143.7C298.85,-132.85 298.85,-118.92 298.85,-108.1\"/>\n</g>\n<!-- 25 -->\n<g id=\"node26\" class=\"node\">\n<title>25</title>\n<ellipse fill=\"#ffffff\" stroke=\"black\" cx=\"298.85\" cy=\"-18\" rx=\"29.8\" ry=\"18\"/>\n<text text-anchor=\"middle\" x=\"298.85\" y=\"-14.3\" font-family=\"Times New Roman,serif\" font-size=\"14.00\">Load</text>\n</g>\n<!-- 24&#45;&gt;25 -->\n<g id=\"edge25\" class=\"edge\">\n<title>24&#45;&gt;25</title>\n<path fill=\"none\" stroke=\"black\" d=\"M298.85,-71.7C298.85,-60.85 298.85,-46.92 298.85,-36.1\"/>\n</g>\n</g>\n</svg>\n",
      "text/plain": "<graphviz.graphs.Digraph at 0x28b8356ba00>"
     },
     "execution_count": 62,
     "metadata": {},
     "output_type": "execute_result"
    }
   ],
   "source": [
    "from collections import Counter\n",
    "from visualization.GraphvizVisualizer import GraphvizVisualizer\n",
    "\n",
    "test_file_id = 0\n",
    "conv_filter_activations = model.conv_layer(test_generator.__getitem__(test_file_id)[0])\n",
    "node_importance = model.pooling_layer(conv_filter_activations)[0]\n",
    "node_importance_list = node_importance.numpy().tolist()[0]\n",
    "counter = Counter(node_importance_list)\n",
    "import pickle\n",
    "with open(test_files[test_file_id], 'rb') as f:\n",
    "    test_sample_ast = pickle.load(f)\n",
    "vis = GraphvizVisualizer()\n",
    "vis.visualizeAst(test_sample_ast, counter)"
   ],
   "metadata": {
    "collapsed": false,
    "pycharm": {
     "name": "#%%\n"
    }
   }
  },
  {
   "cell_type": "code",
   "execution_count": 80,
   "outputs": [
    {
     "name": "stdout",
     "output_type": "stream",
     "text": [
      "X,Y,Z=input().split()\n",
      "print(Z,X,Y)\n"
     ]
    }
   ],
   "source": [
    "test_file_submission_id = classification_dataset.get_test_df().iloc[[test_file_id]][\"submission_id\"]\n",
    "print(code_net.get_src_code_of_submission(test_file_submission_id))"
   ],
   "metadata": {
    "collapsed": false,
    "pycharm": {
     "name": "#%%\n"
    }
   }
  },
  {
   "cell_type": "code",
   "execution_count": 81,
   "outputs": [
    {
     "data": {
      "image/svg+xml": "<?xml version=\"1.0\" encoding=\"UTF-8\" standalone=\"no\"?>\n<!DOCTYPE svg PUBLIC \"-//W3C//DTD SVG 1.1//EN\"\n \"http://www.w3.org/Graphics/SVG/1.1/DTD/svg11.dtd\">\n<!-- Generated by graphviz version 3.0.0 (20220226.1711)\n -->\n<!-- Title: ast Pages: 1 -->\n<svg width=\"2091pt\" height=\"620pt\"\n viewBox=\"0.00 0.00 2090.74 620.00\" xmlns=\"http://www.w3.org/2000/svg\" xmlns:xlink=\"http://www.w3.org/1999/xlink\">\n<g id=\"graph0\" class=\"graph\" transform=\"scale(1 1) rotate(0) translate(4 616)\">\n<title>ast</title>\n<polygon fill=\"white\" stroke=\"transparent\" points=\"-4,4 -4,-616 2086.74,-616 2086.74,4 -4,4\"/>\n<!-- 0 -->\n<g id=\"node1\" class=\"node\">\n<title>0</title>\n<ellipse fill=\"#61ff5d\" stroke=\"black\" cx=\"1038.85\" cy=\"-594\" rx=\"38.19\" ry=\"18\"/>\n<text text-anchor=\"middle\" x=\"1038.85\" y=\"-590.3\" font-family=\"Times New Roman,serif\" font-size=\"14.00\">Module</text>\n</g>\n<!-- 1 -->\n<g id=\"node2\" class=\"node\">\n<title>1</title>\n<ellipse fill=\"#88ff86\" stroke=\"black\" cx=\"437.85\" cy=\"-522\" rx=\"36\" ry=\"18\"/>\n<text text-anchor=\"middle\" x=\"437.85\" y=\"-518.3\" font-family=\"Times New Roman,serif\" font-size=\"14.00\">Assign</text>\n</g>\n<!-- 0&#45;&gt;1 -->\n<g id=\"edge1\" class=\"edge\">\n<title>0&#45;&gt;1</title>\n<path fill=\"none\" stroke=\"black\" d=\"M1002.16,-588.73C894.1,-576.14 578.01,-539.33 472.55,-527.04\"/>\n</g>\n<!-- 2 -->\n<g id=\"node3\" class=\"node\">\n<title>2</title>\n<ellipse fill=\"#f1fff1\" stroke=\"black\" cx=\"670.85\" cy=\"-522\" rx=\"36\" ry=\"18\"/>\n<text text-anchor=\"middle\" x=\"670.85\" y=\"-518.3\" font-family=\"Times New Roman,serif\" font-size=\"14.00\">Assign</text>\n</g>\n<!-- 0&#45;&gt;2 -->\n<g id=\"edge2\" class=\"edge\">\n<title>0&#45;&gt;2</title>\n<path fill=\"none\" stroke=\"black\" d=\"M1003.89,-586.35C932.94,-572.85 772.88,-542.41 703.71,-529.25\"/>\n</g>\n<!-- 3 -->\n<g id=\"node4\" class=\"node\">\n<title>3</title>\n<ellipse fill=\"#ffffff\" stroke=\"black\" cx=\"834.85\" cy=\"-522\" rx=\"36\" ry=\"18\"/>\n<text text-anchor=\"middle\" x=\"834.85\" y=\"-518.3\" font-family=\"Times New Roman,serif\" font-size=\"14.00\">Assign</text>\n</g>\n<!-- 0&#45;&gt;3 -->\n<g id=\"edge3\" class=\"edge\">\n<title>0&#45;&gt;3</title>\n<path fill=\"none\" stroke=\"black\" d=\"M1008.75,-582.67C969.73,-569.28 902.17,-546.1 863.75,-532.92\"/>\n</g>\n<!-- 4 -->\n<g id=\"node5\" class=\"node\">\n<title>4</title>\n<ellipse fill=\"#ffffff\" stroke=\"black\" cx=\"994.85\" cy=\"-522\" rx=\"36\" ry=\"18\"/>\n<text text-anchor=\"middle\" x=\"994.85\" y=\"-518.3\" font-family=\"Times New Roman,serif\" font-size=\"14.00\">Assign</text>\n</g>\n<!-- 0&#45;&gt;4 -->\n<g id=\"edge4\" class=\"edge\">\n<title>0&#45;&gt;4</title>\n<path fill=\"none\" stroke=\"black\" d=\"M1028.42,-576.41C1021.41,-565.25 1012.2,-550.6 1005.2,-539.47\"/>\n</g>\n<!-- 5 -->\n<g id=\"node6\" class=\"node\">\n<title>5</title>\n<ellipse fill=\"#e4ffe4\" stroke=\"black\" cx=\"1083.85\" cy=\"-522\" rx=\"36\" ry=\"18\"/>\n<text text-anchor=\"middle\" x=\"1083.85\" y=\"-518.3\" font-family=\"Times New Roman,serif\" font-size=\"14.00\">Assign</text>\n</g>\n<!-- 0&#45;&gt;5 -->\n<g id=\"edge5\" class=\"edge\">\n<title>0&#45;&gt;5</title>\n<path fill=\"none\" stroke=\"black\" d=\"M1049.51,-576.41C1056.68,-565.25 1066.1,-550.6 1073.26,-539.47\"/>\n</g>\n<!-- 6 -->\n<g id=\"node7\" class=\"node\">\n<title>6</title>\n<ellipse fill=\"#ffffff\" stroke=\"black\" cx=\"1312.85\" cy=\"-522\" rx=\"36\" ry=\"18\"/>\n<text text-anchor=\"middle\" x=\"1312.85\" y=\"-518.3\" font-family=\"Times New Roman,serif\" font-size=\"14.00\">Assign</text>\n</g>\n<!-- 0&#45;&gt;6 -->\n<g id=\"edge6\" class=\"edge\">\n<title>0&#45;&gt;6</title>\n<path fill=\"none\" stroke=\"black\" d=\"M1071.63,-584.63C1124.89,-571.02 1229.53,-544.28 1281.72,-530.95\"/>\n</g>\n<!-- 7 -->\n<g id=\"node8\" class=\"node\">\n<title>7</title>\n<ellipse fill=\"#ffffff\" stroke=\"black\" cx=\"1554.85\" cy=\"-522\" rx=\"36\" ry=\"18\"/>\n<text text-anchor=\"middle\" x=\"1554.85\" y=\"-518.3\" font-family=\"Times New Roman,serif\" font-size=\"14.00\">Assign</text>\n</g>\n<!-- 0&#45;&gt;7 -->\n<g id=\"edge7\" class=\"edge\">\n<title>0&#45;&gt;7</title>\n<path fill=\"none\" stroke=\"black\" d=\"M1075.13,-588.08C1170.56,-575.13 1427.61,-540.26 1520.64,-527.64\"/>\n</g>\n<!-- 8 -->\n<g id=\"node9\" class=\"node\">\n<title>8</title>\n<ellipse fill=\"#f1fff1\" stroke=\"black\" cx=\"1717.85\" cy=\"-522\" rx=\"28.7\" ry=\"18\"/>\n<text text-anchor=\"middle\" x=\"1717.85\" y=\"-518.3\" font-family=\"Times New Roman,serif\" font-size=\"14.00\">Expr</text>\n</g>\n<!-- 0&#45;&gt;8 -->\n<g id=\"edge8\" class=\"edge\">\n<title>0&#45;&gt;8</title>\n<path fill=\"none\" stroke=\"black\" d=\"M1076.34,-590.1C1166.61,-582.96 1403.13,-563.45 1599.85,-540 1630.88,-536.3 1666.36,-531.05 1690.24,-527.37\"/>\n</g>\n<!-- 9 -->\n<g id=\"node10\" class=\"node\">\n<title>9</title>\n<ellipse fill=\"#95ff93\" stroke=\"black\" cx=\"195.85\" cy=\"-450\" rx=\"31.7\" ry=\"18\"/>\n<text text-anchor=\"middle\" x=\"195.85\" y=\"-446.3\" font-family=\"Times New Roman,serif\" font-size=\"14.00\">Tuple</text>\n</g>\n<!-- 1&#45;&gt;9 -->\n<g id=\"edge9\" class=\"edge\">\n<title>1&#45;&gt;9</title>\n<path fill=\"none\" stroke=\"black\" d=\"M407.69,-512.28C360.43,-498.61 269.6,-472.33 223.76,-459.07\"/>\n</g>\n<!-- 10 -->\n<g id=\"node11\" class=\"node\">\n<title>10</title>\n<ellipse fill=\"#f1fff1\" stroke=\"black\" cx=\"437.85\" cy=\"-450\" rx=\"27\" ry=\"18\"/>\n<text text-anchor=\"middle\" x=\"437.85\" y=\"-446.3\" font-family=\"Times New Roman,serif\" font-size=\"14.00\">Call</text>\n</g>\n<!-- 1&#45;&gt;10 -->\n<g id=\"edge10\" class=\"edge\">\n<title>1&#45;&gt;10</title>\n<path fill=\"none\" stroke=\"black\" d=\"M437.85,-503.7C437.85,-492.85 437.85,-478.92 437.85,-468.1\"/>\n</g>\n<!-- 11 -->\n<g id=\"node12\" class=\"node\">\n<title>11</title>\n<ellipse fill=\"#ffffff\" stroke=\"black\" cx=\"588.85\" cy=\"-450\" rx=\"31.7\" ry=\"18\"/>\n<text text-anchor=\"middle\" x=\"588.85\" y=\"-446.3\" font-family=\"Times New Roman,serif\" font-size=\"14.00\">Name</text>\n</g>\n<!-- 2&#45;&gt;11 -->\n<g id=\"edge11\" class=\"edge\">\n<title>2&#45;&gt;11</title>\n<path fill=\"none\" stroke=\"black\" d=\"M653.46,-506.15C639.35,-494.12 619.6,-477.25 605.65,-465.35\"/>\n</g>\n<!-- 12 -->\n<g id=\"node13\" class=\"node\">\n<title>12</title>\n<ellipse fill=\"#ffffff\" stroke=\"black\" cx=\"670.85\" cy=\"-450\" rx=\"31.7\" ry=\"18\"/>\n<text text-anchor=\"middle\" x=\"670.85\" y=\"-446.3\" font-family=\"Times New Roman,serif\" font-size=\"14.00\">Name</text>\n</g>\n<!-- 2&#45;&gt;12 -->\n<g id=\"edge12\" class=\"edge\">\n<title>2&#45;&gt;12</title>\n<path fill=\"none\" stroke=\"black\" d=\"M670.85,-503.7C670.85,-492.85 670.85,-478.92 670.85,-468.1\"/>\n</g>\n<!-- 13 -->\n<g id=\"node14\" class=\"node\">\n<title>13</title>\n<ellipse fill=\"#ffffff\" stroke=\"black\" cx=\"752.85\" cy=\"-450\" rx=\"31.7\" ry=\"18\"/>\n<text text-anchor=\"middle\" x=\"752.85\" y=\"-446.3\" font-family=\"Times New Roman,serif\" font-size=\"14.00\">Name</text>\n</g>\n<!-- 3&#45;&gt;13 -->\n<g id=\"edge13\" class=\"edge\">\n<title>3&#45;&gt;13</title>\n<path fill=\"none\" stroke=\"black\" d=\"M817.46,-506.15C803.35,-494.12 783.6,-477.25 769.65,-465.35\"/>\n</g>\n<!-- 14 -->\n<g id=\"node15\" class=\"node\">\n<title>14</title>\n<ellipse fill=\"#ffffff\" stroke=\"black\" cx=\"834.85\" cy=\"-450\" rx=\"31.7\" ry=\"18\"/>\n<text text-anchor=\"middle\" x=\"834.85\" y=\"-446.3\" font-family=\"Times New Roman,serif\" font-size=\"14.00\">Name</text>\n</g>\n<!-- 3&#45;&gt;14 -->\n<g id=\"edge14\" class=\"edge\">\n<title>3&#45;&gt;14</title>\n<path fill=\"none\" stroke=\"black\" d=\"M834.85,-503.7C834.85,-492.85 834.85,-478.92 834.85,-468.1\"/>\n</g>\n<!-- 15 -->\n<g id=\"node16\" class=\"node\">\n<title>15</title>\n<ellipse fill=\"#ffffff\" stroke=\"black\" cx=\"916.85\" cy=\"-450\" rx=\"31.7\" ry=\"18\"/>\n<text text-anchor=\"middle\" x=\"916.85\" y=\"-446.3\" font-family=\"Times New Roman,serif\" font-size=\"14.00\">Name</text>\n</g>\n<!-- 4&#45;&gt;15 -->\n<g id=\"edge15\" class=\"edge\">\n<title>4&#45;&gt;15</title>\n<path fill=\"none\" stroke=\"black\" d=\"M977.92,-505.81C964.66,-493.91 946.32,-477.45 933.2,-465.68\"/>\n</g>\n<!-- 16 -->\n<g id=\"node17\" class=\"node\">\n<title>16</title>\n<ellipse fill=\"#ffffff\" stroke=\"black\" cx=\"998.85\" cy=\"-450\" rx=\"31.7\" ry=\"18\"/>\n<text text-anchor=\"middle\" x=\"998.85\" y=\"-446.3\" font-family=\"Times New Roman,serif\" font-size=\"14.00\">Name</text>\n</g>\n<!-- 4&#45;&gt;16 -->\n<g id=\"edge16\" class=\"edge\">\n<title>4&#45;&gt;16</title>\n<path fill=\"none\" stroke=\"black\" d=\"M995.84,-503.7C996.46,-492.85 997.25,-478.92 997.87,-468.1\"/>\n</g>\n<!-- 17 -->\n<g id=\"node18\" class=\"node\">\n<title>17</title>\n<ellipse fill=\"#ffffff\" stroke=\"black\" cx=\"1080.85\" cy=\"-450\" rx=\"31.7\" ry=\"18\"/>\n<text text-anchor=\"middle\" x=\"1080.85\" y=\"-446.3\" font-family=\"Times New Roman,serif\" font-size=\"14.00\">Name</text>\n</g>\n<!-- 5&#45;&gt;17 -->\n<g id=\"edge17\" class=\"edge\">\n<title>5&#45;&gt;17</title>\n<path fill=\"none\" stroke=\"black\" d=\"M1083.11,-503.7C1082.64,-492.85 1082.04,-478.92 1081.58,-468.1\"/>\n</g>\n<!-- 18 -->\n<g id=\"node19\" class=\"node\">\n<title>18</title>\n<ellipse fill=\"#caffc9\" stroke=\"black\" cx=\"1157.85\" cy=\"-450\" rx=\"27\" ry=\"18\"/>\n<text text-anchor=\"middle\" x=\"1157.85\" y=\"-446.3\" font-family=\"Times New Roman,serif\" font-size=\"14.00\">Call</text>\n</g>\n<!-- 5&#45;&gt;18 -->\n<g id=\"edge18\" class=\"edge\">\n<title>5&#45;&gt;18</title>\n<path fill=\"none\" stroke=\"black\" d=\"M1099.9,-505.81C1112.66,-493.75 1130.36,-477 1142.83,-465.21\"/>\n</g>\n<!-- 19 -->\n<g id=\"node20\" class=\"node\">\n<title>19</title>\n<ellipse fill=\"#ffffff\" stroke=\"black\" cx=\"1312.85\" cy=\"-450\" rx=\"31.7\" ry=\"18\"/>\n<text text-anchor=\"middle\" x=\"1312.85\" y=\"-446.3\" font-family=\"Times New Roman,serif\" font-size=\"14.00\">Name</text>\n</g>\n<!-- 6&#45;&gt;19 -->\n<g id=\"edge19\" class=\"edge\">\n<title>6&#45;&gt;19</title>\n<path fill=\"none\" stroke=\"black\" d=\"M1312.85,-503.7C1312.85,-492.85 1312.85,-478.92 1312.85,-468.1\"/>\n</g>\n<!-- 20 -->\n<g id=\"node21\" class=\"node\">\n<title>20</title>\n<ellipse fill=\"#ffffff\" stroke=\"black\" cx=\"1392.85\" cy=\"-450\" rx=\"27\" ry=\"18\"/>\n<text text-anchor=\"middle\" x=\"1392.85\" y=\"-446.3\" font-family=\"Times New Roman,serif\" font-size=\"14.00\">Call</text>\n</g>\n<!-- 6&#45;&gt;20 -->\n<g id=\"edge20\" class=\"edge\">\n<title>6&#45;&gt;20</title>\n<path fill=\"none\" stroke=\"black\" d=\"M1329.81,-506.15C1343.76,-493.95 1363.36,-476.8 1376.99,-464.87\"/>\n</g>\n<!-- 21 -->\n<g id=\"node22\" class=\"node\">\n<title>21</title>\n<ellipse fill=\"#ffffff\" stroke=\"black\" cx=\"1554.85\" cy=\"-450\" rx=\"31.7\" ry=\"18\"/>\n<text text-anchor=\"middle\" x=\"1554.85\" y=\"-446.3\" font-family=\"Times New Roman,serif\" font-size=\"14.00\">Name</text>\n</g>\n<!-- 7&#45;&gt;21 -->\n<g id=\"edge21\" class=\"edge\">\n<title>7&#45;&gt;21</title>\n<path fill=\"none\" stroke=\"black\" d=\"M1554.85,-503.7C1554.85,-492.85 1554.85,-478.92 1554.85,-468.1\"/>\n</g>\n<!-- 22 -->\n<g id=\"node23\" class=\"node\">\n<title>22</title>\n<ellipse fill=\"#ffffff\" stroke=\"black\" cx=\"1634.85\" cy=\"-450\" rx=\"27\" ry=\"18\"/>\n<text text-anchor=\"middle\" x=\"1634.85\" y=\"-446.3\" font-family=\"Times New Roman,serif\" font-size=\"14.00\">Call</text>\n</g>\n<!-- 7&#45;&gt;22 -->\n<g id=\"edge22\" class=\"edge\">\n<title>7&#45;&gt;22</title>\n<path fill=\"none\" stroke=\"black\" d=\"M1571.81,-506.15C1585.76,-493.95 1605.36,-476.8 1618.99,-464.87\"/>\n</g>\n<!-- 23 -->\n<g id=\"node24\" class=\"node\">\n<title>23</title>\n<ellipse fill=\"#bdffbb\" stroke=\"black\" cx=\"1798.85\" cy=\"-450\" rx=\"27\" ry=\"18\"/>\n<text text-anchor=\"middle\" x=\"1798.85\" y=\"-446.3\" font-family=\"Times New Roman,serif\" font-size=\"14.00\">Call</text>\n</g>\n<!-- 8&#45;&gt;23 -->\n<g id=\"edge23\" class=\"edge\">\n<title>8&#45;&gt;23</title>\n<path fill=\"none\" stroke=\"black\" d=\"M1734.24,-506.83C1748.48,-494.53 1768.97,-476.82 1783.03,-464.67\"/>\n</g>\n<!-- 24 -->\n<g id=\"node25\" class=\"node\">\n<title>24</title>\n<ellipse fill=\"#ffffff\" stroke=\"black\" cx=\"31.85\" cy=\"-378\" rx=\"31.7\" ry=\"18\"/>\n<text text-anchor=\"middle\" x=\"31.85\" y=\"-374.3\" font-family=\"Times New Roman,serif\" font-size=\"14.00\">Name</text>\n</g>\n<!-- 9&#45;&gt;24 -->\n<g id=\"edge24\" class=\"edge\">\n<title>9&#45;&gt;24</title>\n<path fill=\"none\" stroke=\"black\" d=\"M171.29,-438.52C140.38,-425.32 87.56,-402.78 56.57,-389.55\"/>\n</g>\n<!-- 25 -->\n<g id=\"node26\" class=\"node\">\n<title>25</title>\n<ellipse fill=\"#ffffff\" stroke=\"black\" cx=\"113.85\" cy=\"-378\" rx=\"31.7\" ry=\"18\"/>\n<text text-anchor=\"middle\" x=\"113.85\" y=\"-374.3\" font-family=\"Times New Roman,serif\" font-size=\"14.00\">Name</text>\n</g>\n<!-- 9&#45;&gt;25 -->\n<g id=\"edge25\" class=\"edge\">\n<title>9&#45;&gt;25</title>\n<path fill=\"none\" stroke=\"black\" d=\"M178.86,-434.5C164.78,-422.48 144.88,-405.49 130.82,-393.49\"/>\n</g>\n<!-- 26 -->\n<g id=\"node27\" class=\"node\">\n<title>26</title>\n<ellipse fill=\"#ffffff\" stroke=\"black\" cx=\"195.85\" cy=\"-378\" rx=\"31.7\" ry=\"18\"/>\n<text text-anchor=\"middle\" x=\"195.85\" y=\"-374.3\" font-family=\"Times New Roman,serif\" font-size=\"14.00\">Name</text>\n</g>\n<!-- 9&#45;&gt;26 -->\n<g id=\"edge26\" class=\"edge\">\n<title>9&#45;&gt;26</title>\n<path fill=\"none\" stroke=\"black\" d=\"M195.85,-431.7C195.85,-420.85 195.85,-406.92 195.85,-396.1\"/>\n</g>\n<!-- 27 -->\n<g id=\"node28\" class=\"node\">\n<title>27</title>\n<ellipse fill=\"#f1fff1\" stroke=\"black\" cx=\"275.85\" cy=\"-378\" rx=\"30.59\" ry=\"18\"/>\n<text text-anchor=\"middle\" x=\"275.85\" y=\"-374.3\" font-family=\"Times New Roman,serif\" font-size=\"14.00\">Store</text>\n</g>\n<!-- 9&#45;&gt;27 -->\n<g id=\"edge27\" class=\"edge\">\n<title>9&#45;&gt;27</title>\n<path fill=\"none\" stroke=\"black\" d=\"M212.42,-434.5C226.24,-422.4 245.83,-405.27 259.57,-393.25\"/>\n</g>\n<!-- 28 -->\n<g id=\"node29\" class=\"node\">\n<title>28</title>\n<ellipse fill=\"#ffffff\" stroke=\"black\" cx=\"355.85\" cy=\"-378\" rx=\"31.7\" ry=\"18\"/>\n<text text-anchor=\"middle\" x=\"355.85\" y=\"-374.3\" font-family=\"Times New Roman,serif\" font-size=\"14.00\">Name</text>\n</g>\n<!-- 10&#45;&gt;28 -->\n<g id=\"edge28\" class=\"edge\">\n<title>10&#45;&gt;28</title>\n<path fill=\"none\" stroke=\"black\" d=\"M421.65,-435.17C407.55,-423.14 387.19,-405.76 372.86,-393.52\"/>\n</g>\n<!-- 29 -->\n<g id=\"node30\" class=\"node\">\n<title>29</title>\n<ellipse fill=\"#ffffff\" stroke=\"black\" cx=\"437.85\" cy=\"-378\" rx=\"31.7\" ry=\"18\"/>\n<text text-anchor=\"middle\" x=\"437.85\" y=\"-374.3\" font-family=\"Times New Roman,serif\" font-size=\"14.00\">Name</text>\n</g>\n<!-- 10&#45;&gt;29 -->\n<g id=\"edge29\" class=\"edge\">\n<title>10&#45;&gt;29</title>\n<path fill=\"none\" stroke=\"black\" d=\"M437.85,-431.7C437.85,-420.85 437.85,-406.92 437.85,-396.1\"/>\n</g>\n<!-- 30 -->\n<g id=\"node31\" class=\"node\">\n<title>30</title>\n<ellipse fill=\"#bdffbb\" stroke=\"black\" cx=\"514.85\" cy=\"-378\" rx=\"27\" ry=\"18\"/>\n<text text-anchor=\"middle\" x=\"514.85\" y=\"-374.3\" font-family=\"Times New Roman,serif\" font-size=\"14.00\">Call</text>\n</g>\n<!-- 10&#45;&gt;30 -->\n<g id=\"edge30\" class=\"edge\">\n<title>10&#45;&gt;30</title>\n<path fill=\"none\" stroke=\"black\" d=\"M453.43,-434.83C466.88,-422.61 486.19,-405.05 499.55,-392.91\"/>\n</g>\n<!-- 31 -->\n<g id=\"node32\" class=\"node\">\n<title>31</title>\n<ellipse fill=\"#ffffff\" stroke=\"black\" cx=\"590.85\" cy=\"-378\" rx=\"30.59\" ry=\"18\"/>\n<text text-anchor=\"middle\" x=\"590.85\" y=\"-374.3\" font-family=\"Times New Roman,serif\" font-size=\"14.00\">Store</text>\n</g>\n<!-- 11&#45;&gt;31 -->\n<g id=\"edge31\" class=\"edge\">\n<title>11&#45;&gt;31</title>\n<path fill=\"none\" stroke=\"black\" d=\"M589.34,-431.7C589.65,-420.85 590.05,-406.92 590.36,-396.1\"/>\n</g>\n<!-- 32 -->\n<g id=\"node33\" class=\"node\">\n<title>32</title>\n<ellipse fill=\"#d7ffd6\" stroke=\"black\" cx=\"670.85\" cy=\"-378\" rx=\"29.8\" ry=\"18\"/>\n<text text-anchor=\"middle\" x=\"670.85\" y=\"-374.3\" font-family=\"Times New Roman,serif\" font-size=\"14.00\">Load</text>\n</g>\n<!-- 12&#45;&gt;32 -->\n<g id=\"edge32\" class=\"edge\">\n<title>12&#45;&gt;32</title>\n<path fill=\"none\" stroke=\"black\" d=\"M670.85,-431.7C670.85,-420.85 670.85,-406.92 670.85,-396.1\"/>\n</g>\n<!-- 33 -->\n<g id=\"node34\" class=\"node\">\n<title>33</title>\n<ellipse fill=\"#ffffff\" stroke=\"black\" cx=\"752.85\" cy=\"-378\" rx=\"30.59\" ry=\"18\"/>\n<text text-anchor=\"middle\" x=\"752.85\" y=\"-374.3\" font-family=\"Times New Roman,serif\" font-size=\"14.00\">Store</text>\n</g>\n<!-- 13&#45;&gt;33 -->\n<g id=\"edge33\" class=\"edge\">\n<title>13&#45;&gt;33</title>\n<path fill=\"none\" stroke=\"black\" d=\"M752.85,-431.7C752.85,-420.85 752.85,-406.92 752.85,-396.1\"/>\n</g>\n<!-- 34 -->\n<g id=\"node35\" class=\"node\">\n<title>34</title>\n<ellipse fill=\"#ffffff\" stroke=\"black\" cx=\"834.85\" cy=\"-378\" rx=\"29.8\" ry=\"18\"/>\n<text text-anchor=\"middle\" x=\"834.85\" y=\"-374.3\" font-family=\"Times New Roman,serif\" font-size=\"14.00\">Load</text>\n</g>\n<!-- 14&#45;&gt;34 -->\n<g id=\"edge34\" class=\"edge\">\n<title>14&#45;&gt;34</title>\n<path fill=\"none\" stroke=\"black\" d=\"M834.85,-431.7C834.85,-420.85 834.85,-406.92 834.85,-396.1\"/>\n</g>\n<!-- 35 -->\n<g id=\"node36\" class=\"node\">\n<title>35</title>\n<ellipse fill=\"#ffffff\" stroke=\"black\" cx=\"914.85\" cy=\"-378\" rx=\"30.59\" ry=\"18\"/>\n<text text-anchor=\"middle\" x=\"914.85\" y=\"-374.3\" font-family=\"Times New Roman,serif\" font-size=\"14.00\">Store</text>\n</g>\n<!-- 15&#45;&gt;35 -->\n<g id=\"edge35\" class=\"edge\">\n<title>15&#45;&gt;35</title>\n<path fill=\"none\" stroke=\"black\" d=\"M916.35,-431.7C916.04,-420.85 915.64,-406.92 915.34,-396.1\"/>\n</g>\n<!-- 36 -->\n<g id=\"node37\" class=\"node\">\n<title>36</title>\n<ellipse fill=\"#ffffff\" stroke=\"black\" cx=\"992.85\" cy=\"-378\" rx=\"29.8\" ry=\"18\"/>\n<text text-anchor=\"middle\" x=\"992.85\" y=\"-374.3\" font-family=\"Times New Roman,serif\" font-size=\"14.00\">Load</text>\n</g>\n<!-- 16&#45;&gt;36 -->\n<g id=\"edge36\" class=\"edge\">\n<title>16&#45;&gt;36</title>\n<path fill=\"none\" stroke=\"black\" d=\"M997.36,-431.7C996.43,-420.85 995.24,-406.92 994.31,-396.1\"/>\n</g>\n<!-- 37 -->\n<g id=\"node38\" class=\"node\">\n<title>37</title>\n<ellipse fill=\"#ffffff\" stroke=\"black\" cx=\"1070.85\" cy=\"-378\" rx=\"30.59\" ry=\"18\"/>\n<text text-anchor=\"middle\" x=\"1070.85\" y=\"-374.3\" font-family=\"Times New Roman,serif\" font-size=\"14.00\">Store</text>\n</g>\n<!-- 17&#45;&gt;37 -->\n<g id=\"edge37\" class=\"edge\">\n<title>17&#45;&gt;37</title>\n<path fill=\"none\" stroke=\"black\" d=\"M1078.38,-431.7C1076.83,-420.85 1074.84,-406.92 1073.29,-396.1\"/>\n</g>\n<!-- 38 -->\n<g id=\"node39\" class=\"node\">\n<title>38</title>\n<ellipse fill=\"#ffffff\" stroke=\"black\" cx=\"1150.85\" cy=\"-378\" rx=\"31.7\" ry=\"18\"/>\n<text text-anchor=\"middle\" x=\"1150.85\" y=\"-374.3\" font-family=\"Times New Roman,serif\" font-size=\"14.00\">Name</text>\n</g>\n<!-- 18&#45;&gt;38 -->\n<g id=\"edge38\" class=\"edge\">\n<title>18&#45;&gt;38</title>\n<path fill=\"none\" stroke=\"black\" d=\"M1156.12,-431.7C1155.03,-420.85 1153.64,-406.92 1152.56,-396.1\"/>\n</g>\n<!-- 39 -->\n<g id=\"node40\" class=\"node\">\n<title>39</title>\n<ellipse fill=\"#ffffff\" stroke=\"black\" cx=\"1232.85\" cy=\"-378\" rx=\"31.7\" ry=\"18\"/>\n<text text-anchor=\"middle\" x=\"1232.85\" y=\"-374.3\" font-family=\"Times New Roman,serif\" font-size=\"14.00\">Name</text>\n</g>\n<!-- 18&#45;&gt;39 -->\n<g id=\"edge39\" class=\"edge\">\n<title>18&#45;&gt;39</title>\n<path fill=\"none\" stroke=\"black\" d=\"M1173.02,-434.83C1185.78,-422.93 1203.95,-405.97 1216.92,-393.87\"/>\n</g>\n<!-- 40 -->\n<g id=\"node41\" class=\"node\">\n<title>40</title>\n<ellipse fill=\"#ffffff\" stroke=\"black\" cx=\"1312.85\" cy=\"-378\" rx=\"30.59\" ry=\"18\"/>\n<text text-anchor=\"middle\" x=\"1312.85\" y=\"-374.3\" font-family=\"Times New Roman,serif\" font-size=\"14.00\">Store</text>\n</g>\n<!-- 19&#45;&gt;40 -->\n<g id=\"edge40\" class=\"edge\">\n<title>19&#45;&gt;40</title>\n<path fill=\"none\" stroke=\"black\" d=\"M1312.85,-431.7C1312.85,-420.85 1312.85,-406.92 1312.85,-396.1\"/>\n</g>\n<!-- 41 -->\n<g id=\"node42\" class=\"node\">\n<title>41</title>\n<ellipse fill=\"#ffffff\" stroke=\"black\" cx=\"1392.85\" cy=\"-378\" rx=\"31.7\" ry=\"18\"/>\n<text text-anchor=\"middle\" x=\"1392.85\" y=\"-374.3\" font-family=\"Times New Roman,serif\" font-size=\"14.00\">Name</text>\n</g>\n<!-- 20&#45;&gt;41 -->\n<g id=\"edge41\" class=\"edge\">\n<title>20&#45;&gt;41</title>\n<path fill=\"none\" stroke=\"black\" d=\"M1392.85,-431.7C1392.85,-420.85 1392.85,-406.92 1392.85,-396.1\"/>\n</g>\n<!-- 42 -->\n<g id=\"node43\" class=\"node\">\n<title>42</title>\n<ellipse fill=\"#ffffff\" stroke=\"black\" cx=\"1474.85\" cy=\"-378\" rx=\"31.7\" ry=\"18\"/>\n<text text-anchor=\"middle\" x=\"1474.85\" y=\"-374.3\" font-family=\"Times New Roman,serif\" font-size=\"14.00\">Name</text>\n</g>\n<!-- 20&#45;&gt;42 -->\n<g id=\"edge42\" class=\"edge\">\n<title>20&#45;&gt;42</title>\n<path fill=\"none\" stroke=\"black\" d=\"M1409.05,-435.17C1423.14,-423.14 1443.5,-405.76 1457.83,-393.52\"/>\n</g>\n<!-- 43 -->\n<g id=\"node44\" class=\"node\">\n<title>43</title>\n<ellipse fill=\"#ffffff\" stroke=\"black\" cx=\"1554.85\" cy=\"-378\" rx=\"30.59\" ry=\"18\"/>\n<text text-anchor=\"middle\" x=\"1554.85\" y=\"-374.3\" font-family=\"Times New Roman,serif\" font-size=\"14.00\">Store</text>\n</g>\n<!-- 21&#45;&gt;43 -->\n<g id=\"edge43\" class=\"edge\">\n<title>21&#45;&gt;43</title>\n<path fill=\"none\" stroke=\"black\" d=\"M1554.85,-431.7C1554.85,-420.85 1554.85,-406.92 1554.85,-396.1\"/>\n</g>\n<!-- 44 -->\n<g id=\"node45\" class=\"node\">\n<title>44</title>\n<ellipse fill=\"#ffffff\" stroke=\"black\" cx=\"1634.85\" cy=\"-378\" rx=\"31.7\" ry=\"18\"/>\n<text text-anchor=\"middle\" x=\"1634.85\" y=\"-374.3\" font-family=\"Times New Roman,serif\" font-size=\"14.00\">Name</text>\n</g>\n<!-- 22&#45;&gt;44 -->\n<g id=\"edge44\" class=\"edge\">\n<title>22&#45;&gt;44</title>\n<path fill=\"none\" stroke=\"black\" d=\"M1634.85,-431.7C1634.85,-420.85 1634.85,-406.92 1634.85,-396.1\"/>\n</g>\n<!-- 45 -->\n<g id=\"node46\" class=\"node\">\n<title>45</title>\n<ellipse fill=\"#ffffff\" stroke=\"black\" cx=\"1716.85\" cy=\"-378\" rx=\"31.7\" ry=\"18\"/>\n<text text-anchor=\"middle\" x=\"1716.85\" y=\"-374.3\" font-family=\"Times New Roman,serif\" font-size=\"14.00\">Name</text>\n</g>\n<!-- 22&#45;&gt;45 -->\n<g id=\"edge45\" class=\"edge\">\n<title>22&#45;&gt;45</title>\n<path fill=\"none\" stroke=\"black\" d=\"M1651.05,-435.17C1665.14,-423.14 1685.5,-405.76 1699.83,-393.52\"/>\n</g>\n<!-- 46 -->\n<g id=\"node47\" class=\"node\">\n<title>46</title>\n<ellipse fill=\"#ffffff\" stroke=\"black\" cx=\"1798.85\" cy=\"-378\" rx=\"31.7\" ry=\"18\"/>\n<text text-anchor=\"middle\" x=\"1798.85\" y=\"-374.3\" font-family=\"Times New Roman,serif\" font-size=\"14.00\">Name</text>\n</g>\n<!-- 23&#45;&gt;46 -->\n<g id=\"edge46\" class=\"edge\">\n<title>23&#45;&gt;46</title>\n<path fill=\"none\" stroke=\"black\" d=\"M1798.85,-431.7C1798.85,-420.85 1798.85,-406.92 1798.85,-396.1\"/>\n</g>\n<!-- 47 -->\n<g id=\"node48\" class=\"node\">\n<title>47</title>\n<ellipse fill=\"#6eff6b\" stroke=\"black\" cx=\"1918.85\" cy=\"-378\" rx=\"34.39\" ry=\"18\"/>\n<text text-anchor=\"middle\" x=\"1918.85\" y=\"-374.3\" font-family=\"Times New Roman,serif\" font-size=\"14.00\">BinOp</text>\n</g>\n<!-- 23&#45;&gt;47 -->\n<g id=\"edge47\" class=\"edge\">\n<title>23&#45;&gt;47</title>\n<path fill=\"none\" stroke=\"black\" d=\"M1818.66,-437.44C1840.1,-424.94 1874.2,-405.05 1896.55,-392\"/>\n</g>\n<!-- 48 -->\n<g id=\"node49\" class=\"node\">\n<title>48</title>\n<ellipse fill=\"#ffffff\" stroke=\"black\" cx=\"31.85\" cy=\"-306\" rx=\"30.59\" ry=\"18\"/>\n<text text-anchor=\"middle\" x=\"31.85\" y=\"-302.3\" font-family=\"Times New Roman,serif\" font-size=\"14.00\">Store</text>\n</g>\n<!-- 24&#45;&gt;48 -->\n<g id=\"edge48\" class=\"edge\">\n<title>24&#45;&gt;48</title>\n<path fill=\"none\" stroke=\"black\" d=\"M31.85,-359.7C31.85,-348.85 31.85,-334.92 31.85,-324.1\"/>\n</g>\n<!-- 49 -->\n<g id=\"node50\" class=\"node\">\n<title>49</title>\n<ellipse fill=\"#ffffff\" stroke=\"black\" cx=\"113.85\" cy=\"-306\" rx=\"30.59\" ry=\"18\"/>\n<text text-anchor=\"middle\" x=\"113.85\" y=\"-302.3\" font-family=\"Times New Roman,serif\" font-size=\"14.00\">Store</text>\n</g>\n<!-- 25&#45;&gt;49 -->\n<g id=\"edge49\" class=\"edge\">\n<title>25&#45;&gt;49</title>\n<path fill=\"none\" stroke=\"black\" d=\"M113.85,-359.7C113.85,-348.85 113.85,-334.92 113.85,-324.1\"/>\n</g>\n<!-- 50 -->\n<g id=\"node51\" class=\"node\">\n<title>50</title>\n<ellipse fill=\"#ffffff\" stroke=\"black\" cx=\"195.85\" cy=\"-306\" rx=\"30.59\" ry=\"18\"/>\n<text text-anchor=\"middle\" x=\"195.85\" y=\"-302.3\" font-family=\"Times New Roman,serif\" font-size=\"14.00\">Store</text>\n</g>\n<!-- 26&#45;&gt;50 -->\n<g id=\"edge50\" class=\"edge\">\n<title>26&#45;&gt;50</title>\n<path fill=\"none\" stroke=\"black\" d=\"M195.85,-359.7C195.85,-348.85 195.85,-334.92 195.85,-324.1\"/>\n</g>\n<!-- 51 -->\n<g id=\"node52\" class=\"node\">\n<title>51</title>\n<ellipse fill=\"#ffffff\" stroke=\"black\" cx=\"355.85\" cy=\"-306\" rx=\"29.8\" ry=\"18\"/>\n<text text-anchor=\"middle\" x=\"355.85\" y=\"-302.3\" font-family=\"Times New Roman,serif\" font-size=\"14.00\">Load</text>\n</g>\n<!-- 28&#45;&gt;51 -->\n<g id=\"edge51\" class=\"edge\">\n<title>28&#45;&gt;51</title>\n<path fill=\"none\" stroke=\"black\" d=\"M355.85,-359.7C355.85,-348.85 355.85,-334.92 355.85,-324.1\"/>\n</g>\n<!-- 52 -->\n<g id=\"node53\" class=\"node\">\n<title>52</title>\n<ellipse fill=\"#ffffff\" stroke=\"black\" cx=\"435.85\" cy=\"-306\" rx=\"29.8\" ry=\"18\"/>\n<text text-anchor=\"middle\" x=\"435.85\" y=\"-302.3\" font-family=\"Times New Roman,serif\" font-size=\"14.00\">Load</text>\n</g>\n<!-- 29&#45;&gt;52 -->\n<g id=\"edge52\" class=\"edge\">\n<title>29&#45;&gt;52</title>\n<path fill=\"none\" stroke=\"black\" d=\"M437.35,-359.7C437.04,-348.85 436.64,-334.92 436.34,-324.1\"/>\n</g>\n<!-- 53 -->\n<g id=\"node54\" class=\"node\">\n<title>53</title>\n<ellipse fill=\"#bdffbb\" stroke=\"black\" cx=\"525.85\" cy=\"-306\" rx=\"42.49\" ry=\"18\"/>\n<text text-anchor=\"middle\" x=\"525.85\" y=\"-302.3\" font-family=\"Times New Roman,serif\" font-size=\"14.00\">Attribute</text>\n</g>\n<!-- 30&#45;&gt;53 -->\n<g id=\"edge53\" class=\"edge\">\n<title>30&#45;&gt;53</title>\n<path fill=\"none\" stroke=\"black\" d=\"M517.51,-360.05C519.21,-349.21 521.42,-335.18 523.13,-324.28\"/>\n</g>\n<!-- 54 -->\n<g id=\"node55\" class=\"node\">\n<title>54</title>\n<ellipse fill=\"#ffffff\" stroke=\"black\" cx=\"1150.85\" cy=\"-306\" rx=\"29.8\" ry=\"18\"/>\n<text text-anchor=\"middle\" x=\"1150.85\" y=\"-302.3\" font-family=\"Times New Roman,serif\" font-size=\"14.00\">Load</text>\n</g>\n<!-- 38&#45;&gt;54 -->\n<g id=\"edge54\" class=\"edge\">\n<title>38&#45;&gt;54</title>\n<path fill=\"none\" stroke=\"black\" d=\"M1150.85,-359.7C1150.85,-348.85 1150.85,-334.92 1150.85,-324.1\"/>\n</g>\n<!-- 55 -->\n<g id=\"node56\" class=\"node\">\n<title>55</title>\n<ellipse fill=\"#ffffff\" stroke=\"black\" cx=\"1232.85\" cy=\"-306\" rx=\"29.8\" ry=\"18\"/>\n<text text-anchor=\"middle\" x=\"1232.85\" y=\"-302.3\" font-family=\"Times New Roman,serif\" font-size=\"14.00\">Load</text>\n</g>\n<!-- 39&#45;&gt;55 -->\n<g id=\"edge55\" class=\"edge\">\n<title>39&#45;&gt;55</title>\n<path fill=\"none\" stroke=\"black\" d=\"M1232.85,-359.7C1232.85,-348.85 1232.85,-334.92 1232.85,-324.1\"/>\n</g>\n<!-- 56 -->\n<g id=\"node57\" class=\"node\">\n<title>56</title>\n<ellipse fill=\"#ffffff\" stroke=\"black\" cx=\"1392.85\" cy=\"-306\" rx=\"29.8\" ry=\"18\"/>\n<text text-anchor=\"middle\" x=\"1392.85\" y=\"-302.3\" font-family=\"Times New Roman,serif\" font-size=\"14.00\">Load</text>\n</g>\n<!-- 41&#45;&gt;56 -->\n<g id=\"edge56\" class=\"edge\">\n<title>41&#45;&gt;56</title>\n<path fill=\"none\" stroke=\"black\" d=\"M1392.85,-359.7C1392.85,-348.85 1392.85,-334.92 1392.85,-324.1\"/>\n</g>\n<!-- 57 -->\n<g id=\"node58\" class=\"node\">\n<title>57</title>\n<ellipse fill=\"#ffffff\" stroke=\"black\" cx=\"1474.85\" cy=\"-306\" rx=\"29.8\" ry=\"18\"/>\n<text text-anchor=\"middle\" x=\"1474.85\" y=\"-302.3\" font-family=\"Times New Roman,serif\" font-size=\"14.00\">Load</text>\n</g>\n<!-- 42&#45;&gt;57 -->\n<g id=\"edge57\" class=\"edge\">\n<title>42&#45;&gt;57</title>\n<path fill=\"none\" stroke=\"black\" d=\"M1474.85,-359.7C1474.85,-348.85 1474.85,-334.92 1474.85,-324.1\"/>\n</g>\n<!-- 58 -->\n<g id=\"node59\" class=\"node\">\n<title>58</title>\n<ellipse fill=\"#ffffff\" stroke=\"black\" cx=\"1634.85\" cy=\"-306\" rx=\"29.8\" ry=\"18\"/>\n<text text-anchor=\"middle\" x=\"1634.85\" y=\"-302.3\" font-family=\"Times New Roman,serif\" font-size=\"14.00\">Load</text>\n</g>\n<!-- 44&#45;&gt;58 -->\n<g id=\"edge58\" class=\"edge\">\n<title>44&#45;&gt;58</title>\n<path fill=\"none\" stroke=\"black\" d=\"M1634.85,-359.7C1634.85,-348.85 1634.85,-334.92 1634.85,-324.1\"/>\n</g>\n<!-- 59 -->\n<g id=\"node60\" class=\"node\">\n<title>59</title>\n<ellipse fill=\"#ffffff\" stroke=\"black\" cx=\"1716.85\" cy=\"-306\" rx=\"29.8\" ry=\"18\"/>\n<text text-anchor=\"middle\" x=\"1716.85\" y=\"-302.3\" font-family=\"Times New Roman,serif\" font-size=\"14.00\">Load</text>\n</g>\n<!-- 45&#45;&gt;59 -->\n<g id=\"edge59\" class=\"edge\">\n<title>45&#45;&gt;59</title>\n<path fill=\"none\" stroke=\"black\" d=\"M1716.85,-359.7C1716.85,-348.85 1716.85,-334.92 1716.85,-324.1\"/>\n</g>\n<!-- 60 -->\n<g id=\"node61\" class=\"node\">\n<title>60</title>\n<ellipse fill=\"#ffffff\" stroke=\"black\" cx=\"1796.85\" cy=\"-306\" rx=\"29.8\" ry=\"18\"/>\n<text text-anchor=\"middle\" x=\"1796.85\" y=\"-302.3\" font-family=\"Times New Roman,serif\" font-size=\"14.00\">Load</text>\n</g>\n<!-- 46&#45;&gt;60 -->\n<g id=\"edge60\" class=\"edge\">\n<title>46&#45;&gt;60</title>\n<path fill=\"none\" stroke=\"black\" d=\"M1798.35,-359.7C1798.04,-348.85 1797.64,-334.92 1797.34,-324.1\"/>\n</g>\n<!-- 61 -->\n<g id=\"node62\" class=\"node\">\n<title>61</title>\n<ellipse fill=\"#54ff50\" stroke=\"black\" cx=\"1878.85\" cy=\"-306\" rx=\"34.39\" ry=\"18\"/>\n<text text-anchor=\"middle\" x=\"1878.85\" y=\"-302.3\" font-family=\"Times New Roman,serif\" font-size=\"14.00\">BinOp</text>\n</g>\n<!-- 47&#45;&gt;61 -->\n<g id=\"edge61\" class=\"edge\">\n<title>47&#45;&gt;61</title>\n<path fill=\"none\" stroke=\"black\" d=\"M1909.37,-360.41C1902.99,-349.25 1894.62,-334.6 1888.26,-323.47\"/>\n</g>\n<!-- 62 -->\n<g id=\"node63\" class=\"node\">\n<title>62</title>\n<ellipse fill=\"#95ff93\" stroke=\"black\" cx=\"1957.85\" cy=\"-306\" rx=\"27\" ry=\"18\"/>\n<text text-anchor=\"middle\" x=\"1957.85\" y=\"-302.3\" font-family=\"Times New Roman,serif\" font-size=\"14.00\">Add</text>\n</g>\n<!-- 47&#45;&gt;62 -->\n<g id=\"edge62\" class=\"edge\">\n<title>47&#45;&gt;62</title>\n<path fill=\"none\" stroke=\"black\" d=\"M1928.09,-360.41C1934.31,-349.25 1942.47,-334.6 1948.67,-323.47\"/>\n</g>\n<!-- 63 -->\n<g id=\"node64\" class=\"node\">\n<title>63</title>\n<ellipse fill=\"#ffffff\" stroke=\"black\" cx=\"2046.85\" cy=\"-306\" rx=\"31.7\" ry=\"18\"/>\n<text text-anchor=\"middle\" x=\"2046.85\" y=\"-302.3\" font-family=\"Times New Roman,serif\" font-size=\"14.00\">Name</text>\n</g>\n<!-- 47&#45;&gt;63 -->\n<g id=\"edge63\" class=\"edge\">\n<title>47&#45;&gt;63</title>\n<path fill=\"none\" stroke=\"black\" d=\"M1941.73,-364.49C1965.17,-351.67 2001.38,-331.87 2024.59,-319.17\"/>\n</g>\n<!-- 64 -->\n<g id=\"node65\" class=\"node\">\n<title>64</title>\n<ellipse fill=\"#e4ffe4\" stroke=\"black\" cx=\"488.85\" cy=\"-234\" rx=\"27\" ry=\"18\"/>\n<text text-anchor=\"middle\" x=\"488.85\" y=\"-230.3\" font-family=\"Times New Roman,serif\" font-size=\"14.00\">Call</text>\n</g>\n<!-- 53&#45;&gt;64 -->\n<g id=\"edge64\" class=\"edge\">\n<title>53&#45;&gt;64</title>\n<path fill=\"none\" stroke=\"black\" d=\"M516.89,-288.05C510.99,-276.89 503.3,-262.34 497.47,-251.31\"/>\n</g>\n<!-- 65 -->\n<g id=\"node66\" class=\"node\">\n<title>65</title>\n<ellipse fill=\"#ffffff\" stroke=\"black\" cx=\"563.85\" cy=\"-234\" rx=\"29.8\" ry=\"18\"/>\n<text text-anchor=\"middle\" x=\"563.85\" y=\"-230.3\" font-family=\"Times New Roman,serif\" font-size=\"14.00\">Load</text>\n</g>\n<!-- 53&#45;&gt;65 -->\n<g id=\"edge65\" class=\"edge\">\n<title>53&#45;&gt;65</title>\n<path fill=\"none\" stroke=\"black\" d=\"M534.85,-288.41C540.91,-277.25 548.86,-262.6 554.91,-251.47\"/>\n</g>\n<!-- 66 -->\n<g id=\"node67\" class=\"node\">\n<title>66</title>\n<ellipse fill=\"#ffffff\" stroke=\"black\" cx=\"1793.85\" cy=\"-234\" rx=\"34.39\" ry=\"18\"/>\n<text text-anchor=\"middle\" x=\"1793.85\" y=\"-230.3\" font-family=\"Times New Roman,serif\" font-size=\"14.00\">BinOp</text>\n</g>\n<!-- 61&#45;&gt;66 -->\n<g id=\"edge66\" class=\"edge\">\n<title>61&#45;&gt;66</title>\n<path fill=\"none\" stroke=\"black\" d=\"M1861.24,-290.5C1846.65,-278.48 1826.02,-261.49 1811.44,-249.49\"/>\n</g>\n<!-- 67 -->\n<g id=\"node68\" class=\"node\">\n<title>67</title>\n<ellipse fill=\"#ffffff\" stroke=\"black\" cx=\"1872.85\" cy=\"-234\" rx=\"27\" ry=\"18\"/>\n<text text-anchor=\"middle\" x=\"1872.85\" y=\"-230.3\" font-family=\"Times New Roman,serif\" font-size=\"14.00\">Add</text>\n</g>\n<!-- 61&#45;&gt;67 -->\n<g id=\"edge67\" class=\"edge\">\n<title>61&#45;&gt;67</title>\n<path fill=\"none\" stroke=\"black\" d=\"M1877.36,-287.7C1876.43,-276.85 1875.24,-262.92 1874.31,-252.1\"/>\n</g>\n<!-- 68 -->\n<g id=\"node69\" class=\"node\">\n<title>68</title>\n<ellipse fill=\"#caffc9\" stroke=\"black\" cx=\"1961.85\" cy=\"-234\" rx=\"43.59\" ry=\"18\"/>\n<text text-anchor=\"middle\" x=\"1961.85\" y=\"-230.3\" font-family=\"Times New Roman,serif\" font-size=\"14.00\">Constant</text>\n</g>\n<!-- 61&#45;&gt;68 -->\n<g id=\"edge68\" class=\"edge\">\n<title>61&#45;&gt;68</title>\n<path fill=\"none\" stroke=\"black\" d=\"M1896.45,-290.15C1910.25,-278.52 1929.4,-262.37 1943.41,-250.55\"/>\n</g>\n<!-- 69 -->\n<g id=\"node70\" class=\"node\">\n<title>69</title>\n<ellipse fill=\"#ffffff\" stroke=\"black\" cx=\"2052.85\" cy=\"-234\" rx=\"29.8\" ry=\"18\"/>\n<text text-anchor=\"middle\" x=\"2052.85\" y=\"-230.3\" font-family=\"Times New Roman,serif\" font-size=\"14.00\">Load</text>\n</g>\n<!-- 63&#45;&gt;69 -->\n<g id=\"edge69\" class=\"edge\">\n<title>63&#45;&gt;69</title>\n<path fill=\"none\" stroke=\"black\" d=\"M2048.33,-287.7C2049.26,-276.85 2050.45,-262.92 2051.38,-252.1\"/>\n</g>\n<!-- 70 -->\n<g id=\"node71\" class=\"node\">\n<title>70</title>\n<ellipse fill=\"#ffffff\" stroke=\"black\" cx=\"488.85\" cy=\"-162\" rx=\"31.7\" ry=\"18\"/>\n<text text-anchor=\"middle\" x=\"488.85\" y=\"-158.3\" font-family=\"Times New Roman,serif\" font-size=\"14.00\">Name</text>\n</g>\n<!-- 64&#45;&gt;70 -->\n<g id=\"edge70\" class=\"edge\">\n<title>64&#45;&gt;70</title>\n<path fill=\"none\" stroke=\"black\" d=\"M488.85,-215.7C488.85,-204.85 488.85,-190.92 488.85,-180.1\"/>\n</g>\n<!-- 71 -->\n<g id=\"node72\" class=\"node\">\n<title>71</title>\n<ellipse fill=\"#bdffbb\" stroke=\"black\" cx=\"1702.85\" cy=\"-162\" rx=\"34.39\" ry=\"18\"/>\n<text text-anchor=\"middle\" x=\"1702.85\" y=\"-158.3\" font-family=\"Times New Roman,serif\" font-size=\"14.00\">BinOp</text>\n</g>\n<!-- 66&#45;&gt;71 -->\n<g id=\"edge71\" class=\"edge\">\n<title>66&#45;&gt;71</title>\n<path fill=\"none\" stroke=\"black\" d=\"M1774.99,-218.5C1759.27,-206.4 1736.99,-189.27 1721.37,-177.25\"/>\n</g>\n<!-- 72 -->\n<g id=\"node73\" class=\"node\">\n<title>72</title>\n<ellipse fill=\"#ffffff\" stroke=\"black\" cx=\"1793.85\" cy=\"-162\" rx=\"27\" ry=\"18\"/>\n<text text-anchor=\"middle\" x=\"1793.85\" y=\"-158.3\" font-family=\"Times New Roman,serif\" font-size=\"14.00\">Add</text>\n</g>\n<!-- 66&#45;&gt;72 -->\n<g id=\"edge72\" class=\"edge\">\n<title>66&#45;&gt;72</title>\n<path fill=\"none\" stroke=\"black\" d=\"M1793.85,-215.7C1793.85,-204.85 1793.85,-190.92 1793.85,-180.1\"/>\n</g>\n<!-- 73 -->\n<g id=\"node74\" class=\"node\">\n<title>73</title>\n<ellipse fill=\"#ffffff\" stroke=\"black\" cx=\"1876.85\" cy=\"-162\" rx=\"31.7\" ry=\"18\"/>\n<text text-anchor=\"middle\" x=\"1876.85\" y=\"-158.3\" font-family=\"Times New Roman,serif\" font-size=\"14.00\">Name</text>\n</g>\n<!-- 66&#45;&gt;73 -->\n<g id=\"edge73\" class=\"edge\">\n<title>66&#45;&gt;73</title>\n<path fill=\"none\" stroke=\"black\" d=\"M1811.45,-218.15C1825.73,-206.12 1845.72,-189.25 1859.84,-177.35\"/>\n</g>\n<!-- 74 -->\n<g id=\"node75\" class=\"node\">\n<title>74</title>\n<ellipse fill=\"#ffffff\" stroke=\"black\" cx=\"488.85\" cy=\"-90\" rx=\"29.8\" ry=\"18\"/>\n<text text-anchor=\"middle\" x=\"488.85\" y=\"-86.3\" font-family=\"Times New Roman,serif\" font-size=\"14.00\">Load</text>\n</g>\n<!-- 70&#45;&gt;74 -->\n<g id=\"edge74\" class=\"edge\">\n<title>70&#45;&gt;74</title>\n<path fill=\"none\" stroke=\"black\" d=\"M488.85,-143.7C488.85,-132.85 488.85,-118.92 488.85,-108.1\"/>\n</g>\n<!-- 75 -->\n<g id=\"node76\" class=\"node\">\n<title>75</title>\n<ellipse fill=\"#ffffff\" stroke=\"black\" cx=\"1622.85\" cy=\"-90\" rx=\"31.7\" ry=\"18\"/>\n<text text-anchor=\"middle\" x=\"1622.85\" y=\"-86.3\" font-family=\"Times New Roman,serif\" font-size=\"14.00\">Name</text>\n</g>\n<!-- 71&#45;&gt;75 -->\n<g id=\"edge75\" class=\"edge\">\n<title>71&#45;&gt;75</title>\n<path fill=\"none\" stroke=\"black\" d=\"M1685.88,-146.15C1672.21,-134.2 1653.1,-117.47 1639.51,-105.58\"/>\n</g>\n<!-- 76 -->\n<g id=\"node77\" class=\"node\">\n<title>76</title>\n<ellipse fill=\"#ffffff\" stroke=\"black\" cx=\"1699.85\" cy=\"-90\" rx=\"27\" ry=\"18\"/>\n<text text-anchor=\"middle\" x=\"1699.85\" y=\"-86.3\" font-family=\"Times New Roman,serif\" font-size=\"14.00\">Add</text>\n</g>\n<!-- 71&#45;&gt;76 -->\n<g id=\"edge76\" class=\"edge\">\n<title>71&#45;&gt;76</title>\n<path fill=\"none\" stroke=\"black\" d=\"M1702.11,-143.7C1701.64,-132.85 1701.04,-118.92 1700.58,-108.1\"/>\n</g>\n<!-- 77 -->\n<g id=\"node78\" class=\"node\">\n<title>77</title>\n<ellipse fill=\"#ffffff\" stroke=\"black\" cx=\"1788.85\" cy=\"-90\" rx=\"43.59\" ry=\"18\"/>\n<text text-anchor=\"middle\" x=\"1788.85\" y=\"-86.3\" font-family=\"Times New Roman,serif\" font-size=\"14.00\">Constant</text>\n</g>\n<!-- 71&#45;&gt;77 -->\n<g id=\"edge77\" class=\"edge\">\n<title>71&#45;&gt;77</title>\n<path fill=\"none\" stroke=\"black\" d=\"M1720.67,-146.5C1735.03,-134.8 1755.19,-118.4 1769.86,-106.46\"/>\n</g>\n<!-- 78 -->\n<g id=\"node79\" class=\"node\">\n<title>78</title>\n<ellipse fill=\"#ffffff\" stroke=\"black\" cx=\"1879.85\" cy=\"-90\" rx=\"29.8\" ry=\"18\"/>\n<text text-anchor=\"middle\" x=\"1879.85\" y=\"-86.3\" font-family=\"Times New Roman,serif\" font-size=\"14.00\">Load</text>\n</g>\n<!-- 73&#45;&gt;78 -->\n<g id=\"edge78\" class=\"edge\">\n<title>73&#45;&gt;78</title>\n<path fill=\"none\" stroke=\"black\" d=\"M1877.59,-143.7C1878.05,-132.85 1878.65,-118.92 1879.11,-108.1\"/>\n</g>\n<!-- 79 -->\n<g id=\"node80\" class=\"node\">\n<title>79</title>\n<ellipse fill=\"#ffffff\" stroke=\"black\" cx=\"1622.85\" cy=\"-18\" rx=\"29.8\" ry=\"18\"/>\n<text text-anchor=\"middle\" x=\"1622.85\" y=\"-14.3\" font-family=\"Times New Roman,serif\" font-size=\"14.00\">Load</text>\n</g>\n<!-- 75&#45;&gt;79 -->\n<g id=\"edge79\" class=\"edge\">\n<title>75&#45;&gt;79</title>\n<path fill=\"none\" stroke=\"black\" d=\"M1622.85,-71.7C1622.85,-60.85 1622.85,-46.92 1622.85,-36.1\"/>\n</g>\n</g>\n</svg>\n",
      "text/plain": "<graphviz.graphs.Digraph at 0x28bc0976f20>"
     },
     "execution_count": 81,
     "metadata": {},
     "output_type": "execute_result"
    }
   ],
   "source": [
    "test_file_id = 1\n",
    "conv_filter_activations = model.conv_layer(test_generator.__getitem__(test_file_id)[0])\n",
    "node_importance = model.pooling_layer(conv_filter_activations)[0]\n",
    "node_importance_list = node_importance.numpy().tolist()[0]\n",
    "counter = Counter(node_importance_list)\n",
    "import pickle\n",
    "with open(test_files[test_file_id], 'rb') as f:\n",
    "    test_sample_ast = pickle.load(f)\n",
    "vis = GraphvizVisualizer()\n",
    "vis.visualizeAst(test_sample_ast, counter)"
   ],
   "metadata": {
    "collapsed": false,
    "pycharm": {
     "name": "#%%\n"
    }
   }
  },
  {
   "cell_type": "code",
   "execution_count": 82,
   "outputs": [
    {
     "name": "stdout",
     "output_type": "stream",
     "text": [
      "x, y, z = map(int,input().split())\n",
      "\n",
      "a = x\n",
      "b = y\n",
      "c = z\n",
      "\n",
      "z = str(b)\n",
      "y = str(a)\n",
      "x = str(c)\n",
      "\n",
      "print(x +\" \" + y + \" \" + z) \n"
     ]
    }
   ],
   "source": [
    "test_file_submission_id = classification_dataset.get_test_df().iloc[[test_file_id]][\"submission_id\"]\n",
    "print(code_net.get_src_code_of_submission(test_file_submission_id))"
   ],
   "metadata": {
    "collapsed": false,
    "pycharm": {
     "name": "#%%\n"
    }
   }
  },
  {
   "cell_type": "code",
   "execution_count": 17,
   "outputs": [],
   "source": [
    "problem_metadata = code_net.get_problem_metadata()"
   ],
   "metadata": {
    "collapsed": false,
    "pycharm": {
     "name": "#%%\n"
    }
   }
  },
  {
   "cell_type": "code",
   "execution_count": 22,
   "outputs": [],
   "source": [
    "problem_ids = list(classification_dataset.get_labels())"
   ],
   "metadata": {
    "collapsed": false,
    "pycharm": {
     "name": "#%%\n"
    }
   }
  },
  {
   "cell_type": "code",
   "execution_count": 23,
   "outputs": [
    {
     "data": {
      "text/plain": "          id                                               name  dataset  \\\n2717  p02717            AtCoder Beginner Contest 161 - ABC Swap  AtCoder   \n2718  p02718        AtCoder Beginner Contest 161 - Popular Vote  AtCoder   \n2719  p02719   AtCoder Beginner Contest 161 - Replacing Integer  AtCoder   \n2723  p02723              AtCoder Beginner Contest 160 - Coffee  AtCoder   \n2724  p02724        AtCoder Beginner Contest 160 - Golden Coins  AtCoder   \n...      ...                                                ...      ...   \n3494  p03494          AtCoder Beginner Contest 081 - Shift only  AtCoder   \n3545  p03545        AtCoder Beginner Contest 079 - Train Ticket  AtCoder   \n3835  p03835  AtCoder Beginner Contest 051 - Sum of Three In...  AtCoder   \n4043  p04043  AtCoder Beginner Contest 042 - Iroha and Haiku...  AtCoder   \n4044  p04044  AtCoder Beginner Contest 042 - Iroha Loves Str...  AtCoder   \n\n      time_limit  memory_limit rating  tags complexity  \n2717        2000       1048576   <NA>  <NA>       <NA>  \n2718        2000       1048576   <NA>  <NA>       <NA>  \n2719        2000       1048576   <NA>  <NA>       <NA>  \n2723        2000       1048576   <NA>  <NA>       <NA>  \n2724        2000       1048576   <NA>  <NA>       <NA>  \n...          ...           ...    ...   ...        ...  \n3494        2000        262144   <NA>  <NA>       <NA>  \n3545        2000        262144   <NA>  <NA>       <NA>  \n3835        2000        262144   <NA>  <NA>       <NA>  \n4043        2000        262144   <NA>  <NA>       <NA>  \n4044        2000        262144   <NA>  <NA>       <NA>  \n\n[126 rows x 8 columns]",
      "text/html": "<div>\n<style scoped>\n    .dataframe tbody tr th:only-of-type {\n        vertical-align: middle;\n    }\n\n    .dataframe tbody tr th {\n        vertical-align: top;\n    }\n\n    .dataframe thead th {\n        text-align: right;\n    }\n</style>\n<table border=\"1\" class=\"dataframe\">\n  <thead>\n    <tr style=\"text-align: right;\">\n      <th></th>\n      <th>id</th>\n      <th>name</th>\n      <th>dataset</th>\n      <th>time_limit</th>\n      <th>memory_limit</th>\n      <th>rating</th>\n      <th>tags</th>\n      <th>complexity</th>\n    </tr>\n  </thead>\n  <tbody>\n    <tr>\n      <th>2717</th>\n      <td>p02717</td>\n      <td>AtCoder Beginner Contest 161 - ABC Swap</td>\n      <td>AtCoder</td>\n      <td>2000</td>\n      <td>1048576</td>\n      <td>&lt;NA&gt;</td>\n      <td>&lt;NA&gt;</td>\n      <td>&lt;NA&gt;</td>\n    </tr>\n    <tr>\n      <th>2718</th>\n      <td>p02718</td>\n      <td>AtCoder Beginner Contest 161 - Popular Vote</td>\n      <td>AtCoder</td>\n      <td>2000</td>\n      <td>1048576</td>\n      <td>&lt;NA&gt;</td>\n      <td>&lt;NA&gt;</td>\n      <td>&lt;NA&gt;</td>\n    </tr>\n    <tr>\n      <th>2719</th>\n      <td>p02719</td>\n      <td>AtCoder Beginner Contest 161 - Replacing Integer</td>\n      <td>AtCoder</td>\n      <td>2000</td>\n      <td>1048576</td>\n      <td>&lt;NA&gt;</td>\n      <td>&lt;NA&gt;</td>\n      <td>&lt;NA&gt;</td>\n    </tr>\n    <tr>\n      <th>2723</th>\n      <td>p02723</td>\n      <td>AtCoder Beginner Contest 160 - Coffee</td>\n      <td>AtCoder</td>\n      <td>2000</td>\n      <td>1048576</td>\n      <td>&lt;NA&gt;</td>\n      <td>&lt;NA&gt;</td>\n      <td>&lt;NA&gt;</td>\n    </tr>\n    <tr>\n      <th>2724</th>\n      <td>p02724</td>\n      <td>AtCoder Beginner Contest 160 - Golden Coins</td>\n      <td>AtCoder</td>\n      <td>2000</td>\n      <td>1048576</td>\n      <td>&lt;NA&gt;</td>\n      <td>&lt;NA&gt;</td>\n      <td>&lt;NA&gt;</td>\n    </tr>\n    <tr>\n      <th>...</th>\n      <td>...</td>\n      <td>...</td>\n      <td>...</td>\n      <td>...</td>\n      <td>...</td>\n      <td>...</td>\n      <td>...</td>\n      <td>...</td>\n    </tr>\n    <tr>\n      <th>3494</th>\n      <td>p03494</td>\n      <td>AtCoder Beginner Contest 081 - Shift only</td>\n      <td>AtCoder</td>\n      <td>2000</td>\n      <td>262144</td>\n      <td>&lt;NA&gt;</td>\n      <td>&lt;NA&gt;</td>\n      <td>&lt;NA&gt;</td>\n    </tr>\n    <tr>\n      <th>3545</th>\n      <td>p03545</td>\n      <td>AtCoder Beginner Contest 079 - Train Ticket</td>\n      <td>AtCoder</td>\n      <td>2000</td>\n      <td>262144</td>\n      <td>&lt;NA&gt;</td>\n      <td>&lt;NA&gt;</td>\n      <td>&lt;NA&gt;</td>\n    </tr>\n    <tr>\n      <th>3835</th>\n      <td>p03835</td>\n      <td>AtCoder Beginner Contest 051 - Sum of Three In...</td>\n      <td>AtCoder</td>\n      <td>2000</td>\n      <td>262144</td>\n      <td>&lt;NA&gt;</td>\n      <td>&lt;NA&gt;</td>\n      <td>&lt;NA&gt;</td>\n    </tr>\n    <tr>\n      <th>4043</th>\n      <td>p04043</td>\n      <td>AtCoder Beginner Contest 042 - Iroha and Haiku...</td>\n      <td>AtCoder</td>\n      <td>2000</td>\n      <td>262144</td>\n      <td>&lt;NA&gt;</td>\n      <td>&lt;NA&gt;</td>\n      <td>&lt;NA&gt;</td>\n    </tr>\n    <tr>\n      <th>4044</th>\n      <td>p04044</td>\n      <td>AtCoder Beginner Contest 042 - Iroha Loves Str...</td>\n      <td>AtCoder</td>\n      <td>2000</td>\n      <td>262144</td>\n      <td>&lt;NA&gt;</td>\n      <td>&lt;NA&gt;</td>\n      <td>&lt;NA&gt;</td>\n    </tr>\n  </tbody>\n</table>\n<p>126 rows × 8 columns</p>\n</div>"
     },
     "execution_count": 23,
     "metadata": {},
     "output_type": "execute_result"
    }
   ],
   "source": [
    "problem_metadata.query(f\"id in {problem_ids}\")"
   ],
   "metadata": {
    "collapsed": false,
    "pycharm": {
     "name": "#%%\n"
    }
   }
  },
  {
   "cell_type": "code",
   "execution_count": 26,
   "outputs": [
    {
     "data": {
      "text/plain": "     submission_id problem_id     user_id        date language  \\\n1500    s423853466     p02725  u148423304  1585444467   Python   \n1501    s948610326     p02725  u675757825  1585446285   Python   \n1502    s817604917     p02725  u878129968  1585444863   Python   \n1503    s628554163     p02725  u958820283  1587673166   Python   \n1504    s337664988     p02725  u608178601  1585445473   Python   \n...            ...        ...         ...         ...      ...   \n1795    s940089025     p02725  u971091945  1585444681   Python   \n1796    s610493035     p02725  u842476069  1585452277   Python   \n1797    s985668528     p02725  u477320129  1585444347   Python   \n1798    s467633157     p02725  u628581330  1585764096   Python   \n1799    s710518102     p02725  u125337618  1585444505   Python   \n\n     original_language filename_ext    status  cpu_time  memory  code_size  \\\n1500    Python (3.4.3)           py  Accepted       101   26444        233   \n1501    Python (3.4.3)           py  Accepted       150   26420        170   \n1502    Python (3.4.3)           py  Accepted       123   26444        234   \n1503    Python (3.4.3)           py  Accepted       103   26444        172   \n1504    Python (3.4.3)           py  Accepted       118   26444        206   \n...                ...          ...       ...       ...     ...        ...   \n1795    Python (3.4.3)           py  Accepted       125   26436        196   \n1796    Python (3.4.3)           py  Accepted       142   25840        216   \n1797    Python (3.4.3)           py  Accepted       120   29300        690   \n1798    Python (3.4.3)           py  Accepted       115   26420        160   \n1799    Python (3.4.3)           py  Accepted       158   26444        252   \n\n     accuracy  count  \n1500     <NA>   3141  \n1501     <NA>   3141  \n1502     <NA>   3141  \n1503     <NA>   3141  \n1504     <NA>   3141  \n...       ...    ...  \n1795     <NA>   3141  \n1796     <NA>   3141  \n1797     <NA>   3141  \n1798     <NA>   3141  \n1799     <NA>   3141  \n\n[300 rows x 13 columns]",
      "text/html": "<div>\n<style scoped>\n    .dataframe tbody tr th:only-of-type {\n        vertical-align: middle;\n    }\n\n    .dataframe tbody tr th {\n        vertical-align: top;\n    }\n\n    .dataframe thead th {\n        text-align: right;\n    }\n</style>\n<table border=\"1\" class=\"dataframe\">\n  <thead>\n    <tr style=\"text-align: right;\">\n      <th></th>\n      <th>submission_id</th>\n      <th>problem_id</th>\n      <th>user_id</th>\n      <th>date</th>\n      <th>language</th>\n      <th>original_language</th>\n      <th>filename_ext</th>\n      <th>status</th>\n      <th>cpu_time</th>\n      <th>memory</th>\n      <th>code_size</th>\n      <th>accuracy</th>\n      <th>count</th>\n    </tr>\n  </thead>\n  <tbody>\n    <tr>\n      <th>1500</th>\n      <td>s423853466</td>\n      <td>p02725</td>\n      <td>u148423304</td>\n      <td>1585444467</td>\n      <td>Python</td>\n      <td>Python (3.4.3)</td>\n      <td>py</td>\n      <td>Accepted</td>\n      <td>101</td>\n      <td>26444</td>\n      <td>233</td>\n      <td>&lt;NA&gt;</td>\n      <td>3141</td>\n    </tr>\n    <tr>\n      <th>1501</th>\n      <td>s948610326</td>\n      <td>p02725</td>\n      <td>u675757825</td>\n      <td>1585446285</td>\n      <td>Python</td>\n      <td>Python (3.4.3)</td>\n      <td>py</td>\n      <td>Accepted</td>\n      <td>150</td>\n      <td>26420</td>\n      <td>170</td>\n      <td>&lt;NA&gt;</td>\n      <td>3141</td>\n    </tr>\n    <tr>\n      <th>1502</th>\n      <td>s817604917</td>\n      <td>p02725</td>\n      <td>u878129968</td>\n      <td>1585444863</td>\n      <td>Python</td>\n      <td>Python (3.4.3)</td>\n      <td>py</td>\n      <td>Accepted</td>\n      <td>123</td>\n      <td>26444</td>\n      <td>234</td>\n      <td>&lt;NA&gt;</td>\n      <td>3141</td>\n    </tr>\n    <tr>\n      <th>1503</th>\n      <td>s628554163</td>\n      <td>p02725</td>\n      <td>u958820283</td>\n      <td>1587673166</td>\n      <td>Python</td>\n      <td>Python (3.4.3)</td>\n      <td>py</td>\n      <td>Accepted</td>\n      <td>103</td>\n      <td>26444</td>\n      <td>172</td>\n      <td>&lt;NA&gt;</td>\n      <td>3141</td>\n    </tr>\n    <tr>\n      <th>1504</th>\n      <td>s337664988</td>\n      <td>p02725</td>\n      <td>u608178601</td>\n      <td>1585445473</td>\n      <td>Python</td>\n      <td>Python (3.4.3)</td>\n      <td>py</td>\n      <td>Accepted</td>\n      <td>118</td>\n      <td>26444</td>\n      <td>206</td>\n      <td>&lt;NA&gt;</td>\n      <td>3141</td>\n    </tr>\n    <tr>\n      <th>...</th>\n      <td>...</td>\n      <td>...</td>\n      <td>...</td>\n      <td>...</td>\n      <td>...</td>\n      <td>...</td>\n      <td>...</td>\n      <td>...</td>\n      <td>...</td>\n      <td>...</td>\n      <td>...</td>\n      <td>...</td>\n      <td>...</td>\n    </tr>\n    <tr>\n      <th>1795</th>\n      <td>s940089025</td>\n      <td>p02725</td>\n      <td>u971091945</td>\n      <td>1585444681</td>\n      <td>Python</td>\n      <td>Python (3.4.3)</td>\n      <td>py</td>\n      <td>Accepted</td>\n      <td>125</td>\n      <td>26436</td>\n      <td>196</td>\n      <td>&lt;NA&gt;</td>\n      <td>3141</td>\n    </tr>\n    <tr>\n      <th>1796</th>\n      <td>s610493035</td>\n      <td>p02725</td>\n      <td>u842476069</td>\n      <td>1585452277</td>\n      <td>Python</td>\n      <td>Python (3.4.3)</td>\n      <td>py</td>\n      <td>Accepted</td>\n      <td>142</td>\n      <td>25840</td>\n      <td>216</td>\n      <td>&lt;NA&gt;</td>\n      <td>3141</td>\n    </tr>\n    <tr>\n      <th>1797</th>\n      <td>s985668528</td>\n      <td>p02725</td>\n      <td>u477320129</td>\n      <td>1585444347</td>\n      <td>Python</td>\n      <td>Python (3.4.3)</td>\n      <td>py</td>\n      <td>Accepted</td>\n      <td>120</td>\n      <td>29300</td>\n      <td>690</td>\n      <td>&lt;NA&gt;</td>\n      <td>3141</td>\n    </tr>\n    <tr>\n      <th>1798</th>\n      <td>s467633157</td>\n      <td>p02725</td>\n      <td>u628581330</td>\n      <td>1585764096</td>\n      <td>Python</td>\n      <td>Python (3.4.3)</td>\n      <td>py</td>\n      <td>Accepted</td>\n      <td>115</td>\n      <td>26420</td>\n      <td>160</td>\n      <td>&lt;NA&gt;</td>\n      <td>3141</td>\n    </tr>\n    <tr>\n      <th>1799</th>\n      <td>s710518102</td>\n      <td>p02725</td>\n      <td>u125337618</td>\n      <td>1585444505</td>\n      <td>Python</td>\n      <td>Python (3.4.3)</td>\n      <td>py</td>\n      <td>Accepted</td>\n      <td>158</td>\n      <td>26444</td>\n      <td>252</td>\n      <td>&lt;NA&gt;</td>\n      <td>3141</td>\n    </tr>\n  </tbody>\n</table>\n<p>300 rows × 13 columns</p>\n</div>"
     },
     "execution_count": 26,
     "metadata": {},
     "output_type": "execute_result"
    }
   ],
   "source": [
    "classification_dataset.get_test_df().query(\"problem_id == 'p02725'\")"
   ],
   "metadata": {
    "collapsed": false,
    "pycharm": {
     "name": "#%%\n"
    }
   }
  },
  {
   "cell_type": "code",
   "execution_count": null,
   "outputs": [],
   "source": [],
   "metadata": {
    "collapsed": false,
    "pycharm": {
     "name": "#%%\n"
    }
   }
  }
 ],
 "metadata": {
  "kernelspec": {
   "display_name": "Python 3",
   "language": "python",
   "name": "python3"
  },
  "language_info": {
   "codemirror_mode": {
    "name": "ipython",
    "version": 2
   },
   "file_extension": ".py",
   "mimetype": "text/x-python",
   "name": "python",
   "nbconvert_exporter": "python",
   "pygments_lexer": "ipython2",
   "version": "2.7.6"
  }
 },
 "nbformat": 4,
 "nbformat_minor": 0
}